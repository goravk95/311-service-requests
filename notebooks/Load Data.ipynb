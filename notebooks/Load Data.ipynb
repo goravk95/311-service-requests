{
 "cells": [
  {
   "cell_type": "markdown",
   "id": "ef89e6b3",
   "metadata": {},
   "source": [
    "# Load Data\n",
    "\n"
   ]
  },
  {
   "cell_type": "markdown",
   "id": "a75a5e08",
   "metadata": {},
   "source": [
    "### Set env variables\n",
    "\n",
    "assumes that `SOCRATA_APP_TOKEN`, `SOCRATA_API_KEY_ID`, and `SOCRATA_API_KEY_SECRET` are set in `.env`"
   ]
  },
  {
   "cell_type": "code",
   "execution_count": 1,
   "id": "4da8cb9f",
   "metadata": {},
   "outputs": [
    {
     "data": {
      "text/plain": [
       "True"
      ]
     },
     "execution_count": 1,
     "metadata": {},
     "output_type": "execute_result"
    }
   ],
   "source": [
    "from dotenv import load_dotenv\n",
    "\n",
    "load_dotenv()\n"
   ]
  },
  {
   "cell_type": "markdown",
   "id": "4f3812f3",
   "metadata": {},
   "source": [
    "### Load Packages"
   ]
  },
  {
   "cell_type": "code",
   "execution_count": 2,
   "id": "f22fc662",
   "metadata": {},
   "outputs": [],
   "source": [
    "import os\n",
    "import sys\n",
    "\n",
    "INGESTION_PATH = os.path.abspath(os.path.join(os.getcwd(), '..', 'src'))\n",
    "sys.path.insert(0, INGESTION_PATH)\n",
    "\n",
    "from ingestion import fetch\n",
    "from ingestion import config\n",
    "\n"
   ]
  },
  {
   "cell_type": "markdown",
   "id": "7f2d7ce7",
   "metadata": {},
   "source": [
    "### Full Pull of Data\n",
    "Takes about 48 minutes"
   ]
  },
  {
   "cell_type": "code",
   "execution_count": null,
   "id": "3844ff3a",
   "metadata": {},
   "outputs": [],
   "source": [
    "await fetch.fetch_all_data(save = True)"
   ]
  },
  {
   "cell_type": "markdown",
   "id": "f93575a8",
   "metadata": {},
   "source": [
    "### Incremental Pull of Data"
   ]
  },
  {
   "cell_type": "code",
   "execution_count": null,
   "id": "28a346d2",
   "metadata": {},
   "outputs": [
    {
     "name": "stdout",
     "output_type": "stream",
     "text": [
      "Fetching current month: 2025-09\n",
      "Fetching 2025-09 ...\n",
      "Saved c:\\Users\\gorav\\GitHub\\nyc-311-service-requests\\data\\landing\\311-service-requests\\year=2025/month=09/part-0000.parquet (280,722 rows)\n",
      "Current month data updated successfully!\n"
     ]
    }
   ],
   "source": [
    "# await fetch.fetch_current_month(save = True)"
   ]
  },
  {
   "cell_type": "markdown",
   "id": "8ede570a",
   "metadata": {},
   "source": [
    "### Function"
   ]
  },
  {
   "cell_type": "code",
   "execution_count": 5,
   "id": "4aee89d1",
   "metadata": {},
   "outputs": [],
   "source": [
    "# def _create_socrata_client(api_endpoint, app_token, username, password):\n",
    "#     \"\"\"\"\n",
    "    \n",
    "#     \"\"\"\n",
    "#     client = Socrata(api_endpoint, app_token=app_token, username=username, password=password, timeout = 600)\n",
    "#     return client\n"
   ]
  },
  {
   "cell_type": "code",
   "execution_count": 6,
   "id": "332cca80",
   "metadata": {},
   "outputs": [],
   "source": [
    "# def _fetch_and_save_month_sync(year: int, month: int):\n",
    "#     \"\"\"Runs in a worker thread. Creates its own Socrata client (no sharing).\"\"\"\n",
    "#     # per-thread client\n",
    "#     # client = Socrata(\"data.cityofnewyork.us\", APP_TOKEN)\n",
    "#     client = _create_socrata_client(api_endpoint=\"data.cityofnewyork.us\", app_token=APP_TOKEN, username=API_KEY_ID, password=API_KEY_SECRET)\n",
    "\n",
    "#     start = f\"{year}-{month:02d}-01T00:00:00\"\n",
    "#     if month == 12:\n",
    "#         end = f\"{year+1}-01-01T00:00:00\"\n",
    "#     else:\n",
    "#         end = f\"{year}-{month+1:02d}-01T00:00:00\"\n",
    "\n",
    "#     where_clause = f\"{date_column} >= '{start}' AND {date_column} < '{end}'\"\n",
    "#     print(f\"Fetching {year}-{month:02d} ...\")\n",
    "\n",
    "#     # client.get_all handles paging internally (blocking)\n",
    "#     results = list(client.get_all(dataset_id, where=where_clause))\n",
    "\n",
    "#     if results:\n",
    "#         df = pd.DataFrame.from_records(results)\n",
    "#         # write to year/month partition\n",
    "#         file_path = os.path.join(output_dir, f\"year={year}/month={month:02d}/part-0000.parquet\")\n",
    "#         os.makedirs(os.path.dirname(file_path), exist_ok=True)\n",
    "#         # choose your engine; fastparquet avoids some pyarrow quirks in notebooks\n",
    "#         df.to_parquet(file_path, index=False, engine=\"fastparquet\")\n",
    "#         print(f\"Saved {file_path} ({len(df):,} rows)\")\n",
    "\n",
    "#         # clean up memory\n",
    "#         del df\n",
    "#         del results\n",
    "#         gc.collect()\n",
    "#     else:\n",
    "#         print(f\"No data for {year}-{month:02d}\")\n",
    "\n",
    "# async def fetch_and_save(year: int, month: int, sem: asyncio.Semaphore):\n",
    "#     async with sem:\n",
    "#         # run the sync worker in a thread\n",
    "#         await asyncio.to_thread(_fetch_and_save_month_sync, year, month)\n",
    "\n",
    "# async def pull_latest_data():\n",
    "#     sem = asyncio.Semaphore(MAX_CONCURRENCY)\n",
    "#     tasks = [fetch_and_save(y, m, sem) for y in years for m in months]\n",
    "#     await asyncio.gather(*tasks)\n"
   ]
  },
  {
   "cell_type": "markdown",
   "id": "5fe330b5",
   "metadata": {},
   "source": [
    "### Apply Function"
   ]
  },
  {
   "cell_type": "code",
   "execution_count": 7,
   "id": "decc57f0",
   "metadata": {},
   "outputs": [],
   "source": [
    "# dataset_id = \"erm2-nwe9\"\n",
    "# date_column = \"created_date\"\n",
    "# output_dir = \"../data/311-service-requests\"\n",
    "# os.makedirs(output_dir, exist_ok=True)\n",
    "\n",
    "# years = range(2010, 2026)   # e.g., 2010–2011\n",
    "# months = range(1, 13)       # 1..12\n",
    "# MAX_CONCURRENCY = 20         # tune for your machine / API limits"
   ]
  },
  {
   "cell_type": "code",
   "execution_count": 8,
   "id": "6ccb07e7",
   "metadata": {},
   "outputs": [],
   "source": [
    "# await pull_latest_data()"
   ]
  },
  {
   "cell_type": "markdown",
   "id": "3f465db8",
   "metadata": {},
   "source": [
    "### Load Data"
   ]
  },
  {
   "cell_type": "code",
   "execution_count": 7,
   "id": "63f22a80",
   "metadata": {},
   "outputs": [],
   "source": [
    "import polars as pl\n",
    "import numpy as np\n",
    "from pathlib import Path\n"
   ]
  },
  {
   "cell_type": "markdown",
   "id": "1b3cae60",
   "metadata": {},
   "source": [
    "## Exploratory Data Analysis with Polars\n"
   ]
  },
  {
   "cell_type": "markdown",
   "id": "8c90af79",
   "metadata": {},
   "source": [
    "### Load all parquet files using Polars lazy API\n"
   ]
  },
  {
   "cell_type": "code",
   "execution_count": 9,
   "id": "e5e7dd46",
   "metadata": {},
   "outputs": [],
   "source": [
    "data_path = Path(\"../data/landing/311-service-requests\")\n",
    "\n",
    "lf = pl.scan_parquet(\n",
    "    str(data_path / \"**/*.parquet\"),\n",
    "    hive_partitioning=True,\n",
    "    # schema=config.SCHEMA\n",
    ")"
   ]
  },
  {
   "cell_type": "markdown",
   "id": "455aff8e",
   "metadata": {},
   "source": [
    "### Basic Information\n"
   ]
  },
  {
   "cell_type": "code",
   "execution_count": 10,
   "id": "8fe7cd67",
   "metadata": {},
   "outputs": [
    {
     "name": "stdout",
     "output_type": "stream",
     "text": [
      "Dataset Shape:\n",
      "Rows: 280,722\n",
      "Columns: 43\n",
      "\n",
      "Column Names and Types:\n",
      "  unique_key: String\n",
      "  created_date: Datetime(time_unit='ms', time_zone=None)\n",
      "  closed_date: Datetime(time_unit='ms', time_zone=None)\n",
      "  agency: String\n",
      "  agency_name: String\n",
      "  complaint_type: String\n",
      "  descriptor: String\n",
      "  location_type: String\n",
      "  incident_zip: String\n",
      "  incident_address: String\n",
      "  street_name: String\n",
      "  cross_street_1: String\n",
      "  cross_street_2: String\n",
      "  intersection_street_1: String\n",
      "  intersection_street_2: String\n",
      "  address_type: String\n",
      "  city: String\n",
      "  landmark: String\n",
      "  facility_type: String\n",
      "  status: String\n",
      "  due_date: Datetime(time_unit='ms', time_zone=None)\n",
      "  resolution_description: String\n",
      "  resolution_action_updated_date: Datetime(time_unit='ms', time_zone=None)\n",
      "  community_board: String\n",
      "  bbl: String\n",
      "  borough: String\n",
      "  x_coordinate_state_plane: Float64\n",
      "  y_coordinate_state_plane: Float64\n",
      "  open_data_channel_type: String\n",
      "  park_facility_name: String\n",
      "  park_borough: String\n",
      "  vehicle_type: String\n",
      "  taxi_company_borough: String\n",
      "  taxi_pick_up_location: String\n",
      "  bridge_highway_name: String\n",
      "  bridge_highway_direction: String\n",
      "  road_ramp: String\n",
      "  bridge_highway_segment: String\n",
      "  latitude: Float64\n",
      "  longitude: Float64\n",
      "  location: String\n",
      "  year: Int64\n",
      "  month: Int64\n"
     ]
    }
   ],
   "source": [
    "# Get shape and basic info\n",
    "print(\"Dataset Shape:\")\n",
    "print(f\"Rows: {lf.select(pl.len()).collect().item():,}\")\n",
    "print(f\"Columns: {len(lf.collect_schema())}\")\n",
    "print(f\"\\nColumn Names and Types:\")\n",
    "for col, dtype in lf.collect_schema().items():\n",
    "    print(f\"  {col}: {dtype}\")\n"
   ]
  },
  {
   "cell_type": "markdown",
   "id": "a63512ad",
   "metadata": {},
   "source": [
    "### Preview the Data\n"
   ]
  },
  {
   "cell_type": "code",
   "execution_count": 11,
   "id": "f85f13fa",
   "metadata": {},
   "outputs": [
    {
     "data": {
      "text/html": [
       "<div><style>\n",
       ".dataframe > thead > tr,\n",
       ".dataframe > tbody > tr {\n",
       "  text-align: right;\n",
       "  white-space: pre-wrap;\n",
       "}\n",
       "</style>\n",
       "<small>shape: (10, 43)</small><table border=\"1\" class=\"dataframe\"><thead><tr><th>unique_key</th><th>created_date</th><th>closed_date</th><th>agency</th><th>agency_name</th><th>complaint_type</th><th>descriptor</th><th>location_type</th><th>incident_zip</th><th>incident_address</th><th>street_name</th><th>cross_street_1</th><th>cross_street_2</th><th>intersection_street_1</th><th>intersection_street_2</th><th>address_type</th><th>city</th><th>landmark</th><th>facility_type</th><th>status</th><th>due_date</th><th>resolution_description</th><th>resolution_action_updated_date</th><th>community_board</th><th>bbl</th><th>borough</th><th>x_coordinate_state_plane</th><th>y_coordinate_state_plane</th><th>open_data_channel_type</th><th>park_facility_name</th><th>park_borough</th><th>vehicle_type</th><th>taxi_company_borough</th><th>taxi_pick_up_location</th><th>bridge_highway_name</th><th>bridge_highway_direction</th><th>road_ramp</th><th>bridge_highway_segment</th><th>latitude</th><th>longitude</th><th>location</th><th>year</th><th>month</th></tr><tr><td>str</td><td>datetime[ms]</td><td>datetime[ms]</td><td>str</td><td>str</td><td>str</td><td>str</td><td>str</td><td>str</td><td>str</td><td>str</td><td>str</td><td>str</td><td>str</td><td>str</td><td>str</td><td>str</td><td>str</td><td>str</td><td>str</td><td>datetime[ms]</td><td>str</td><td>datetime[ms]</td><td>str</td><td>str</td><td>str</td><td>f64</td><td>f64</td><td>str</td><td>str</td><td>str</td><td>str</td><td>str</td><td>str</td><td>str</td><td>str</td><td>str</td><td>str</td><td>f64</td><td>f64</td><td>str</td><td>i64</td><td>i64</td></tr></thead><tbody><tr><td>&quot;66023011&quot;</td><td>2025-09-01 00:00:00</td><td>2025-09-02 12:27:00</td><td>&quot;DSNY&quot;</td><td>&quot;Department of Sanitation&quot;</td><td>&quot;Derelict Vehicles&quot;</td><td>&quot;Derelict Vehicles&quot;</td><td>&quot;Street&quot;</td><td>&quot;11421&quot;</td><td>&quot;91-50 90 STREET&quot;</td><td>&quot;90 STREET&quot;</td><td>&quot;91 AVENUE&quot;</td><td>&quot;ATLANTIC AVENUE&quot;</td><td>null</td><td>null</td><td>&quot;ADDRESS&quot;</td><td>&quot;WOODHAVEN&quot;</td><td>null</td><td>&quot;DSNY Garage&quot;</td><td>&quot;Closed&quot;</td><td>null</td><td>&quot;The Department of Sanitation (…</td><td>2025-09-02 12:00:00</td><td>&quot;09 QUEENS&quot;</td><td>&quot;4089830030&quot;</td><td>&quot;QUEENS&quot;</td><td>1.025078e6</td><td>189996.0</td><td>&quot;PHONE&quot;</td><td>&quot;Unspecified&quot;</td><td>&quot;QUEENS&quot;</td><td>null</td><td>null</td><td>null</td><td>null</td><td>null</td><td>null</td><td>null</td><td>40.688078</td><td>-73.852782</td><td>&quot;{&#x27;latitude&#x27;: &#x27;40.6880777339179…</td><td>2025</td><td>9</td></tr><tr><td>&quot;66008529&quot;</td><td>2025-09-01 00:00:10</td><td>2025-09-01 00:26:39</td><td>&quot;NYPD&quot;</td><td>&quot;New York City Police Departmen…</td><td>&quot;Noise - Vehicle&quot;</td><td>&quot;Car/Truck Music&quot;</td><td>&quot;Street/Sidewalk&quot;</td><td>&quot;11412&quot;</td><td>&quot;116 ROAD&quot;</td><td>&quot;116 ROAD&quot;</td><td>&quot;205 STREET&quot;</td><td>&quot;FRANCIS LEWIS BOULEVARD&quot;</td><td>&quot;205 STREET&quot;</td><td>&quot;FRANCIS LEWIS BOULEVARD&quot;</td><td>&quot;BLOCKFACE&quot;</td><td>null</td><td>null</td><td>null</td><td>&quot;Closed&quot;</td><td>null</td><td>&quot;The Police Department responde…</td><td>2025-09-01 00:26:45</td><td>&quot;Unspecified QUEENS&quot;</td><td>null</td><td>&quot;QUEENS&quot;</td><td>null</td><td>null</td><td>&quot;PHONE&quot;</td><td>&quot;Unspecified&quot;</td><td>&quot;QUEENS&quot;</td><td>&quot;Car&quot;</td><td>null</td><td>null</td><td>null</td><td>null</td><td>null</td><td>null</td><td>null</td><td>null</td><td>null</td><td>2025</td><td>9</td></tr><tr><td>&quot;66003967&quot;</td><td>2025-09-01 00:00:11</td><td>2025-09-01 03:08:50</td><td>&quot;NYPD&quot;</td><td>&quot;New York City Police Departmen…</td><td>&quot;Noise - Residential&quot;</td><td>&quot;Banging/Pounding&quot;</td><td>&quot;Residential Building/House&quot;</td><td>&quot;10467&quot;</td><td>&quot;3320 KOSSUTH AVENUE&quot;</td><td>&quot;KOSSUTH AVENUE&quot;</td><td>&quot;EAST&nbsp;&nbsp;208 STREET&quot;</td><td>&quot;EAST&nbsp;&nbsp;210 STREET&quot;</td><td>&quot;EAST&nbsp;&nbsp;208 STREET&quot;</td><td>&quot;EAST&nbsp;&nbsp;210 STREET&quot;</td><td>&quot;ADDRESS&quot;</td><td>&quot;BRONX&quot;</td><td>&quot;KOSSUTH AVENUE&quot;</td><td>null</td><td>&quot;Closed&quot;</td><td>null</td><td>&quot;The Police Department responde…</td><td>2025-09-01 03:08:54</td><td>&quot;07 BRONX&quot;</td><td>&quot;2033260064&quot;</td><td>&quot;BRONX&quot;</td><td>1.01689e6</td><td>259709.0</td><td>&quot;ONLINE&quot;</td><td>&quot;Unspecified&quot;</td><td>&quot;BRONX&quot;</td><td>null</td><td>null</td><td>null</td><td>null</td><td>null</td><td>null</td><td>null</td><td>40.879455</td><td>-73.881968</td><td>&quot;{&#x27;latitude&#x27;: &#x27;40.8794550894661…</td><td>2025</td><td>9</td></tr><tr><td>&quot;66006371&quot;</td><td>2025-09-01 00:00:13</td><td>2025-09-01 04:22:30</td><td>&quot;NYPD&quot;</td><td>&quot;New York City Police Departmen…</td><td>&quot;Noise - Street/Sidewalk&quot;</td><td>&quot;Loud Music/Party&quot;</td><td>&quot;Street/Sidewalk&quot;</td><td>&quot;10461&quot;</td><td>&quot;1370 BLONDELL AVENUE&quot;</td><td>&quot;BLONDELL AVENUE&quot;</td><td>&quot;PONTON AVENUE&quot;</td><td>&quot;ROBERTS AVENUE&quot;</td><td>&quot;PONTON AVENUE&quot;</td><td>&quot;ROBERTS AVENUE&quot;</td><td>&quot;ADDRESS&quot;</td><td>&quot;BRONX&quot;</td><td>&quot;BLONDELL AVENUE&quot;</td><td>null</td><td>&quot;Closed&quot;</td><td>null</td><td>&quot;The Police Department responde…</td><td>2025-09-01 04:22:34</td><td>&quot;11 BRONX&quot;</td><td>&quot;2041390106&quot;</td><td>&quot;BRONX&quot;</td><td>1.027821e6</td><td>246255.0</td><td>&quot;PHONE&quot;</td><td>&quot;Unspecified&quot;</td><td>&quot;BRONX&quot;</td><td>null</td><td>null</td><td>null</td><td>null</td><td>null</td><td>null</td><td>null</td><td>40.842481</td><td>-73.842527</td><td>&quot;{&#x27;latitude&#x27;: &#x27;40.8424807759071…</td><td>2025</td><td>9</td></tr><tr><td>&quot;66006304&quot;</td><td>2025-09-01 00:00:15</td><td>2025-09-01 16:40:30</td><td>&quot;NYPD&quot;</td><td>&quot;New York City Police Departmen…</td><td>&quot;Illegal Parking&quot;</td><td>&quot;Blocked Hydrant&quot;</td><td>&quot;Street/Sidewalk&quot;</td><td>&quot;11370&quot;</td><td>&quot;21-38 80 STREET&quot;</td><td>&quot;80 STREET&quot;</td><td>&quot;21 AVENUE&quot;</td><td>&quot;DITMARS BOULEVARD&quot;</td><td>&quot;21 AVENUE&quot;</td><td>&quot;DITMARS BOULEVARD&quot;</td><td>&quot;ADDRESS&quot;</td><td>&quot;EAST ELMHURST&quot;</td><td>&quot;80 STREET&quot;</td><td>null</td><td>&quot;Closed&quot;</td><td>null</td><td>&quot;The Police Department responde…</td><td>2025-09-01 16:40:34</td><td>&quot;01 QUEENS&quot;</td><td>&quot;4009750023&quot;</td><td>&quot;QUEENS&quot;</td><td>1.014745e6</td><td>219840.0</td><td>&quot;ONLINE&quot;</td><td>&quot;Unspecified&quot;</td><td>&quot;QUEENS&quot;</td><td>null</td><td>null</td><td>null</td><td>null</td><td>null</td><td>null</td><td>null</td><td>40.770034</td><td>-73.889906</td><td>&quot;{&#x27;latitude&#x27;: &#x27;40.7700337862021…</td><td>2025</td><td>9</td></tr><tr><td>&quot;66004821&quot;</td><td>2025-09-01 00:00:17</td><td>2025-09-01 00:30:55</td><td>&quot;NYPD&quot;</td><td>&quot;New York City Police Departmen…</td><td>&quot;Noise - Street/Sidewalk&quot;</td><td>&quot;Loud Music/Party&quot;</td><td>&quot;Street/Sidewalk&quot;</td><td>&quot;11102&quot;</td><td>&quot;1-05 ASTORIA BOULEVARD&quot;</td><td>&quot;ASTORIA BOULEVARD&quot;</td><td>&quot;1 STREET&quot;</td><td>&quot;DEAD END&quot;</td><td>&quot;1 STREET&quot;</td><td>&quot;DEAD END&quot;</td><td>&quot;ADDRESS&quot;</td><td>&quot;ASTORIA&quot;</td><td>&quot;ASTORIA BOULEVARD&quot;</td><td>null</td><td>&quot;Closed&quot;</td><td>null</td><td>&quot;The Police Department responde…</td><td>2025-09-01 00:31:00</td><td>&quot;01 QUEENS&quot;</td><td>&quot;4004900101&quot;</td><td>&quot;QUEENS&quot;</td><td>1.001827e6</td><td>221234.0</td><td>&quot;MOBILE&quot;</td><td>&quot;Unspecified&quot;</td><td>&quot;QUEENS&quot;</td><td>null</td><td>null</td><td>null</td><td>null</td><td>null</td><td>null</td><td>null</td><td>40.773895</td><td>-73.936539</td><td>&quot;{&#x27;latitude&#x27;: &#x27;40.7738950751967…</td><td>2025</td><td>9</td></tr><tr><td>&quot;66011673&quot;</td><td>2025-09-01 00:00:18</td><td>2025-09-01 01:19:43</td><td>&quot;NYPD&quot;</td><td>&quot;New York City Police Departmen…</td><td>&quot;Illegal Parking&quot;</td><td>&quot;Double Parked Blocking Traffic&quot;</td><td>&quot;Street/Sidewalk&quot;</td><td>&quot;10451&quot;</td><td>&quot;825 GERARD AVENUE&quot;</td><td>&quot;GERARD AVENUE&quot;</td><td>&quot;EAST&nbsp;&nbsp;157 STREET&quot;</td><td>&quot;EAST&nbsp;&nbsp;158 STREET&quot;</td><td>&quot;EAST&nbsp;&nbsp;157 STREET&quot;</td><td>&quot;EAST&nbsp;&nbsp;158 STREET&quot;</td><td>&quot;ADDRESS&quot;</td><td>&quot;BRONX&quot;</td><td>&quot;GERARD AVENUE&quot;</td><td>null</td><td>&quot;Closed&quot;</td><td>null</td><td>&quot;The Police Department responde…</td><td>2025-09-01 01:19:46</td><td>&quot;04 BRONX&quot;</td><td>&quot;2024830015&quot;</td><td>&quot;BRONX&quot;</td><td>1.004754e6</td><td>240171.0</td><td>&quot;MOBILE&quot;</td><td>&quot;Unspecified&quot;</td><td>&quot;BRONX&quot;</td><td>&quot;Car&quot;</td><td>null</td><td>null</td><td>null</td><td>null</td><td>null</td><td>null</td><td>40.825866</td><td>-73.925913</td><td>&quot;{&#x27;latitude&#x27;: &#x27;40.8258656451982…</td><td>2025</td><td>9</td></tr><tr><td>&quot;66005759&quot;</td><td>2025-09-01 00:00:21</td><td>2025-09-01 01:12:14</td><td>&quot;NYPD&quot;</td><td>&quot;New York City Police Departmen…</td><td>&quot;Noise - Residential&quot;</td><td>&quot;Banging/Pounding&quot;</td><td>&quot;Residential Building/House&quot;</td><td>&quot;10454&quot;</td><td>&quot;518 EAST&nbsp;&nbsp;138 STREET&quot;</td><td>&quot;EAST&nbsp;&nbsp;138 STREET&quot;</td><td>&quot;BROOK AVENUE&quot;</td><td>&quot;ST ANNS AVENUE&quot;</td><td>&quot;BROOK AVENUE&quot;</td><td>&quot;ST ANNS AVENUE&quot;</td><td>&quot;ADDRESS&quot;</td><td>&quot;BRONX&quot;</td><td>&quot;EAST&nbsp;&nbsp;138 STREET&quot;</td><td>null</td><td>&quot;Closed&quot;</td><td>null</td><td>&quot;The Police Department responde…</td><td>2025-09-01 01:12:18</td><td>&quot;01 BRONX&quot;</td><td>&quot;2022650029&quot;</td><td>&quot;BRONX&quot;</td><td>1.00674e6</td><td>233427.0</td><td>&quot;ONLINE&quot;</td><td>&quot;Unspecified&quot;</td><td>&quot;BRONX&quot;</td><td>null</td><td>null</td><td>null</td><td>null</td><td>null</td><td>null</td><td>null</td><td>40.80735</td><td>-73.91876</td><td>&quot;{&#x27;latitude&#x27;: &#x27;40.8073504307348…</td><td>2025</td><td>9</td></tr><tr><td>&quot;66008008&quot;</td><td>2025-09-01 00:00:21</td><td>2025-09-01 01:03:26</td><td>&quot;NYPD&quot;</td><td>&quot;New York City Police Departmen…</td><td>&quot;Illegal Parking&quot;</td><td>&quot;Posted Parking Sign Violation&quot;</td><td>&quot;Street/Sidewalk&quot;</td><td>&quot;10039&quot;</td><td>&quot;348 WEST&nbsp;&nbsp;145 STREET&quot;</td><td>&quot;WEST&nbsp;&nbsp;145 STREET&quot;</td><td>&quot;EDGECOMBE AVENUE&quot;</td><td>&quot;ST NICHOLAS AVENUE&quot;</td><td>&quot;EDGECOMBE AVENUE&quot;</td><td>&quot;ST NICHOLAS AVENUE&quot;</td><td>&quot;ADDRESS&quot;</td><td>&quot;NEW YORK&quot;</td><td>&quot;WEST&nbsp;&nbsp;145 STREET&quot;</td><td>null</td><td>&quot;Closed&quot;</td><td>null</td><td>&quot;The Police Department responde…</td><td>2025-09-01 01:03:31</td><td>&quot;09 MANHATTAN&quot;</td><td>&quot;1020510056&quot;</td><td>&quot;MANHATTAN&quot;</td><td>999711.0</td><td>239400.0</td><td>&quot;MOBILE&quot;</td><td>&quot;Unspecified&quot;</td><td>&quot;MANHATTAN&quot;</td><td>null</td><td>null</td><td>null</td><td>null</td><td>null</td><td>null</td><td>null</td><td>40.82376</td><td>-73.944137</td><td>&quot;{&#x27;latitude&#x27;: &#x27;40.8237597367640…</td><td>2025</td><td>9</td></tr><tr><td>&quot;66007110&quot;</td><td>2025-09-01 00:00:26</td><td>2025-09-01 01:05:30</td><td>&quot;NYPD&quot;</td><td>&quot;New York City Police Departmen…</td><td>&quot;Noise - Residential&quot;</td><td>&quot;Loud Music/Party&quot;</td><td>&quot;Residential Building/House&quot;</td><td>&quot;11229&quot;</td><td>&quot;2148 EAST&nbsp;&nbsp;&nbsp;13 STREET&quot;</td><td>&quot;EAST&nbsp;&nbsp;&nbsp;13 STREET&quot;</td><td>&quot;AVENUE U&quot;</td><td>&quot;AVENUE V&quot;</td><td>&quot;AVENUE U&quot;</td><td>&quot;AVENUE V&quot;</td><td>&quot;ADDRESS&quot;</td><td>&quot;BROOKLYN&quot;</td><td>&quot;EAST&nbsp;&nbsp;&nbsp;13 STREET&quot;</td><td>null</td><td>&quot;Closed&quot;</td><td>null</td><td>&quot;The Police Department responde…</td><td>2025-09-01 01:05:33</td><td>&quot;15 BROOKLYN&quot;</td><td>&quot;3073450126&quot;</td><td>&quot;BROOKLYN&quot;</td><td>995895.0</td><td>156995.0</td><td>&quot;MOBILE&quot;</td><td>&quot;Unspecified&quot;</td><td>&quot;BROOKLYN&quot;</td><td>null</td><td>null</td><td>null</td><td>null</td><td>null</td><td>null</td><td>null</td><td>40.597584</td><td>-73.958067</td><td>&quot;{&#x27;latitude&#x27;: &#x27;40.5975836087298…</td><td>2025</td><td>9</td></tr></tbody></table></div>"
      ],
      "text/plain": [
       "shape: (10, 43)\n",
       "┌────────────┬──────────────┬──────────────┬────────┬───┬────────────┬──────────────┬──────┬───────┐\n",
       "│ unique_key ┆ created_date ┆ closed_date  ┆ agency ┆ … ┆ longitude  ┆ location     ┆ year ┆ month │\n",
       "│ ---        ┆ ---          ┆ ---          ┆ ---    ┆   ┆ ---        ┆ ---          ┆ ---  ┆ ---   │\n",
       "│ str        ┆ datetime[ms] ┆ datetime[ms] ┆ str    ┆   ┆ f64        ┆ str          ┆ i64  ┆ i64   │\n",
       "╞════════════╪══════════════╪══════════════╪════════╪═══╪════════════╪══════════════╪══════╪═══════╡\n",
       "│ 66023011   ┆ 2025-09-01   ┆ 2025-09-02   ┆ DSNY   ┆ … ┆ -73.852782 ┆ {'latitude': ┆ 2025 ┆ 9     │\n",
       "│            ┆ 00:00:00     ┆ 12:27:00     ┆        ┆   ┆            ┆ '40.68807773 ┆      ┆       │\n",
       "│            ┆              ┆              ┆        ┆   ┆            ┆ 39179…       ┆      ┆       │\n",
       "│ 66008529   ┆ 2025-09-01   ┆ 2025-09-01   ┆ NYPD   ┆ … ┆ null       ┆ null         ┆ 2025 ┆ 9     │\n",
       "│            ┆ 00:00:10     ┆ 00:26:39     ┆        ┆   ┆            ┆              ┆      ┆       │\n",
       "│ 66003967   ┆ 2025-09-01   ┆ 2025-09-01   ┆ NYPD   ┆ … ┆ -73.881968 ┆ {'latitude': ┆ 2025 ┆ 9     │\n",
       "│            ┆ 00:00:11     ┆ 03:08:50     ┆        ┆   ┆            ┆ '40.87945508 ┆      ┆       │\n",
       "│            ┆              ┆              ┆        ┆   ┆            ┆ 94661…       ┆      ┆       │\n",
       "│ 66006371   ┆ 2025-09-01   ┆ 2025-09-01   ┆ NYPD   ┆ … ┆ -73.842527 ┆ {'latitude': ┆ 2025 ┆ 9     │\n",
       "│            ┆ 00:00:13     ┆ 04:22:30     ┆        ┆   ┆            ┆ '40.84248077 ┆      ┆       │\n",
       "│            ┆              ┆              ┆        ┆   ┆            ┆ 59071…       ┆      ┆       │\n",
       "│ 66006304   ┆ 2025-09-01   ┆ 2025-09-01   ┆ NYPD   ┆ … ┆ -73.889906 ┆ {'latitude': ┆ 2025 ┆ 9     │\n",
       "│            ┆ 00:00:15     ┆ 16:40:30     ┆        ┆   ┆            ┆ '40.77003378 ┆      ┆       │\n",
       "│            ┆              ┆              ┆        ┆   ┆            ┆ 62021…       ┆      ┆       │\n",
       "│ 66004821   ┆ 2025-09-01   ┆ 2025-09-01   ┆ NYPD   ┆ … ┆ -73.936539 ┆ {'latitude': ┆ 2025 ┆ 9     │\n",
       "│            ┆ 00:00:17     ┆ 00:30:55     ┆        ┆   ┆            ┆ '40.77389507 ┆      ┆       │\n",
       "│            ┆              ┆              ┆        ┆   ┆            ┆ 51967…       ┆      ┆       │\n",
       "│ 66011673   ┆ 2025-09-01   ┆ 2025-09-01   ┆ NYPD   ┆ … ┆ -73.925913 ┆ {'latitude': ┆ 2025 ┆ 9     │\n",
       "│            ┆ 00:00:18     ┆ 01:19:43     ┆        ┆   ┆            ┆ '40.82586564 ┆      ┆       │\n",
       "│            ┆              ┆              ┆        ┆   ┆            ┆ 51982…       ┆      ┆       │\n",
       "│ 66005759   ┆ 2025-09-01   ┆ 2025-09-01   ┆ NYPD   ┆ … ┆ -73.91876  ┆ {'latitude': ┆ 2025 ┆ 9     │\n",
       "│            ┆ 00:00:21     ┆ 01:12:14     ┆        ┆   ┆            ┆ '40.80735043 ┆      ┆       │\n",
       "│            ┆              ┆              ┆        ┆   ┆            ┆ 07348…       ┆      ┆       │\n",
       "│ 66008008   ┆ 2025-09-01   ┆ 2025-09-01   ┆ NYPD   ┆ … ┆ -73.944137 ┆ {'latitude': ┆ 2025 ┆ 9     │\n",
       "│            ┆ 00:00:21     ┆ 01:03:26     ┆        ┆   ┆            ┆ '40.82375973 ┆      ┆       │\n",
       "│            ┆              ┆              ┆        ┆   ┆            ┆ 67640…       ┆      ┆       │\n",
       "│ 66007110   ┆ 2025-09-01   ┆ 2025-09-01   ┆ NYPD   ┆ … ┆ -73.958067 ┆ {'latitude': ┆ 2025 ┆ 9     │\n",
       "│            ┆ 00:00:26     ┆ 01:05:30     ┆        ┆   ┆            ┆ '40.59758360 ┆      ┆       │\n",
       "│            ┆              ┆              ┆        ┆   ┆            ┆ 87298…       ┆      ┆       │\n",
       "└────────────┴──────────────┴──────────────┴────────┴───┴────────────┴──────────────┴──────┴───────┘"
      ]
     },
     "execution_count": 11,
     "metadata": {},
     "output_type": "execute_result"
    }
   ],
   "source": [
    "# Collect a sample to view\n",
    "lf.head(10).collect()\n"
   ]
  },
  {
   "cell_type": "markdown",
   "id": "03983527",
   "metadata": {},
   "source": [
    "### Missing Values Analysis\n"
   ]
  },
  {
   "cell_type": "code",
   "execution_count": null,
   "id": "648ffa7a",
   "metadata": {},
   "outputs": [
    {
     "name": "stdout",
     "output_type": "stream",
     "text": [
      "Missing Values Summary (Total Rows: 280,722)\n"
     ]
    },
    {
     "data": {
      "text/html": [
       "<div><style>\n",
       ".dataframe > thead > tr,\n",
       ".dataframe > tbody > tr {\n",
       "  text-align: right;\n",
       "  white-space: pre-wrap;\n",
       "}\n",
       "</style>\n",
       "<small>shape: (1, 3)</small><table border=\"1\" class=\"dataframe\"><thead><tr><th>Column</th><th>Null_Count</th><th>Null_Percentage</th></tr><tr><td>str</td><td>i64</td><td>f64</td></tr></thead><tbody><tr><td>&quot;vehicle_type&quot;</td><td>267183</td><td>95.18</td></tr></tbody></table></div>"
      ],
      "text/plain": [
       "shape: (1, 3)\n",
       "┌──────────────┬────────────┬─────────────────┐\n",
       "│ Column       ┆ Null_Count ┆ Null_Percentage │\n",
       "│ ---          ┆ ---        ┆ ---             │\n",
       "│ str          ┆ i64        ┆ f64             │\n",
       "╞══════════════╪════════════╪═════════════════╡\n",
       "│ vehicle_type ┆ 267183     ┆ 95.18           │\n",
       "└──────────────┴────────────┴─────────────────┘"
      ]
     },
     "execution_count": 23,
     "metadata": {},
     "output_type": "execute_result"
    }
   ],
   "source": [
    "# Calculate null counts and percentages\n",
    "total_rows = lf.select(pl.len()).collect().item()\n",
    "\n",
    "null_counts = lf.select([\n",
    "    pl.col(col).is_null().sum().alias(col) \n",
    "    for col in lf.collect_schema().names()\n",
    "]).collect()\n",
    "\n",
    "# Convert to long format for better readability\n",
    "null_summary = pl.DataFrame({\n",
    "    \"Column\": null_counts.columns,\n",
    "    \"Null_Count\": null_counts.row(0),\n",
    "}).with_columns([\n",
    "    (pl.col(\"Null_Count\") / total_rows * 100).round(2).alias(\"Null_Percentage\")\n",
    "]).sort(\"Null_Count\", descending=True)\n",
    "\n",
    "print(f\"Missing Values Summary (Total Rows: {total_rows:,})\")\n",
    "null_summary\n"
   ]
  },
  {
   "cell_type": "code",
   "execution_count": null,
   "id": "2c7ba219",
   "metadata": {},
   "outputs": [],
   "source": [
    "null_summary.filter(pl.col('Column') == 'vehicle_type')\n"
   ]
  },
  {
   "cell_type": "markdown",
   "id": "e4c17540",
   "metadata": {},
   "source": [
    "### Top Complaint Types\n"
   ]
  },
  {
   "cell_type": "code",
   "execution_count": null,
   "id": "b7f0875d",
   "metadata": {},
   "outputs": [],
   "source": [
    "# Top complaint types\n",
    "top_complaints = df.group_by(\"complaint_type\").agg([\n",
    "    pl.len().alias(\"count\")\n",
    "]).sort(\"count\", descending=True).limit(20).collect()\n",
    "\n",
    "print(\"Top 20 Complaint Types:\")\n",
    "top_complaints\n"
   ]
  },
  {
   "cell_type": "markdown",
   "id": "69b2a87c",
   "metadata": {},
   "source": [
    "### Temporal Analysis\n"
   ]
  },
  {
   "cell_type": "code",
   "execution_count": null,
   "id": "50c47108",
   "metadata": {},
   "outputs": [],
   "source": [
    "# Requests over time (by year-month)\n",
    "temporal = df.with_columns([\n",
    "    pl.col(\"created_date\").str.to_datetime().alias(\"created_dt\")\n",
    "]).with_columns([\n",
    "    pl.col(\"created_dt\").dt.year().alias(\"year\"),\n",
    "    pl.col(\"created_dt\").dt.month().alias(\"month\")\n",
    "]).group_by([\"year\", \"month\"]).agg([\n",
    "    pl.len().alias(\"num_requests\")\n",
    "]).sort([\"year\", \"month\"]).collect()\n",
    "\n",
    "print(\"Service Requests Over Time:\")\n",
    "temporal\n"
   ]
  },
  {
   "cell_type": "markdown",
   "id": "9bc2125d",
   "metadata": {},
   "source": [
    "### Geographic Distribution\n"
   ]
  },
  {
   "cell_type": "code",
   "execution_count": null,
   "id": "189f2814",
   "metadata": {},
   "outputs": [],
   "source": [
    "# Requests by borough\n",
    "by_borough = df.group_by(\"borough\").agg([\n",
    "    pl.len().alias(\"count\")\n",
    "]).sort(\"count\", descending=True).collect()\n",
    "\n",
    "print(\"Service Requests by Borough:\")\n",
    "by_borough\n"
   ]
  },
  {
   "cell_type": "markdown",
   "id": "e734aa38",
   "metadata": {},
   "source": [
    "### Agency Analysis\n"
   ]
  },
  {
   "cell_type": "code",
   "execution_count": null,
   "id": "c7b64636",
   "metadata": {},
   "outputs": [],
   "source": [
    "# Top agencies handling requests\n",
    "top_agencies = df.group_by(\"agency\").agg([\n",
    "    pl.len().alias(\"count\")\n",
    "]).sort(\"count\", descending=True).limit(15).collect()\n",
    "\n",
    "print(\"Top 15 Agencies:\")\n",
    "top_agencies\n"
   ]
  },
  {
   "cell_type": "markdown",
   "id": "8dfa20be",
   "metadata": {},
   "source": [
    "### Status Distribution\n"
   ]
  },
  {
   "cell_type": "code",
   "execution_count": null,
   "id": "93af2aa0",
   "metadata": {},
   "outputs": [],
   "source": [
    "# Request status distribution\n",
    "status_dist = df.group_by(\"status\").agg([\n",
    "    pl.len().alias(\"count\")\n",
    "]).sort(\"count\", descending=True).collect()\n",
    "\n",
    "print(\"Status Distribution:\")\n",
    "status_dist\n"
   ]
  },
  {
   "cell_type": "markdown",
   "id": "2aa9aa0c",
   "metadata": {},
   "source": [
    "### Response Time Analysis\n"
   ]
  },
  {
   "cell_type": "code",
   "execution_count": null,
   "id": "a35e7d28",
   "metadata": {},
   "outputs": [],
   "source": [
    "# Calculate response times where both created_date and closed_date exist\n",
    "response_times = df.filter(\n",
    "    pl.col(\"closed_date\").is_not_null() & pl.col(\"created_date\").is_not_null()\n",
    ").with_columns([\n",
    "    pl.col(\"created_date\").str.to_datetime().alias(\"created_dt\"),\n",
    "    pl.col(\"closed_date\").str.to_datetime().alias(\"closed_dt\")\n",
    "]).with_columns([\n",
    "    (pl.col(\"closed_dt\") - pl.col(\"created_dt\")).dt.total_hours().alias(\"response_hours\")\n",
    "]).filter(\n",
    "    pl.col(\"response_hours\") >= 0  # Only positive response times\n",
    ").select([\n",
    "    pl.col(\"response_hours\").mean().alias(\"mean_hours\"),\n",
    "    pl.col(\"response_hours\").median().alias(\"median_hours\"),\n",
    "    pl.col(\"response_hours\").std().alias(\"std_hours\"),\n",
    "    pl.col(\"response_hours\").min().alias(\"min_hours\"),\n",
    "    pl.col(\"response_hours\").max().alias(\"max_hours\"),\n",
    "    pl.col(\"response_hours\").quantile(0.25).alias(\"q25_hours\"),\n",
    "    pl.col(\"response_hours\").quantile(0.75).alias(\"q75_hours\"),\n",
    "    pl.col(\"response_hours\").quantile(0.90).alias(\"q90_hours\"),\n",
    "    pl.len().alias(\"count_with_close_date\")\n",
    "]).collect()\n",
    "\n",
    "print(\"Response Time Statistics (in hours):\")\n",
    "response_times\n"
   ]
  },
  {
   "cell_type": "markdown",
   "id": "32aff531",
   "metadata": {},
   "source": [
    "### Year-over-Year Growth\n"
   ]
  },
  {
   "cell_type": "code",
   "execution_count": null,
   "id": "0a86bc48",
   "metadata": {},
   "outputs": [],
   "source": [
    "# Yearly trends\n",
    "yearly = df.with_columns([\n",
    "    pl.col(\"created_date\").str.to_datetime().dt.year().alias(\"year\")\n",
    "]).group_by(\"year\").agg([\n",
    "    pl.len().alias(\"num_requests\")\n",
    "]).sort(\"year\").collect()\n",
    "\n",
    "print(\"Year-over-Year Requests:\")\n",
    "yearly\n"
   ]
  },
  {
   "cell_type": "markdown",
   "id": "2651e82d",
   "metadata": {},
   "source": [
    "### Top Complaint Types by Borough\n"
   ]
  },
  {
   "cell_type": "code",
   "execution_count": null,
   "id": "19eb84ab",
   "metadata": {},
   "outputs": [],
   "source": [
    "# Top complaints by borough\n",
    "complaints_by_borough = df.group_by([\"borough\", \"complaint_type\"]).agg([\n",
    "    pl.len().alias(\"count\")\n",
    "]).sort([\"borough\", \"count\"], descending=[False, True]).collect()\n",
    "\n",
    "# Get top 5 complaints per borough\n",
    "top_per_borough = complaints_by_borough.group_by(\"borough\").head(5)\n",
    "\n",
    "print(\"Top 5 Complaint Types per Borough:\")\n",
    "top_per_borough\n"
   ]
  },
  {
   "cell_type": "code",
   "execution_count": null,
   "id": "4255ef70",
   "metadata": {},
   "outputs": [],
   "source": []
  }
 ],
 "metadata": {
  "kernelspec": {
   "display_name": ".venv",
   "language": "python",
   "name": "python3"
  },
  "language_info": {
   "codemirror_mode": {
    "name": "ipython",
    "version": 3
   },
   "file_extension": ".py",
   "mimetype": "text/x-python",
   "name": "python",
   "nbconvert_exporter": "python",
   "pygments_lexer": "ipython3",
   "version": "3.13.0"
  }
 },
 "nbformat": 4,
 "nbformat_minor": 5
}
