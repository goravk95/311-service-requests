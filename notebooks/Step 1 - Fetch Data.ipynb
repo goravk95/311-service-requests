{
 "cells": [
  {
   "cell_type": "markdown",
   "id": "ef89e6b3",
   "metadata": {},
   "source": [
    "# Fetch Data\n",
    "\n"
   ]
  },
  {
   "cell_type": "markdown",
   "id": "a75a5e08",
   "metadata": {},
   "source": [
    "### Set env variables\n",
    "\n",
    "assumes that `SOCRATA_APP_TOKEN`, `SOCRATA_API_KEY_ID`, and `SOCRATA_API_KEY_SECRET` are set in `.env`"
   ]
  },
  {
   "cell_type": "code",
   "execution_count": 1,
   "id": "4da8cb9f",
   "metadata": {},
   "outputs": [
    {
     "data": {
      "text/plain": [
       "True"
      ]
     },
     "execution_count": 1,
     "metadata": {},
     "output_type": "execute_result"
    }
   ],
   "source": [
    "from dotenv import load_dotenv\n",
    "\n",
    "load_dotenv()\n"
   ]
  },
  {
   "cell_type": "markdown",
   "id": "4f3812f3",
   "metadata": {},
   "source": [
    "### Load Packages"
   ]
  },
  {
   "cell_type": "code",
   "execution_count": 2,
   "id": "f22fc662",
   "metadata": {},
   "outputs": [],
   "source": [
    "import os\n",
    "import sys\n",
    "import pandas as pd\n",
    "import matplotlib.pyplot as plt\n",
    "\n",
    "PACKAGE_PATH = os.path.abspath(os.path.join(os.getcwd(), '..'))\n",
    "sys.path.insert(0, PACKAGE_PATH)\n",
    "\n",
    "from src import fetch\n",
    "from src import config\n"
   ]
  },
  {
   "cell_type": "markdown",
   "id": "7f2d7ce7",
   "metadata": {},
   "source": [
    "### Full Pull of Data\n",
    "All Agencies: ~48 minutes runtime"
   ]
  },
  {
   "cell_type": "code",
   "execution_count": 3,
   "id": "b741238c",
   "metadata": {},
   "outputs": [],
   "source": [
    "# await fetch.fetch_all_service_requests(save = True)\n"
   ]
  },
  {
   "cell_type": "markdown",
   "id": "7407c1cd",
   "metadata": {},
   "source": [
    "DOHMH Only: ~90 seconds runtime"
   ]
  },
  {
   "cell_type": "code",
   "execution_count": 4,
   "id": "3844ff3a",
   "metadata": {},
   "outputs": [],
   "source": [
    "# await fetch.fetch_all_service_requests(save = True,\n",
    "#     columns=config.DOHDMH_COLUMNS,\n",
    "#     additional_filter=config.AGENCY_FILTER\n",
    "# )"
   ]
  },
  {
   "cell_type": "markdown",
   "id": "f93575a8",
   "metadata": {},
   "source": [
    "### Incremental Pull of Data"
   ]
  },
  {
   "cell_type": "code",
   "execution_count": 5,
   "id": "28a346d2",
   "metadata": {},
   "outputs": [],
   "source": [
    "# await fetch.fetch_current_month_service_requests(save = True)\n",
    "\n"
   ]
  },
  {
   "cell_type": "code",
   "execution_count": 6,
   "id": "711dab21",
   "metadata": {},
   "outputs": [],
   "source": [
    "# await fetch.fetch_current_month_service_requests(save = True,\n",
    "#     columns=config.DOHDMH_COLUMNS,\n",
    "#     additional_filter=config.AGENCY_FILTER\n",
    "# )"
   ]
  },
  {
   "cell_type": "markdown",
   "id": "9e8a99d9",
   "metadata": {},
   "source": [
    "### ACS Census Data"
   ]
  },
  {
   "cell_type": "code",
   "execution_count": 7,
   "id": "5fb19f1f",
   "metadata": {},
   "outputs": [
    {
     "name": "stdout",
     "output_type": "stream",
     "text": [
      "Downloading ACS 5-year data for 2013...\n",
      "  - County 005...\n",
      "  - County 047...\n",
      "  - County 061...\n",
      "  - County 081...\n",
      "  - County 085...\n",
      "Downloading ACS 5-year data for 2014...\n",
      "  - County 005...\n",
      "  - County 047...\n",
      "  - County 061...\n",
      "  - County 081...\n",
      "  - County 085...\n",
      "Downloading ACS 5-year data for 2015...\n",
      "  - County 005...\n",
      "  - County 047...\n",
      "  - County 061...\n",
      "  - County 081...\n",
      "  - County 085...\n",
      "Downloading ACS 5-year data for 2016...\n",
      "  - County 005...\n",
      "  - County 047...\n",
      "  - County 061...\n",
      "  - County 081...\n",
      "  - County 085...\n",
      "Downloading ACS 5-year data for 2017...\n",
      "  - County 005...\n",
      "  - County 047...\n",
      "  - County 061...\n",
      "  - County 081...\n",
      "  - County 085...\n",
      "Downloading ACS 5-year data for 2018...\n",
      "  - County 005...\n",
      "  - County 047...\n",
      "  - County 061...\n",
      "  - County 081...\n",
      "  - County 085...\n",
      "Downloading ACS 5-year data for 2019...\n",
      "  - County 005...\n",
      "  - County 047...\n",
      "  - County 061...\n",
      "  - County 081...\n",
      "  - County 085...\n",
      "Downloading ACS 5-year data for 2020...\n",
      "  - County 005...\n",
      "  - County 047...\n",
      "  - County 061...\n",
      "  - County 081...\n",
      "  - County 085...\n",
      "Downloading ACS 5-year data for 2021...\n",
      "  - County 005...\n",
      "  - County 047...\n",
      "  - County 061...\n",
      "  - County 081...\n",
      "  - County 085...\n",
      "Downloading ACS 5-year data for 2022...\n",
      "  - County 005...\n",
      "  - County 047...\n",
      "  - County 061...\n",
      "  - County 081...\n",
      "  - County 085...\n",
      "Downloading ACS 5-year data for 2023...\n",
      "  - County 005...\n",
      "  - County 047...\n",
      "  - County 061...\n",
      "  - County 081...\n",
      "  - County 085...\n",
      "Saved ACS census data to c:\\Users\\gorav\\GitHub\\nyc-311-service-requests\\data\\landing\\acs-population\\combined_population_data.csv\n"
     ]
    }
   ],
   "source": [
    "df_pop = fetch.fetch_acs_census_population_data(start_year=2013, end_year=2023, save=False)"
   ]
  },
  {
   "cell_type": "markdown",
   "id": "1f399acb",
   "metadata": {},
   "source": [
    "### Historical Weather Data"
   ]
  },
  {
   "cell_type": "code",
   "execution_count": 8,
   "id": "ff71b87e",
   "metadata": {},
   "outputs": [
    {
     "name": "stdout",
     "output_type": "stream",
     "text": [
      "Loaded 201001, rows: 155\n",
      "Loaded 201002, rows: 155\n",
      "Loaded 201003, rows: 155\n",
      "Loaded 201004, rows: 155\n",
      "Loaded 201005, rows: 155\n",
      "Loaded 201006, rows: 155\n",
      "Loaded 201007, rows: 155\n",
      "Loaded 201008, rows: 155\n",
      "Loaded 201009, rows: 155\n",
      "Loaded 201010, rows: 155\n",
      "Loaded 201011, rows: 155\n",
      "Loaded 201012, rows: 155\n",
      "Loaded 201101, rows: 155\n",
      "Loaded 201102, rows: 155\n",
      "Loaded 201103, rows: 155\n",
      "Loaded 201104, rows: 155\n",
      "Loaded 201105, rows: 155\n",
      "Loaded 201106, rows: 155\n",
      "Loaded 201107, rows: 155\n",
      "Loaded 201108, rows: 155\n",
      "Loaded 201109, rows: 155\n",
      "Loaded 201110, rows: 155\n",
      "Loaded 201111, rows: 155\n",
      "Loaded 201112, rows: 155\n",
      "Loaded 201201, rows: 155\n",
      "Loaded 201202, rows: 155\n",
      "Loaded 201203, rows: 155\n",
      "Loaded 201204, rows: 155\n",
      "Loaded 201205, rows: 155\n",
      "Loaded 201206, rows: 155\n",
      "Loaded 201207, rows: 155\n",
      "Loaded 201208, rows: 155\n",
      "Loaded 201209, rows: 155\n",
      "Loaded 201210, rows: 155\n",
      "Loaded 201211, rows: 155\n",
      "Loaded 201212, rows: 155\n",
      "Loaded 201301, rows: 155\n",
      "Loaded 201302, rows: 155\n",
      "Loaded 201303, rows: 155\n",
      "Loaded 201304, rows: 155\n",
      "Loaded 201305, rows: 155\n",
      "Loaded 201306, rows: 155\n",
      "Loaded 201307, rows: 155\n",
      "Loaded 201308, rows: 155\n",
      "Loaded 201309, rows: 155\n",
      "Loaded 201310, rows: 155\n",
      "Loaded 201311, rows: 155\n",
      "Loaded 201312, rows: 155\n",
      "Loaded 201401, rows: 155\n",
      "Loaded 201402, rows: 155\n",
      "Loaded 201403, rows: 155\n",
      "Loaded 201404, rows: 155\n",
      "Loaded 201405, rows: 155\n",
      "Loaded 201406, rows: 155\n",
      "Loaded 201407, rows: 155\n",
      "Loaded 201408, rows: 155\n",
      "Loaded 201409, rows: 155\n",
      "Loaded 201410, rows: 155\n",
      "Loaded 201411, rows: 155\n",
      "Loaded 201412, rows: 155\n",
      "Loaded 201501, rows: 155\n",
      "Loaded 201502, rows: 155\n",
      "Loaded 201503, rows: 155\n",
      "Loaded 201504, rows: 155\n",
      "Loaded 201505, rows: 155\n",
      "Loaded 201506, rows: 155\n",
      "Loaded 201507, rows: 155\n",
      "Loaded 201508, rows: 155\n",
      "Loaded 201509, rows: 155\n",
      "Loaded 201510, rows: 155\n",
      "Loaded 201511, rows: 155\n",
      "Loaded 201512, rows: 155\n",
      "Loaded 201601, rows: 155\n",
      "Loaded 201602, rows: 155\n",
      "Loaded 201603, rows: 155\n",
      "Loaded 201604, rows: 155\n",
      "Loaded 201605, rows: 155\n",
      "Loaded 201606, rows: 155\n",
      "Loaded 201607, rows: 155\n",
      "Loaded 201608, rows: 155\n",
      "Loaded 201609, rows: 155\n",
      "Loaded 201610, rows: 155\n",
      "Loaded 201611, rows: 155\n",
      "Loaded 201612, rows: 155\n",
      "Loaded 201701, rows: 155\n",
      "Loaded 201702, rows: 155\n",
      "Loaded 201703, rows: 155\n",
      "Loaded 201704, rows: 155\n",
      "Loaded 201705, rows: 155\n",
      "Loaded 201706, rows: 155\n",
      "Loaded 201707, rows: 155\n",
      "Loaded 201708, rows: 155\n",
      "Loaded 201709, rows: 155\n",
      "Loaded 201710, rows: 155\n",
      "Loaded 201711, rows: 155\n",
      "Loaded 201712, rows: 155\n",
      "Loaded 201801, rows: 155\n",
      "Loaded 201802, rows: 155\n",
      "Loaded 201803, rows: 155\n",
      "Loaded 201804, rows: 155\n",
      "Loaded 201805, rows: 155\n",
      "Loaded 201806, rows: 155\n",
      "Loaded 201807, rows: 155\n",
      "Loaded 201808, rows: 155\n",
      "Loaded 201809, rows: 155\n",
      "Loaded 201810, rows: 155\n",
      "Loaded 201811, rows: 155\n",
      "Loaded 201812, rows: 155\n",
      "Loaded 201901, rows: 155\n",
      "Loaded 201902, rows: 155\n",
      "Loaded 201903, rows: 155\n",
      "Loaded 201904, rows: 155\n",
      "Loaded 201905, rows: 155\n",
      "Loaded 201906, rows: 155\n",
      "Loaded 201907, rows: 155\n",
      "Loaded 201908, rows: 155\n",
      "Loaded 201909, rows: 155\n",
      "Loaded 201910, rows: 155\n",
      "Loaded 201911, rows: 155\n",
      "Loaded 201912, rows: 155\n",
      "Loaded 202001, rows: 155\n",
      "Loaded 202002, rows: 155\n",
      "Loaded 202003, rows: 155\n",
      "Loaded 202004, rows: 155\n",
      "Loaded 202005, rows: 155\n",
      "Loaded 202006, rows: 155\n",
      "Loaded 202007, rows: 155\n",
      "Loaded 202008, rows: 155\n",
      "Loaded 202009, rows: 155\n",
      "Loaded 202010, rows: 155\n",
      "Loaded 202011, rows: 155\n",
      "Loaded 202012, rows: 155\n",
      "Loaded 202101, rows: 155\n",
      "Loaded 202102, rows: 155\n",
      "Loaded 202103, rows: 155\n",
      "Loaded 202104, rows: 155\n",
      "Loaded 202105, rows: 155\n",
      "Loaded 202106, rows: 155\n",
      "Loaded 202107, rows: 155\n",
      "Loaded 202108, rows: 155\n",
      "Loaded 202109, rows: 155\n",
      "Loaded 202110, rows: 155\n",
      "Loaded 202111, rows: 155\n",
      "Loaded 202112, rows: 155\n",
      "Loaded 202201, rows: 155\n",
      "Loaded 202202, rows: 155\n",
      "Loaded 202203, rows: 155\n",
      "Loaded 202204, rows: 155\n",
      "Loaded 202205, rows: 155\n",
      "Loaded 202206, rows: 155\n",
      "Loaded 202207, rows: 155\n",
      "Loaded 202208, rows: 155\n",
      "Loaded 202209, rows: 155\n",
      "Loaded 202210, rows: 155\n",
      "Loaded 202211, rows: 155\n",
      "Loaded 202212, rows: 155\n",
      "Loaded 202301, rows: 155\n",
      "Loaded 202302, rows: 155\n",
      "Loaded 202303, rows: 155\n",
      "Loaded 202304, rows: 155\n",
      "Loaded 202305, rows: 155\n",
      "Loaded 202306, rows: 155\n",
      "Loaded 202307, rows: 155\n",
      "Loaded 202308, rows: 155\n",
      "Loaded 202309, rows: 155\n",
      "Loaded 202310, rows: 155\n",
      "Loaded 202311, rows: 155\n",
      "Loaded 202312, rows: 155\n",
      "Loaded 202401, rows: 155\n",
      "Loaded 202402, rows: 155\n",
      "Loaded 202403, rows: 155\n",
      "Loaded 202404, rows: 155\n",
      "Loaded 202405, rows: 155\n",
      "Loaded 202406, rows: 155\n",
      "Loaded 202407, rows: 155\n",
      "Loaded 202408, rows: 155\n",
      "Loaded 202409, rows: 155\n",
      "Loaded 202410, rows: 155\n",
      "Loaded 202411, rows: 155\n",
      "Loaded 202412, rows: 155\n",
      "Loaded 202501, rows: 155\n",
      "Loaded 202502, rows: 155\n",
      "Loaded 202503, rows: 155\n",
      "Loaded 202504, rows: 155\n",
      "Loaded 202505, rows: 155\n",
      "Loaded 202506, rows: 155\n",
      "Loaded 202507, rows: 155\n",
      "Error loading https://noaa-nclimgrid-daily-pds.s3.amazonaws.com/EpiNOAA/v1-0-0/parquet/cty/YEAR=2025/STATUS=scaled/202508.parquet: HTTP Error 404: Not Found\n",
      "Error loading https://noaa-nclimgrid-daily-pds.s3.amazonaws.com/EpiNOAA/v1-0-0/parquet/cty/YEAR=2025/STATUS=scaled/202509.parquet: HTTP Error 404: Not Found\n",
      "Error loading https://noaa-nclimgrid-daily-pds.s3.amazonaws.com/EpiNOAA/v1-0-0/parquet/cty/YEAR=2025/STATUS=scaled/202510.parquet: HTTP Error 404: Not Found\n",
      "Error loading https://noaa-nclimgrid-daily-pds.s3.amazonaws.com/EpiNOAA/v1-0-0/parquet/cty/YEAR=2025/STATUS=scaled/202511.parquet: HTTP Error 404: Not Found\n",
      "Error loading https://noaa-nclimgrid-daily-pds.s3.amazonaws.com/EpiNOAA/v1-0-0/parquet/cty/YEAR=2025/STATUS=scaled/202512.parquet: HTTP Error 404: Not Found\n"
     ]
    }
   ],
   "source": [
    "df_weather = fetch.fetch_noaa_weather_data(start_year=2010, end_year=2025, save=False)"
   ]
  },
  {
   "cell_type": "code",
   "execution_count": null,
   "id": "a1ffd259",
   "metadata": {},
   "outputs": [],
   "source": []
  }
 ],
 "metadata": {
  "kernelspec": {
   "display_name": ".venv",
   "language": "python",
   "name": "python3"
  },
  "language_info": {
   "codemirror_mode": {
    "name": "ipython",
    "version": 3
   },
   "file_extension": ".py",
   "mimetype": "text/x-python",
   "name": "python",
   "nbconvert_exporter": "python",
   "pygments_lexer": "ipython3",
   "version": "3.13.0"
  }
 },
 "nbformat": 4,
 "nbformat_minor": 5
}
