{
 "cells": [
  {
   "cell_type": "markdown",
   "id": "ef89e6b3",
   "metadata": {},
   "source": [
    "# Fetch Data\n",
    "\n"
   ]
  },
  {
   "cell_type": "markdown",
   "id": "a75a5e08",
   "metadata": {},
   "source": [
    "### Set env variables\n",
    "\n",
    "assumes that `SOCRATA_APP_TOKEN`, `SOCRATA_API_KEY_ID`, and `SOCRATA_API_KEY_SECRET` are set in `.env`"
   ]
  },
  {
   "cell_type": "code",
   "execution_count": 1,
   "id": "4da8cb9f",
   "metadata": {},
   "outputs": [
    {
     "data": {
      "text/plain": [
       "True"
      ]
     },
     "execution_count": 1,
     "metadata": {},
     "output_type": "execute_result"
    }
   ],
   "source": [
    "from dotenv import load_dotenv\n",
    "\n",
    "load_dotenv()\n"
   ]
  },
  {
   "cell_type": "markdown",
   "id": "4f3812f3",
   "metadata": {},
   "source": [
    "### Load Packages"
   ]
  },
  {
   "cell_type": "code",
   "execution_count": null,
   "id": "f22fc662",
   "metadata": {},
   "outputs": [],
   "source": [
    "import os\n",
    "import sys\n",
    "\n",
    "INGESTION_PATH = os.path.abspath(os.path.join(os.getcwd(), '..', 'src'))\n",
    "sys.path.insert(0, INGESTION_PATH)\n",
    "\n",
    "from ingestion import fetch"
   ]
  },
  {
   "cell_type": "markdown",
   "id": "7f2d7ce7",
   "metadata": {},
   "source": [
    "### Full Pull of Data\n",
    "Takes about 48 minutes"
   ]
  },
  {
   "cell_type": "code",
   "execution_count": 3,
   "id": "3844ff3a",
   "metadata": {},
   "outputs": [],
   "source": [
    "# await fetch.fetch_all_data(save = True)"
   ]
  },
  {
   "cell_type": "markdown",
   "id": "f93575a8",
   "metadata": {},
   "source": [
    "### Incremental Pull of Data"
   ]
  },
  {
   "cell_type": "code",
   "execution_count": 4,
   "id": "28a346d2",
   "metadata": {},
   "outputs": [],
   "source": [
    "# await fetch.fetch_current_month(save = True)"
   ]
  },
  {
   "cell_type": "markdown",
   "id": "706c492b",
   "metadata": {},
   "source": [
    "### Old COde"
   ]
  },
  {
   "cell_type": "code",
   "execution_count": null,
   "id": "818ee928",
   "metadata": {},
   "outputs": [],
   "source": [
    "# def _create_socrata_client(api_endpoint, app_token, username, password):\n",
    "#     \"\"\"\"\n",
    "    \n",
    "#     \"\"\"\n",
    "#     client = Socrata(api_endpoint, app_token=app_token, username=username, password=password, timeout = 600)\n",
    "#     return client\n"
   ]
  },
  {
   "cell_type": "code",
   "execution_count": null,
   "id": "79ae6a21",
   "metadata": {},
   "outputs": [],
   "source": [
    "# def _fetch_and_save_month_sync(year: int, month: int):\n",
    "#     \"\"\"Runs in a worker thread. Creates its own Socrata client (no sharing).\"\"\"\n",
    "#     # per-thread client\n",
    "#     # client = Socrata(\"data.cityofnewyork.us\", APP_TOKEN)\n",
    "#     client = _create_socrata_client(api_endpoint=\"data.cityofnewyork.us\", app_token=APP_TOKEN, username=API_KEY_ID, password=API_KEY_SECRET)\n",
    "\n",
    "#     start = f\"{year}-{month:02d}-01T00:00:00\"\n",
    "#     if month == 12:\n",
    "#         end = f\"{year+1}-01-01T00:00:00\"\n",
    "#     else:\n",
    "#         end = f\"{year}-{month+1:02d}-01T00:00:00\"\n",
    "\n",
    "#     where_clause = f\"{date_column} >= '{start}' AND {date_column} < '{end}'\"\n",
    "#     print(f\"Fetching {year}-{month:02d} ...\")\n",
    "\n",
    "#     # client.get_all handles paging internally (blocking)\n",
    "#     results = list(client.get_all(dataset_id, where=where_clause))\n",
    "\n",
    "#     if results:\n",
    "#         df = pd.DataFrame.from_records(results)\n",
    "#         # write to year/month partition\n",
    "#         file_path = os.path.join(output_dir, f\"year={year}/month={month:02d}/part-0000.parquet\")\n",
    "#         os.makedirs(os.path.dirname(file_path), exist_ok=True)\n",
    "#         # choose your engine; fastparquet avoids some pyarrow quirks in notebooks\n",
    "#         df.to_parquet(file_path, index=False, engine=\"fastparquet\")\n",
    "#         print(f\"Saved {file_path} ({len(df):,} rows)\")\n",
    "\n",
    "#         # clean up memory\n",
    "#         del df\n",
    "#         del results\n",
    "#         gc.collect()\n",
    "#     else:\n",
    "#         print(f\"No data for {year}-{month:02d}\")\n",
    "\n",
    "# async def fetch_and_save(year: int, month: int, sem: asyncio.Semaphore):\n",
    "#     async with sem:\n",
    "#         # run the sync worker in a thread\n",
    "#         await asyncio.to_thread(_fetch_and_save_month_sync, year, month)\n",
    "\n",
    "# async def pull_latest_data():\n",
    "#     sem = asyncio.Semaphore(MAX_CONCURRENCY)\n",
    "#     tasks = [fetch_and_save(y, m, sem) for y in years for m in months]\n",
    "#     await asyncio.gather(*tasks)\n"
   ]
  },
  {
   "cell_type": "code",
   "execution_count": null,
   "id": "2b7dfc63",
   "metadata": {},
   "outputs": [],
   "source": [
    "# dataset_id = \"erm2-nwe9\"\n",
    "# date_column = \"created_date\"\n",
    "# output_dir = \"../data/311-service-requests\"\n",
    "# os.makedirs(output_dir, exist_ok=True)\n",
    "\n",
    "# years = range(2010, 2026)   # e.g., 2010–2011\n",
    "# months = range(1, 13)       # 1..12\n",
    "# MAX_CONCURRENCY = 20         # tune for your machine / API limits"
   ]
  },
  {
   "cell_type": "code",
   "execution_count": null,
   "id": "d565192c",
   "metadata": {},
   "outputs": [],
   "source": [
    "# await pull_latest_data()"
   ]
  }
 ],
 "metadata": {
  "kernelspec": {
   "display_name": ".venv",
   "language": "python",
   "name": "python3"
  },
  "language_info": {
   "codemirror_mode": {
    "name": "ipython",
    "version": 3
   },
   "file_extension": ".py",
   "mimetype": "text/x-python",
   "name": "python",
   "nbconvert_exporter": "python",
   "pygments_lexer": "ipython3",
   "version": "3.13.0"
  }
 },
 "nbformat": 4,
 "nbformat_minor": 5
}
