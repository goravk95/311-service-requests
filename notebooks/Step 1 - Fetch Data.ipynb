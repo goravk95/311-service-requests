{
 "cells": [
  {
   "cell_type": "markdown",
   "id": "ef89e6b3",
   "metadata": {},
   "source": [
    "# Fetch Data\n",
    "\n"
   ]
  },
  {
   "cell_type": "markdown",
   "id": "a75a5e08",
   "metadata": {},
   "source": [
    "### Set env variables\n",
    "\n",
    "assumes that `SOCRATA_APP_TOKEN`, `SOCRATA_API_KEY_ID`, and `SOCRATA_API_KEY_SECRET` are set in `.env`"
   ]
  },
  {
   "cell_type": "code",
   "execution_count": 1,
   "id": "4da8cb9f",
   "metadata": {},
   "outputs": [
    {
     "data": {
      "text/plain": [
       "True"
      ]
     },
     "execution_count": 1,
     "metadata": {},
     "output_type": "execute_result"
    }
   ],
   "source": [
    "from dotenv import load_dotenv\n",
    "\n",
    "load_dotenv()\n"
   ]
  },
  {
   "cell_type": "markdown",
   "id": "4f3812f3",
   "metadata": {},
   "source": [
    "### Load Packages"
   ]
  },
  {
   "cell_type": "code",
   "execution_count": null,
   "id": "f22fc662",
   "metadata": {},
   "outputs": [
    {
     "ename": "ImportError",
     "evalue": "cannot import name 'OUTPUT_DIR' from 'ingestion.config' (c:\\Users\\gorav\\GitHub\\nyc-311-service-requests\\src\\ingestion\\config.py)",
     "output_type": "error",
     "traceback": [
      "\u001b[31m---------------------------------------------------------------------------\u001b[39m",
      "\u001b[31mImportError\u001b[39m                               Traceback (most recent call last)",
      "\u001b[36mCell\u001b[39m\u001b[36m \u001b[39m\u001b[32mIn[2]\u001b[39m\u001b[32m, line 10\u001b[39m\n\u001b[32m      7\u001b[39m INGESTION_PATH = os.path.abspath(os.path.join(os.getcwd(), \u001b[33m'\u001b[39m\u001b[33m..\u001b[39m\u001b[33m'\u001b[39m, \u001b[33m'\u001b[39m\u001b[33msrc\u001b[39m\u001b[33m'\u001b[39m))\n\u001b[32m      8\u001b[39m sys.path.insert(\u001b[32m0\u001b[39m, INGESTION_PATH)\n\u001b[32m---> \u001b[39m\u001b[32m10\u001b[39m \u001b[38;5;28;01mfrom\u001b[39;00m\u001b[38;5;250m \u001b[39m\u001b[34;01mingestion\u001b[39;00m\u001b[38;5;250m \u001b[39m\u001b[38;5;28;01mimport\u001b[39;00m fetch\n\u001b[32m     11\u001b[39m \u001b[38;5;28;01mfrom\u001b[39;00m\u001b[38;5;250m \u001b[39m\u001b[34;01mingestion\u001b[39;00m\u001b[38;5;250m \u001b[39m\u001b[38;5;28;01mimport\u001b[39;00m config\n",
      "\u001b[36mFile \u001b[39m\u001b[32mc:\\Users\\gorav\\GitHub\\nyc-311-service-requests\\src\\ingestion\\fetch.py:17\u001b[39m\n\u001b[32m     14\u001b[39m \u001b[38;5;28;01mimport\u001b[39;00m\u001b[38;5;250m \u001b[39m\u001b[34;01mpandas\u001b[39;00m\u001b[38;5;250m \u001b[39m\u001b[38;5;28;01mas\u001b[39;00m\u001b[38;5;250m \u001b[39m\u001b[34;01mpd\u001b[39;00m\n\u001b[32m     15\u001b[39m \u001b[38;5;28;01mfrom\u001b[39;00m\u001b[38;5;250m \u001b[39m\u001b[34;01msodapy\u001b[39;00m\u001b[38;5;250m \u001b[39m\u001b[38;5;28;01mimport\u001b[39;00m Socrata\n\u001b[32m---> \u001b[39m\u001b[32m17\u001b[39m \u001b[38;5;28;01mfrom\u001b[39;00m\u001b[38;5;250m \u001b[39m\u001b[34;01m.\u001b[39;00m\u001b[34;01mconfig\u001b[39;00m\u001b[38;5;250m \u001b[39m\u001b[38;5;28;01mimport\u001b[39;00m (\n\u001b[32m     18\u001b[39m     API_ENDPOINT,\n\u001b[32m     19\u001b[39m     APP_TOKEN,\n\u001b[32m     20\u001b[39m     API_KEY_ID,\n\u001b[32m     21\u001b[39m     API_KEY_SECRET,\n\u001b[32m     22\u001b[39m     DATASET_ID,\n\u001b[32m     23\u001b[39m     DATE_COLUMN,\n\u001b[32m     24\u001b[39m     OUTPUT_DIR,\n\u001b[32m     25\u001b[39m     DATA_START_YEAR,\n\u001b[32m     26\u001b[39m     DATA_END_YEAR,\n\u001b[32m     27\u001b[39m     MAX_CONCURRENT_REQUESTS,\n\u001b[32m     28\u001b[39m     SCHEMA,\n\u001b[32m     29\u001b[39m )\n\u001b[32m     32\u001b[39m \u001b[38;5;28;01mdef\u001b[39;00m\u001b[38;5;250m \u001b[39m\u001b[34m_create_socrata_client\u001b[39m(api_endpoint, app_token, username, password):\n\u001b[32m     33\u001b[39m \u001b[38;5;250m    \u001b[39m\u001b[33;03m\"\"\"Create and configure a Socrata API client.\u001b[39;00m\n\u001b[32m     34\u001b[39m \u001b[33;03m    \u001b[39;00m\n\u001b[32m     35\u001b[39m \u001b[33;03m    Args:\u001b[39;00m\n\u001b[32m   (...)\u001b[39m\u001b[32m     42\u001b[39m \u001b[33;03m        Socrata: Configured Socrata client instance.\u001b[39;00m\n\u001b[32m     43\u001b[39m \u001b[33;03m    \"\"\"\u001b[39;00m\n",
      "\u001b[31mImportError\u001b[39m: cannot import name 'OUTPUT_DIR' from 'ingestion.config' (c:\\Users\\gorav\\GitHub\\nyc-311-service-requests\\src\\ingestion\\config.py)"
     ]
    }
   ],
   "source": [
    "import os\n",
    "import sys\n",
    "import pdb\n",
    "import censusdata\n",
    "import pandas as pd\n",
    "\n",
    "INGESTION_PATH = os.path.abspath(os.path.join(os.getcwd(), '..', 'src'))\n",
    "sys.path.insert(0, INGESTION_PATH)\n",
    "\n",
    "from ingestion import fetch\n",
    "from ingestion import config"
   ]
  },
  {
   "cell_type": "markdown",
   "id": "7f2d7ce7",
   "metadata": {},
   "source": [
    "### Full Pull of Data\n",
    "Takes about 48 minutes"
   ]
  },
  {
   "cell_type": "code",
   "execution_count": null,
   "id": "3844ff3a",
   "metadata": {},
   "outputs": [],
   "source": [
    "# await fetch.fetch_all_data(save = True)"
   ]
  },
  {
   "cell_type": "markdown",
   "id": "f93575a8",
   "metadata": {},
   "source": [
    "### Incremental Pull of Data"
   ]
  },
  {
   "cell_type": "code",
   "execution_count": null,
   "id": "28a346d2",
   "metadata": {},
   "outputs": [],
   "source": [
    "# await fetch.fetch_current_month(save = True)"
   ]
  },
  {
   "cell_type": "markdown",
   "id": "9e8a99d9",
   "metadata": {},
   "source": [
    "### ACS Census Data"
   ]
  },
  {
   "cell_type": "code",
   "execution_count": null,
   "id": "5fb19f1f",
   "metadata": {},
   "outputs": [
    {
     "name": "stdout",
     "output_type": "stream",
     "text": [
      "Downloading ACS 5-year data for 2013...\n",
      "  - County 005...\n",
      "  - County 047...\n",
      "  - County 061...\n",
      "  - County 081...\n",
      "  - County 085...\n",
      "Downloading ACS 5-year data for 2014...\n",
      "  - County 005...\n",
      "  - County 047...\n",
      "  - County 061...\n",
      "  - County 081...\n",
      "  - County 085...\n",
      "Downloading ACS 5-year data for 2015...\n",
      "  - County 005...\n",
      "  - County 047...\n",
      "  - County 061...\n",
      "  - County 081...\n",
      "  - County 085...\n",
      "Downloading ACS 5-year data for 2016...\n",
      "  - County 005...\n",
      "  - County 047...\n",
      "  - County 061...\n",
      "  - County 081...\n",
      "  - County 085...\n",
      "Downloading ACS 5-year data for 2017...\n",
      "  - County 005...\n",
      "  - County 047...\n",
      "  - County 061...\n",
      "  - County 081...\n",
      "  - County 085...\n",
      "Downloading ACS 5-year data for 2018...\n",
      "  - County 005...\n",
      "  - County 047...\n",
      "  - County 061...\n",
      "  - County 081...\n",
      "  - County 085...\n",
      "Downloading ACS 5-year data for 2019...\n",
      "  - County 005...\n",
      "  - County 047...\n",
      "  - County 061...\n",
      "  - County 081...\n",
      "  - County 085...\n",
      "Downloading ACS 5-year data for 2020...\n",
      "  - County 005...\n",
      "  - County 047...\n",
      "  - County 061...\n",
      "  - County 081...\n",
      "  - County 085...\n",
      "Downloading ACS 5-year data for 2021...\n",
      "  - County 005...\n",
      "  - County 047...\n",
      "  - County 061...\n",
      "  - County 081...\n",
      "  - County 085...\n",
      "Downloading ACS 5-year data for 2022...\n",
      "  - County 005...\n",
      "  - County 047...\n",
      "  - County 061...\n",
      "  - County 081...\n",
      "  - County 085...\n",
      "Downloading ACS 5-year data for 2023...\n",
      "  - County 005...\n",
      "  - County 047...\n",
      "  - County 061...\n",
      "  - County 081...\n",
      "  - County 085...\n"
     ]
    }
   ],
   "source": [
    "\n",
    "\n",
    "# =========================\n",
    "# 1. Load the block group shapefile\n",
    "# =========================\n",
    "bg_shapefile = os.path.abspath(os.path.join(INGESTION_PATH, 'resources', \"tl_2022_36_bg\"))  # replace with your path\n",
    "gdf_bg = gpd.read_file(bg_shapefile)\n",
    "\n",
    "# Keep only NYC counties\n",
    "nyc_counties = [\"005\", \"047\", \"061\", \"081\", \"085\"]  # Bronx, Kings, Manhattan, Queens, Richmond\n",
    "gdf_bg = gdf_bg[gdf_bg['COUNTYFP'].isin(nyc_counties)].copy()\n",
    "\n",
    "# Block group data is only available from 2012+ in ACS 5-year\n",
    "# For 2010-2011, you'd need to use tract-level data or download from data.census.gov\n",
    "years = list(range(2013, 2024))  # 2012–2023\n",
    "acs_var = ['B01003_001E']  # total population\n",
    "\n",
    "all_data = []\n",
    "\n",
    "# Download data for each NYC county separately to avoid API issues\n",
    "nyc_counties_list = [\"005\", \"047\", \"061\", \"081\", \"085\"]\n",
    "\n",
    "for year in years:\n",
    "    print(f\"Downloading ACS 5-year data for {year}...\")\n",
    "    year_data = []\n",
    "    \n",
    "    for county in nyc_counties_list:\n",
    "        try:\n",
    "            print(f\"  - County {county}...\")\n",
    "            data = censusdata.download(\n",
    "                src='acs5',\n",
    "                year=year,\n",
    "                geo=censusdata.censusgeo([('state', '36'), ('county', county), ('block group', '*')]),\n",
    "                var=acs_var\n",
    "            )\n",
    "            year_data.append(data)\n",
    "        except Exception as e:\n",
    "            print(f\"    Error downloading county {county} for year {year}: {e}\")\n",
    "            continue\n",
    "    \n",
    "    if year_data:\n",
    "        combined = pd.concat(year_data)\n",
    "        combined = combined.reset_index()\n",
    "        combined['year'] = year\n",
    "        all_data.append(combined)\n",
    "\n",
    "# Combine all years\n",
    "df_pop = pd.concat(all_data, ignore_index=True)\n",
    "\n",
    "# Parse GEOID from censusgeo index\n",
    "def geo_to_geoid(geo):\n",
    "    parts = geo.params()  # params is a method, not a property()\n",
    "    return parts[0][1] + parts[1][1] + parts[2][1] + parts[3][1]\n",
    "\n",
    "df_pop['GEOID'] = df_pop['index'].apply(geo_to_geoid)\n",
    "df_pop.rename(columns={'B01003_001E': 'population'}, inplace=True)\n",
    "df_pop = df_pop[['GEOID', 'population', 'year']]\n",
    "\n",
    "# ========================="
   ]
  },
  {
   "cell_type": "code",
   "execution_count": null,
   "id": "96cc3ee1",
   "metadata": {},
   "outputs": [
    {
     "ename": "AttributeError",
     "evalue": "module 'ingestion.config' has no attribute 'LOCAL_OUTPUT_DIR'",
     "output_type": "error",
     "traceback": [
      "\u001b[31m---------------------------------------------------------------------------\u001b[39m",
      "\u001b[31mAttributeError\u001b[39m                            Traceback (most recent call last)",
      "\u001b[36mCell\u001b[39m\u001b[36m \u001b[39m\u001b[32mIn[71]\u001b[39m\u001b[32m, line 1\u001b[39m\n\u001b[32m----> \u001b[39m\u001b[32m1\u001b[39m os.path.abspath(os.path.join(\u001b[43mconfig\u001b[49m\u001b[43m.\u001b[49m\u001b[43mLOCAL_OUTPUT_DIR\u001b[49m, \u001b[33m\"\u001b[39m\u001b[33macs_population\u001b[39m\u001b[33m\"\u001b[39m,\u001b[33m\"\u001b[39m\u001b[33mlanding\u001b[39m\u001b[33m\"\u001b[39m))\n",
      "\u001b[31mAttributeError\u001b[39m: module 'ingestion.config' has no attribute 'LOCAL_OUTPUT_DIR'"
     ]
    }
   ],
   "source": [
    " os.path.abspath(os.path.join(config.LOCAL_OUTPUT_DIR, \"acs_population\",\"landing\"))"
   ]
  },
  {
   "cell_type": "code",
   "execution_count": null,
   "id": "79563508",
   "metadata": {},
   "outputs": [],
   "source": [
    "LOCAL_OUTPUT_DIR"
   ]
  },
  {
   "cell_type": "code",
   "execution_count": null,
   "id": "435f0632",
   "metadata": {},
   "outputs": [
    {
     "data": {
      "text/html": [
       "<div>\n",
       "<style scoped>\n",
       "    .dataframe tbody tr th:only-of-type {\n",
       "        vertical-align: middle;\n",
       "    }\n",
       "\n",
       "    .dataframe tbody tr th {\n",
       "        vertical-align: top;\n",
       "    }\n",
       "\n",
       "    .dataframe thead th {\n",
       "        text-align: right;\n",
       "    }\n",
       "</style>\n",
       "<table border=\"1\" class=\"dataframe\">\n",
       "  <thead>\n",
       "    <tr style=\"text-align: right;\">\n",
       "      <th></th>\n",
       "      <th>GEOID</th>\n",
       "      <th>population</th>\n",
       "      <th>year</th>\n",
       "    </tr>\n",
       "  </thead>\n",
       "  <tbody>\n",
       "    <tr>\n",
       "      <th>0</th>\n",
       "      <td>360050023002</td>\n",
       "      <td>733</td>\n",
       "      <td>2013</td>\n",
       "    </tr>\n",
       "    <tr>\n",
       "      <th>1</th>\n",
       "      <td>360050039004</td>\n",
       "      <td>1042</td>\n",
       "      <td>2013</td>\n",
       "    </tr>\n",
       "    <tr>\n",
       "      <th>2</th>\n",
       "      <td>360050054002</td>\n",
       "      <td>3138</td>\n",
       "      <td>2013</td>\n",
       "    </tr>\n",
       "    <tr>\n",
       "      <th>3</th>\n",
       "      <td>360050062003</td>\n",
       "      <td>1469</td>\n",
       "      <td>2013</td>\n",
       "    </tr>\n",
       "    <tr>\n",
       "      <th>4</th>\n",
       "      <td>360050068001</td>\n",
       "      <td>1726</td>\n",
       "      <td>2013</td>\n",
       "    </tr>\n",
       "    <tr>\n",
       "      <th>...</th>\n",
       "      <td>...</td>\n",
       "      <td>...</td>\n",
       "      <td>...</td>\n",
       "    </tr>\n",
       "    <tr>\n",
       "      <th>72674</th>\n",
       "      <td>360850319022</td>\n",
       "      <td>1779</td>\n",
       "      <td>2023</td>\n",
       "    </tr>\n",
       "    <tr>\n",
       "      <th>72675</th>\n",
       "      <td>360850319023</td>\n",
       "      <td>1659</td>\n",
       "      <td>2023</td>\n",
       "    </tr>\n",
       "    <tr>\n",
       "      <th>72676</th>\n",
       "      <td>360850323000</td>\n",
       "      <td>0</td>\n",
       "      <td>2023</td>\n",
       "    </tr>\n",
       "    <tr>\n",
       "      <th>72677</th>\n",
       "      <td>360850323001</td>\n",
       "      <td>1078</td>\n",
       "      <td>2023</td>\n",
       "    </tr>\n",
       "    <tr>\n",
       "      <th>72678</th>\n",
       "      <td>360859901000</td>\n",
       "      <td>0</td>\n",
       "      <td>2023</td>\n",
       "    </tr>\n",
       "  </tbody>\n",
       "</table>\n",
       "<p>72679 rows × 3 columns</p>\n",
       "</div>"
      ],
      "text/plain": [
       "              GEOID  population  year\n",
       "0      360050023002         733  2013\n",
       "1      360050039004        1042  2013\n",
       "2      360050054002        3138  2013\n",
       "3      360050062003        1469  2013\n",
       "4      360050068001        1726  2013\n",
       "...             ...         ...   ...\n",
       "72674  360850319022        1779  2023\n",
       "72675  360850319023        1659  2023\n",
       "72676  360850323000           0  2023\n",
       "72677  360850323001        1078  2023\n",
       "72678  360859901000           0  2023\n",
       "\n",
       "[72679 rows x 3 columns]"
      ]
     },
     "execution_count": 68,
     "metadata": {},
     "output_type": "execute_result"
    }
   ],
   "source": [
    "df_pop.to_csv()"
   ]
  },
  {
   "cell_type": "code",
   "execution_count": null,
   "id": "ff71b87e",
   "metadata": {},
   "outputs": [],
   "source": []
  }
 ],
 "metadata": {
  "kernelspec": {
   "display_name": ".venv",
   "language": "python",
   "name": "python3"
  },
  "language_info": {
   "codemirror_mode": {
    "name": "ipython",
    "version": 3
   },
   "file_extension": ".py",
   "mimetype": "text/x-python",
   "name": "python",
   "nbconvert_exporter": "python",
   "pygments_lexer": "ipython3",
   "version": "3.13.0"
  }
 },
 "nbformat": 4,
 "nbformat_minor": 5
}
