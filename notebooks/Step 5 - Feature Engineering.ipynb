{
  "cells": [
    {
      "cell_type": "markdown",
      "metadata": {},
      "source": [
        "# Step 5: Feature Engineering for NYC 311 Modeling\n",
        "\n",
        "This notebook demonstrates the complete feature engineering pipeline for three modeling tracks:\n",
        "1. **Forecast** - Time-series forecasting of ticket arrivals\n",
        "2. **Triage** - Ticket prioritization at creation time\n",
        "3. **Duration** - Survival modeling for time-to-close\n",
        "\n",
        "All features are **leakage-safe** and use **H3-based spatial grouping**.\n"
      ]
    },
    {
      "cell_type": "code",
      "execution_count": 2,
      "metadata": {},
      "outputs": [
        {
          "ename": "ImportError",
          "evalue": "attempted relative import with no known parent package",
          "output_type": "error",
          "traceback": [
            "\u001b[31m---------------------------------------------------------------------------\u001b[39m",
            "\u001b[31mImportError\u001b[39m                               Traceback (most recent call last)",
            "\u001b[36mCell\u001b[39m\u001b[36m \u001b[39m\u001b[32mIn[2]\u001b[39m\u001b[32m, line 13\u001b[39m\n\u001b[32m     10\u001b[39m \u001b[38;5;28;01mimport\u001b[39;00m\u001b[38;5;250m \u001b[39m\u001b[34;01mseaborn\u001b[39;00m\u001b[38;5;250m \u001b[39m\u001b[38;5;28;01mas\u001b[39;00m\u001b[38;5;250m \u001b[39m\u001b[34;01msns\u001b[39;00m\n\u001b[32m     11\u001b[39m \u001b[38;5;28;01mfrom\u001b[39;00m\u001b[38;5;250m \u001b[39m\u001b[34;01mpathlib\u001b[39;00m\u001b[38;5;250m \u001b[39m\u001b[38;5;28;01mimport\u001b[39;00m Path\n\u001b[32m---> \u001b[39m\u001b[32m13\u001b[39m \u001b[38;5;28;01mfrom\u001b[39;00m\u001b[38;5;250m \u001b[39m\u001b[34;01mfeatures\u001b[39;00m\u001b[38;5;250m \u001b[39m\u001b[38;5;28;01mimport\u001b[39;00m (\n\u001b[32m     14\u001b[39m     add_h3_keys,\n\u001b[32m     15\u001b[39m     build_forecast_panel,\n\u001b[32m     16\u001b[39m     build_triage_features,\n\u001b[32m     17\u001b[39m     build_duration_survival_labels,\n\u001b[32m     18\u001b[39m     build_duration_features\n\u001b[32m     19\u001b[39m )\n\u001b[32m     21\u001b[39m pd.set_option(\u001b[33m'\u001b[39m\u001b[33mdisplay.max_columns\u001b[39m\u001b[33m'\u001b[39m, \u001b[32m50\u001b[39m)\n\u001b[32m     22\u001b[39m sns.set_style(\u001b[33m'\u001b[39m\u001b[33mwhitegrid\u001b[39m\u001b[33m'\u001b[39m)\n",
            "\u001b[36mFile \u001b[39m\u001b[32mc:\\Users\\gorav\\GitHub\\nyc-311-service-requests\\notebooks\\../src\\features.py:13\u001b[39m\n\u001b[32m     10\u001b[39m \u001b[38;5;28;01mfrom\u001b[39;00m\u001b[38;5;250m \u001b[39m\u001b[34;01mscipy\u001b[39;00m\u001b[34;01m.\u001b[39;00m\u001b[34;01msparse\u001b[39;00m\u001b[38;5;250m \u001b[39m\u001b[38;5;28;01mimport\u001b[39;00m csr_matrix\n\u001b[32m     11\u001b[39m \u001b[38;5;28;01mfrom\u001b[39;00m\u001b[38;5;250m \u001b[39m\u001b[34;01msklearn\u001b[39;00m\u001b[34;01m.\u001b[39;00m\u001b[34;01mfeature_extraction\u001b[39;00m\u001b[34;01m.\u001b[39;00m\u001b[34;01mtext\u001b[39;00m\u001b[38;5;250m \u001b[39m\u001b[38;5;28;01mimport\u001b[39;00m TfidfVectorizer\n\u001b[32m---> \u001b[39m\u001b[32m13\u001b[39m \u001b[38;5;28;01mfrom\u001b[39;00m\u001b[38;5;250m \u001b[39m\u001b[34;01m.\u001b[39;00m\u001b[34;01mutils\u001b[39;00m\u001b[38;5;250m \u001b[39m\u001b[38;5;28;01mimport\u001b[39;00m (\n\u001b[32m     14\u001b[39m     validate_lat_lon,\n\u001b[32m     15\u001b[39m     lat_lon_to_h3,\n\u001b[32m     16\u001b[39m     expand_k_ring,\n\u001b[32m     17\u001b[39m     compute_rolling_as_of,\n\u001b[32m     18\u001b[39m     compute_lag_features,\n\u001b[32m     19\u001b[39m     compute_days_since_last,\n\u001b[32m     20\u001b[39m     make_descriptor_tfidf,\n\u001b[32m     21\u001b[39m     merge_asof_by_group,\n\u001b[32m     22\u001b[39m     compute_time_based_rolling_counts,\n\u001b[32m     23\u001b[39m     add_weather_derived_features,\n\u001b[32m     24\u001b[39m     compute_rain_rolling\n\u001b[32m     25\u001b[39m )\n\u001b[32m     28\u001b[39m \u001b[38;5;28;01mdef\u001b[39;00m\u001b[38;5;250m \u001b[39m\u001b[34madd_h3_keys\u001b[39m(df: pd.DataFrame, \n\u001b[32m     29\u001b[39m                 lat: \u001b[38;5;28mstr\u001b[39m = \u001b[33m'\u001b[39m\u001b[33mlatitude\u001b[39m\u001b[33m'\u001b[39m, \n\u001b[32m     30\u001b[39m                 lon: \u001b[38;5;28mstr\u001b[39m = \u001b[33m'\u001b[39m\u001b[33mlongitude\u001b[39m\u001b[33m'\u001b[39m, \n\u001b[32m     31\u001b[39m                 res: \u001b[38;5;28mint\u001b[39m = \u001b[32m8\u001b[39m) -> pd.DataFrame:\n\u001b[32m     32\u001b[39m \u001b[38;5;250m    \u001b[39m\u001b[33;03m\"\"\"\u001b[39;00m\n\u001b[32m     33\u001b[39m \u001b[33;03m    Add H3 hex keys and temporal features to DataFrame.\u001b[39;00m\n\u001b[32m     34\u001b[39m \u001b[33;03m    \u001b[39;00m\n\u001b[32m   (...)\u001b[39m\u001b[32m     42\u001b[39m \u001b[33;03m        DataFrame with added columns: hex, day, dow, hour, month\u001b[39;00m\n\u001b[32m     43\u001b[39m \u001b[33;03m    \"\"\"\u001b[39;00m\n",
            "\u001b[31mImportError\u001b[39m: attempted relative import with no known parent package"
          ]
        }
      ],
      "source": [
        "import os\n",
        "import sys\n",
        "\n",
        "PACKAGE_PATH = os.path.abspath(os.path.join(os.getcwd(), '..'))\n",
        "sys.path.insert(0, PACKAGE_PATH)\n",
        "\n",
        "import pandas as pd\n",
        "import numpy as np\n",
        "import matplotlib.pyplot as plt\n",
        "import seaborn as sns\n",
        "from pathlib import Path\n",
        "\n",
        "from features import (\n",
        "    add_h3_keys,\n",
        "    build_forecast_panel,\n",
        "    build_triage_features,\n",
        "    build_duration_survival_labels,\n",
        "    build_duration_features\n",
        ")\n",
        "\n",
        "pd.set_option('display.max_columns', 50)\n",
        "sns.set_style('whitegrid')\n",
        "\n",
        "print(\"✓ Imports successful\")\n"
      ]
    },
    {
      "cell_type": "markdown",
      "metadata": {},
      "source": [
        "## Usage Instructions\n",
        "\n",
        "This notebook uses the feature engineering module from `src/features.py`.\n",
        "\n",
        "To run this notebook:\n",
        "1. Ensure you have data in `data/landing/311-service-requests/`\n",
        "2. Run `pip install -r requirements.txt` to install dependencies\n",
        "3. Execute cells sequentially\n",
        "\n",
        "For detailed documentation, see `src/FEATURE_ENGINEERING_README.md`\n"
      ]
    }
  ],
  "metadata": {
    "kernelspec": {
      "display_name": ".venv",
      "language": "python",
      "name": "python3"
    },
    "language_info": {
      "codemirror_mode": {
        "name": "ipython",
        "version": 3
      },
      "file_extension": ".py",
      "mimetype": "text/x-python",
      "name": "python",
      "nbconvert_exporter": "python",
      "pygments_lexer": "ipython3",
      "version": "3.13.0"
    }
  },
  "nbformat": 4,
  "nbformat_minor": 2
}
