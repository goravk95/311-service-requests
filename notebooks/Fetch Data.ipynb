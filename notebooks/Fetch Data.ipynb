{
 "cells": [
  {
   "cell_type": "markdown",
   "id": "ef89e6b3",
   "metadata": {},
   "source": [
    "# Load Data\n",
    "\n"
   ]
  },
  {
   "cell_type": "markdown",
   "id": "a75a5e08",
   "metadata": {},
   "source": [
    "### Set env variables\n",
    "\n",
    "assumes that `SOCRATA_APP_TOKEN`, `SOCRATA_API_KEY_ID`, and `SOCRATA_API_KEY_SECRET` are set in `.env`"
   ]
  },
  {
   "cell_type": "code",
   "execution_count": 1,
   "id": "4da8cb9f",
   "metadata": {},
   "outputs": [
    {
     "data": {
      "text/plain": [
       "True"
      ]
     },
     "execution_count": 1,
     "metadata": {},
     "output_type": "execute_result"
    }
   ],
   "source": [
    "from dotenv import load_dotenv\n",
    "\n",
    "load_dotenv()\n"
   ]
  },
  {
   "cell_type": "markdown",
   "id": "4f3812f3",
   "metadata": {},
   "source": [
    "### Load Packages"
   ]
  },
  {
   "cell_type": "code",
   "execution_count": 2,
   "id": "f22fc662",
   "metadata": {},
   "outputs": [],
   "source": [
    "import os\n",
    "import sys\n",
    "\n",
    "INGESTION_PATH = os.path.abspath(os.path.join(os.getcwd(), '..', 'src'))\n",
    "sys.path.insert(0, INGESTION_PATH)\n",
    "\n",
    "from ingestion import fetch\n",
    "from ingestion import config\n",
    "\n"
   ]
  },
  {
   "cell_type": "markdown",
   "id": "7f2d7ce7",
   "metadata": {},
   "source": [
    "### Full Pull of Data\n",
    "Takes about 48 minutes"
   ]
  },
  {
   "cell_type": "code",
   "execution_count": 3,
   "id": "3844ff3a",
   "metadata": {},
   "outputs": [],
   "source": [
    "# await fetch.fetch_all_data(save = True)"
   ]
  },
  {
   "cell_type": "markdown",
   "id": "f93575a8",
   "metadata": {},
   "source": [
    "### Incremental Pull of Data"
   ]
  },
  {
   "cell_type": "code",
   "execution_count": 4,
   "id": "28a346d2",
   "metadata": {},
   "outputs": [],
   "source": [
    "# await fetch.fetch_current_month(save = True)"
   ]
  },
  {
   "cell_type": "markdown",
   "id": "8ede570a",
   "metadata": {},
   "source": [
    "### Function"
   ]
  },
  {
   "cell_type": "code",
   "execution_count": 5,
   "id": "4aee89d1",
   "metadata": {},
   "outputs": [],
   "source": [
    "# def _create_socrata_client(api_endpoint, app_token, username, password):\n",
    "#     \"\"\"\"\n",
    "    \n",
    "#     \"\"\"\n",
    "#     client = Socrata(api_endpoint, app_token=app_token, username=username, password=password, timeout = 600)\n",
    "#     return client\n"
   ]
  },
  {
   "cell_type": "code",
   "execution_count": 6,
   "id": "332cca80",
   "metadata": {},
   "outputs": [],
   "source": [
    "# def _fetch_and_save_month_sync(year: int, month: int):\n",
    "#     \"\"\"Runs in a worker thread. Creates its own Socrata client (no sharing).\"\"\"\n",
    "#     # per-thread client\n",
    "#     # client = Socrata(\"data.cityofnewyork.us\", APP_TOKEN)\n",
    "#     client = _create_socrata_client(api_endpoint=\"data.cityofnewyork.us\", app_token=APP_TOKEN, username=API_KEY_ID, password=API_KEY_SECRET)\n",
    "\n",
    "#     start = f\"{year}-{month:02d}-01T00:00:00\"\n",
    "#     if month == 12:\n",
    "#         end = f\"{year+1}-01-01T00:00:00\"\n",
    "#     else:\n",
    "#         end = f\"{year}-{month+1:02d}-01T00:00:00\"\n",
    "\n",
    "#     where_clause = f\"{date_column} >= '{start}' AND {date_column} < '{end}'\"\n",
    "#     print(f\"Fetching {year}-{month:02d} ...\")\n",
    "\n",
    "#     # client.get_all handles paging internally (blocking)\n",
    "#     results = list(client.get_all(dataset_id, where=where_clause))\n",
    "\n",
    "#     if results:\n",
    "#         df = pd.DataFrame.from_records(results)\n",
    "#         # write to year/month partition\n",
    "#         file_path = os.path.join(output_dir, f\"year={year}/month={month:02d}/part-0000.parquet\")\n",
    "#         os.makedirs(os.path.dirname(file_path), exist_ok=True)\n",
    "#         # choose your engine; fastparquet avoids some pyarrow quirks in notebooks\n",
    "#         df.to_parquet(file_path, index=False, engine=\"fastparquet\")\n",
    "#         print(f\"Saved {file_path} ({len(df):,} rows)\")\n",
    "\n",
    "#         # clean up memory\n",
    "#         del df\n",
    "#         del results\n",
    "#         gc.collect()\n",
    "#     else:\n",
    "#         print(f\"No data for {year}-{month:02d}\")\n",
    "\n",
    "# async def fetch_and_save(year: int, month: int, sem: asyncio.Semaphore):\n",
    "#     async with sem:\n",
    "#         # run the sync worker in a thread\n",
    "#         await asyncio.to_thread(_fetch_and_save_month_sync, year, month)\n",
    "\n",
    "# async def pull_latest_data():\n",
    "#     sem = asyncio.Semaphore(MAX_CONCURRENCY)\n",
    "#     tasks = [fetch_and_save(y, m, sem) for y in years for m in months]\n",
    "#     await asyncio.gather(*tasks)\n"
   ]
  },
  {
   "cell_type": "markdown",
   "id": "5fe330b5",
   "metadata": {},
   "source": [
    "### Apply Function"
   ]
  },
  {
   "cell_type": "code",
   "execution_count": 7,
   "id": "decc57f0",
   "metadata": {},
   "outputs": [],
   "source": [
    "# dataset_id = \"erm2-nwe9\"\n",
    "# date_column = \"created_date\"\n",
    "# output_dir = \"../data/311-service-requests\"\n",
    "# os.makedirs(output_dir, exist_ok=True)\n",
    "\n",
    "# years = range(2010, 2026)   # e.g., 2010–2011\n",
    "# months = range(1, 13)       # 1..12\n",
    "# MAX_CONCURRENCY = 20         # tune for your machine / API limits"
   ]
  },
  {
   "cell_type": "code",
   "execution_count": 8,
   "id": "6ccb07e7",
   "metadata": {},
   "outputs": [],
   "source": [
    "# await pull_latest_data()"
   ]
  },
  {
   "cell_type": "markdown",
   "id": "3f465db8",
   "metadata": {},
   "source": [
    "### Load Data"
   ]
  },
  {
   "cell_type": "code",
   "execution_count": 9,
   "id": "63f22a80",
   "metadata": {},
   "outputs": [],
   "source": [
    "import polars as pl\n",
    "import numpy as np\n",
    "from pathlib import Path\n"
   ]
  },
  {
   "cell_type": "markdown",
   "id": "1b3cae60",
   "metadata": {},
   "source": [
    "## Exploratory Data Analysis with Polars\n"
   ]
  },
  {
   "cell_type": "markdown",
   "id": "8c90af79",
   "metadata": {},
   "source": [
    "### Load all parquet files using Polars lazy API\n"
   ]
  },
  {
   "cell_type": "code",
   "execution_count": 10,
   "id": "e5e7dd46",
   "metadata": {},
   "outputs": [],
   "source": [
    "data_path = Path(\"../data/landing/311-service-requests\")\n",
    "\n",
    "lf = pl.scan_parquet(\n",
    "    str(data_path / \"**/*.parquet\"),\n",
    "    hive_partitioning=True,\n",
    "    # schema=config.SCHEMA\n",
    ")"
   ]
  },
  {
   "cell_type": "markdown",
   "id": "455aff8e",
   "metadata": {},
   "source": [
    "### Basic Information\n"
   ]
  },
  {
   "cell_type": "code",
   "execution_count": 11,
   "id": "8fe7cd67",
   "metadata": {},
   "outputs": [
    {
     "name": "stdout",
     "output_type": "stream",
     "text": [
      "Dataset Shape:\n",
      "Rows: 41,188,398\n",
      "Columns: 43\n",
      "\n",
      "Column Names and Types:\n",
      "  unique_key: String\n",
      "  created_date: Datetime(time_unit='ms', time_zone=None)\n",
      "  closed_date: Datetime(time_unit='ms', time_zone=None)\n",
      "  agency: String\n",
      "  agency_name: String\n",
      "  complaint_type: String\n",
      "  descriptor: String\n",
      "  location_type: String\n",
      "  incident_zip: String\n",
      "  incident_address: String\n",
      "  street_name: String\n",
      "  cross_street_1: String\n",
      "  cross_street_2: String\n",
      "  intersection_street_1: String\n",
      "  intersection_street_2: String\n",
      "  address_type: String\n",
      "  city: String\n",
      "  landmark: String\n",
      "  facility_type: String\n",
      "  status: String\n",
      "  due_date: Datetime(time_unit='ms', time_zone=None)\n",
      "  resolution_description: String\n",
      "  resolution_action_updated_date: Datetime(time_unit='ms', time_zone=None)\n",
      "  community_board: String\n",
      "  bbl: String\n",
      "  borough: String\n",
      "  x_coordinate_state_plane: Float64\n",
      "  y_coordinate_state_plane: Float64\n",
      "  open_data_channel_type: String\n",
      "  park_facility_name: String\n",
      "  park_borough: String\n",
      "  vehicle_type: String\n",
      "  taxi_company_borough: String\n",
      "  taxi_pick_up_location: String\n",
      "  bridge_highway_name: String\n",
      "  bridge_highway_direction: String\n",
      "  road_ramp: String\n",
      "  bridge_highway_segment: String\n",
      "  latitude: Float64\n",
      "  longitude: Float64\n",
      "  location: String\n",
      "  year: Int64\n",
      "  month: Int64\n"
     ]
    }
   ],
   "source": [
    "# Get shape and basic info\n",
    "print(\"Dataset Shape:\")\n",
    "print(f\"Rows: {lf.select(pl.len()).collect().item():,}\")\n",
    "print(f\"Columns: {len(lf.collect_schema())}\")\n",
    "print(f\"\\nColumn Names and Types:\")\n",
    "for col, dtype in lf.collect_schema().items():\n",
    "    print(f\"  {col}: {dtype}\")\n"
   ]
  },
  {
   "cell_type": "markdown",
   "id": "a63512ad",
   "metadata": {},
   "source": [
    "### Preview the Data\n"
   ]
  },
  {
   "cell_type": "code",
   "execution_count": 12,
   "id": "f85f13fa",
   "metadata": {},
   "outputs": [
    {
     "data": {
      "text/html": [
       "<div><style>\n",
       ".dataframe > thead > tr,\n",
       ".dataframe > tbody > tr {\n",
       "  text-align: right;\n",
       "  white-space: pre-wrap;\n",
       "}\n",
       "</style>\n",
       "<small>shape: (10, 43)</small><table border=\"1\" class=\"dataframe\"><thead><tr><th>unique_key</th><th>created_date</th><th>closed_date</th><th>agency</th><th>agency_name</th><th>complaint_type</th><th>descriptor</th><th>location_type</th><th>incident_zip</th><th>incident_address</th><th>street_name</th><th>cross_street_1</th><th>cross_street_2</th><th>intersection_street_1</th><th>intersection_street_2</th><th>address_type</th><th>city</th><th>landmark</th><th>facility_type</th><th>status</th><th>due_date</th><th>resolution_description</th><th>resolution_action_updated_date</th><th>community_board</th><th>bbl</th><th>borough</th><th>x_coordinate_state_plane</th><th>y_coordinate_state_plane</th><th>open_data_channel_type</th><th>park_facility_name</th><th>park_borough</th><th>vehicle_type</th><th>taxi_company_borough</th><th>taxi_pick_up_location</th><th>bridge_highway_name</th><th>bridge_highway_direction</th><th>road_ramp</th><th>bridge_highway_segment</th><th>latitude</th><th>longitude</th><th>location</th><th>year</th><th>month</th></tr><tr><td>str</td><td>datetime[ms]</td><td>datetime[ms]</td><td>str</td><td>str</td><td>str</td><td>str</td><td>str</td><td>str</td><td>str</td><td>str</td><td>str</td><td>str</td><td>str</td><td>str</td><td>str</td><td>str</td><td>str</td><td>str</td><td>str</td><td>datetime[ms]</td><td>str</td><td>datetime[ms]</td><td>str</td><td>str</td><td>str</td><td>f64</td><td>f64</td><td>str</td><td>str</td><td>str</td><td>str</td><td>str</td><td>str</td><td>str</td><td>str</td><td>str</td><td>str</td><td>f64</td><td>f64</td><td>str</td><td>i64</td><td>i64</td></tr></thead><tbody><tr><td>&quot;15630099&quot;</td><td>2010-01-01 00:00:00</td><td>2010-01-01 00:00:00</td><td>&quot;HPD&quot;</td><td>&quot;Department of Housing Preserva…</td><td>&quot;HEATING&quot;</td><td>&quot;HEAT&quot;</td><td>&quot;RESIDENTIAL BUILDING&quot;</td><td>&quot;10466&quot;</td><td>&quot;1405 EAST 233 STREET&quot;</td><td>&quot;EAST 233 STREET&quot;</td><td>&quot;SETON AVENUE&quot;</td><td>&quot;AMUNDSON AVENUE&quot;</td><td>null</td><td>null</td><td>&quot;ADDRESS&quot;</td><td>&quot;BRONX&quot;</td><td>null</td><td>&quot;N/A&quot;</td><td>&quot;Closed&quot;</td><td>null</td><td>&quot;The Department of Housing Pres…</td><td>2010-01-01 00:00:00</td><td>&quot;0 Unspecified&quot;</td><td>&quot;2049610077&quot;</td><td>&quot;Unspecified&quot;</td><td>1.029542e6</td><td>263206.0</td><td>&quot;UNKNOWN&quot;</td><td>&quot;Unspecified&quot;</td><td>&quot;Unspecified&quot;</td><td>null</td><td>null</td><td>null</td><td>null</td><td>null</td><td>null</td><td>null</td><td>40.888997</td><td>-73.836192</td><td>&quot;{&#x27;latitude&#x27;: &#x27;40.8889973845275…</td><td>2010</td><td>1</td></tr><tr><td>&quot;15630431&quot;</td><td>2010-01-01 00:00:00</td><td>2010-01-02 00:00:00</td><td>&quot;HPD&quot;</td><td>&quot;Department of Housing Preserva…</td><td>&quot;HEATING&quot;</td><td>&quot;HEAT&quot;</td><td>&quot;RESIDENTIAL BUILDING&quot;</td><td>&quot;11226&quot;</td><td>&quot;22 MARTENSE STREET&quot;</td><td>&quot;MARTENSE STREET&quot;</td><td>&quot;FLATBUSH AVENUE&quot;</td><td>&quot;MARTENSE COURT&quot;</td><td>null</td><td>null</td><td>&quot;ADDRESS&quot;</td><td>&quot;BROOKLYN&quot;</td><td>null</td><td>&quot;N/A&quot;</td><td>&quot;Closed&quot;</td><td>null</td><td>&quot;More than one complaint was re…</td><td>2010-01-02 00:00:00</td><td>&quot;0 Unspecified&quot;</td><td>&quot;3050890015&quot;</td><td>&quot;Unspecified&quot;</td><td>995823.0</td><td>176542.0</td><td>&quot;UNKNOWN&quot;</td><td>&quot;Unspecified&quot;</td><td>&quot;Unspecified&quot;</td><td>null</td><td>null</td><td>null</td><td>null</td><td>null</td><td>null</td><td>null</td><td>40.651236</td><td>-73.958293</td><td>&quot;{&#x27;latitude&#x27;: &#x27;40.6512361161984…</td><td>2010</td><td>1</td></tr><tr><td>&quot;15630315&quot;</td><td>2010-01-01 00:00:00</td><td>2010-01-16 00:00:00</td><td>&quot;HPD&quot;</td><td>&quot;Department of Housing Preserva…</td><td>&quot;PLUMBING&quot;</td><td>&quot;BASIN/SINK&quot;</td><td>&quot;RESIDENTIAL BUILDING&quot;</td><td>&quot;11106&quot;</td><td>&quot;31-54 29 STREET&quot;</td><td>&quot;29 STREET&quot;</td><td>&quot;31 AVENUE&quot;</td><td>&quot;BROADWAY&quot;</td><td>null</td><td>null</td><td>&quot;ADDRESS&quot;</td><td>&quot;ASTORIA&quot;</td><td>null</td><td>&quot;N/A&quot;</td><td>&quot;Closed&quot;</td><td>null</td><td>&quot;The Department of Housing Pres…</td><td>2010-01-16 00:00:00</td><td>&quot;0 Unspecified&quot;</td><td>&quot;4005797501&quot;</td><td>&quot;Unspecified&quot;</td><td>1.004767e6</td><td>217644.0</td><td>&quot;UNKNOWN&quot;</td><td>&quot;Unspecified&quot;</td><td>&quot;Unspecified&quot;</td><td>null</td><td>null</td><td>null</td><td>null</td><td>null</td><td>null</td><td>null</td><td>40.764035</td><td>-73.925935</td><td>&quot;{&#x27;latitude&#x27;: &#x27;40.7640351269140…</td><td>2010</td><td>1</td></tr><tr><td>&quot;15631513&quot;</td><td>2010-01-01 00:00:00</td><td>2010-01-02 00:00:00</td><td>&quot;HPD&quot;</td><td>&quot;Department of Housing Preserva…</td><td>&quot;HEATING&quot;</td><td>&quot;HEAT&quot;</td><td>&quot;RESIDENTIAL BUILDING&quot;</td><td>&quot;11210&quot;</td><td>&quot;3103 FOSTER AVENUE&quot;</td><td>&quot;FOSTER AVENUE&quot;</td><td>&quot;NOSTRAND AVENUE&quot;</td><td>&quot;NEW YORK AVENUE&quot;</td><td>null</td><td>null</td><td>&quot;ADDRESS&quot;</td><td>&quot;BROOKLYN&quot;</td><td>null</td><td>&quot;N/A&quot;</td><td>&quot;Closed&quot;</td><td>null</td><td>&quot;More than one complaint was re…</td><td>2010-01-02 00:00:00</td><td>&quot;0 Unspecified&quot;</td><td>&quot;3049640047&quot;</td><td>&quot;Unspecified&quot;</td><td>998974.0</td><td>171975.0</td><td>&quot;UNKNOWN&quot;</td><td>&quot;Unspecified&quot;</td><td>&quot;Unspecified&quot;</td><td>null</td><td>null</td><td>null</td><td>null</td><td>null</td><td>null</td><td>null</td><td>40.638696</td><td>-73.946947</td><td>&quot;{&#x27;latitude&#x27;: &#x27;40.6386960094759…</td><td>2010</td><td>1</td></tr><tr><td>&quot;15629899&quot;</td><td>2010-01-01 00:00:00</td><td>2010-01-16 00:00:00</td><td>&quot;HPD&quot;</td><td>&quot;Department of Housing Preserva…</td><td>&quot;PLUMBING&quot;</td><td>&quot;WATER-LEAKS&quot;</td><td>&quot;RESIDENTIAL BUILDING&quot;</td><td>&quot;11106&quot;</td><td>&quot;31-54 29 STREET&quot;</td><td>&quot;29 STREET&quot;</td><td>&quot;31 AVENUE&quot;</td><td>&quot;BROADWAY&quot;</td><td>null</td><td>null</td><td>&quot;ADDRESS&quot;</td><td>&quot;ASTORIA&quot;</td><td>null</td><td>&quot;N/A&quot;</td><td>&quot;Closed&quot;</td><td>null</td><td>&quot;The Department of Housing Pres…</td><td>2010-01-16 00:00:00</td><td>&quot;0 Unspecified&quot;</td><td>&quot;4005797501&quot;</td><td>&quot;Unspecified&quot;</td><td>1.004767e6</td><td>217644.0</td><td>&quot;UNKNOWN&quot;</td><td>&quot;Unspecified&quot;</td><td>&quot;Unspecified&quot;</td><td>null</td><td>null</td><td>null</td><td>null</td><td>null</td><td>null</td><td>null</td><td>40.764035</td><td>-73.925935</td><td>&quot;{&#x27;latitude&#x27;: &#x27;40.7640351269140…</td><td>2010</td><td>1</td></tr><tr><td>&quot;15631565&quot;</td><td>2010-01-01 00:00:00</td><td>2010-01-05 00:00:00</td><td>&quot;HPD&quot;</td><td>&quot;Department of Housing Preserva…</td><td>&quot;HEATING&quot;</td><td>&quot;HEAT&quot;</td><td>&quot;RESIDENTIAL BUILDING&quot;</td><td>&quot;11213&quot;</td><td>&quot;1510 CARROLL STREET&quot;</td><td>&quot;CARROLL STREET&quot;</td><td>&quot;ALBANY AVENUE&quot;</td><td>&quot;TROY AVENUE&quot;</td><td>null</td><td>null</td><td>&quot;ADDRESS&quot;</td><td>&quot;BROOKLYN&quot;</td><td>null</td><td>&quot;N/A&quot;</td><td>&quot;Closed&quot;</td><td>null</td><td>&quot;The Department of Housing Pres…</td><td>2010-01-05 00:00:00</td><td>&quot;0 Unspecified&quot;</td><td>&quot;3014120025&quot;</td><td>&quot;Unspecified&quot;</td><td>1.001429e6</td><td>182100.0</td><td>&quot;UNKNOWN&quot;</td><td>&quot;Unspecified&quot;</td><td>&quot;Unspecified&quot;</td><td>null</td><td>null</td><td>null</td><td>null</td><td>null</td><td>null</td><td>null</td><td>40.666482</td><td>-73.938076</td><td>&quot;{&#x27;latitude&#x27;: &#x27;40.6664824995760…</td><td>2010</td><td>1</td></tr><tr><td>&quot;15629728&quot;</td><td>2010-01-01 00:00:00</td><td>2010-01-12 00:00:00</td><td>&quot;HPD&quot;</td><td>&quot;Department of Housing Preserva…</td><td>&quot;HEATING&quot;</td><td>&quot;HEAT&quot;</td><td>&quot;RESIDENTIAL BUILDING&quot;</td><td>&quot;11210&quot;</td><td>&quot;3101 FOSTER AVENUE&quot;</td><td>&quot;FOSTER AVENUE&quot;</td><td>&quot;NOSTRAND AVENUE&quot;</td><td>&quot;NEW YORK AVENUE&quot;</td><td>null</td><td>null</td><td>&quot;ADDRESS&quot;</td><td>&quot;BROOKLYN&quot;</td><td>null</td><td>&quot;N/A&quot;</td><td>&quot;Closed&quot;</td><td>null</td><td>&quot;The Department of Housing Pres…</td><td>2010-01-12 00:00:00</td><td>&quot;0 Unspecified&quot;</td><td>&quot;3049640047&quot;</td><td>&quot;Unspecified&quot;</td><td>998968.0</td><td>171975.0</td><td>&quot;UNKNOWN&quot;</td><td>&quot;Unspecified&quot;</td><td>&quot;Unspecified&quot;</td><td>null</td><td>null</td><td>null</td><td>null</td><td>null</td><td>null</td><td>null</td><td>40.638696</td><td>-73.946969</td><td>&quot;{&#x27;latitude&#x27;: &#x27;40.6386960194481…</td><td>2010</td><td>1</td></tr><tr><td>&quot;15631756&quot;</td><td>2010-01-01 00:00:00</td><td>2010-01-16 00:00:00</td><td>&quot;HPD&quot;</td><td>&quot;Department of Housing Preserva…</td><td>&quot;PLUMBING&quot;</td><td>&quot;WATER-LEAKS&quot;</td><td>&quot;RESIDENTIAL BUILDING&quot;</td><td>&quot;11106&quot;</td><td>&quot;31-54 29 STREET&quot;</td><td>&quot;29 STREET&quot;</td><td>&quot;31 AVENUE&quot;</td><td>&quot;BROADWAY&quot;</td><td>null</td><td>null</td><td>&quot;ADDRESS&quot;</td><td>&quot;ASTORIA&quot;</td><td>null</td><td>&quot;N/A&quot;</td><td>&quot;Closed&quot;</td><td>null</td><td>&quot;The Department of Housing Pres…</td><td>2010-01-16 00:00:00</td><td>&quot;0 Unspecified&quot;</td><td>&quot;4005797501&quot;</td><td>&quot;Unspecified&quot;</td><td>1.004767e6</td><td>217644.0</td><td>&quot;UNKNOWN&quot;</td><td>&quot;Unspecified&quot;</td><td>&quot;Unspecified&quot;</td><td>null</td><td>null</td><td>null</td><td>null</td><td>null</td><td>null</td><td>null</td><td>40.764035</td><td>-73.925935</td><td>&quot;{&#x27;latitude&#x27;: &#x27;40.7640351269140…</td><td>2010</td><td>1</td></tr><tr><td>&quot;15631479&quot;</td><td>2010-01-01 00:00:00</td><td>2010-01-08 00:00:00</td><td>&quot;HPD&quot;</td><td>&quot;Department of Housing Preserva…</td><td>&quot;HEATING&quot;</td><td>&quot;HEAT&quot;</td><td>&quot;RESIDENTIAL BUILDING&quot;</td><td>&quot;11212&quot;</td><td>&quot;1115 WILLMOHR STREET&quot;</td><td>&quot;WILLMOHR STREET&quot;</td><td>&quot;EAST 95 STREET&quot;</td><td>&quot;EAST 96 STREET&quot;</td><td>null</td><td>null</td><td>&quot;ADDRESS&quot;</td><td>&quot;BROOKLYN&quot;</td><td>null</td><td>&quot;N/A&quot;</td><td>&quot;Closed&quot;</td><td>null</td><td>&quot;More than one complaint was re…</td><td>2010-01-08 00:00:00</td><td>&quot;0 Unspecified&quot;</td><td>&quot;3046700001&quot;</td><td>&quot;Unspecified&quot;</td><td>1.007155e6</td><td>178733.0</td><td>&quot;UNKNOWN&quot;</td><td>&quot;Unspecified&quot;</td><td>&quot;Unspecified&quot;</td><td>null</td><td>null</td><td>null</td><td>null</td><td>null</td><td>null</td><td>null</td><td>40.657228</td><td>-73.917447</td><td>&quot;{&#x27;latitude&#x27;: &#x27;40.6572278703010…</td><td>2010</td><td>1</td></tr><tr><td>&quot;15634816&quot;</td><td>2010-01-01 00:00:00</td><td>2010-01-06 00:00:00</td><td>&quot;HPD&quot;</td><td>&quot;Department of Housing Preserva…</td><td>&quot;HEATING&quot;</td><td>&quot;HEAT&quot;</td><td>&quot;RESIDENTIAL BUILDING&quot;</td><td>&quot;11237&quot;</td><td>&quot;305 ELDERT STREET&quot;</td><td>&quot;ELDERT STREET&quot;</td><td>&quot;KNICKERBOCKER AVENUE&quot;</td><td>&quot;IRVING AVENUE&quot;</td><td>null</td><td>null</td><td>&quot;ADDRESS&quot;</td><td>&quot;BROOKLYN&quot;</td><td>null</td><td>&quot;N/A&quot;</td><td>&quot;Closed&quot;</td><td>null</td><td>&quot;The Department of Housing Pres…</td><td>2010-01-06 00:00:00</td><td>&quot;0 Unspecified&quot;</td><td>&quot;3034130066&quot;</td><td>&quot;Unspecified&quot;</td><td>1.010053e6</td><td>191755.0</td><td>&quot;UNKNOWN&quot;</td><td>&quot;Unspecified&quot;</td><td>&quot;Unspecified&quot;</td><td>null</td><td>null</td><td>null</td><td>null</td><td>null</td><td>null</td><td>null</td><td>40.692962</td><td>-73.906953</td><td>&quot;{&#x27;latitude&#x27;: &#x27;40.6929623370148…</td><td>2010</td><td>1</td></tr></tbody></table></div>"
      ],
      "text/plain": [
       "shape: (10, 43)\n",
       "┌────────────┬──────────────┬──────────────┬────────┬───┬────────────┬──────────────┬──────┬───────┐\n",
       "│ unique_key ┆ created_date ┆ closed_date  ┆ agency ┆ … ┆ longitude  ┆ location     ┆ year ┆ month │\n",
       "│ ---        ┆ ---          ┆ ---          ┆ ---    ┆   ┆ ---        ┆ ---          ┆ ---  ┆ ---   │\n",
       "│ str        ┆ datetime[ms] ┆ datetime[ms] ┆ str    ┆   ┆ f64        ┆ str          ┆ i64  ┆ i64   │\n",
       "╞════════════╪══════════════╪══════════════╪════════╪═══╪════════════╪══════════════╪══════╪═══════╡\n",
       "│ 15630099   ┆ 2010-01-01   ┆ 2010-01-01   ┆ HPD    ┆ … ┆ -73.836192 ┆ {'latitude': ┆ 2010 ┆ 1     │\n",
       "│            ┆ 00:00:00     ┆ 00:00:00     ┆        ┆   ┆            ┆ '40.88899738 ┆      ┆       │\n",
       "│            ┆              ┆              ┆        ┆   ┆            ┆ 45275…       ┆      ┆       │\n",
       "│ 15630431   ┆ 2010-01-01   ┆ 2010-01-02   ┆ HPD    ┆ … ┆ -73.958293 ┆ {'latitude': ┆ 2010 ┆ 1     │\n",
       "│            ┆ 00:00:00     ┆ 00:00:00     ┆        ┆   ┆            ┆ '40.65123611 ┆      ┆       │\n",
       "│            ┆              ┆              ┆        ┆   ┆            ┆ 61984…       ┆      ┆       │\n",
       "│ 15630315   ┆ 2010-01-01   ┆ 2010-01-16   ┆ HPD    ┆ … ┆ -73.925935 ┆ {'latitude': ┆ 2010 ┆ 1     │\n",
       "│            ┆ 00:00:00     ┆ 00:00:00     ┆        ┆   ┆            ┆ '40.76403512 ┆      ┆       │\n",
       "│            ┆              ┆              ┆        ┆   ┆            ┆ 69140…       ┆      ┆       │\n",
       "│ 15631513   ┆ 2010-01-01   ┆ 2010-01-02   ┆ HPD    ┆ … ┆ -73.946947 ┆ {'latitude': ┆ 2010 ┆ 1     │\n",
       "│            ┆ 00:00:00     ┆ 00:00:00     ┆        ┆   ┆            ┆ '40.63869600 ┆      ┆       │\n",
       "│            ┆              ┆              ┆        ┆   ┆            ┆ 94759…       ┆      ┆       │\n",
       "│ 15629899   ┆ 2010-01-01   ┆ 2010-01-16   ┆ HPD    ┆ … ┆ -73.925935 ┆ {'latitude': ┆ 2010 ┆ 1     │\n",
       "│            ┆ 00:00:00     ┆ 00:00:00     ┆        ┆   ┆            ┆ '40.76403512 ┆      ┆       │\n",
       "│            ┆              ┆              ┆        ┆   ┆            ┆ 69140…       ┆      ┆       │\n",
       "│ 15631565   ┆ 2010-01-01   ┆ 2010-01-05   ┆ HPD    ┆ … ┆ -73.938076 ┆ {'latitude': ┆ 2010 ┆ 1     │\n",
       "│            ┆ 00:00:00     ┆ 00:00:00     ┆        ┆   ┆            ┆ '40.66648249 ┆      ┆       │\n",
       "│            ┆              ┆              ┆        ┆   ┆            ┆ 95760…       ┆      ┆       │\n",
       "│ 15629728   ┆ 2010-01-01   ┆ 2010-01-12   ┆ HPD    ┆ … ┆ -73.946969 ┆ {'latitude': ┆ 2010 ┆ 1     │\n",
       "│            ┆ 00:00:00     ┆ 00:00:00     ┆        ┆   ┆            ┆ '40.63869601 ┆      ┆       │\n",
       "│            ┆              ┆              ┆        ┆   ┆            ┆ 94481…       ┆      ┆       │\n",
       "│ 15631756   ┆ 2010-01-01   ┆ 2010-01-16   ┆ HPD    ┆ … ┆ -73.925935 ┆ {'latitude': ┆ 2010 ┆ 1     │\n",
       "│            ┆ 00:00:00     ┆ 00:00:00     ┆        ┆   ┆            ┆ '40.76403512 ┆      ┆       │\n",
       "│            ┆              ┆              ┆        ┆   ┆            ┆ 69140…       ┆      ┆       │\n",
       "│ 15631479   ┆ 2010-01-01   ┆ 2010-01-08   ┆ HPD    ┆ … ┆ -73.917447 ┆ {'latitude': ┆ 2010 ┆ 1     │\n",
       "│            ┆ 00:00:00     ┆ 00:00:00     ┆        ┆   ┆            ┆ '40.65722787 ┆      ┆       │\n",
       "│            ┆              ┆              ┆        ┆   ┆            ┆ 03010…       ┆      ┆       │\n",
       "│ 15634816   ┆ 2010-01-01   ┆ 2010-01-06   ┆ HPD    ┆ … ┆ -73.906953 ┆ {'latitude': ┆ 2010 ┆ 1     │\n",
       "│            ┆ 00:00:00     ┆ 00:00:00     ┆        ┆   ┆            ┆ '40.69296233 ┆      ┆       │\n",
       "│            ┆              ┆              ┆        ┆   ┆            ┆ 70148…       ┆      ┆       │\n",
       "└────────────┴──────────────┴──────────────┴────────┴───┴────────────┴──────────────┴──────┴───────┘"
      ]
     },
     "execution_count": 12,
     "metadata": {},
     "output_type": "execute_result"
    }
   ],
   "source": [
    "# Collect a sample to view\n",
    "lf.head(10).collect()\n"
   ]
  },
  {
   "cell_type": "markdown",
   "id": "03983527",
   "metadata": {},
   "source": [
    "### Missing Values Analysis\n"
   ]
  },
  {
   "cell_type": "code",
   "execution_count": 13,
   "id": "648ffa7a",
   "metadata": {},
   "outputs": [
    {
     "name": "stdout",
     "output_type": "stream",
     "text": [
      "Missing Values Summary (Total Rows: 41,188,398)\n"
     ]
    },
    {
     "data": {
      "text/html": [
       "<div><style>\n",
       ".dataframe > thead > tr,\n",
       ".dataframe > tbody > tr {\n",
       "  text-align: right;\n",
       "  white-space: pre-wrap;\n",
       "}\n",
       "</style>\n",
       "<small>shape: (43, 3)</small><table border=\"1\" class=\"dataframe\"><thead><tr><th>Column</th><th>Null_Count</th><th>Null_Percentage</th></tr><tr><td>str</td><td>i64</td><td>f64</td></tr></thead><tbody><tr><td>&quot;taxi_company_borough&quot;</td><td>41158784</td><td>99.93</td></tr><tr><td>&quot;road_ramp&quot;</td><td>41094402</td><td>99.77</td></tr><tr><td>&quot;bridge_highway_direction&quot;</td><td>41072784</td><td>99.72</td></tr><tr><td>&quot;bridge_highway_name&quot;</td><td>41017072</td><td>99.58</td></tr><tr><td>&quot;bridge_highway_segment&quot;</td><td>41013461</td><td>99.58</td></tr><tr><td>&hellip;</td><td>&hellip;</td><td>&hellip;</td></tr><tr><td>&quot;status&quot;</td><td>0</td><td>0.0</td></tr><tr><td>&quot;open_data_channel_type&quot;</td><td>0</td><td>0.0</td></tr><tr><td>&quot;park_facility_name&quot;</td><td>0</td><td>0.0</td></tr><tr><td>&quot;year&quot;</td><td>0</td><td>0.0</td></tr><tr><td>&quot;month&quot;</td><td>0</td><td>0.0</td></tr></tbody></table></div>"
      ],
      "text/plain": [
       "shape: (43, 3)\n",
       "┌──────────────────────────┬────────────┬─────────────────┐\n",
       "│ Column                   ┆ Null_Count ┆ Null_Percentage │\n",
       "│ ---                      ┆ ---        ┆ ---             │\n",
       "│ str                      ┆ i64        ┆ f64             │\n",
       "╞══════════════════════════╪════════════╪═════════════════╡\n",
       "│ taxi_company_borough     ┆ 41158784   ┆ 99.93           │\n",
       "│ road_ramp                ┆ 41094402   ┆ 99.77           │\n",
       "│ bridge_highway_direction ┆ 41072784   ┆ 99.72           │\n",
       "│ bridge_highway_name      ┆ 41017072   ┆ 99.58           │\n",
       "│ bridge_highway_segment   ┆ 41013461   ┆ 99.58           │\n",
       "│ …                        ┆ …          ┆ …               │\n",
       "│ status                   ┆ 0          ┆ 0.0             │\n",
       "│ open_data_channel_type   ┆ 0          ┆ 0.0             │\n",
       "│ park_facility_name       ┆ 0          ┆ 0.0             │\n",
       "│ year                     ┆ 0          ┆ 0.0             │\n",
       "│ month                    ┆ 0          ┆ 0.0             │\n",
       "└──────────────────────────┴────────────┴─────────────────┘"
      ]
     },
     "execution_count": 13,
     "metadata": {},
     "output_type": "execute_result"
    }
   ],
   "source": [
    "# Calculate null counts and percentages\n",
    "total_rows = lf.select(pl.len()).collect().item()\n",
    "\n",
    "null_counts = lf.select([\n",
    "    pl.col(col).is_null().sum().alias(col) \n",
    "    for col in lf.collect_schema().names()\n",
    "]).collect()\n",
    "\n",
    "# Convert to long format for better readability\n",
    "null_summary = pl.DataFrame({\n",
    "    \"Column\": null_counts.columns,\n",
    "    \"Null_Count\": null_counts.row(0),\n",
    "}).with_columns([\n",
    "    (pl.col(\"Null_Count\") / total_rows * 100).round(2).alias(\"Null_Percentage\")\n",
    "]).sort(\"Null_Count\", descending=True)\n",
    "\n",
    "print(f\"Missing Values Summary (Total Rows: {total_rows:,})\")\n",
    "null_summary\n"
   ]
  },
  {
   "cell_type": "code",
   "execution_count": null,
   "id": "41c6f84a",
   "metadata": {},
   "outputs": [
    {
     "ename": "NameError",
     "evalue": "name 'pd' is not defined",
     "output_type": "error",
     "traceback": [
      "\u001b[31m---------------------------------------------------------------------------\u001b[39m",
      "\u001b[31mNameError\u001b[39m                                 Traceback (most recent call last)",
      "\u001b[36mCell\u001b[39m\u001b[36m \u001b[39m\u001b[32mIn[14]\u001b[39m\u001b[32m, line 1\u001b[39m\n\u001b[32m----> \u001b[39m\u001b[32m1\u001b[39m \u001b[43mpd\u001b[49m.DataFrame(null_summary)\n",
      "\u001b[31mNameError\u001b[39m: name 'pd' is not defined"
     ]
    }
   ],
   "source": []
  },
  {
   "cell_type": "code",
   "execution_count": null,
   "id": "2c7ba219",
   "metadata": {},
   "outputs": [],
   "source": [
    "null_summary.filter(pl.col('Column') == 'vehicle_type')\n"
   ]
  },
  {
   "cell_type": "markdown",
   "id": "e4c17540",
   "metadata": {},
   "source": [
    "### Top Complaint Types\n"
   ]
  },
  {
   "cell_type": "code",
   "execution_count": null,
   "id": "b7f0875d",
   "metadata": {},
   "outputs": [],
   "source": [
    "# Top complaint types\n",
    "top_complaints = df.group_by(\"complaint_type\").agg([\n",
    "    pl.len().alias(\"count\")\n",
    "]).sort(\"count\", descending=True).limit(20).collect()\n",
    "\n",
    "print(\"Top 20 Complaint Types:\")\n",
    "top_complaints\n"
   ]
  },
  {
   "cell_type": "markdown",
   "id": "69b2a87c",
   "metadata": {},
   "source": [
    "### Temporal Analysis\n"
   ]
  },
  {
   "cell_type": "code",
   "execution_count": null,
   "id": "50c47108",
   "metadata": {},
   "outputs": [],
   "source": [
    "# Requests over time (by year-month)\n",
    "temporal = df.with_columns([\n",
    "    pl.col(\"created_date\").str.to_datetime().alias(\"created_dt\")\n",
    "]).with_columns([\n",
    "    pl.col(\"created_dt\").dt.year().alias(\"year\"),\n",
    "    pl.col(\"created_dt\").dt.month().alias(\"month\")\n",
    "]).group_by([\"year\", \"month\"]).agg([\n",
    "    pl.len().alias(\"num_requests\")\n",
    "]).sort([\"year\", \"month\"]).collect()\n",
    "\n",
    "print(\"Service Requests Over Time:\")\n",
    "temporal\n"
   ]
  },
  {
   "cell_type": "markdown",
   "id": "9bc2125d",
   "metadata": {},
   "source": [
    "### Geographic Distribution\n"
   ]
  },
  {
   "cell_type": "code",
   "execution_count": null,
   "id": "189f2814",
   "metadata": {},
   "outputs": [],
   "source": [
    "# Requests by borough\n",
    "by_borough = df.group_by(\"borough\").agg([\n",
    "    pl.len().alias(\"count\")\n",
    "]).sort(\"count\", descending=True).collect()\n",
    "\n",
    "print(\"Service Requests by Borough:\")\n",
    "by_borough\n"
   ]
  },
  {
   "cell_type": "markdown",
   "id": "e734aa38",
   "metadata": {},
   "source": [
    "### Agency Analysis\n"
   ]
  },
  {
   "cell_type": "code",
   "execution_count": null,
   "id": "c7b64636",
   "metadata": {},
   "outputs": [],
   "source": [
    "# Top agencies handling requests\n",
    "top_agencies = df.group_by(\"agency\").agg([\n",
    "    pl.len().alias(\"count\")\n",
    "]).sort(\"count\", descending=True).limit(15).collect()\n",
    "\n",
    "print(\"Top 15 Agencies:\")\n",
    "top_agencies\n"
   ]
  },
  {
   "cell_type": "markdown",
   "id": "8dfa20be",
   "metadata": {},
   "source": [
    "### Status Distribution\n"
   ]
  },
  {
   "cell_type": "code",
   "execution_count": null,
   "id": "93af2aa0",
   "metadata": {},
   "outputs": [],
   "source": [
    "# Request status distribution\n",
    "status_dist = df.group_by(\"status\").agg([\n",
    "    pl.len().alias(\"count\")\n",
    "]).sort(\"count\", descending=True).collect()\n",
    "\n",
    "print(\"Status Distribution:\")\n",
    "status_dist\n"
   ]
  },
  {
   "cell_type": "markdown",
   "id": "2aa9aa0c",
   "metadata": {},
   "source": [
    "### Response Time Analysis\n"
   ]
  },
  {
   "cell_type": "code",
   "execution_count": null,
   "id": "a35e7d28",
   "metadata": {},
   "outputs": [],
   "source": [
    "# Calculate response times where both created_date and closed_date exist\n",
    "response_times = df.filter(\n",
    "    pl.col(\"closed_date\").is_not_null() & pl.col(\"created_date\").is_not_null()\n",
    ").with_columns([\n",
    "    pl.col(\"created_date\").str.to_datetime().alias(\"created_dt\"),\n",
    "    pl.col(\"closed_date\").str.to_datetime().alias(\"closed_dt\")\n",
    "]).with_columns([\n",
    "    (pl.col(\"closed_dt\") - pl.col(\"created_dt\")).dt.total_hours().alias(\"response_hours\")\n",
    "]).filter(\n",
    "    pl.col(\"response_hours\") >= 0  # Only positive response times\n",
    ").select([\n",
    "    pl.col(\"response_hours\").mean().alias(\"mean_hours\"),\n",
    "    pl.col(\"response_hours\").median().alias(\"median_hours\"),\n",
    "    pl.col(\"response_hours\").std().alias(\"std_hours\"),\n",
    "    pl.col(\"response_hours\").min().alias(\"min_hours\"),\n",
    "    pl.col(\"response_hours\").max().alias(\"max_hours\"),\n",
    "    pl.col(\"response_hours\").quantile(0.25).alias(\"q25_hours\"),\n",
    "    pl.col(\"response_hours\").quantile(0.75).alias(\"q75_hours\"),\n",
    "    pl.col(\"response_hours\").quantile(0.90).alias(\"q90_hours\"),\n",
    "    pl.len().alias(\"count_with_close_date\")\n",
    "]).collect()\n",
    "\n",
    "print(\"Response Time Statistics (in hours):\")\n",
    "response_times\n"
   ]
  },
  {
   "cell_type": "markdown",
   "id": "32aff531",
   "metadata": {},
   "source": [
    "### Year-over-Year Growth\n"
   ]
  },
  {
   "cell_type": "code",
   "execution_count": null,
   "id": "0a86bc48",
   "metadata": {},
   "outputs": [],
   "source": [
    "# Yearly trends\n",
    "yearly = df.with_columns([\n",
    "    pl.col(\"created_date\").str.to_datetime().dt.year().alias(\"year\")\n",
    "]).group_by(\"year\").agg([\n",
    "    pl.len().alias(\"num_requests\")\n",
    "]).sort(\"year\").collect()\n",
    "\n",
    "print(\"Year-over-Year Requests:\")\n",
    "yearly\n"
   ]
  },
  {
   "cell_type": "markdown",
   "id": "2651e82d",
   "metadata": {},
   "source": [
    "### Top Complaint Types by Borough\n"
   ]
  },
  {
   "cell_type": "code",
   "execution_count": null,
   "id": "19eb84ab",
   "metadata": {},
   "outputs": [],
   "source": [
    "# Top complaints by borough\n",
    "complaints_by_borough = df.group_by([\"borough\", \"complaint_type\"]).agg([\n",
    "    pl.len().alias(\"count\")\n",
    "]).sort([\"borough\", \"count\"], descending=[False, True]).collect()\n",
    "\n",
    "# Get top 5 complaints per borough\n",
    "top_per_borough = complaints_by_borough.group_by(\"borough\").head(5)\n",
    "\n",
    "print(\"Top 5 Complaint Types per Borough:\")\n",
    "top_per_borough\n"
   ]
  },
  {
   "cell_type": "code",
   "execution_count": null,
   "id": "4255ef70",
   "metadata": {},
   "outputs": [],
   "source": []
  }
 ],
 "metadata": {
  "kernelspec": {
   "display_name": ".venv",
   "language": "python",
   "name": "python3"
  },
  "language_info": {
   "codemirror_mode": {
    "name": "ipython",
    "version": 3
   },
   "file_extension": ".py",
   "mimetype": "text/x-python",
   "name": "python",
   "nbconvert_exporter": "python",
   "pygments_lexer": "ipython3",
   "version": "3.13.0"
  }
 },
 "nbformat": 4,
 "nbformat_minor": 5
}
