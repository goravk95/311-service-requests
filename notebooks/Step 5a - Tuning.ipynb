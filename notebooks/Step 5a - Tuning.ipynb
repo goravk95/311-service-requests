{
 "cells": [
  {
   "cell_type": "markdown",
   "metadata": {},
   "source": [
    "# Step 5: Feature Engineering for NYC 311 Modeling\n",
    "\n",
    "This notebook demonstrates the complete feature engineering pipeline for three modeling tracks:\n",
    "1. **Forecast** - Time-series forecasting of ticket arrivals\n",
    "2. **Triage** - Ticket prioritization at creation time\n",
    "3. **Duration** - Survival modeling for time-to-close\n",
    "\n",
    "All features are **leakage-safe** and use **H3-based spatial grouping**.\n"
   ]
  },
  {
   "cell_type": "code",
   "execution_count": 16,
   "metadata": {},
   "outputs": [],
   "source": [
    "import os\n",
    "import sys\n",
    "\n",
    "PACKAGE_PATH = os.path.abspath(os.path.join(os.getcwd(), '..'))\n",
    "sys.path.insert(0, PACKAGE_PATH)\n",
    "import json\n",
    "import pandas as pd\n",
    "import numpy as np\n",
    "import matplotlib.pyplot as plt\n",
    "import seaborn as sns\n",
    "from pathlib import Path\n",
    "from datetime import datetime\n",
    "\n",
    "from src import preprocessing\n",
    "from src import features\n",
    "from src import config\n",
    "from src import forecast\n",
    "\n",
    "pd.set_option('display.max_columns', 50)\n",
    "sns.set_style('whitegrid')\n",
    "from importlib import reload"
   ]
  },
  {
   "cell_type": "markdown",
   "metadata": {},
   "source": [
    "## Usage Instructions\n",
    "\n",
    "This notebook uses the feature engineering module from `src/features.py`.\n",
    "\n",
    "To run this notebook:\n",
    "1. Ensure you have data in `data/landing/311-service-requests/`\n",
    "2. Run `pip install -r requirements.txt` to install dependencies\n",
    "3. Execute cells sequentially\n",
    "\n",
    "For detailed documentation, see `src/FEATURE_ENGINEERING_README.md`\n"
   ]
  },
  {
   "cell_type": "markdown",
   "metadata": {},
   "source": [
    "## Load Data"
   ]
  },
  {
   "cell_type": "code",
   "execution_count": 3,
   "metadata": {},
   "outputs": [],
   "source": [
    "forecast_panel = pd.read_parquet(config.PRESENTATION_DATA_PATH + '/model_fitting_data.parquet')\n",
    "df_streamlit = pd.read_parquet(config.PRESENTATION_DATA_PATH + '/streamlit_data.parquet')\n"
   ]
  },
  {
   "cell_type": "markdown",
   "metadata": {},
   "source": [
    "## Inputs"
   ]
  },
  {
   "cell_type": "code",
   "execution_count": 4,
   "metadata": {},
   "outputs": [],
   "source": [
    "numerical_columns = [\n",
    "            'lag1', 'lag4', 'roll4', 'roll12',\n",
    "            'momentum', 'weeks_since_last',\n",
    "            'tavg', 'prcp', 'heating_degree', 'cooling_degree',\n",
    "            'rain_3d', 'rain_7d', 'log_pop', 'nbr_roll4', 'nbr_roll12'\n",
    "        ]\n",
    "\n",
    "categorical_columns = ['week_of_year', 'month',  'heat_flag', 'freeze_flag', 'hex6', 'complaint_family']\n",
    "horizons = [1]\n",
    "\n",
    "df_input = forecast_panel.copy()\n",
    "horizon = 1\n",
    "input_columns = df_input.columns\n"
   ]
  },
  {
   "cell_type": "markdown",
   "metadata": {},
   "source": [
    "## Hyper Parameter Tuning"
   ]
  },
  {
   "cell_type": "code",
   "execution_count": 5,
   "metadata": {},
   "outputs": [
    {
     "name": "stdout",
     "output_type": "stream",
     "text": [
      "Tuning forecast model for poisson (mean) with 30 trials...\n",
      "X shape pre-filtering: (442520, 27)\n",
      "X shape post-filtering: (425330, 27)\n"
     ]
    },
    {
     "name": "stderr",
     "output_type": "stream",
     "text": [
      "[I 2025-10-05 22:44:44,829] A new study created in memory with name: no-name-826ab2b9-d675-4b2f-8883-3fd5bbfafbc2\n"
     ]
    },
    {
     "name": "stdout",
     "output_type": "stream",
     "text": [
      "Train dates [2010-03-16 00:00:00 to 2023-12-26 00:00:00], Test dates [2024-01-02 00:00:00 to 2025-07-29 00:00:00]\n",
      "X training shape: (392634, 27)\n",
      "X test shape: (32696, 27)\n"
     ]
    },
    {
     "data": {
      "application/vnd.jupyter.widget-view+json": {
       "model_id": "c273a13f9d034f65980093ea324e8198",
       "version_major": 2,
       "version_minor": 0
      },
      "text/plain": [
       "  0%|          | 0/30 [00:00<?, ?it/s]"
      ]
     },
     "metadata": {},
     "output_type": "display_data"
    },
    {
     "name": "stdout",
     "output_type": "stream",
     "text": [
      "[I 2025-10-05 22:44:49,684] Trial 0 finished with value: 1.0701026137583192 and parameters: {'learning_rate': 0.030710573677773714, 'num_leaves': 79, 'max_depth': 8, 'min_child_samples': 38, 'subsample': 0.6468055921327309, 'colsample_bytree': 0.6467983561008608}. Best is trial 0 with value: 1.0701026137583192.\n",
      "[I 2025-10-05 22:44:55,024] Trial 1 finished with value: 1.0753129332585867 and parameters: {'learning_rate': 0.011900590783184251, 'num_leaves': 76, 'max_depth': 7, 'min_child_samples': 41, 'subsample': 0.6061753482887408, 'colsample_bytree': 0.8909729556485984}. Best is trial 0 with value: 1.0701026137583192.\n",
      "[I 2025-10-05 22:44:57,938] Trial 2 finished with value: 1.0736037455818181 and parameters: {'learning_rate': 0.12106896936002161, 'num_leaves': 56, 'max_depth': 6, 'min_child_samples': 25, 'subsample': 0.6912726728878613, 'colsample_bytree': 0.7574269294896714}. Best is trial 0 with value: 1.0701026137583192.\n",
      "[I 2025-10-05 22:45:01,755] Trial 3 finished with value: 1.070598055837807 and parameters: {'learning_rate': 0.03647316284911211, 'num_leaves': 59, 'max_depth': 7, 'min_child_samples': 24, 'subsample': 0.6876433945605654, 'colsample_bytree': 0.7099085529881075}. Best is trial 0 with value: 1.0701026137583192.\n",
      "[I 2025-10-05 22:45:05,227] Trial 4 finished with value: 1.0684134236345575 and parameters: {'learning_rate': 0.03920673972242137, 'num_leaves': 74, 'max_depth': 6, 'min_child_samples': 35, 'subsample': 0.7777243706586128, 'colsample_bytree': 0.6139351238159994}. Best is trial 4 with value: 1.0684134236345575.\n",
      "[I 2025-10-05 22:45:08,275] Trial 5 finished with value: 1.0676474536976053 and parameters: {'learning_rate': 0.061721159481070736, 'num_leaves': 55, 'max_depth': 6, 'min_child_samples': 49, 'subsample': 0.8896896099223679, 'colsample_bytree': 0.8425192044349383}. Best is trial 5 with value: 1.0676474536976053.\n",
      "[I 2025-10-05 22:45:12,546] Trial 6 finished with value: 1.0670385941564084 and parameters: {'learning_rate': 0.0249064396938244, 'num_leaves': 53, 'max_depth': 8, 'min_child_samples': 33, 'subsample': 0.6366114704534336, 'colsample_bytree': 0.748553073033381}. Best is trial 6 with value: 1.0670385941564084.\n",
      "[I 2025-10-05 22:45:16,775] Trial 7 finished with value: 1.079482872166211 and parameters: {'learning_rate': 0.011085122517311707, 'num_leaves': 78, 'max_depth': 6, 'min_child_samples': 40, 'subsample': 0.6935133228268233, 'colsample_bytree': 0.7560204063533432}. Best is trial 6 with value: 1.0670385941564084.\n",
      "[I 2025-10-05 22:45:20,568] Trial 8 finished with value: 1.0686734235248967 and parameters: {'learning_rate': 0.05143828405076928, 'num_leaves': 55, 'max_depth': 8, 'min_child_samples': 44, 'subsample': 0.8818496824692568, 'colsample_bytree': 0.8684482051282947}. Best is trial 6 with value: 1.0670385941564084.\n",
      "[I 2025-10-05 22:45:23,731] Trial 9 finished with value: 1.0710069803710978 and parameters: {'learning_rate': 0.059963338824126605, 'num_leaves': 78, 'max_depth': 6, 'min_child_samples': 26, 'subsample': 0.6135681866731614, 'colsample_bytree': 0.6975990992289793}. Best is trial 6 with value: 1.0670385941564084.\n",
      "[I 2025-10-05 22:45:28,009] Trial 10 finished with value: 1.0679752687116586 and parameters: {'learning_rate': 0.020890647742836544, 'num_leaves': 50, 'max_depth': 8, 'min_child_samples': 31, 'subsample': 0.7799763692189218, 'colsample_bytree': 0.8070741220707436}. Best is trial 6 with value: 1.0670385941564084.\n",
      "[I 2025-10-05 22:45:31,483] Trial 11 finished with value: 1.0723686446974139 and parameters: {'learning_rate': 0.09601839292816693, 'num_leaves': 65, 'max_depth': 7, 'min_child_samples': 50, 'subsample': 0.8902609303128655, 'colsample_bytree': 0.8206084242732482}. Best is trial 6 with value: 1.0670385941564084.\n",
      "[I 2025-10-05 22:45:35,775] Trial 12 finished with value: 1.0672221206058177 and parameters: {'learning_rate': 0.019812931177144555, 'num_leaves': 51, 'max_depth': 7, 'min_child_samples': 49, 'subsample': 0.8168353970192253, 'colsample_bytree': 0.8064296694039176}. Best is trial 6 with value: 1.0670385941564084.\n",
      "[I 2025-10-05 22:45:40,204] Trial 13 finished with value: 1.0686466476623246 and parameters: {'learning_rate': 0.01909014218697476, 'num_leaves': 50, 'max_depth': 8, 'min_child_samples': 30, 'subsample': 0.8283739774597568, 'colsample_bytree': 0.7878649584179789}. Best is trial 6 with value: 1.0670385941564084.\n",
      "[I 2025-10-05 22:45:44,664] Trial 14 finished with value: 1.0680453897585278 and parameters: {'learning_rate': 0.02132526444314532, 'num_leaves': 64, 'max_depth': 7, 'min_child_samples': 33, 'subsample': 0.7417388900268708, 'colsample_bytree': 0.7129965001229173}. Best is trial 6 with value: 1.0670385941564084.\n",
      "[I 2025-10-05 22:45:47,943] Trial 15 finished with value: 1.0849189771781163 and parameters: {'learning_rate': 0.19961837193620555, 'num_leaves': 70, 'max_depth': 7, 'min_child_samples': 45, 'subsample': 0.8207916384262515, 'colsample_bytree': 0.7851467122873804}. Best is trial 6 with value: 1.0670385941564084.\n",
      "[I 2025-10-05 22:45:52,748] Trial 16 finished with value: 1.069830828117767 and parameters: {'learning_rate': 0.015699863263106885, 'num_leaves': 60, 'max_depth': 8, 'min_child_samples': 20, 'subsample': 0.834200705383078, 'colsample_bytree': 0.6717798692507037}. Best is trial 6 with value: 1.0670385941564084.\n",
      "[I 2025-10-05 22:45:56,714] Trial 17 finished with value: 1.068915222311647 and parameters: {'learning_rate': 0.02818015364016087, 'num_leaves': 52, 'max_depth': 7, 'min_child_samples': 38, 'subsample': 0.7264713083238709, 'colsample_bytree': 0.7371091907613208}. Best is trial 6 with value: 1.0670385941564084.\n",
      "[I 2025-10-05 22:46:01,709] Trial 18 finished with value: 1.0705463199394325 and parameters: {'learning_rate': 0.0146657163171496, 'num_leaves': 60, 'max_depth': 8, 'min_child_samples': 46, 'subsample': 0.7827779868631538, 'colsample_bytree': 0.8337457109514614}. Best is trial 6 with value: 1.0670385941564084.\n",
      "[I 2025-10-05 22:46:06,040] Trial 19 finished with value: 1.0683099608949451 and parameters: {'learning_rate': 0.02607136759501136, 'num_leaves': 65, 'max_depth': 7, 'min_child_samples': 29, 'subsample': 0.6511106424595252, 'colsample_bytree': 0.7828611800910478}. Best is trial 6 with value: 1.0670385941564084.\n",
      "[I 2025-10-05 22:46:11,562] Trial 20 finished with value: 1.0838702976724732 and parameters: {'learning_rate': 0.01003433629735238, 'num_leaves': 69, 'max_depth': 8, 'min_child_samples': 35, 'subsample': 0.8602863161026093, 'colsample_bytree': 0.7338435126224687}. Best is trial 6 with value: 1.0670385941564084.\n",
      "[I 2025-10-05 22:46:14,904] Trial 21 finished with value: 1.067061717617449 and parameters: {'learning_rate': 0.07836720132882369, 'num_leaves': 54, 'max_depth': 6, 'min_child_samples': 50, 'subsample': 0.8632452958866228, 'colsample_bytree': 0.8568264799814648}. Best is trial 6 with value: 1.0670385941564084.\n",
      "[I 2025-10-05 22:46:18,008] Trial 22 finished with value: 1.0700633857429152 and parameters: {'learning_rate': 0.08310021942634221, 'num_leaves': 53, 'max_depth': 6, 'min_child_samples': 48, 'subsample': 0.8500520075262177, 'colsample_bytree': 0.8576946703320895}. Best is trial 6 with value: 1.0670385941564084.\n",
      "[I 2025-10-05 22:46:20,948] Trial 23 finished with value: 1.0827345303010762 and parameters: {'learning_rate': 0.16063880057724428, 'num_leaves': 57, 'max_depth': 6, 'min_child_samples': 43, 'subsample': 0.8190078929536226, 'colsample_bytree': 0.8040329457951448}. Best is trial 6 with value: 1.0670385941564084.\n",
      "[I 2025-10-05 22:46:24,467] Trial 24 finished with value: 1.0707983661796638 and parameters: {'learning_rate': 0.07579479076823928, 'num_leaves': 53, 'max_depth': 7, 'min_child_samples': 47, 'subsample': 0.799071291652281, 'colsample_bytree': 0.895778821694631}. Best is trial 6 with value: 1.0670385941564084.\n",
      "[I 2025-10-05 22:46:28,387] Trial 25 finished with value: 1.0674773088835876 and parameters: {'learning_rate': 0.04106120912998084, 'num_leaves': 58, 'max_depth': 7, 'min_child_samples': 50, 'subsample': 0.8593319086532669, 'colsample_bytree': 0.8670188708960461}. Best is trial 6 with value: 1.0670385941564084.\n",
      "[I 2025-10-05 22:46:33,434] Trial 26 finished with value: 1.0698645478273556 and parameters: {'learning_rate': 0.015154578221542741, 'num_leaves': 62, 'max_depth': 8, 'min_child_samples': 42, 'subsample': 0.7504994892363854, 'colsample_bytree': 0.774089401761991}. Best is trial 6 with value: 1.0670385941564084.\n",
      "[I 2025-10-05 22:46:37,037] Trial 27 finished with value: 1.067567012607967 and parameters: {'learning_rate': 0.02487230928427251, 'num_leaves': 52, 'max_depth': 6, 'min_child_samples': 37, 'subsample': 0.7175286752705334, 'colsample_bytree': 0.8283594962957944}. Best is trial 6 with value: 1.0670385941564084.\n",
      "[I 2025-10-05 22:46:40,912] Trial 28 finished with value: 1.0660730728334182 and parameters: {'learning_rate': 0.03192746464617725, 'num_leaves': 50, 'max_depth': 7, 'min_child_samples': 47, 'subsample': 0.8078879450584069, 'colsample_bytree': 0.8083176437020582}. Best is trial 28 with value: 1.0660730728334182.\n",
      "[I 2025-10-05 22:46:44,753] Trial 29 finished with value: 1.0698222087441496 and parameters: {'learning_rate': 0.05428082272300816, 'num_leaves': 54, 'max_depth': 8, 'min_child_samples': 39, 'subsample': 0.6448475801238228, 'colsample_bytree': 0.6757032176598311}. Best is trial 28 with value: 1.0660730728334182.\n",
      "✓ Best Poisson deviance: 1.0661\n",
      "✓ Best params: {'learning_rate': 0.03192746464617725, 'num_leaves': 50, 'max_depth': 7, 'min_child_samples': 47, 'subsample': 0.8078879450584069, 'colsample_bytree': 0.8083176437020582}\n"
     ]
    }
   ],
   "source": [
    "dict_params_mean = forecast.tune(\n",
    "    df_input,\n",
    "    horizon,\n",
    "    input_columns,\n",
    "    numerical_columns,\n",
    "    categorical_columns,\n",
    ")"
   ]
  },
  {
   "cell_type": "code",
   "execution_count": 6,
   "metadata": {},
   "outputs": [
    {
     "name": "stdout",
     "output_type": "stream",
     "text": [
      "Tuning forecast model for quantile (α=0.9) with 30 trials...\n",
      "X shape pre-filtering: (442520, 27)\n",
      "X shape post-filtering: (425330, 27)\n"
     ]
    },
    {
     "name": "stderr",
     "output_type": "stream",
     "text": [
      "[I 2025-10-05 22:47:01,178] A new study created in memory with name: no-name-7d2109da-da2c-4b3b-9b80-12489419626e\n"
     ]
    },
    {
     "name": "stdout",
     "output_type": "stream",
     "text": [
      "Train dates [2010-03-16 00:00:00 to 2023-12-26 00:00:00], Test dates [2024-01-02 00:00:00 to 2025-07-29 00:00:00]\n",
      "X training shape: (392634, 27)\n",
      "X test shape: (32696, 27)\n"
     ]
    },
    {
     "data": {
      "application/vnd.jupyter.widget-view+json": {
       "model_id": "493c068299674d48be471675b5597182",
       "version_major": 2,
       "version_minor": 0
      },
      "text/plain": [
       "  0%|          | 0/30 [00:00<?, ?it/s]"
      ]
     },
     "metadata": {},
     "output_type": "display_data"
    },
    {
     "name": "stdout",
     "output_type": "stream",
     "text": [
      "[I 2025-10-05 22:47:07,274] Trial 0 finished with value: 0.20372893941406953 and parameters: {'learning_rate': 0.030710573677773714, 'num_leaves': 79, 'max_depth': 8, 'min_child_samples': 38, 'subsample': 0.6468055921327309, 'colsample_bytree': 0.6467983561008608}. Best is trial 0 with value: 0.20372893941406953.\n",
      "[I 2025-10-05 22:47:12,954] Trial 1 finished with value: 0.20440326062157987 and parameters: {'learning_rate': 0.011900590783184251, 'num_leaves': 76, 'max_depth': 7, 'min_child_samples': 41, 'subsample': 0.6061753482887408, 'colsample_bytree': 0.8909729556485984}. Best is trial 0 with value: 0.20372893941406953.\n",
      "[I 2025-10-05 22:47:17,859] Trial 2 finished with value: 0.20529805025981399 and parameters: {'learning_rate': 0.12106896936002161, 'num_leaves': 56, 'max_depth': 6, 'min_child_samples': 25, 'subsample': 0.6912726728878613, 'colsample_bytree': 0.7574269294896714}. Best is trial 0 with value: 0.20372893941406953.\n",
      "[I 2025-10-05 22:47:23,091] Trial 3 finished with value: 0.20340430638832516 and parameters: {'learning_rate': 0.03647316284911211, 'num_leaves': 59, 'max_depth': 7, 'min_child_samples': 24, 'subsample': 0.6876433945605654, 'colsample_bytree': 0.7099085529881075}. Best is trial 3 with value: 0.20340430638832516.\n",
      "[I 2025-10-05 22:47:27,986] Trial 4 finished with value: 0.2034999967929316 and parameters: {'learning_rate': 0.03920673972242137, 'num_leaves': 74, 'max_depth': 6, 'min_child_samples': 35, 'subsample': 0.7777243706586128, 'colsample_bytree': 0.6139351238159994}. Best is trial 3 with value: 0.20340430638832516.\n",
      "[I 2025-10-05 22:47:32,845] Trial 5 finished with value: 0.20303054790498756 and parameters: {'learning_rate': 0.061721159481070736, 'num_leaves': 55, 'max_depth': 6, 'min_child_samples': 49, 'subsample': 0.8896896099223679, 'colsample_bytree': 0.8425192044349383}. Best is trial 5 with value: 0.20303054790498756.\n",
      "[I 2025-10-05 22:47:38,244] Trial 6 finished with value: 0.2037892060346385 and parameters: {'learning_rate': 0.0249064396938244, 'num_leaves': 53, 'max_depth': 8, 'min_child_samples': 33, 'subsample': 0.6366114704534336, 'colsample_bytree': 0.748553073033381}. Best is trial 5 with value: 0.20303054790498756.\n",
      "[I 2025-10-05 22:47:42,926] Trial 7 finished with value: 0.20492466037085982 and parameters: {'learning_rate': 0.011085122517311707, 'num_leaves': 78, 'max_depth': 6, 'min_child_samples': 40, 'subsample': 0.6935133228268233, 'colsample_bytree': 0.7560204063533432}. Best is trial 5 with value: 0.20303054790498756.\n",
      "[I 2025-10-05 22:47:48,574] Trial 8 finished with value: 0.20252730652996945 and parameters: {'learning_rate': 0.05143828405076928, 'num_leaves': 55, 'max_depth': 8, 'min_child_samples': 44, 'subsample': 0.8818496824692568, 'colsample_bytree': 0.8684482051282947}. Best is trial 8 with value: 0.20252730652996945.\n",
      "[I 2025-10-05 22:47:53,525] Trial 9 finished with value: 0.2034282090307129 and parameters: {'learning_rate': 0.059963338824126605, 'num_leaves': 78, 'max_depth': 6, 'min_child_samples': 26, 'subsample': 0.6135681866731614, 'colsample_bytree': 0.6975990992289793}. Best is trial 8 with value: 0.20252730652996945.\n",
      "[I 2025-10-05 22:47:59,002] Trial 10 finished with value: 0.20644306372475502 and parameters: {'learning_rate': 0.16968794650474459, 'num_leaves': 65, 'max_depth': 8, 'min_child_samples': 49, 'subsample': 0.8951622648438584, 'colsample_bytree': 0.8363527786961121}. Best is trial 8 with value: 0.20252730652996945.\n",
      "[I 2025-10-05 22:48:04,092] Trial 11 finished with value: 0.2023618127554855 and parameters: {'learning_rate': 0.07887181974027452, 'num_leaves': 50, 'max_depth': 7, 'min_child_samples': 50, 'subsample': 0.8977166577275697, 'colsample_bytree': 0.8477321175225121}. Best is trial 11 with value: 0.2023618127554855.\n",
      "[I 2025-10-05 22:48:09,247] Trial 12 finished with value: 0.20245126716157255 and parameters: {'learning_rate': 0.09043403987639531, 'num_leaves': 50, 'max_depth': 7, 'min_child_samples': 45, 'subsample': 0.8474556503986239, 'colsample_bytree': 0.8993843901276635}. Best is trial 11 with value: 0.2023618127554855.\n",
      "[I 2025-10-05 22:48:14,446] Trial 13 finished with value: 0.20280560217191138 and parameters: {'learning_rate': 0.10360061904220867, 'num_leaves': 50, 'max_depth': 7, 'min_child_samples': 46, 'subsample': 0.8304411648762073, 'colsample_bytree': 0.8030454174286845}. Best is trial 11 with value: 0.2023618127554855.\n",
      "[I 2025-10-05 22:48:19,697] Trial 14 finished with value: 0.20236420002786187 and parameters: {'learning_rate': 0.09020673323696311, 'num_leaves': 62, 'max_depth': 7, 'min_child_samples': 50, 'subsample': 0.8251305231543367, 'colsample_bytree': 0.8973809477819082}. Best is trial 11 with value: 0.2023618127554855.\n",
      "[I 2025-10-05 22:48:24,699] Trial 15 finished with value: 0.2072634025922382 and parameters: {'learning_rate': 0.19961837193620555, 'num_leaves': 63, 'max_depth': 7, 'min_child_samples': 50, 'subsample': 0.7940437139207884, 'colsample_bytree': 0.8130107833814885}. Best is trial 11 with value: 0.2023618127554855.\n",
      "[I 2025-10-05 22:48:30,050] Trial 16 finished with value: 0.2034346625608931 and parameters: {'learning_rate': 0.07737750698509722, 'num_leaves': 70, 'max_depth': 7, 'min_child_samples': 31, 'subsample': 0.8403831899691514, 'colsample_bytree': 0.860961160060507}. Best is trial 11 with value: 0.2023618127554855.\n",
      "[I 2025-10-05 22:48:35,273] Trial 17 finished with value: 0.2044271347219592 and parameters: {'learning_rate': 0.13367711581639788, 'num_leaves': 62, 'max_depth': 7, 'min_child_samples': 43, 'subsample': 0.7985310643851892, 'colsample_bytree': 0.8016095904135003}. Best is trial 11 with value: 0.2023618127554855.\n",
      "[I 2025-10-05 22:48:40,896] Trial 18 finished with value: 0.20347700142794733 and parameters: {'learning_rate': 0.07339421702787484, 'num_leaves': 69, 'max_depth': 8, 'min_child_samples': 47, 'subsample': 0.7373158244523882, 'colsample_bytree': 0.8673988041077817}. Best is trial 11 with value: 0.2023618127554855.\n",
      "[I 2025-10-05 22:48:46,133] Trial 19 finished with value: 0.20393644820302242 and parameters: {'learning_rate': 0.02607136759501136, 'num_leaves': 59, 'max_depth': 7, 'min_child_samples': 30, 'subsample': 0.8643292289533555, 'colsample_bytree': 0.8275565003918601}. Best is trial 11 with value: 0.2023618127554855.\n",
      "[I 2025-10-05 22:48:51,192] Trial 20 finished with value: 0.2087777309841718 and parameters: {'learning_rate': 0.14166000981548607, 'num_leaves': 68, 'max_depth': 7, 'min_child_samples': 21, 'subsample': 0.812248427294845, 'colsample_bytree': 0.7856969064706093}. Best is trial 11 with value: 0.2023618127554855.\n",
      "[I 2025-10-05 22:48:56,318] Trial 21 finished with value: 0.20324031543250348 and parameters: {'learning_rate': 0.09055273414708255, 'num_leaves': 50, 'max_depth': 7, 'min_child_samples': 46, 'subsample': 0.8635270654440372, 'colsample_bytree': 0.8991401255580197}. Best is trial 11 with value: 0.2023618127554855.\n",
      "[I 2025-10-05 22:49:01,296] Trial 22 finished with value: 0.20281331493040033 and parameters: {'learning_rate': 0.09463297019775382, 'num_leaves': 52, 'max_depth': 7, 'min_child_samples': 43, 'subsample': 0.8457202128703503, 'colsample_bytree': 0.8975794469605728}. Best is trial 11 with value: 0.2023618127554855.\n",
      "[I 2025-10-05 22:49:06,362] Trial 23 finished with value: 0.2031638078703404 and parameters: {'learning_rate': 0.07070050867700302, 'num_leaves': 58, 'max_depth': 7, 'min_child_samples': 50, 'subsample': 0.7671306785826164, 'colsample_bytree': 0.8680151221110873}. Best is trial 11 with value: 0.2023618127554855.\n",
      "[I 2025-10-05 22:49:11,485] Trial 24 finished with value: 0.20265415257979563 and parameters: {'learning_rate': 0.04894019271205617, 'num_leaves': 52, 'max_depth': 7, 'min_child_samples': 47, 'subsample': 0.8236007020474972, 'colsample_bytree': 0.8498178319292465}. Best is trial 11 with value: 0.2023618127554855.\n",
      "[I 2025-10-05 22:49:16,502] Trial 25 finished with value: 0.20536713885682667 and parameters: {'learning_rate': 0.1153760173146703, 'num_leaves': 61, 'max_depth': 7, 'min_child_samples': 38, 'subsample': 0.8608229819695037, 'colsample_bytree': 0.8755312609932956}. Best is trial 11 with value: 0.2023618127554855.\n",
      "[I 2025-10-05 22:49:21,419] Trial 26 finished with value: 0.2042648963442793 and parameters: {'learning_rate': 0.0902536565864344, 'num_leaves': 57, 'max_depth': 6, 'min_child_samples': 44, 'subsample': 0.8717462499135014, 'colsample_bytree': 0.876409131101128}. Best is trial 11 with value: 0.2023618127554855.\n",
      "[I 2025-10-05 22:49:26,704] Trial 27 finished with value: 0.20445592143377458 and parameters: {'learning_rate': 0.1582603458075993, 'num_leaves': 53, 'max_depth': 8, 'min_child_samples': 48, 'subsample': 0.7372252005103581, 'colsample_bytree': 0.8283594962957944}. Best is trial 11 with value: 0.2023618127554855.\n",
      "[I 2025-10-05 22:49:32,276] Trial 28 finished with value: 0.20401255085077602 and parameters: {'learning_rate': 0.017589890147134885, 'num_leaves': 72, 'max_depth': 7, 'min_child_samples': 45, 'subsample': 0.8479566594975875, 'colsample_bytree': 0.7838508102548865}. Best is trial 11 with value: 0.2023618127554855.\n",
      "[I 2025-10-05 22:49:37,306] Trial 29 finished with value: 0.203899866367126 and parameters: {'learning_rate': 0.058451299307078555, 'num_leaves': 50, 'max_depth': 7, 'min_child_samples': 41, 'subsample': 0.8948305332501976, 'colsample_bytree': 0.6820716836359345}. Best is trial 11 with value: 0.2023618127554855.\n",
      "✓ Best Pinball loss: 0.2024\n",
      "✓ Best params: {'learning_rate': 0.07887181974027452, 'num_leaves': 50, 'max_depth': 7, 'min_child_samples': 50, 'subsample': 0.8977166577275697, 'colsample_bytree': 0.8477321175225121}\n"
     ]
    }
   ],
   "source": [
    "dict_params_90 = forecast.tune(\n",
    "    df_input,\n",
    "    horizon,\n",
    "    input_columns,\n",
    "    numerical_columns,\n",
    "    categorical_columns,\n",
    "    alpha = 0.9\n",
    ")"
   ]
  },
  {
   "cell_type": "code",
   "execution_count": 7,
   "metadata": {},
   "outputs": [
    {
     "name": "stdout",
     "output_type": "stream",
     "text": [
      "Tuning forecast model for quantile (α=0.5) with 30 trials...\n"
     ]
    },
    {
     "name": "stderr",
     "output_type": "stream",
     "text": [
      "[I 2025-10-05 22:49:52,986] A new study created in memory with name: no-name-d1939878-4b78-4f81-9ba3-84c7d9c9d6ad\n"
     ]
    },
    {
     "name": "stdout",
     "output_type": "stream",
     "text": [
      "X shape pre-filtering: (442520, 27)\n",
      "X shape post-filtering: (425330, 27)\n",
      "Train dates [2010-03-16 00:00:00 to 2023-12-26 00:00:00], Test dates [2024-01-02 00:00:00 to 2025-07-29 00:00:00]\n",
      "X training shape: (392634, 27)\n",
      "X test shape: (32696, 27)\n"
     ]
    },
    {
     "data": {
      "application/vnd.jupyter.widget-view+json": {
       "model_id": "53f8088ebd2943139258a826022c9f80",
       "version_major": 2,
       "version_minor": 0
      },
      "text/plain": [
       "  0%|          | 0/30 [00:00<?, ?it/s]"
      ]
     },
     "metadata": {},
     "output_type": "display_data"
    },
    {
     "name": "stdout",
     "output_type": "stream",
     "text": [
      "[I 2025-10-05 22:50:00,020] Trial 0 finished with value: 0.27948264260104966 and parameters: {'learning_rate': 0.030710573677773714, 'num_leaves': 79, 'max_depth': 8, 'min_child_samples': 38, 'subsample': 0.6468055921327309, 'colsample_bytree': 0.6467983561008608}. Best is trial 0 with value: 0.27948264260104966.\n",
      "[I 2025-10-05 22:50:06,357] Trial 1 finished with value: 0.27970310623193195 and parameters: {'learning_rate': 0.011900590783184251, 'num_leaves': 76, 'max_depth': 7, 'min_child_samples': 41, 'subsample': 0.6061753482887408, 'colsample_bytree': 0.8909729556485984}. Best is trial 0 with value: 0.27948264260104966.\n",
      "[I 2025-10-05 22:50:11,504] Trial 2 finished with value: 0.2778100019892509 and parameters: {'learning_rate': 0.12106896936002161, 'num_leaves': 56, 'max_depth': 6, 'min_child_samples': 25, 'subsample': 0.6912726728878613, 'colsample_bytree': 0.7574269294896714}. Best is trial 2 with value: 0.2778100019892509.\n",
      "[I 2025-10-05 22:50:17,253] Trial 3 finished with value: 0.27930366901996373 and parameters: {'learning_rate': 0.03647316284911211, 'num_leaves': 59, 'max_depth': 7, 'min_child_samples': 24, 'subsample': 0.6876433945605654, 'colsample_bytree': 0.7099085529881075}. Best is trial 2 with value: 0.2778100019892509.\n",
      "[I 2025-10-05 22:50:22,333] Trial 4 finished with value: 0.27745882611969463 and parameters: {'learning_rate': 0.03920673972242137, 'num_leaves': 74, 'max_depth': 6, 'min_child_samples': 35, 'subsample': 0.7777243706586128, 'colsample_bytree': 0.6139351238159994}. Best is trial 4 with value: 0.27745882611969463.\n",
      "[I 2025-10-05 22:50:27,400] Trial 5 finished with value: 0.2775823835092999 and parameters: {'learning_rate': 0.061721159481070736, 'num_leaves': 55, 'max_depth': 6, 'min_child_samples': 49, 'subsample': 0.8896896099223679, 'colsample_bytree': 0.8425192044349383}. Best is trial 4 with value: 0.27745882611969463.\n",
      "[I 2025-10-05 22:50:33,133] Trial 6 finished with value: 0.2800305120999277 and parameters: {'learning_rate': 0.0249064396938244, 'num_leaves': 53, 'max_depth': 8, 'min_child_samples': 33, 'subsample': 0.6366114704534336, 'colsample_bytree': 0.748553073033381}. Best is trial 4 with value: 0.27745882611969463.\n",
      "[I 2025-10-05 22:50:38,141] Trial 7 finished with value: 0.2822736476688034 and parameters: {'learning_rate': 0.011085122517311707, 'num_leaves': 78, 'max_depth': 6, 'min_child_samples': 40, 'subsample': 0.6935133228268233, 'colsample_bytree': 0.7560204063533432}. Best is trial 4 with value: 0.27745882611969463.\n",
      "[I 2025-10-05 22:50:44,271] Trial 8 finished with value: 0.2799111798484178 and parameters: {'learning_rate': 0.05143828405076928, 'num_leaves': 55, 'max_depth': 8, 'min_child_samples': 44, 'subsample': 0.8818496824692568, 'colsample_bytree': 0.8684482051282947}. Best is trial 4 with value: 0.27745882611969463.\n",
      "[I 2025-10-05 22:50:49,366] Trial 9 finished with value: 0.2775967813862513 and parameters: {'learning_rate': 0.059963338824126605, 'num_leaves': 78, 'max_depth': 6, 'min_child_samples': 26, 'subsample': 0.6135681866731614, 'colsample_bytree': 0.6975990992289793}. Best is trial 4 with value: 0.27745882611969463.\n",
      "[I 2025-10-05 22:50:55,369] Trial 10 finished with value: 0.27827991733630997 and parameters: {'learning_rate': 0.16968794650474459, 'num_leaves': 71, 'max_depth': 7, 'min_child_samples': 32, 'subsample': 0.8007214479338578, 'colsample_bytree': 0.6116175599883549}. Best is trial 4 with value: 0.27745882611969463.\n",
      "[I 2025-10-05 22:51:00,461] Trial 11 finished with value: 0.27638767124919694 and parameters: {'learning_rate': 0.07992590597755737, 'num_leaves': 63, 'max_depth': 6, 'min_child_samples': 50, 'subsample': 0.8980940899978322, 'colsample_bytree': 0.8271623740950295}. Best is trial 11 with value: 0.27638767124919694.\n",
      "[I 2025-10-05 22:51:05,575] Trial 12 finished with value: 0.276565631463913 and parameters: {'learning_rate': 0.08955465219167734, 'num_leaves': 65, 'max_depth': 6, 'min_child_samples': 49, 'subsample': 0.8069671270049076, 'colsample_bytree': 0.814466017324381}. Best is trial 11 with value: 0.27638767124919694.\n",
      "[I 2025-10-05 22:51:10,708] Trial 13 finished with value: 0.27753783580610336 and parameters: {'learning_rate': 0.1029843363371083, 'num_leaves': 65, 'max_depth': 6, 'min_child_samples': 50, 'subsample': 0.8335210179505746, 'colsample_bytree': 0.817852561735287}. Best is trial 11 with value: 0.27638767124919694.\n",
      "[I 2025-10-05 22:51:16,616] Trial 14 finished with value: 0.27805020706848754 and parameters: {'learning_rate': 0.08962278983461508, 'num_leaves': 64, 'max_depth': 7, 'min_child_samples': 47, 'subsample': 0.843871099149283, 'colsample_bytree': 0.8127438799509236}. Best is trial 11 with value: 0.27638767124919694.\n",
      "[I 2025-10-05 22:51:22,557] Trial 15 finished with value: 0.277531166529793 and parameters: {'learning_rate': 0.19961837193620555, 'num_leaves': 69, 'max_depth': 7, 'min_child_samples': 45, 'subsample': 0.7402520837687134, 'colsample_bytree': 0.7934021055804257}. Best is trial 11 with value: 0.27638767124919694.\n",
      "[I 2025-10-05 22:51:27,432] Trial 16 finished with value: 0.27665401480394625 and parameters: {'learning_rate': 0.07697934615436167, 'num_leaves': 61, 'max_depth': 6, 'min_child_samples': 20, 'subsample': 0.8479149827109582, 'colsample_bytree': 0.8514865917162073}. Best is trial 11 with value: 0.27638767124919694.\n",
      "[I 2025-10-05 22:51:32,504] Trial 17 finished with value: 0.2778120536950806 and parameters: {'learning_rate': 0.13454670718592737, 'num_leaves': 69, 'max_depth': 6, 'min_child_samples': 44, 'subsample': 0.7465870028834702, 'colsample_bytree': 0.7788073983175453}. Best is trial 11 with value: 0.27638767124919694.\n",
      "[I 2025-10-05 22:51:37,379] Trial 18 finished with value: 0.275791788355054 and parameters: {'learning_rate': 0.0730094433433837, 'num_leaves': 61, 'max_depth': 6, 'min_child_samples': 50, 'subsample': 0.801163542781466, 'colsample_bytree': 0.8931799396785234}. Best is trial 18 with value: 0.275791788355054.\n",
      "[I 2025-10-05 22:51:42,975] Trial 19 finished with value: 0.2796225061830333 and parameters: {'learning_rate': 0.02607136759501136, 'num_leaves': 50, 'max_depth': 7, 'min_child_samples': 41, 'subsample': 0.8646656706020807, 'colsample_bytree': 0.8891584993828294}. Best is trial 18 with value: 0.275791788355054.\n",
      "[I 2025-10-05 22:51:49,132] Trial 20 finished with value: 0.27879313550532503 and parameters: {'learning_rate': 0.0716086938858803, 'num_leaves': 61, 'max_depth': 7, 'min_child_samples': 46, 'subsample': 0.8971686196840247, 'colsample_bytree': 0.8638302073592148}. Best is trial 18 with value: 0.275791788355054.\n",
      "[I 2025-10-05 22:51:54,258] Trial 21 finished with value: 0.27666232069456237 and parameters: {'learning_rate': 0.09819907799321385, 'num_leaves': 65, 'max_depth': 6, 'min_child_samples': 50, 'subsample': 0.801670321765679, 'colsample_bytree': 0.8212569917664228}. Best is trial 18 with value: 0.275791788355054.\n",
      "[I 2025-10-05 22:51:59,323] Trial 22 finished with value: 0.27649165966695993 and parameters: {'learning_rate': 0.05007078604153586, 'num_leaves': 63, 'max_depth': 6, 'min_child_samples': 48, 'subsample': 0.8132002218261577, 'colsample_bytree': 0.8379904123584904}. Best is trial 18 with value: 0.275791788355054.\n",
      "[I 2025-10-05 22:52:04,339] Trial 23 finished with value: 0.2795300552681745 and parameters: {'learning_rate': 0.018417256221364392, 'num_leaves': 61, 'max_depth': 6, 'min_child_samples': 47, 'subsample': 0.8266763902471137, 'colsample_bytree': 0.8419391457441594}. Best is trial 18 with value: 0.275791788355054.\n",
      "[I 2025-10-05 22:52:09,503] Trial 24 finished with value: 0.2768342607159741 and parameters: {'learning_rate': 0.04953015323120767, 'num_leaves': 59, 'max_depth': 6, 'min_child_samples': 43, 'subsample': 0.7735519697193411, 'colsample_bytree': 0.8950300073817886}. Best is trial 18 with value: 0.275791788355054.\n",
      "[I 2025-10-05 22:52:14,500] Trial 25 finished with value: 0.27670489955152766 and parameters: {'learning_rate': 0.04509368882045436, 'num_leaves': 67, 'max_depth': 6, 'min_child_samples': 47, 'subsample': 0.7212506262708488, 'colsample_bytree': 0.8710526705672428}. Best is trial 18 with value: 0.275791788355054.\n",
      "[I 2025-10-05 22:52:19,534] Trial 26 finished with value: 0.2767051231012409 and parameters: {'learning_rate': 0.06442084984764693, 'num_leaves': 63, 'max_depth': 6, 'min_child_samples': 50, 'subsample': 0.7796958855271013, 'colsample_bytree': 0.7832859977302129}. Best is trial 18 with value: 0.275791788355054.\n",
      "[I 2025-10-05 22:52:25,393] Trial 27 finished with value: 0.278267715100691 and parameters: {'learning_rate': 0.13548522957478576, 'num_leaves': 58, 'max_depth': 7, 'min_child_samples': 37, 'subsample': 0.8669304743007588, 'colsample_bytree': 0.8415598438582482}. Best is trial 18 with value: 0.275791788355054.\n",
      "[I 2025-10-05 22:52:30,422] Trial 28 finished with value: 0.276257209199947 and parameters: {'learning_rate': 0.0811863642682614, 'num_leaves': 62, 'max_depth': 6, 'min_child_samples': 48, 'subsample': 0.8195037180585761, 'colsample_bytree': 0.8740163598488159}. Best is trial 18 with value: 0.275791788355054.\n",
      "[I 2025-10-05 22:52:37,010] Trial 29 finished with value: 0.27961706164500955 and parameters: {'learning_rate': 0.08157006645959405, 'num_leaves': 68, 'max_depth': 8, 'min_child_samples': 42, 'subsample': 0.8645292575510656, 'colsample_bytree': 0.8761806875464813}. Best is trial 18 with value: 0.275791788355054.\n",
      "✓ Best Pinball loss: 0.2758\n",
      "✓ Best params: {'learning_rate': 0.0730094433433837, 'num_leaves': 61, 'max_depth': 6, 'min_child_samples': 50, 'subsample': 0.801163542781466, 'colsample_bytree': 0.8931799396785234}\n"
     ]
    }
   ],
   "source": [
    "dict_params_50 = forecast.tune(\n",
    "    df_input,\n",
    "    horizon,\n",
    "    input_columns,\n",
    "    numerical_columns,\n",
    "    categorical_columns,\n",
    "    alpha = 0.5\n",
    ")"
   ]
  },
  {
   "cell_type": "code",
   "execution_count": 8,
   "metadata": {},
   "outputs": [
    {
     "name": "stdout",
     "output_type": "stream",
     "text": [
      "Tuning forecast model for quantile (α=0.1) with 30 trials...\n"
     ]
    },
    {
     "name": "stderr",
     "output_type": "stream",
     "text": [
      "[I 2025-10-05 22:52:52,763] A new study created in memory with name: no-name-82964169-1e7a-4fbc-8aff-9e093690b902\n"
     ]
    },
    {
     "name": "stdout",
     "output_type": "stream",
     "text": [
      "X shape pre-filtering: (442520, 27)\n",
      "X shape post-filtering: (425330, 27)\n",
      "Train dates [2010-03-16 00:00:00 to 2023-12-26 00:00:00], Test dates [2024-01-02 00:00:00 to 2025-07-29 00:00:00]\n",
      "X training shape: (392634, 27)\n",
      "X test shape: (32696, 27)\n"
     ]
    },
    {
     "data": {
      "application/vnd.jupyter.widget-view+json": {
       "model_id": "f07f25a478c345f18a94bbfda077d753",
       "version_major": 2,
       "version_minor": 0
      },
      "text/plain": [
       "  0%|          | 0/30 [00:00<?, ?it/s]"
      ]
     },
     "metadata": {},
     "output_type": "display_data"
    },
    {
     "name": "stdout",
     "output_type": "stream",
     "text": [
      "[I 2025-10-05 22:52:59,656] Trial 0 finished with value: 0.07132541919557504 and parameters: {'learning_rate': 0.030710573677773714, 'num_leaves': 79, 'max_depth': 8, 'min_child_samples': 38, 'subsample': 0.6468055921327309, 'colsample_bytree': 0.6467983561008608}. Best is trial 0 with value: 0.07132541919557504.\n",
      "[I 2025-10-05 22:53:05,827] Trial 1 finished with value: 0.07128314450565694 and parameters: {'learning_rate': 0.011900590783184251, 'num_leaves': 76, 'max_depth': 7, 'min_child_samples': 41, 'subsample': 0.6061753482887408, 'colsample_bytree': 0.8909729556485984}. Best is trial 1 with value: 0.07128314450565694.\n",
      "[I 2025-10-05 22:53:10,592] Trial 2 finished with value: 0.07133880026108735 and parameters: {'learning_rate': 0.12106896936002161, 'num_leaves': 56, 'max_depth': 6, 'min_child_samples': 25, 'subsample': 0.6912726728878613, 'colsample_bytree': 0.7574269294896714}. Best is trial 1 with value: 0.07128314450565694.\n",
      "[I 2025-10-05 22:53:16,163] Trial 3 finished with value: 0.0713236437135522 and parameters: {'learning_rate': 0.03647316284911211, 'num_leaves': 59, 'max_depth': 7, 'min_child_samples': 24, 'subsample': 0.6876433945605654, 'colsample_bytree': 0.7099085529881075}. Best is trial 1 with value: 0.07128314450565694.\n",
      "[I 2025-10-05 22:53:21,019] Trial 4 finished with value: 0.07111000360242059 and parameters: {'learning_rate': 0.03920673972242137, 'num_leaves': 74, 'max_depth': 6, 'min_child_samples': 35, 'subsample': 0.7777243706586128, 'colsample_bytree': 0.6139351238159994}. Best is trial 4 with value: 0.07111000360242059.\n",
      "[I 2025-10-05 22:53:25,872] Trial 5 finished with value: 0.07130069064412241 and parameters: {'learning_rate': 0.061721159481070736, 'num_leaves': 55, 'max_depth': 6, 'min_child_samples': 49, 'subsample': 0.8896896099223679, 'colsample_bytree': 0.8425192044349383}. Best is trial 4 with value: 0.07111000360242059.\n",
      "[I 2025-10-05 22:53:31,527] Trial 6 finished with value: 0.07130487212210963 and parameters: {'learning_rate': 0.0249064396938244, 'num_leaves': 53, 'max_depth': 8, 'min_child_samples': 33, 'subsample': 0.6366114704534336, 'colsample_bytree': 0.748553073033381}. Best is trial 4 with value: 0.07111000360242059.\n",
      "[I 2025-10-05 22:53:36,399] Trial 7 finished with value: 0.07108774932653962 and parameters: {'learning_rate': 0.011085122517311707, 'num_leaves': 78, 'max_depth': 6, 'min_child_samples': 40, 'subsample': 0.6935133228268233, 'colsample_bytree': 0.7560204063533432}. Best is trial 7 with value: 0.07108774932653962.\n",
      "[I 2025-10-05 22:53:42,297] Trial 8 finished with value: 0.0713092307551397 and parameters: {'learning_rate': 0.05143828405076928, 'num_leaves': 55, 'max_depth': 8, 'min_child_samples': 44, 'subsample': 0.8818496824692568, 'colsample_bytree': 0.8684482051282947}. Best is trial 7 with value: 0.07108774932653962.\n",
      "[I 2025-10-05 22:53:47,177] Trial 9 finished with value: 0.07115776259193315 and parameters: {'learning_rate': 0.059963338824126605, 'num_leaves': 78, 'max_depth': 6, 'min_child_samples': 26, 'subsample': 0.6135681866731614, 'colsample_bytree': 0.6975990992289793}. Best is trial 7 with value: 0.07108774932653962.\n",
      "[I 2025-10-05 22:53:53,116] Trial 10 finished with value: 0.07130834700356795 and parameters: {'learning_rate': 0.010633818325898145, 'num_leaves': 67, 'max_depth': 7, 'min_child_samples': 48, 'subsample': 0.7832421081755242, 'colsample_bytree': 0.8070741220707436}. Best is trial 7 with value: 0.07108774932653962.\n",
      "[I 2025-10-05 22:53:57,870] Trial 11 finished with value: 0.07108344272353269 and parameters: {'learning_rate': 0.018230056277344846, 'num_leaves': 71, 'max_depth': 6, 'min_child_samples': 34, 'subsample': 0.7677781244075669, 'colsample_bytree': 0.6026058107990008}. Best is trial 11 with value: 0.07108344272353269.\n",
      "[I 2025-10-05 22:54:02,769] Trial 12 finished with value: 0.07103573337378528 and parameters: {'learning_rate': 0.017796089630892412, 'num_leaves': 70, 'max_depth': 6, 'min_child_samples': 31, 'subsample': 0.7281336916899995, 'colsample_bytree': 0.7775050907790179}. Best is trial 12 with value: 0.07103573337378528.\n",
      "[I 2025-10-05 22:54:07,611] Trial 13 finished with value: 0.07105453634108083 and parameters: {'learning_rate': 0.01909014218697476, 'num_leaves': 69, 'max_depth': 6, 'min_child_samples': 30, 'subsample': 0.8314992429770814, 'colsample_bytree': 0.8030454174286845}. Best is trial 12 with value: 0.07103573337378528.\n",
      "[I 2025-10-05 22:54:13,465] Trial 14 finished with value: 0.07127158284161411 and parameters: {'learning_rate': 0.017467510567751064, 'num_leaves': 64, 'max_depth': 7, 'min_child_samples': 30, 'subsample': 0.8540988370165997, 'colsample_bytree': 0.8107568866753901}. Best is trial 12 with value: 0.07103573337378528.\n",
      "[I 2025-10-05 22:54:19,363] Trial 15 finished with value: 0.07129418683260842 and parameters: {'learning_rate': 0.01938419246858628, 'num_leaves': 68, 'max_depth': 7, 'min_child_samples': 30, 'subsample': 0.8199952636885919, 'colsample_bytree': 0.8056513824386803}. Best is trial 12 with value: 0.07103573337378528.\n",
      "[I 2025-10-05 22:54:24,246] Trial 16 finished with value: 0.07120122578868324 and parameters: {'learning_rate': 0.09010849839987296, 'num_leaves': 62, 'max_depth': 6, 'min_child_samples': 20, 'subsample': 0.7342935808347012, 'colsample_bytree': 0.7854984372554733}. Best is trial 12 with value: 0.07103573337378528.\n",
      "[I 2025-10-05 22:54:29,077] Trial 17 finished with value: 0.07108701297711947 and parameters: {'learning_rate': 0.026145525408633134, 'num_leaves': 71, 'max_depth': 6, 'min_child_samples': 31, 'subsample': 0.8190291886518194, 'colsample_bytree': 0.7153185766218169}. Best is trial 12 with value: 0.07103573337378528.\n",
      "[I 2025-10-05 22:54:33,923] Trial 18 finished with value: 0.07112242815872004 and parameters: {'learning_rate': 0.015338128681192003, 'num_leaves': 72, 'max_depth': 6, 'min_child_samples': 27, 'subsample': 0.7341587531796564, 'colsample_bytree': 0.8359295376640083}. Best is trial 12 with value: 0.07103573337378528.\n",
      "[I 2025-10-05 22:54:39,220] Trial 19 finished with value: 0.07132669964471655 and parameters: {'learning_rate': 0.021735028511696286, 'num_leaves': 50, 'max_depth': 7, 'min_child_samples': 20, 'subsample': 0.8164409974096344, 'colsample_bytree': 0.6678802871931868}. Best is trial 12 with value: 0.07103573337378528.\n",
      "[I 2025-10-05 22:54:45,008] Trial 20 finished with value: 0.07128876631015496 and parameters: {'learning_rate': 0.1796892770417748, 'num_leaves': 68, 'max_depth': 7, 'min_child_samples': 38, 'subsample': 0.8503243044981835, 'colsample_bytree': 0.7739988052374277}. Best is trial 12 with value: 0.07103573337378528.\n",
      "[I 2025-10-05 22:54:49,779] Trial 21 finished with value: 0.071356520406983 and parameters: {'learning_rate': 0.014509456908913889, 'num_leaves': 71, 'max_depth': 6, 'min_child_samples': 35, 'subsample': 0.7687429544891845, 'colsample_bytree': 0.8389436066826315}. Best is trial 12 with value: 0.07103573337378528.\n",
      "[I 2025-10-05 22:54:54,611] Trial 22 finished with value: 0.07111085207649276 and parameters: {'learning_rate': 0.02933225057346694, 'num_leaves': 65, 'max_depth': 6, 'min_child_samples': 28, 'subsample': 0.747501560904127, 'colsample_bytree': 0.7389738666421142}. Best is trial 12 with value: 0.07103573337378528.\n",
      "[I 2025-10-05 22:54:59,415] Trial 23 finished with value: 0.0710398981091337 and parameters: {'learning_rate': 0.015043430311065215, 'num_leaves': 74, 'max_depth': 6, 'min_child_samples': 34, 'subsample': 0.7138381686544061, 'colsample_bytree': 0.6062165518278145}. Best is trial 12 with value: 0.07103573337378528.\n",
      "[I 2025-10-05 22:55:04,261] Trial 24 finished with value: 0.07109985163116621 and parameters: {'learning_rate': 0.013702665318347056, 'num_leaves': 74, 'max_depth': 6, 'min_child_samples': 32, 'subsample': 0.7073531472851151, 'colsample_bytree': 0.6806782345484179}. Best is trial 12 with value: 0.07103573337378528.\n",
      "[I 2025-10-05 22:55:09,042] Trial 25 finished with value: 0.07106351800590871 and parameters: {'learning_rate': 0.021269917866764493, 'num_leaves': 62, 'max_depth': 6, 'min_child_samples': 23, 'subsample': 0.6623902433381708, 'colsample_bytree': 0.728907931286743}. Best is trial 12 with value: 0.07103573337378528.\n",
      "[I 2025-10-05 22:55:13,851] Trial 26 finished with value: 0.07106811144221195 and parameters: {'learning_rate': 0.013875176316903399, 'num_leaves': 74, 'max_depth': 6, 'min_child_samples': 29, 'subsample': 0.7164277454835952, 'colsample_bytree': 0.7825777031021047}. Best is trial 12 with value: 0.07103573337378528.\n",
      "[I 2025-10-05 22:55:19,629] Trial 27 finished with value: 0.07132488318416198 and parameters: {'learning_rate': 0.03591157588032302, 'num_leaves': 69, 'max_depth': 7, 'min_child_samples': 38, 'subsample': 0.7910158109848426, 'colsample_bytree': 0.6376853951945265}. Best is trial 12 with value: 0.07103573337378528.\n",
      "[I 2025-10-05 22:55:24,458] Trial 28 finished with value: 0.07113103093450043 and parameters: {'learning_rate': 0.016113184160548157, 'num_leaves': 76, 'max_depth': 6, 'min_child_samples': 32, 'subsample': 0.6762686319709121, 'colsample_bytree': 0.8202804292547032}. Best is trial 12 with value: 0.07103573337378528.\n",
      "[I 2025-10-05 22:55:31,337] Trial 29 finished with value: 0.07132735624483741 and parameters: {'learning_rate': 0.024410565795557008, 'num_leaves': 80, 'max_depth': 8, 'min_child_samples': 37, 'subsample': 0.7254354577433718, 'colsample_bytree': 0.6565776692454253}. Best is trial 12 with value: 0.07103573337378528.\n",
      "✓ Best Pinball loss: 0.0710\n",
      "✓ Best params: {'learning_rate': 0.017796089630892412, 'num_leaves': 70, 'max_depth': 6, 'min_child_samples': 31, 'subsample': 0.7281336916899995, 'colsample_bytree': 0.7775050907790179}\n"
     ]
    }
   ],
   "source": [
    "dict_params_10 = forecast.tune(\n",
    "    df_input,\n",
    "    horizon,\n",
    "    input_columns,\n",
    "    numerical_columns,\n",
    "    categorical_columns,\n",
    "    alpha = 0.1\n",
    ")"
   ]
  },
  {
   "cell_type": "markdown",
   "metadata": {},
   "source": [
    "### Convert to a Single Dict"
   ]
  },
  {
   "cell_type": "code",
   "execution_count": 19,
   "metadata": {},
   "outputs": [],
   "source": [
    "dict_params = {}\n",
    "dict_params['mean'] = dict_params_mean['best_params']\n",
    "dict_params['90'] = dict_params_90['best_params']\n",
    "dict_params['50'] = dict_params_50['best_params']\n",
    "dict_params['10'] = dict_params_10['best_params']\n",
    "\n"
   ]
  },
  {
   "cell_type": "code",
   "execution_count": null,
   "metadata": {},
   "outputs": [],
   "source": [
    "with open(\"../src/resources/model_optimal_params.json\", \"w\") as f:\n",
    "    json.dump(dict_params, f, indent=4)"
   ]
  },
  {
   "cell_type": "code",
   "execution_count": null,
   "metadata": {},
   "outputs": [],
   "source": []
  }
 ],
 "metadata": {
  "kernelspec": {
   "display_name": "conda_python3",
   "language": "python",
   "name": "conda_python3"
  },
  "language_info": {
   "codemirror_mode": {
    "name": "ipython",
    "version": 3
   },
   "file_extension": ".py",
   "mimetype": "text/x-python",
   "name": "python",
   "nbconvert_exporter": "python",
   "pygments_lexer": "ipython3",
   "version": "3.10.18"
  }
 },
 "nbformat": 4,
 "nbformat_minor": 4
}
