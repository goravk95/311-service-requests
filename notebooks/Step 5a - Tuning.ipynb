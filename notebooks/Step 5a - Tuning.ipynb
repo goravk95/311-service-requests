{
 "cells": [
  {
   "cell_type": "markdown",
   "metadata": {},
   "source": [
    "# Step 5a: Tuning\n",
    "This notebook tunes four LightGBM forecasting models to predict next-week service request counts: **mean**, **median**, **10th percentile**, and **90th percentile**.  \n",
    "The tuning process is performed using the `tune(...)` function defined in this notebook.\n",
    "\n",
    "---\n",
    "\n",
    "Running this notebook is **not recommended** unless absolutely necessary — the full tuning process took **~10 minutes** on an **AWS EC2 `c5d.18xlarge`** instance.  \n",
    "This machine has the following specs:\n",
    "- **36 vCPUs**  \n",
    "- **144 GiB memory**  \n",
    "- **High-performance NVMe SSD (local storage)**  \n",
    "- **Optimized for compute-intensive workloads**\n",
    "\n",
    "Even on such high-end hardware, Optuna’s multi-trial optimization (4 models × 30 trials each) requires substantial CPU and memory resources.  \n",
    "If you only need to rerun a single quantile model or make incremental adjustments, consider reducing `n_trials` or reusing stored best parameters.\n",
    "\n",
    "---\n",
    "\n",
    "## Why Optuna\n",
    "\n",
    "Optuna is used for **efficient hyperparameter tuning**.  \n",
    "Its Tree-Structured Parzen Estimator (TPE) algorithm allows the search to focus on promising hyperparameter regions instead of performing exhaustive grid search.  \n",
    "This makes it both **faster** and **more effective** when the number of trials is limited.\n",
    "\n",
    "By wrapping our entire scikit-learn pipeline in an objective function, Optuna can automatically tune LightGBM parameters to minimize the relevant loss metric for each model type — Poisson deviance for mean prediction and pinball loss for quantile models.\n",
    "\n",
    "---\n",
    "\n",
    "## Why These Initial Settings\n",
    "\n",
    "### Training and Test Split\n",
    "The time-based split at `test_cutoff=\"2024-01-01\"` ensures that **no learnings from the future leak into the training data**.  \n",
    "This is aligned with how the model is trained in production — predictions are generated only using information available up to the forecast date.\n",
    "\n",
    "### Modeling Choices\n",
    "- **Mean Model**  \n",
    "  Uses the `poisson` objective, which is appropriate for nonnegative count data.\n",
    "- **Quantile Models**  \n",
    "  Use the `quantile` objective with `alpha ∈ {0.1, 0.5, 0.9}` to estimate the distribution’s lower, median, and upper bounds.\n",
    "\n",
    "### Hyperparameter Search Space\n",
    "| Parameter | Range | Purpose |\n",
    "|------------|--------|----------|\n",
    "| `learning_rate` | [0.01, 0.2] | Controls learning speed and generalization |\n",
    "| `num_leaves` | [50, 80] | Balances model complexity |\n",
    "| `max_depth` | [6, 8] | Limits tree depth to avoid overfitting |\n",
    "| `min_child_samples` | [20, 50] | Regularizes splits with low sample support |\n",
    "| `subsample`, `colsample_bytree` | [0.6, 0.9] | Adds randomness for robustness |\n",
    "| `n_estimators` | 500 | Provides sufficient boosting rounds for learning stability |\n",
    "\n",
    "### Reproducibility\n",
    "A fixed `random_state=42` ensures consistent results across runs.\n"
   ]
  },
  {
   "cell_type": "markdown",
   "metadata": {},
   "source": [
    "## Load Packages"
   ]
  },
  {
   "cell_type": "code",
   "execution_count": null,
   "metadata": {},
   "outputs": [
    {
     "name": "stderr",
     "output_type": "stream",
     "text": [
      "c:\\Users\\gorav\\GitHub\\nyc-311-service-requests\\.venv\\Lib\\site-packages\\tqdm\\auto.py:21: TqdmWarning: IProgress not found. Please update jupyter and ipywidgets. See https://ipywidgets.readthedocs.io/en/stable/user_install.html\n",
      "  from .autonotebook import tqdm as notebook_tqdm\n"
     ]
    }
   ],
   "source": [
    "import os\n",
    "import sys\n",
    "\n",
    "PACKAGE_PATH = os.path.abspath(os.path.join(os.getcwd(), '..'))\n",
    "sys.path.insert(0, PACKAGE_PATH)\n",
    "\n",
    "import json\n",
    "import pandas as pd\n",
    "import seaborn as sns\n",
    "from src import config\n",
    "from src import forecast\n",
    "\n",
    "pd.set_option('display.max_columns', 50)\n",
    "sns.set_style('whitegrid')\n",
    "from importlib import reload"
   ]
  },
  {
   "cell_type": "markdown",
   "metadata": {},
   "source": [
    "## Load Data"
   ]
  },
  {
   "cell_type": "code",
   "execution_count": 3,
   "metadata": {},
   "outputs": [],
   "source": [
    "forecast_panel = pd.read_parquet(config.PRESENTATION_DATA_PATH + '/model_fitting_data.parquet')"
   ]
  },
  {
   "cell_type": "markdown",
   "metadata": {},
   "source": [
    "## Inputs"
   ]
  },
  {
   "cell_type": "code",
   "execution_count": null,
   "metadata": {},
   "outputs": [],
   "source": [
    "numerical_columns = config.NUMERICAL_COLUMNS\n",
    "categorical_columns = config.CATEGORICAL_COLUMNS\n",
    "horizon = 1\n",
    "df_input = forecast_panel.copy()\n",
    "input_columns = df_input.columns"
   ]
  },
  {
   "cell_type": "markdown",
   "metadata": {},
   "source": [
    "## Hyper Parameter Tuning"
   ]
  },
  {
   "cell_type": "code",
   "execution_count": 5,
   "metadata": {},
   "outputs": [
    {
     "name": "stdout",
     "output_type": "stream",
     "text": [
      "Tuning forecast model for poisson (mean) with 30 trials...\n",
      "X shape pre-filtering: (547535, 28)\n",
      "X shape post-filtering: (547535, 28)\n"
     ]
    },
    {
     "name": "stderr",
     "output_type": "stream",
     "text": [
      "[I 2025-10-06 05:31:58,262] A new study created in memory with name: no-name-7f0c2d12-cd6a-44f3-8473-1c99a57854ff\n"
     ]
    },
    {
     "name": "stdout",
     "output_type": "stream",
     "text": [
      "Train dates [2009-12-29 00:00:00 to 2023-12-26 00:00:00], Test dates [2024-01-02 00:00:00 to 2025-07-29 00:00:00]\n",
      "X training shape: (487161, 28)\n",
      "X test shape: (60374, 28)\n"
     ]
    },
    {
     "data": {
      "application/vnd.jupyter.widget-view+json": {
       "model_id": "73295fb540f64a45bf4f57170680adb8",
       "version_major": 2,
       "version_minor": 0
      },
      "text/plain": [
       "  0%|          | 0/30 [00:00<?, ?it/s]"
      ]
     },
     "metadata": {},
     "output_type": "display_data"
    },
    {
     "name": "stdout",
     "output_type": "stream",
     "text": [
      "[I 2025-10-06 05:32:04,732] Trial 0 finished with value: 1.2468016839770635 and parameters: {'learning_rate': 0.030710573677773714, 'num_leaves': 79, 'max_depth': 8, 'min_child_samples': 38, 'subsample': 0.6468055921327309, 'colsample_bytree': 0.6467983561008608}. Best is trial 0 with value: 1.2468016839770635.\n",
      "[I 2025-10-06 05:32:11,030] Trial 1 finished with value: 1.2537382443683658 and parameters: {'learning_rate': 0.011900590783184251, 'num_leaves': 76, 'max_depth': 7, 'min_child_samples': 41, 'subsample': 0.6061753482887408, 'colsample_bytree': 0.8909729556485984}. Best is trial 0 with value: 1.2468016839770635.\n",
      "[I 2025-10-06 05:32:14,576] Trial 2 finished with value: 1.2497434530210318 and parameters: {'learning_rate': 0.12106896936002161, 'num_leaves': 56, 'max_depth': 6, 'min_child_samples': 25, 'subsample': 0.6912726728878613, 'colsample_bytree': 0.7574269294896714}. Best is trial 0 with value: 1.2468016839770635.\n",
      "[I 2025-10-06 05:32:19,198] Trial 3 finished with value: 1.2465413407672703 and parameters: {'learning_rate': 0.03647316284911211, 'num_leaves': 59, 'max_depth': 7, 'min_child_samples': 24, 'subsample': 0.6876433945605654, 'colsample_bytree': 0.7099085529881075}. Best is trial 3 with value: 1.2465413407672703.\n",
      "[I 2025-10-06 05:32:23,316] Trial 4 finished with value: 1.2479369075653854 and parameters: {'learning_rate': 0.03920673972242137, 'num_leaves': 74, 'max_depth': 6, 'min_child_samples': 35, 'subsample': 0.7777243706586128, 'colsample_bytree': 0.6139351238159994}. Best is trial 3 with value: 1.2465413407672703.\n",
      "[I 2025-10-06 05:32:27,023] Trial 5 finished with value: 1.2466219008336252 and parameters: {'learning_rate': 0.061721159481070736, 'num_leaves': 55, 'max_depth': 6, 'min_child_samples': 49, 'subsample': 0.8896896099223679, 'colsample_bytree': 0.8425192044349383}. Best is trial 3 with value: 1.2465413407672703.\n",
      "[I 2025-10-06 05:32:31,904] Trial 6 finished with value: 1.2467449607503127 and parameters: {'learning_rate': 0.0249064396938244, 'num_leaves': 53, 'max_depth': 8, 'min_child_samples': 33, 'subsample': 0.6366114704534336, 'colsample_bytree': 0.748553073033381}. Best is trial 3 with value: 1.2465413407672703.\n",
      "[I 2025-10-06 05:32:36,633] Trial 7 finished with value: 1.258117425845496 and parameters: {'learning_rate': 0.011085122517311707, 'num_leaves': 78, 'max_depth': 6, 'min_child_samples': 40, 'subsample': 0.6935133228268233, 'colsample_bytree': 0.7560204063533432}. Best is trial 3 with value: 1.2465413407672703.\n",
      "[I 2025-10-06 05:32:41,037] Trial 8 finished with value: 1.247159552924404 and parameters: {'learning_rate': 0.05143828405076928, 'num_leaves': 55, 'max_depth': 8, 'min_child_samples': 44, 'subsample': 0.8818496824692568, 'colsample_bytree': 0.8684482051282947}. Best is trial 3 with value: 1.2465413407672703.\n",
      "[I 2025-10-06 05:32:44,796] Trial 9 finished with value: 1.247507654733724 and parameters: {'learning_rate': 0.059963338824126605, 'num_leaves': 78, 'max_depth': 6, 'min_child_samples': 26, 'subsample': 0.6135681866731614, 'colsample_bytree': 0.6975990992289793}. Best is trial 3 with value: 1.2465413407672703.\n",
      "[I 2025-10-06 05:32:48,720] Trial 10 finished with value: 1.2555951448154836 and parameters: {'learning_rate': 0.16968794650474459, 'num_leaves': 64, 'max_depth': 7, 'min_child_samples': 20, 'subsample': 0.7793643200422159, 'colsample_bytree': 0.8070741220707436}. Best is trial 3 with value: 1.2465413407672703.\n",
      "[I 2025-10-06 05:32:52,829] Trial 11 finished with value: 1.247313504269327 and parameters: {'learning_rate': 0.07825103513641335, 'num_leaves': 62, 'max_depth': 7, 'min_child_samples': 50, 'subsample': 0.8977212350051502, 'colsample_bytree': 0.8271623740950295}. Best is trial 3 with value: 1.2465413407672703.\n",
      "[I 2025-10-06 05:32:57,791] Trial 12 finished with value: 1.2467321118415786 and parameters: {'learning_rate': 0.021498227242205646, 'num_leaves': 59, 'max_depth': 7, 'min_child_samples': 49, 'subsample': 0.8277356703519336, 'colsample_bytree': 0.693172458986909}. Best is trial 3 with value: 1.2465413407672703.\n",
      "[I 2025-10-06 05:33:01,370] Trial 13 finished with value: 1.2484678243316187 and parameters: {'learning_rate': 0.07974898878894174, 'num_leaves': 50, 'max_depth': 6, 'min_child_samples': 30, 'subsample': 0.7140387095521741, 'colsample_bytree': 0.8106011678804194}. Best is trial 3 with value: 1.2465413407672703.\n",
      "[I 2025-10-06 05:33:06,709] Trial 14 finished with value: 1.2480745120753893 and parameters: {'learning_rate': 0.01804310349102626, 'num_leaves': 68, 'max_depth': 7, 'min_child_samples': 22, 'subsample': 0.8296804004248789, 'colsample_bytree': 0.7173584160108522}. Best is trial 3 with value: 1.2465413407672703.\n",
      "[I 2025-10-06 05:33:11,290] Trial 15 finished with value: 1.2468027732694607 and parameters: {'learning_rate': 0.03715527584551858, 'num_leaves': 69, 'max_depth': 7, 'min_child_samples': 45, 'subsample': 0.7293136400968856, 'colsample_bytree': 0.8358266301679472}. Best is trial 3 with value: 1.2465413407672703.\n",
      "[I 2025-10-06 05:33:14,964] Trial 16 finished with value: 1.2511299113646617 and parameters: {'learning_rate': 0.10055249541152964, 'num_leaves': 59, 'max_depth': 6, 'min_child_samples': 28, 'subsample': 0.8347291902277341, 'colsample_bytree': 0.6457975787380286}. Best is trial 3 with value: 1.2465413407672703.\n",
      "[I 2025-10-06 05:33:19,465] Trial 17 finished with value: 1.2481575463789858 and parameters: {'learning_rate': 0.055439091518222156, 'num_leaves': 60, 'max_depth': 8, 'min_child_samples': 31, 'subsample': 0.7647578840606128, 'colsample_bytree': 0.7852499931675477}. Best is trial 3 with value: 1.2465413407672703.\n",
      "[I 2025-10-06 05:33:22,996] Trial 18 finished with value: 1.2500716766293563 and parameters: {'learning_rate': 0.16588044475131014, 'num_leaves': 50, 'max_depth': 6, 'min_child_samples': 46, 'subsample': 0.857922417985812, 'colsample_bytree': 0.7206701866014757}. Best is trial 3 with value: 1.2465413407672703.\n",
      "[I 2025-10-06 05:33:27,098] Trial 19 finished with value: 1.248142467686054 and parameters: {'learning_rate': 0.07671698723386751, 'num_leaves': 56, 'max_depth': 7, 'min_child_samples': 36, 'subsample': 0.6765171207641688, 'colsample_bytree': 0.8578949625586655}. Best is trial 3 with value: 1.2465413407672703.\n",
      "[I 2025-10-06 05:33:32,030] Trial 20 finished with value: 1.2467088270849287 and parameters: {'learning_rate': 0.029767341991457648, 'num_leaves': 67, 'max_depth': 7, 'min_child_samples': 23, 'subsample': 0.7394914092688144, 'colsample_bytree': 0.6707187244738222}. Best is trial 3 with value: 1.2465413407672703.\n",
      "[I 2025-10-06 05:33:37,061] Trial 21 finished with value: 1.2469130291470736 and parameters: {'learning_rate': 0.03139467724827363, 'num_leaves': 68, 'max_depth': 7, 'min_child_samples': 24, 'subsample': 0.7999715489233441, 'colsample_bytree': 0.6671194301933268}. Best is trial 3 with value: 1.2465413407672703.\n",
      "[I 2025-10-06 05:33:42,456] Trial 22 finished with value: 1.248501446833367 and parameters: {'learning_rate': 0.017304343089599286, 'num_leaves': 66, 'max_depth': 7, 'min_child_samples': 20, 'subsample': 0.737956952897382, 'colsample_bytree': 0.673447557827476}. Best is trial 3 with value: 1.2465413407672703.\n",
      "[I 2025-10-06 05:33:47,485] Trial 23 finished with value: 1.2470638989356087 and parameters: {'learning_rate': 0.04659627338644019, 'num_leaves': 72, 'max_depth': 8, 'min_child_samples': 28, 'subsample': 0.6655478261549855, 'colsample_bytree': 0.618226398911154}. Best is trial 3 with value: 1.2465413407672703.\n",
      "[I 2025-10-06 05:33:51,738] Trial 24 finished with value: 1.2479322575375789 and parameters: {'learning_rate': 0.028771689082382437, 'num_leaves': 62, 'max_depth': 6, 'min_child_samples': 22, 'subsample': 0.7526092355871784, 'colsample_bytree': 0.7313174357865996}. Best is trial 3 with value: 1.2465413407672703.\n",
      "[I 2025-10-06 05:33:56,456] Trial 25 finished with value: 1.2453267600010236 and parameters: {'learning_rate': 0.039021709280046314, 'num_leaves': 65, 'max_depth': 7, 'min_child_samples': 28, 'subsample': 0.7169143404809518, 'colsample_bytree': 0.695622778798847}. Best is trial 25 with value: 1.2453267600010236.\n",
      "[I 2025-10-06 05:34:01,456] Trial 26 finished with value: 1.246812964191647 and parameters: {'learning_rate': 0.037866933349160026, 'num_leaves': 63, 'max_depth': 8, 'min_child_samples': 27, 'subsample': 0.7073334161189939, 'colsample_bytree': 0.779113402511832}. Best is trial 25 with value: 1.2453267600010236.\n",
      "[I 2025-10-06 05:34:05,690] Trial 27 finished with value: 1.2479182199798406 and parameters: {'learning_rate': 0.056133393007138654, 'num_leaves': 53, 'max_depth': 7, 'min_child_samples': 33, 'subsample': 0.6568080991686245, 'colsample_bytree': 0.6959735562485289}. Best is trial 25 with value: 1.2453267600010236.\n",
      "[I 2025-10-06 05:34:09,515] Trial 28 finished with value: 1.247947954013705 and parameters: {'learning_rate': 0.07002424572625984, 'num_leaves': 71, 'max_depth': 6, 'min_child_samples': 30, 'subsample': 0.7174449175010539, 'colsample_bytree': 0.7719433386453898}. Best is trial 25 with value: 1.2453267600010236.\n",
      "[I 2025-10-06 05:34:13,643] Trial 29 finished with value: 1.249236330386732 and parameters: {'learning_rate': 0.09980608376506646, 'num_leaves': 58, 'max_depth': 7, 'min_child_samples': 37, 'subsample': 0.629928237497397, 'colsample_bytree': 0.6442343646572917}. Best is trial 25 with value: 1.2453267600010236.\n",
      "✓ Best Poisson deviance: 1.2453\n",
      "✓ Best params: {'learning_rate': 0.039021709280046314, 'num_leaves': 65, 'max_depth': 7, 'min_child_samples': 28, 'subsample': 0.7169143404809518, 'colsample_bytree': 0.695622778798847}\n"
     ]
    }
   ],
   "source": [
    "dict_params_mean = forecast.tune(\n",
    "    df_input,\n",
    "    horizon,\n",
    "    input_columns,\n",
    "    numerical_columns,\n",
    "    categorical_columns,\n",
    ")"
   ]
  },
  {
   "cell_type": "code",
   "execution_count": 6,
   "metadata": {},
   "outputs": [
    {
     "name": "stdout",
     "output_type": "stream",
     "text": [
      "Tuning forecast model for quantile (α=0.9) with 30 trials...\n",
      "X shape pre-filtering: (547535, 28)\n",
      "X shape post-filtering: (547535, 28)\n"
     ]
    },
    {
     "name": "stderr",
     "output_type": "stream",
     "text": [
      "[I 2025-10-06 05:34:31,344] A new study created in memory with name: no-name-12fa0ba4-b3e1-4bc9-9e08-7fcd4dcc20c1\n"
     ]
    },
    {
     "name": "stdout",
     "output_type": "stream",
     "text": [
      "Train dates [2009-12-29 00:00:00 to 2023-12-26 00:00:00], Test dates [2024-01-02 00:00:00 to 2025-07-29 00:00:00]\n",
      "X training shape: (487161, 28)\n",
      "X test shape: (60374, 28)\n"
     ]
    },
    {
     "data": {
      "application/vnd.jupyter.widget-view+json": {
       "model_id": "96532cceeb9f4611ace928db11577160",
       "version_major": 2,
       "version_minor": 0
      },
      "text/plain": [
       "  0%|          | 0/30 [00:00<?, ?it/s]"
      ]
     },
     "metadata": {},
     "output_type": "display_data"
    },
    {
     "name": "stdout",
     "output_type": "stream",
     "text": [
      "[I 2025-10-06 05:34:38,402] Trial 0 finished with value: 0.2475194483070389 and parameters: {'learning_rate': 0.030710573677773714, 'num_leaves': 79, 'max_depth': 8, 'min_child_samples': 38, 'subsample': 0.6468055921327309, 'colsample_bytree': 0.6467983561008608}. Best is trial 0 with value: 0.2475194483070389.\n",
      "[I 2025-10-06 05:34:44,705] Trial 1 finished with value: 0.24827559035425892 and parameters: {'learning_rate': 0.011900590783184251, 'num_leaves': 76, 'max_depth': 7, 'min_child_samples': 41, 'subsample': 0.6061753482887408, 'colsample_bytree': 0.8909729556485984}. Best is trial 0 with value: 0.2475194483070389.\n",
      "[I 2025-10-06 05:34:50,586] Trial 2 finished with value: 0.24980348336955763 and parameters: {'learning_rate': 0.12106896936002161, 'num_leaves': 56, 'max_depth': 6, 'min_child_samples': 25, 'subsample': 0.6912726728878613, 'colsample_bytree': 0.7574269294896714}. Best is trial 0 with value: 0.2475194483070389.\n",
      "[I 2025-10-06 05:34:57,085] Trial 3 finished with value: 0.24760472295384664 and parameters: {'learning_rate': 0.03647316284911211, 'num_leaves': 59, 'max_depth': 7, 'min_child_samples': 24, 'subsample': 0.6876433945605654, 'colsample_bytree': 0.7099085529881075}. Best is trial 0 with value: 0.2475194483070389.\n",
      "[I 2025-10-06 05:35:03,010] Trial 4 finished with value: 0.24777212014837474 and parameters: {'learning_rate': 0.03920673972242137, 'num_leaves': 74, 'max_depth': 6, 'min_child_samples': 35, 'subsample': 0.7777243706586128, 'colsample_bytree': 0.6139351238159994}. Best is trial 0 with value: 0.2475194483070389.\n",
      "[I 2025-10-06 05:35:08,895] Trial 5 finished with value: 0.24753955856739548 and parameters: {'learning_rate': 0.061721159481070736, 'num_leaves': 55, 'max_depth': 6, 'min_child_samples': 49, 'subsample': 0.8896896099223679, 'colsample_bytree': 0.8425192044349383}. Best is trial 0 with value: 0.2475194483070389.\n",
      "[I 2025-10-06 05:35:15,159] Trial 6 finished with value: 0.2476216980173255 and parameters: {'learning_rate': 0.0249064396938244, 'num_leaves': 53, 'max_depth': 8, 'min_child_samples': 33, 'subsample': 0.6366114704534336, 'colsample_bytree': 0.748553073033381}. Best is trial 0 with value: 0.2475194483070389.\n",
      "[I 2025-10-06 05:35:20,605] Trial 7 finished with value: 0.24826484944211685 and parameters: {'learning_rate': 0.011085122517311707, 'num_leaves': 78, 'max_depth': 6, 'min_child_samples': 40, 'subsample': 0.6935133228268233, 'colsample_bytree': 0.7560204063533432}. Best is trial 0 with value: 0.2475194483070389.\n",
      "[I 2025-10-06 05:35:27,203] Trial 8 finished with value: 0.2476599282090258 and parameters: {'learning_rate': 0.05143828405076928, 'num_leaves': 55, 'max_depth': 8, 'min_child_samples': 44, 'subsample': 0.8818496824692568, 'colsample_bytree': 0.8684482051282947}. Best is trial 0 with value: 0.2475194483070389.\n",
      "[I 2025-10-06 05:35:33,157] Trial 9 finished with value: 0.24806107226165627 and parameters: {'learning_rate': 0.059963338824126605, 'num_leaves': 78, 'max_depth': 6, 'min_child_samples': 26, 'subsample': 0.6135681866731614, 'colsample_bytree': 0.6975990992289793}. Best is trial 0 with value: 0.2475194483070389.\n",
      "[I 2025-10-06 05:35:39,893] Trial 10 finished with value: 0.2516269133483887 and parameters: {'learning_rate': 0.16968794650474459, 'num_leaves': 67, 'max_depth': 8, 'min_child_samples': 31, 'subsample': 0.792026550740267, 'colsample_bytree': 0.6116175599883549}. Best is trial 0 with value: 0.2475194483070389.\n",
      "[I 2025-10-06 05:35:46,284] Trial 11 finished with value: 0.2485890215213445 and parameters: {'learning_rate': 0.09080579246802399, 'num_leaves': 67, 'max_depth': 7, 'min_child_samples': 50, 'subsample': 0.8977212350051502, 'colsample_bytree': 0.8271623740950295}. Best is trial 0 with value: 0.2475194483070389.\n",
      "[I 2025-10-06 05:35:52,488] Trial 12 finished with value: 0.24766746072327547 and parameters: {'learning_rate': 0.023545343444990003, 'num_leaves': 62, 'max_depth': 7, 'min_child_samples': 49, 'subsample': 0.8277356703519336, 'colsample_bytree': 0.8228493014826395}. Best is trial 0 with value: 0.2475194483070389.\n",
      "[I 2025-10-06 05:35:58,922] Trial 13 finished with value: 0.24776399235474736 and parameters: {'learning_rate': 0.07940122022232445, 'num_leaves': 50, 'max_depth': 8, 'min_child_samples': 44, 'subsample': 0.7406115656663527, 'colsample_bytree': 0.6823454919847443}. Best is trial 0 with value: 0.2475194483070389.\n",
      "[I 2025-10-06 05:36:05,611] Trial 14 finished with value: 0.24788178487357473 and parameters: {'learning_rate': 0.022825210491130385, 'num_leaves': 73, 'max_depth': 7, 'min_child_samples': 39, 'subsample': 0.8448219674209506, 'colsample_bytree': 0.6547604635626425}. Best is trial 0 with value: 0.2475194483070389.\n",
      "[I 2025-10-06 05:36:11,416] Trial 15 finished with value: 0.24759604681326133 and parameters: {'learning_rate': 0.033934118678087585, 'num_leaves': 71, 'max_depth': 6, 'min_child_samples': 29, 'subsample': 0.7293136400968856, 'colsample_bytree': 0.8056513824386803}. Best is trial 0 with value: 0.2475194483070389.\n",
      "[I 2025-10-06 05:36:17,721] Trial 16 finished with value: 0.24792956106430342 and parameters: {'learning_rate': 0.016030182697577194, 'num_leaves': 62, 'max_depth': 8, 'min_child_samples': 46, 'subsample': 0.6577079635765187, 'colsample_bytree': 0.7953683793126899}. Best is trial 0 with value: 0.2475194483070389.\n",
      "[I 2025-10-06 05:36:24,349] Trial 17 finished with value: 0.24820455647640183 and parameters: {'learning_rate': 0.06778610015207868, 'num_leaves': 80, 'max_depth': 7, 'min_child_samples': 37, 'subsample': 0.8359883615309995, 'colsample_bytree': 0.6522603192276669}. Best is trial 0 with value: 0.2475194483070389.\n",
      "[I 2025-10-06 05:36:30,282] Trial 18 finished with value: 0.24723487959991597 and parameters: {'learning_rate': 0.04522445552665529, 'num_leaves': 70, 'max_depth': 6, 'min_child_samples': 47, 'subsample': 0.7827779868631538, 'colsample_bytree': 0.7268289952033784}. Best is trial 18 with value: 0.24723487959991597.\n",
      "[I 2025-10-06 05:36:36,819] Trial 19 finished with value: 0.2476951822924121 and parameters: {'learning_rate': 0.01730097440106963, 'num_leaves': 70, 'max_depth': 8, 'min_child_samples': 43, 'subsample': 0.777727493593023, 'colsample_bytree': 0.719153628079943}. Best is trial 18 with value: 0.24723487959991597.\n",
      "[I 2025-10-06 05:36:43,099] Trial 20 finished with value: 0.24757211410992544 and parameters: {'learning_rate': 0.0284170632762709, 'num_leaves': 68, 'max_depth': 7, 'min_child_samples': 46, 'subsample': 0.7178801477243091, 'colsample_bytree': 0.6557620654482614}. Best is trial 18 with value: 0.24723487959991597.\n",
      "[I 2025-10-06 05:36:48,987] Trial 21 finished with value: 0.24765480729744893 and parameters: {'learning_rate': 0.04893690835056778, 'num_leaves': 60, 'max_depth': 6, 'min_child_samples': 47, 'subsample': 0.8636211946129592, 'colsample_bytree': 0.8595657170315729}. Best is trial 18 with value: 0.24723487959991597.\n",
      "[I 2025-10-06 05:36:54,895] Trial 22 finished with value: 0.24844929940549812 and parameters: {'learning_rate': 0.10319834836600937, 'num_leaves': 65, 'max_depth': 6, 'min_child_samples': 20, 'subsample': 0.8096022973205228, 'colsample_bytree': 0.7817674168642494}. Best is trial 18 with value: 0.24723487959991597.\n",
      "[I 2025-10-06 05:37:00,767] Trial 23 finished with value: 0.2477471895375433 and parameters: {'learning_rate': 0.04659627338644019, 'num_leaves': 64, 'max_depth': 6, 'min_child_samples': 50, 'subsample': 0.6545013354136711, 'colsample_bytree': 0.7384782658777915}. Best is trial 18 with value: 0.24723487959991597.\n",
      "[I 2025-10-06 05:37:06,751] Trial 24 finished with value: 0.2481303320931083 and parameters: {'learning_rate': 0.06455277198551757, 'num_leaves': 74, 'max_depth': 6, 'min_child_samples': 37, 'subsample': 0.751178043507967, 'colsample_bytree': 0.671796583163628}. Best is trial 18 with value: 0.24723487959991597.\n",
      "[I 2025-10-06 05:37:13,336] Trial 25 finished with value: 0.2476420700944845 and parameters: {'learning_rate': 0.0324925964542188, 'num_leaves': 80, 'max_depth': 7, 'min_child_samples': 42, 'subsample': 0.75520576956422, 'colsample_bytree': 0.6323236814484812}. Best is trial 18 with value: 0.24723487959991597.\n",
      "[I 2025-10-06 05:37:19,226] Trial 26 finished with value: 0.2481521677284725 and parameters: {'learning_rate': 0.13390499764355238, 'num_leaves': 50, 'max_depth': 6, 'min_child_samples': 47, 'subsample': 0.8053834473731106, 'colsample_bytree': 0.7755653470321254}. Best is trial 18 with value: 0.24723487959991597.\n",
      "[I 2025-10-06 05:37:25,129] Trial 27 finished with value: 0.24758399581174217 and parameters: {'learning_rate': 0.04164132778336565, 'num_leaves': 71, 'max_depth': 6, 'min_child_samples': 48, 'subsample': 0.7144948234793441, 'colsample_bytree': 0.724875998658969}. Best is trial 18 with value: 0.24723487959991597.\n",
      "[I 2025-10-06 05:37:31,039] Trial 28 finished with value: 0.248057046951399 and parameters: {'learning_rate': 0.017589890147134885, 'num_leaves': 58, 'max_depth': 7, 'min_child_samples': 38, 'subsample': 0.8645868102747842, 'colsample_bytree': 0.8436720798645315}. Best is trial 18 with value: 0.24723487959991597.\n",
      "[I 2025-10-06 05:37:37,491] Trial 29 finished with value: 0.24858376667271181 and parameters: {'learning_rate': 0.07549550863005369, 'num_leaves': 76, 'max_depth': 7, 'min_child_samples': 41, 'subsample': 0.619103138613625, 'colsample_bytree': 0.8713474358420163}. Best is trial 18 with value: 0.24723487959991597.\n",
      "✓ Best Pinball loss: 0.2472\n",
      "✓ Best params: {'learning_rate': 0.04522445552665529, 'num_leaves': 70, 'max_depth': 6, 'min_child_samples': 47, 'subsample': 0.7827779868631538, 'colsample_bytree': 0.7268289952033784}\n"
     ]
    }
   ],
   "source": [
    "dict_params_90 = forecast.tune(\n",
    "    df_input,\n",
    "    horizon,\n",
    "    input_columns,\n",
    "    numerical_columns,\n",
    "    categorical_columns,\n",
    "    alpha = 0.9\n",
    ")"
   ]
  },
  {
   "cell_type": "code",
   "execution_count": 7,
   "metadata": {},
   "outputs": [
    {
     "name": "stdout",
     "output_type": "stream",
     "text": [
      "Tuning forecast model for quantile (α=0.5) with 30 trials...\n",
      "X shape pre-filtering: (547535, 28)\n",
      "X shape post-filtering: (547535, 28)\n"
     ]
    },
    {
     "name": "stderr",
     "output_type": "stream",
     "text": [
      "[I 2025-10-06 05:37:54,777] A new study created in memory with name: no-name-a59d3efd-544a-4907-ab99-b7e4f31f52ce\n"
     ]
    },
    {
     "name": "stdout",
     "output_type": "stream",
     "text": [
      "Train dates [2009-12-29 00:00:00 to 2023-12-26 00:00:00], Test dates [2024-01-02 00:00:00 to 2025-07-29 00:00:00]\n",
      "X training shape: (487161, 28)\n",
      "X test shape: (60374, 28)\n"
     ]
    },
    {
     "data": {
      "application/vnd.jupyter.widget-view+json": {
       "model_id": "79f71a4eb6ea4464bf11d673ecc5b286",
       "version_major": 2,
       "version_minor": 0
      },
      "text/plain": [
       "  0%|          | 0/30 [00:00<?, ?it/s]"
      ]
     },
     "metadata": {},
     "output_type": "display_data"
    },
    {
     "name": "stdout",
     "output_type": "stream",
     "text": [
      "[I 2025-10-06 05:38:02,310] Trial 0 finished with value: 0.36794942913557704 and parameters: {'learning_rate': 0.030710573677773714, 'num_leaves': 79, 'max_depth': 8, 'min_child_samples': 38, 'subsample': 0.6468055921327309, 'colsample_bytree': 0.6467983561008608}. Best is trial 0 with value: 0.36794942913557704.\n",
      "[I 2025-10-06 05:38:09,044] Trial 1 finished with value: 0.3672689725352087 and parameters: {'learning_rate': 0.011900590783184251, 'num_leaves': 76, 'max_depth': 7, 'min_child_samples': 41, 'subsample': 0.6061753482887408, 'colsample_bytree': 0.8909729556485984}. Best is trial 1 with value: 0.3672689725352087.\n",
      "[I 2025-10-06 05:38:14,998] Trial 2 finished with value: 0.3676738553075738 and parameters: {'learning_rate': 0.12106896936002161, 'num_leaves': 56, 'max_depth': 6, 'min_child_samples': 25, 'subsample': 0.6912726728878613, 'colsample_bytree': 0.7574269294896714}. Best is trial 1 with value: 0.3672689725352087.\n",
      "[I 2025-10-06 05:38:21,816] Trial 3 finished with value: 0.36826048389955085 and parameters: {'learning_rate': 0.03647316284911211, 'num_leaves': 59, 'max_depth': 7, 'min_child_samples': 24, 'subsample': 0.6876433945605654, 'colsample_bytree': 0.7099085529881075}. Best is trial 1 with value: 0.3672689725352087.\n",
      "[I 2025-10-06 05:38:27,998] Trial 4 finished with value: 0.368691090496257 and parameters: {'learning_rate': 0.03920673972242137, 'num_leaves': 74, 'max_depth': 6, 'min_child_samples': 35, 'subsample': 0.7777243706586128, 'colsample_bytree': 0.6139351238159994}. Best is trial 1 with value: 0.3672689725352087.\n",
      "[I 2025-10-06 05:38:33,832] Trial 5 finished with value: 0.36737852804482496 and parameters: {'learning_rate': 0.061721159481070736, 'num_leaves': 55, 'max_depth': 6, 'min_child_samples': 49, 'subsample': 0.8896896099223679, 'colsample_bytree': 0.8425192044349383}. Best is trial 1 with value: 0.3672689725352087.\n",
      "[I 2025-10-06 05:38:40,520] Trial 6 finished with value: 0.36918137712369764 and parameters: {'learning_rate': 0.0249064396938244, 'num_leaves': 53, 'max_depth': 8, 'min_child_samples': 33, 'subsample': 0.6366114704534336, 'colsample_bytree': 0.748553073033381}. Best is trial 1 with value: 0.3672689725352087.\n",
      "[I 2025-10-06 05:38:46,128] Trial 7 finished with value: 0.3690948055630415 and parameters: {'learning_rate': 0.011085122517311707, 'num_leaves': 78, 'max_depth': 6, 'min_child_samples': 40, 'subsample': 0.6935133228268233, 'colsample_bytree': 0.7560204063533432}. Best is trial 1 with value: 0.3672689725352087.\n",
      "[I 2025-10-06 05:38:52,932] Trial 8 finished with value: 0.36817308121055775 and parameters: {'learning_rate': 0.05143828405076928, 'num_leaves': 55, 'max_depth': 8, 'min_child_samples': 44, 'subsample': 0.8818496824692568, 'colsample_bytree': 0.8684482051282947}. Best is trial 1 with value: 0.3672689725352087.\n",
      "[I 2025-10-06 05:38:58,835] Trial 9 finished with value: 0.3674787923021085 and parameters: {'learning_rate': 0.059963338824126605, 'num_leaves': 78, 'max_depth': 6, 'min_child_samples': 26, 'subsample': 0.6135681866731614, 'colsample_bytree': 0.6975990992289793}. Best is trial 1 with value: 0.3672689725352087.\n",
      "[I 2025-10-06 05:39:05,293] Trial 10 finished with value: 0.36903601638645145 and parameters: {'learning_rate': 0.01063433699312203, 'num_leaves': 68, 'max_depth': 7, 'min_child_samples': 48, 'subsample': 0.792026550740267, 'colsample_bytree': 0.8199595033213563}. Best is trial 1 with value: 0.3672689725352087.\n",
      "[I 2025-10-06 05:39:12,109] Trial 11 finished with value: 0.36747905601395003 and parameters: {'learning_rate': 0.11951700395407767, 'num_leaves': 63, 'max_depth': 7, 'min_child_samples': 50, 'subsample': 0.8977212350051502, 'colsample_bytree': 0.883742915992114}. Best is trial 1 with value: 0.3672689725352087.\n",
      "[I 2025-10-06 05:39:18,680] Trial 12 finished with value: 0.36802478563648033 and parameters: {'learning_rate': 0.01932363676670689, 'num_leaves': 66, 'max_depth': 7, 'min_child_samples': 44, 'subsample': 0.8370241768966628, 'colsample_bytree': 0.8302877993102374}. Best is trial 1 with value: 0.3672689725352087.\n",
      "[I 2025-10-06 05:39:24,400] Trial 13 finished with value: 0.36739009455029437 and parameters: {'learning_rate': 0.07940122022232445, 'num_leaves': 50, 'max_depth': 6, 'min_child_samples': 44, 'subsample': 0.7406115656663527, 'colsample_bytree': 0.8275886930134763}. Best is trial 1 with value: 0.3672689725352087.\n",
      "[I 2025-10-06 05:39:31,458] Trial 14 finished with value: 0.36763080974883827 and parameters: {'learning_rate': 0.17417292213971627, 'num_leaves': 73, 'max_depth': 7, 'min_child_samples': 30, 'subsample': 0.8540988370165997, 'colsample_bytree': 0.8986144348099969}. Best is trial 1 with value: 0.3672689725352087.\n",
      "[I 2025-10-06 05:39:37,918] Trial 15 finished with value: 0.367637778978366 and parameters: {'learning_rate': 0.020542938380386185, 'num_leaves': 61, 'max_depth': 7, 'min_child_samples': 40, 'subsample': 0.8171155426812787, 'colsample_bytree': 0.8470677959757761}. Best is trial 1 with value: 0.3672689725352087.\n",
      "[I 2025-10-06 05:39:43,716] Trial 16 finished with value: 0.36818121596370035 and parameters: {'learning_rate': 0.016030182697577194, 'num_leaves': 69, 'max_depth': 6, 'min_child_samples': 47, 'subsample': 0.7334242473326862, 'colsample_bytree': 0.7953683793126899}. Best is trial 1 with value: 0.3672689725352087.\n",
      "[I 2025-10-06 05:39:51,170] Trial 17 finished with value: 0.36756723822273724 and parameters: {'learning_rate': 0.07693583154946626, 'num_leaves': 72, 'max_depth': 8, 'min_child_samples': 50, 'subsample': 0.7738698148398194, 'colsample_bytree': 0.7852499931675477}. Best is trial 1 with value: 0.3672689725352087.\n",
      "[I 2025-10-06 05:39:56,640] Trial 18 finished with value: 0.3681865121658433 and parameters: {'learning_rate': 0.0146657163171496, 'num_leaves': 50, 'max_depth': 6, 'min_child_samples': 41, 'subsample': 0.6015879111805674, 'colsample_bytree': 0.8622634403252094}. Best is trial 1 with value: 0.3672689725352087.\n",
      "[I 2025-10-06 05:40:03,371] Trial 19 finished with value: 0.3676785797546719 and parameters: {'learning_rate': 0.06453497208800335, 'num_leaves': 59, 'max_depth': 7, 'min_child_samples': 45, 'subsample': 0.7277368030174827, 'colsample_bytree': 0.8944648540013066}. Best is trial 1 with value: 0.3672689725352087.\n",
      "[I 2025-10-06 05:40:10,211] Trial 20 finished with value: 0.3677528220328768 and parameters: {'learning_rate': 0.10749668938018231, 'num_leaves': 65, 'max_depth': 7, 'min_child_samples': 29, 'subsample': 0.6667039070703382, 'colsample_bytree': 0.79314641352211}. Best is trial 1 with value: 0.3672689725352087.\n",
      "[I 2025-10-06 05:40:15,928] Trial 21 finished with value: 0.36747542825210655 and parameters: {'learning_rate': 0.08175340299021798, 'num_leaves': 50, 'max_depth': 6, 'min_child_samples': 43, 'subsample': 0.8104411812520277, 'colsample_bytree': 0.8346410940725091}. Best is trial 1 with value: 0.3672689725352087.\n",
      "[I 2025-10-06 05:40:21,850] Trial 22 finished with value: 0.3675724393131767 and parameters: {'learning_rate': 0.08904827060474185, 'num_leaves': 53, 'max_depth': 6, 'min_child_samples': 37, 'subsample': 0.7521953871195256, 'colsample_bytree': 0.8622862023811863}. Best is trial 1 with value: 0.3672689725352087.\n",
      "[I 2025-10-06 05:40:27,658] Trial 23 finished with value: 0.367384329674234 and parameters: {'learning_rate': 0.04790656531740164, 'num_leaves': 57, 'max_depth': 6, 'min_child_samples': 47, 'subsample': 0.8651329926470265, 'colsample_bytree': 0.8109794187433507}. Best is trial 1 with value: 0.3672689725352087.\n",
      "[I 2025-10-06 05:40:33,467] Trial 24 finished with value: 0.36769418330088516 and parameters: {'learning_rate': 0.04640877564190936, 'num_leaves': 59, 'max_depth': 6, 'min_child_samples': 47, 'subsample': 0.8629803697424193, 'colsample_bytree': 0.8067952356747663}. Best is trial 1 with value: 0.3672689725352087.\n",
      "[I 2025-10-06 05:40:39,098] Trial 25 finished with value: 0.36734960247126525 and parameters: {'learning_rate': 0.029272420392886897, 'num_leaves': 56, 'max_depth': 6, 'min_child_samples': 47, 'subsample': 0.8994396965391382, 'colsample_bytree': 0.8515761200117747}. Best is trial 1 with value: 0.3672689725352087.\n",
      "[I 2025-10-06 05:40:44,924] Trial 26 finished with value: 0.36744675548750105 and parameters: {'learning_rate': 0.02654075116396683, 'num_leaves': 62, 'max_depth': 6, 'min_child_samples': 42, 'subsample': 0.8906585640665442, 'colsample_bytree': 0.8583991858046535}. Best is trial 1 with value: 0.3672689725352087.\n",
      "[I 2025-10-06 05:40:51,372] Trial 27 finished with value: 0.36836415540328804 and parameters: {'learning_rate': 0.03175015694708414, 'num_leaves': 53, 'max_depth': 7, 'min_child_samples': 50, 'subsample': 0.8182209777721672, 'colsample_bytree': 0.883114707152684}. Best is trial 1 with value: 0.3672689725352087.\n",
      "[I 2025-10-06 05:40:58,128] Trial 28 finished with value: 0.36930050973513134 and parameters: {'learning_rate': 0.01347271707780493, 'num_leaves': 64, 'max_depth': 7, 'min_child_samples': 46, 'subsample': 0.8401886645162044, 'colsample_bytree': 0.7744409247608669}. Best is trial 1 with value: 0.3672689725352087.\n",
      "[I 2025-10-06 05:41:05,789] Trial 29 finished with value: 0.36809790332271264 and parameters: {'learning_rate': 0.020566861211876817, 'num_leaves': 80, 'max_depth': 8, 'min_child_samples': 20, 'subsample': 0.6456658240878347, 'colsample_bytree': 0.6820716836359345}. Best is trial 1 with value: 0.3672689725352087.\n",
      "✓ Best Pinball loss: 0.3673\n",
      "✓ Best params: {'learning_rate': 0.011900590783184251, 'num_leaves': 76, 'max_depth': 7, 'min_child_samples': 41, 'subsample': 0.6061753482887408, 'colsample_bytree': 0.8909729556485984}\n"
     ]
    }
   ],
   "source": [
    "dict_params_50 = forecast.tune(\n",
    "    df_input,\n",
    "    horizon,\n",
    "    input_columns,\n",
    "    numerical_columns,\n",
    "    categorical_columns,\n",
    "    alpha = 0.5\n",
    ")"
   ]
  },
  {
   "cell_type": "code",
   "execution_count": 8,
   "metadata": {},
   "outputs": [
    {
     "name": "stdout",
     "output_type": "stream",
     "text": [
      "Tuning forecast model for quantile (α=0.1) with 30 trials...\n"
     ]
    },
    {
     "name": "stderr",
     "output_type": "stream",
     "text": [
      "[I 2025-10-06 05:41:22,919] A new study created in memory with name: no-name-f43ed4b1-0608-4ff0-97c4-baa806ba5a8c\n"
     ]
    },
    {
     "name": "stdout",
     "output_type": "stream",
     "text": [
      "X shape pre-filtering: (547535, 28)\n",
      "X shape post-filtering: (547535, 28)\n",
      "Train dates [2009-12-29 00:00:00 to 2023-12-26 00:00:00], Test dates [2024-01-02 00:00:00 to 2025-07-29 00:00:00]\n",
      "X training shape: (487161, 28)\n",
      "X test shape: (60374, 28)\n"
     ]
    },
    {
     "data": {
      "application/vnd.jupyter.widget-view+json": {
       "model_id": "e6e020f95f85497fbd87d97d64ae11f8",
       "version_major": 2,
       "version_minor": 0
      },
      "text/plain": [
       "  0%|          | 0/30 [00:00<?, ?it/s]"
      ]
     },
     "metadata": {},
     "output_type": "display_data"
    },
    {
     "name": "stdout",
     "output_type": "stream",
     "text": [
      "[I 2025-10-06 05:41:30,406] Trial 0 finished with value: 0.0985482102239971 and parameters: {'learning_rate': 0.030710573677773714, 'num_leaves': 79, 'max_depth': 8, 'min_child_samples': 38, 'subsample': 0.6468055921327309, 'colsample_bytree': 0.6467983561008608}. Best is trial 0 with value: 0.0985482102239971.\n",
      "[I 2025-10-06 05:41:37,344] Trial 1 finished with value: 0.0985594341319639 and parameters: {'learning_rate': 0.011900590783184251, 'num_leaves': 76, 'max_depth': 7, 'min_child_samples': 41, 'subsample': 0.6061753482887408, 'colsample_bytree': 0.8909729556485984}. Best is trial 0 with value: 0.0985482102239971.\n",
      "[I 2025-10-06 05:41:42,755] Trial 2 finished with value: 0.09845968225223375 and parameters: {'learning_rate': 0.12106896936002161, 'num_leaves': 56, 'max_depth': 6, 'min_child_samples': 25, 'subsample': 0.6912726728878613, 'colsample_bytree': 0.7574269294896714}. Best is trial 2 with value: 0.09845968225223375.\n",
      "[I 2025-10-06 05:41:49,088] Trial 3 finished with value: 0.09865163340742661 and parameters: {'learning_rate': 0.03647316284911211, 'num_leaves': 59, 'max_depth': 7, 'min_child_samples': 24, 'subsample': 0.6876433945605654, 'colsample_bytree': 0.7099085529881075}. Best is trial 2 with value: 0.09845968225223375.\n",
      "[I 2025-10-06 05:41:54,583] Trial 4 finished with value: 0.09820672788405523 and parameters: {'learning_rate': 0.03920673972242137, 'num_leaves': 74, 'max_depth': 6, 'min_child_samples': 35, 'subsample': 0.7777243706586128, 'colsample_bytree': 0.6139351238159994}. Best is trial 4 with value: 0.09820672788405523.\n",
      "[I 2025-10-06 05:41:59,969] Trial 5 finished with value: 0.09843589467421829 and parameters: {'learning_rate': 0.061721159481070736, 'num_leaves': 55, 'max_depth': 6, 'min_child_samples': 49, 'subsample': 0.8896896099223679, 'colsample_bytree': 0.8425192044349383}. Best is trial 4 with value: 0.09820672788405523.\n",
      "[I 2025-10-06 05:42:06,366] Trial 6 finished with value: 0.09873570440839519 and parameters: {'learning_rate': 0.0249064396938244, 'num_leaves': 53, 'max_depth': 8, 'min_child_samples': 33, 'subsample': 0.6366114704534336, 'colsample_bytree': 0.748553073033381}. Best is trial 4 with value: 0.09820672788405523.\n",
      "[I 2025-10-06 05:42:11,892] Trial 7 finished with value: 0.09820295799649519 and parameters: {'learning_rate': 0.011085122517311707, 'num_leaves': 78, 'max_depth': 6, 'min_child_samples': 40, 'subsample': 0.6935133228268233, 'colsample_bytree': 0.7560204063533432}. Best is trial 7 with value: 0.09820295799649519.\n",
      "[I 2025-10-06 05:42:18,318] Trial 8 finished with value: 0.0986249080643115 and parameters: {'learning_rate': 0.05143828405076928, 'num_leaves': 55, 'max_depth': 8, 'min_child_samples': 44, 'subsample': 0.8818496824692568, 'colsample_bytree': 0.8684482051282947}. Best is trial 7 with value: 0.09820295799649519.\n",
      "[I 2025-10-06 05:42:23,843] Trial 9 finished with value: 0.09844707418979075 and parameters: {'learning_rate': 0.059963338824126605, 'num_leaves': 78, 'max_depth': 6, 'min_child_samples': 26, 'subsample': 0.6135681866731614, 'colsample_bytree': 0.6975990992289793}. Best is trial 7 with value: 0.09820295799649519.\n",
      "[I 2025-10-06 05:42:30,402] Trial 10 finished with value: 0.09857273785901563 and parameters: {'learning_rate': 0.010633818325898145, 'num_leaves': 67, 'max_depth': 7, 'min_child_samples': 48, 'subsample': 0.7832421081755242, 'colsample_bytree': 0.8070741220707436}. Best is trial 7 with value: 0.09820295799649519.\n",
      "[I 2025-10-06 05:42:35,873] Trial 11 finished with value: 0.09825867102574125 and parameters: {'learning_rate': 0.018230056277344846, 'num_leaves': 71, 'max_depth': 6, 'min_child_samples': 34, 'subsample': 0.7677781244075669, 'colsample_bytree': 0.6026058107990008}. Best is trial 7 with value: 0.09820295799649519.\n",
      "[I 2025-10-06 05:42:41,344] Trial 12 finished with value: 0.09834712899693733 and parameters: {'learning_rate': 0.11622011217986039, 'num_leaves': 72, 'max_depth': 6, 'min_child_samples': 32, 'subsample': 0.8114258957057029, 'colsample_bytree': 0.7852507062933833}. Best is trial 7 with value: 0.09820295799649519.\n",
      "[I 2025-10-06 05:42:46,813] Trial 13 finished with value: 0.09819912697958305 and parameters: {'learning_rate': 0.01863050148210882, 'num_leaves': 73, 'max_depth': 6, 'min_child_samples': 39, 'subsample': 0.718808580298507, 'colsample_bytree': 0.6823454919847443}. Best is trial 13 with value: 0.09819912697958305.\n",
      "[I 2025-10-06 05:42:53,321] Trial 14 finished with value: 0.09869221735734124 and parameters: {'learning_rate': 0.02026191181488148, 'num_leaves': 66, 'max_depth': 7, 'min_child_samples': 43, 'subsample': 0.7137659040438191, 'colsample_bytree': 0.6872227469172576}. Best is trial 13 with value: 0.09819912697958305.\n",
      "[I 2025-10-06 05:42:59,818] Trial 15 finished with value: 0.09858724039986028 and parameters: {'learning_rate': 0.015253778448412575, 'num_leaves': 69, 'max_depth': 7, 'min_child_samples': 39, 'subsample': 0.7329356830648535, 'colsample_bytree': 0.6671921177714055}. Best is trial 13 with value: 0.09819912697958305.\n",
      "[I 2025-10-06 05:43:05,281] Trial 16 finished with value: 0.09817967600396885 and parameters: {'learning_rate': 0.013941261710439228, 'num_leaves': 75, 'max_depth': 6, 'min_child_samples': 44, 'subsample': 0.6712449821050371, 'colsample_bytree': 0.7391193959510868}. Best is trial 16 with value: 0.09817967600396885.\n",
      "[I 2025-10-06 05:43:10,750] Trial 17 finished with value: 0.09819269191538312 and parameters: {'learning_rate': 0.024712295143262734, 'num_leaves': 62, 'max_depth': 6, 'min_child_samples': 46, 'subsample': 0.6579657376635576, 'colsample_bytree': 0.715491926695743}. Best is trial 16 with value: 0.09817967600396885.\n",
      "[I 2025-10-06 05:43:16,192] Trial 18 finished with value: 0.09846391137578694 and parameters: {'learning_rate': 0.02550294918701014, 'num_leaves': 61, 'max_depth': 6, 'min_child_samples': 46, 'subsample': 0.657861235592396, 'colsample_bytree': 0.7235073149483313}. Best is trial 16 with value: 0.09817967600396885.\n",
      "[I 2025-10-06 05:43:22,606] Trial 19 finished with value: 0.09863210240170919 and parameters: {'learning_rate': 0.08287958293879756, 'num_leaves': 62, 'max_depth': 7, 'min_child_samples': 50, 'subsample': 0.6681495406648227, 'colsample_bytree': 0.808689544644891}. Best is trial 16 with value: 0.09817967600396885.\n",
      "[I 2025-10-06 05:43:28,613] Trial 20 finished with value: 0.0987114415093239 and parameters: {'learning_rate': 0.1796892770417748, 'num_leaves': 50, 'max_depth': 7, 'min_child_samples': 30, 'subsample': 0.832047464567324, 'colsample_bytree': 0.7291356248710832}. Best is trial 16 with value: 0.09817967600396885.\n",
      "[I 2025-10-06 05:43:34,102] Trial 21 finished with value: 0.09830131435330138 and parameters: {'learning_rate': 0.014509456908913889, 'num_leaves': 64, 'max_depth': 6, 'min_child_samples': 45, 'subsample': 0.7323798226810582, 'colsample_bytree': 0.649904292239331}. Best is trial 16 with value: 0.09817967600396885.\n",
      "[I 2025-10-06 05:43:39,538] Trial 22 finished with value: 0.09816578564743088 and parameters: {'learning_rate': 0.021136777958580363, 'num_leaves': 74, 'max_depth': 6, 'min_child_samples': 37, 'subsample': 0.7175787018417621, 'colsample_bytree': 0.6871852367279991}. Best is trial 22 with value: 0.09816578564743088.\n",
      "[I 2025-10-06 05:43:44,975] Trial 23 finished with value: 0.09822843300539691 and parameters: {'learning_rate': 0.025445134523713858, 'num_leaves': 69, 'max_depth': 6, 'min_child_samples': 21, 'subsample': 0.6802905953143659, 'colsample_bytree': 0.777336165591954}. Best is trial 22 with value: 0.09816578564743088.\n",
      "[I 2025-10-06 05:43:50,366] Trial 24 finished with value: 0.09817805410066205 and parameters: {'learning_rate': 0.0143839542765333, 'num_leaves': 75, 'max_depth': 6, 'min_child_samples': 37, 'subsample': 0.6354119751752924, 'colsample_bytree': 0.730261216078029}. Best is trial 22 with value: 0.09816578564743088.\n",
      "[I 2025-10-06 05:43:55,990] Trial 25 finished with value: 0.0981391067176435 and parameters: {'learning_rate': 0.015647311594617314, 'num_leaves': 75, 'max_depth': 6, 'min_child_samples': 37, 'subsample': 0.6204702758432262, 'colsample_bytree': 0.7402721687739682}. Best is trial 25 with value: 0.0981391067176435.\n",
      "[I 2025-10-06 05:44:01,551] Trial 26 finished with value: 0.09820960442619593 and parameters: {'learning_rate': 0.018065502273333946, 'num_leaves': 80, 'max_depth': 6, 'min_child_samples': 37, 'subsample': 0.6279155128533613, 'colsample_bytree': 0.6613880003759748}. Best is trial 25 with value: 0.0981391067176435.\n",
      "[I 2025-10-06 05:44:08,212] Trial 27 finished with value: 0.09849433100646023 and parameters: {'learning_rate': 0.013526526929642492, 'num_leaves': 76, 'max_depth': 7, 'min_child_samples': 29, 'subsample': 0.6052075210517306, 'colsample_bytree': 0.6277935439451654}. Best is trial 25 with value: 0.0981391067176435.\n",
      "[I 2025-10-06 05:44:13,701] Trial 28 finished with value: 0.09820307104922275 and parameters: {'learning_rate': 0.021325037643463243, 'num_leaves': 71, 'max_depth': 6, 'min_child_samples': 36, 'subsample': 0.6305100251345345, 'colsample_bytree': 0.7724577673776564}. Best is trial 25 with value: 0.0981391067176435.\n",
      "[I 2025-10-06 05:44:21,348] Trial 29 finished with value: 0.09856240957834217 and parameters: {'learning_rate': 0.03346947796480472, 'num_leaves': 80, 'max_depth': 8, 'min_child_samples': 42, 'subsample': 0.6436352455095049, 'colsample_bytree': 0.8004251629478529}. Best is trial 25 with value: 0.0981391067176435.\n",
      "✓ Best Pinball loss: 0.0981\n",
      "✓ Best params: {'learning_rate': 0.015647311594617314, 'num_leaves': 75, 'max_depth': 6, 'min_child_samples': 37, 'subsample': 0.6204702758432262, 'colsample_bytree': 0.7402721687739682}\n"
     ]
    }
   ],
   "source": [
    "dict_params_10 = forecast.tune(\n",
    "    df_input,\n",
    "    horizon,\n",
    "    input_columns,\n",
    "    numerical_columns,\n",
    "    categorical_columns,\n",
    "    alpha = 0.1\n",
    ")"
   ]
  },
  {
   "cell_type": "markdown",
   "metadata": {},
   "source": [
    "### Convert to a Single Dict"
   ]
  },
  {
   "cell_type": "code",
   "execution_count": 9,
   "metadata": {},
   "outputs": [],
   "source": [
    "dict_params = {}\n",
    "dict_params['mean'] = dict_params_mean['best_params']\n",
    "dict_params['90'] = dict_params_90['best_params']\n",
    "dict_params['50'] = dict_params_50['best_params']\n",
    "dict_params['10'] = dict_params_10['best_params']\n",
    "\n"
   ]
  },
  {
   "cell_type": "markdown",
   "metadata": {},
   "source": [
    "### Save to resources folder"
   ]
  },
  {
   "cell_type": "code",
   "execution_count": 10,
   "metadata": {},
   "outputs": [],
   "source": [
    "with open(\"../src/resources/model_optimal_params.json\", \"w\") as f:\n",
    "    json.dump(dict_params, f, indent=4)"
   ]
  },
  {
   "cell_type": "code",
   "execution_count": null,
   "metadata": {},
   "outputs": [],
   "source": []
  }
 ],
 "metadata": {
  "kernelspec": {
   "display_name": ".venv",
   "language": "python",
   "name": "python3"
  },
  "language_info": {
   "codemirror_mode": {
    "name": "ipython",
    "version": 3
   },
   "file_extension": ".py",
   "mimetype": "text/x-python",
   "name": "python",
   "nbconvert_exporter": "python",
   "pygments_lexer": "ipython3",
   "version": "3.13.0"
  }
 },
 "nbformat": 4,
 "nbformat_minor": 4
}
