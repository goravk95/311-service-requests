{
 "cells": [
  {
   "cell_type": "markdown",
   "metadata": {},
   "source": [
    "# Step 5a: Tuning\n",
    "This notebook tunes four LightGBM forecasting models to predict next-week service request counts: **mean**, **median**, **10th percentile**, and **90th percentile**.  \n",
    "The tuning process is performed using the `tune(...)` function defined in this notebook.\n",
    "\n",
    "---\n",
    "\n",
    "Running this notebook is **not recommended** unless absolutely necessary — the full tuning process took **~10 minutes** on an **AWS EC2 `c5d.18xlarge`** instance.  \n",
    "This machine has the following specs:\n",
    "- **36 vCPUs**  \n",
    "- **144 GiB memory**  \n",
    "- **High-performance NVMe SSD (local storage)**  \n",
    "- **Optimized for compute-intensive workloads**\n",
    "\n",
    "---\n",
    "\n",
    "## Why Optuna\n",
    "\n",
    "Optuna is used for **efficient hyperparameter tuning**.  \n",
    "Its Tree-Structured Parzen Estimator (TPE) algorithm allows the search to focus on promising hyperparameter regions instead of performing exhaustive grid search.  \n",
    "This makes it both **faster** and **more effective** when the number of trials is limited.\n",
    "\n",
    "By wrapping our entire scikit-learn pipeline in an objective function, Optuna can automatically tune LightGBM parameters to minimize the relevant loss metric for each model type — Poisson deviance for mean prediction and pinball loss for quantile models.\n",
    "\n",
    "---\n",
    "\n",
    "## Why These Initial Settings\n",
    "\n",
    "### Training and Test Split\n",
    "The time-based split at `test_cutoff=\"2024-01-01\"` ensures that **no learnings from the future leak into the training data**.  \n",
    "This is aligned with how the model is trained in production — predictions are generated only using information available up to the forecast date.\n",
    "\n",
    "### Modeling Choices\n",
    "- **Mean Model**  \n",
    "  Uses the `poisson` objective, which is appropriate for nonnegative count data.\n",
    "- **Quantile Models**  \n",
    "  Use the `quantile` objective with `alpha ∈ {0.1, 0.5, 0.9}` to estimate the distribution’s lower, median, and upper bounds.\n",
    "\n",
    "### Hyperparameter Search Space\n",
    "| Parameter | Range | Purpose |\n",
    "|------------|--------|----------|\n",
    "| `learning_rate` | [0.01, 0.2] | Controls learning speed and generalization |\n",
    "| `num_leaves` | [50, 80] | Balances model complexity |\n",
    "| `max_depth` | [6, 8] | Limits tree depth to avoid overfitting |\n",
    "| `min_child_samples` | [20, 50] | Regularizes splits with low sample support |\n",
    "| `subsample`, `colsample_bytree` | [0.6, 0.9] | Adds randomness for robustness |\n",
    "| `n_estimators` | 500 | Provides sufficient boosting rounds for learning stability |\n",
    "| `lambda_l1`, `colsample_bytree` | [0, 2] | Encourages sparsity in feature weights, aiding feature selection and reducing sensitivity to outliers |\n",
    "| `lambda_l2` | [0, 3] | Penalizes large feature weights, helping to stabilize the model and reduce the impact of outliers |\n",
    "\n",
    "### Reproducibility\n",
    "A fixed `random_state=42` ensures consistent results across runs.\n"
   ]
  },
  {
   "cell_type": "markdown",
   "metadata": {},
   "source": [
    "## Load Packages"
   ]
  },
  {
   "cell_type": "code",
   "execution_count": 2,
   "metadata": {},
   "outputs": [],
   "source": [
    "import os\n",
    "import sys\n",
    "\n",
    "PACKAGE_PATH = os.path.abspath(os.path.join(os.getcwd(), '..'))\n",
    "sys.path.insert(0, PACKAGE_PATH)\n",
    "\n",
    "import json\n",
    "import pandas as pd\n",
    "import seaborn as sns\n",
    "from src import config\n",
    "from src import forecast\n",
    "\n",
    "pd.set_option('display.max_columns', 50)\n",
    "sns.set_style('whitegrid')\n",
    "from importlib import reload"
   ]
  },
  {
   "cell_type": "markdown",
   "metadata": {},
   "source": [
    "## Load Data"
   ]
  },
  {
   "cell_type": "code",
   "execution_count": 3,
   "metadata": {},
   "outputs": [],
   "source": [
    "forecast_panel = pd.read_parquet(config.PRESENTATION_DATA_PATH + '/model_fitting_data.parquet')"
   ]
  },
  {
   "cell_type": "markdown",
   "metadata": {},
   "source": [
    "## Inputs"
   ]
  },
  {
   "cell_type": "code",
   "execution_count": 4,
   "metadata": {},
   "outputs": [],
   "source": [
    "numerical_columns = config.NUMERICAL_COLUMNS\n",
    "categorical_columns = config.CATEGORICAL_COLUMNS\n",
    "horizon = 1\n",
    "df_input = forecast_panel.copy()\n",
    "input_columns = df_input.columns"
   ]
  },
  {
   "cell_type": "markdown",
   "metadata": {},
   "source": [
    "## Hyper Parameter Tuning"
   ]
  },
  {
   "cell_type": "code",
   "execution_count": 5,
   "metadata": {},
   "outputs": [
    {
     "name": "stdout",
     "output_type": "stream",
     "text": [
      "Tuning forecast model for poisson (mean) with 30 trials...\n",
      "X shape pre-filtering: (547535, 28)\n",
      "X shape post-filtering: (547535, 28)\n"
     ]
    },
    {
     "name": "stderr",
     "output_type": "stream",
     "text": [
      "[I 2025-10-06 18:41:19,614] A new study created in memory with name: no-name-11d5951b-ad23-4800-af8e-bae8d12e9142\n"
     ]
    },
    {
     "name": "stdout",
     "output_type": "stream",
     "text": [
      "Train dates [2009-12-29 00:00:00 to 2023-12-26 00:00:00], Test dates [2024-01-02 00:00:00 to 2025-07-29 00:00:00]\n",
      "X training shape: (487161, 28)\n",
      "X test shape: (60374, 28)\n"
     ]
    },
    {
     "data": {
      "application/vnd.jupyter.widget-view+json": {
       "model_id": "18fccacc0285489abec99670b7605b57",
       "version_major": 2,
       "version_minor": 0
      },
      "text/plain": [
       "  0%|          | 0/30 [00:00<?, ?it/s]"
      ]
     },
     "metadata": {},
     "output_type": "display_data"
    },
    {
     "name": "stdout",
     "output_type": "stream",
     "text": [
      "[I 2025-10-06 18:41:25,578] Trial 0 finished with value: 1.2471203760104566 and parameters: {'learning_rate': 0.03912720785647401, 'num_leaves': 109, 'max_depth': 8, 'min_child_samples': 46, 'subsample': 0.7390046601106091, 'subsample_freq': 2, 'colsample_bytree': 0.7145209030420498, 'lambda_l1': 1.7323522915498704, 'lambda_l2': 1.8033450352296265, 'min_split_gain': 0.35403628889802274, 'n_estimators': 361}. Best is trial 0 with value: 1.2471203760104566.\n",
      "[I 2025-10-06 18:41:29,864] Trial 1 finished with value: 1.2497997221780406 and parameters: {'learning_rate': 0.11370159575730848, 'num_leaves': 102, 'max_depth': 6, 'min_child_samples': 30, 'subsample': 0.7458511274633584, 'subsample_freq': 3, 'colsample_bytree': 0.8311891079080594, 'lambda_l1': 0.8638900372842315, 'lambda_l2': 0.8736874205941257, 'min_split_gain': 0.30592644736118974, 'n_estimators': 426}. Best is trial 0 with value: 1.2471203760104566.\n",
      "[I 2025-10-06 18:41:34,900] Trial 2 finished with value: 1.2467945276716148 and parameters: {'learning_rate': 0.03375691259416854, 'num_leaves': 71, 'max_depth': 7, 'min_child_samples': 53, 'subsample': 0.7499184455395899, 'subsample_freq': 4, 'colsample_bytree': 0.8481036422155106, 'lambda_l1': 0.09290082543999545, 'lambda_l2': 1.822634555704315, 'min_split_gain': 0.08526206184364576, 'n_estimators': 385}. Best is trial 2 with value: 1.2467945276716148.\n",
      "[I 2025-10-06 18:41:43,973] Trial 3 finished with value: 1.2606032732379693 and parameters: {'learning_rate': 0.10949806962888411, 'num_leaves': 110, 'max_depth': 9, 'min_child_samples': 35, 'subsample': 0.724418028501596, 'subsample_freq': 5, 'colsample_bytree': 0.8100381234349003, 'lambda_l1': 0.24407646968955765, 'lambda_l2': 1.4855307303338106, 'min_split_gain': 0.017194260557609198, 'n_estimators': 851}. Best is trial 2 with value: 1.2467945276716148.\n",
      "[I 2025-10-06 18:41:51,441] Trial 4 finished with value: 1.2469297321477806 and parameters: {'learning_rate': 0.031798011488809175, 'num_leaves': 91, 'max_depth': 7, 'min_child_samples': 43, 'subsample': 0.8366775698358199, 'subsample_freq': 2, 'colsample_bytree': 0.9423961569411397, 'lambda_l1': 1.550265646722229, 'lambda_l2': 2.8184968246925672, 'min_split_gain': 0.4474136752138244, 'n_estimators': 679}. Best is trial 2 with value: 1.2467945276716148.\n",
      "[I 2025-10-06 18:41:56,463] Trial 5 finished with value: 1.25352425468064 and parameters: {'learning_rate': 0.10432480565485087, 'num_leaves': 53, 'max_depth': 6, 'min_child_samples': 25, 'subsample': 0.7813325826908161, 'subsample_freq': 3, 'colsample_bytree': 0.7678372579434739, 'lambda_l1': 1.6574750183038587, 'lambda_l2': 1.0702599800807677, 'min_split_gain': 0.14046725484369038, 'n_estimators': 649}. Best is trial 2 with value: 1.2467945276716148.\n",
      "[I 2025-10-06 18:42:03,536] Trial 6 finished with value: 1.2469389324375975 and parameters: {'learning_rate': 0.02574484951056643, 'num_leaves': 100, 'max_depth': 6, 'min_child_samples': 60, 'subsample': 0.8930611923241643, 'subsample_freq': 2, 'colsample_bytree': 0.7013805292809006, 'lambda_l1': 1.6309228569096683, 'lambda_l2': 2.120572031542851, 'min_split_gain': 0.36450358402049365, 'n_estimators': 774}. Best is trial 2 with value: 1.2467945276716148.\n",
      "[I 2025-10-06 18:42:09,850] Trial 7 finished with value: 1.2482367206260914 and parameters: {'learning_rate': 0.022837467062413647, 'num_leaves': 71, 'max_depth': 6, 'min_child_samples': 55, 'subsample': 0.8558245317068894, 'subsample_freq': 3, 'colsample_bytree': 0.7158895875715059, 'lambda_l1': 0.6219646434313244, 'lambda_l2': 0.9755499660802411, 'min_split_gain': 0.36480308916903204, 'n_estimators': 701}. Best is trial 2 with value: 1.2467945276716148.\n",
      "[I 2025-10-06 18:42:13,323] Trial 8 finished with value: 1.248396745864738 and parameters: {'learning_rate': 0.09804279884910554, 'num_leaves': 78, 'max_depth': 6, 'min_child_samples': 50, 'subsample': 0.8901962621542243, 'subsample_freq': 4, 'colsample_bytree': 0.8927417949886403, 'lambda_l1': 0.9875911927287815, 'lambda_l2': 1.568198488145982, 'min_split_gain': 0.21377050917927481, 'n_estimators': 364}. Best is trial 2 with value: 1.2467945276716148.\n",
      "[I 2025-10-06 18:42:17,872] Trial 9 finished with value: 1.2478778755489475 and parameters: {'learning_rate': 0.02426531002764982, 'num_leaves': 50, 'max_depth': 8, 'min_child_samples': 35, 'subsample': 0.8271426727911757, 'subsample_freq': 7, 'colsample_bytree': 0.7623230572872187, 'lambda_l1': 0.8207658460712595, 'lambda_l2': 2.266653415629146, 'min_split_gain': 0.11439908274581123, 'n_estimators': 392}. Best is trial 2 with value: 1.2467945276716148.\n",
      "[I 2025-10-06 18:42:22,721] Trial 10 finished with value: 1.2466114579258836 and parameters: {'learning_rate': 0.050203937383977375, 'num_leaves': 65, 'max_depth': 7, 'min_child_samples': 53, 'subsample': 0.7829043786118941, 'subsample_freq': 6, 'colsample_bytree': 0.8635941306926883, 'lambda_l1': 0.021759418019524995, 'lambda_l2': 0.2909063392448388, 'min_split_gain': 0.006155584782468665, 'n_estimators': 504}. Best is trial 10 with value: 1.2466114579258836.\n",
      "[I 2025-10-06 18:42:27,716] Trial 11 finished with value: 1.247765574069488 and parameters: {'learning_rate': 0.06027907014185333, 'num_leaves': 66, 'max_depth': 7, 'min_child_samples': 52, 'subsample': 0.7838298858199055, 'subsample_freq': 6, 'colsample_bytree': 0.866674600156962, 'lambda_l1': 0.015530852912678958, 'lambda_l2': 0.01994490664491083, 'min_split_gain': 0.030292237122509103, 'n_estimators': 519}. Best is trial 10 with value: 1.2466114579258836.\n",
      "[I 2025-10-06 18:42:32,618] Trial 12 finished with value: 1.2466419863665943 and parameters: {'learning_rate': 0.05622703968784594, 'num_leaves': 63, 'max_depth': 7, 'min_child_samples': 60, 'subsample': 0.7824731342142829, 'subsample_freq': 5, 'colsample_bytree': 0.8981735410900328, 'lambda_l1': 0.3706443403700316, 'lambda_l2': 0.010454938692315452, 'min_split_gain': 0.09464849360674342, 'n_estimators': 523}. Best is trial 10 with value: 1.2466114579258836.\n",
      "[I 2025-10-06 18:42:37,924] Trial 13 finished with value: 1.247101784252659 and parameters: {'learning_rate': 0.059768011922617104, 'num_leaves': 61, 'max_depth': 8, 'min_child_samples': 60, 'subsample': 0.9413344865163638, 'subsample_freq': 6, 'colsample_bytree': 0.9171109573549131, 'lambda_l1': 0.40530070864278944, 'lambda_l2': 0.059579608720243635, 'min_split_gain': 0.19587456489499472, 'n_estimators': 533}. Best is trial 10 with value: 1.2466114579258836.\n",
      "[I 2025-10-06 18:42:42,848] Trial 14 finished with value: 1.2481054182458522 and parameters: {'learning_rate': 0.07072450009857782, 'num_leaves': 84, 'max_depth': 7, 'min_child_samples': 56, 'subsample': 0.793494426435396, 'subsample_freq': 7, 'colsample_bytree': 0.887402384611048, 'lambda_l1': 0.4579959702713614, 'lambda_l2': 0.42475272495705374, 'min_split_gain': 0.01168976606308518, 'n_estimators': 526}. Best is trial 10 with value: 1.2466114579258836.\n",
      "[I 2025-10-06 18:42:48,616] Trial 15 finished with value: 1.2472888228464514 and parameters: {'learning_rate': 0.04611542472067232, 'num_leaves': 58, 'max_depth': 9, 'min_child_samples': 47, 'subsample': 0.8013356547966228, 'subsample_freq': 5, 'colsample_bytree': 0.9426347996543801, 'lambda_l1': 1.240297815569115, 'lambda_l2': 0.4897977526712514, 'min_split_gain': 0.146495613832301, 'n_estimators': 587}. Best is trial 10 with value: 1.2466114579258836.\n",
      "[I 2025-10-06 18:42:53,029] Trial 16 finished with value: 1.2477081418862586 and parameters: {'learning_rate': 0.07828777523802254, 'num_leaves': 80, 'max_depth': 7, 'min_child_samples': 57, 'subsample': 0.7090762033080296, 'subsample_freq': 6, 'colsample_bytree': 0.8050204883726437, 'lambda_l1': 0.28872011209306636, 'lambda_l2': 0.49722700464637654, 'min_split_gain': 0.0726374080737605, 'n_estimators': 472}. Best is trial 10 with value: 1.2466114579258836.\n",
      "[I 2025-10-06 18:42:58,891] Trial 17 finished with value: 1.248285921197425 and parameters: {'learning_rate': 0.0491178557382042, 'num_leaves': 64, 'max_depth': 8, 'min_child_samples': 38, 'subsample': 0.7675585422803889, 'subsample_freq': 5, 'colsample_bytree': 0.9036519649655123, 'lambda_l1': 1.982554392287199, 'lambda_l2': 0.25574589284259197, 'min_split_gain': 0.2569405787682556, 'n_estimators': 603}. Best is trial 10 with value: 1.2466114579258836.\n",
      "[I 2025-10-06 18:43:03,319] Trial 18 finished with value: 1.2465072880482588 and parameters: {'learning_rate': 0.04830343050373286, 'num_leaves': 73, 'max_depth': 7, 'min_child_samples': 48, 'subsample': 0.8568059032958975, 'subsample_freq': 1, 'colsample_bytree': 0.8657031666431841, 'lambda_l1': 0.6294884425366077, 'lambda_l2': 0.7799226905057317, 'min_split_gain': 0.06189296450938478, 'n_estimators': 455}. Best is trial 18 with value: 1.2465072880482588.\n",
      "[I 2025-10-06 18:43:08,246] Trial 19 finished with value: 1.2469455165718222 and parameters: {'learning_rate': 0.039916819165201074, 'num_leaves': 73, 'max_depth': 8, 'min_child_samples': 47, 'subsample': 0.8750719583124486, 'subsample_freq': 1, 'colsample_bytree': 0.8569100666519052, 'lambda_l1': 0.6406904315425361, 'lambda_l2': 0.7997820503337051, 'min_split_gain': 0.178385228944748, 'n_estimators': 451}. Best is trial 18 with value: 1.2465072880482588.\n",
      "[I 2025-10-06 18:43:12,716] Trial 20 finished with value: 1.2488829629575287 and parameters: {'learning_rate': 0.08025061227967428, 'num_leaves': 83, 'max_depth': 7, 'min_child_samples': 42, 'subsample': 0.9257839617420947, 'subsample_freq': 1, 'colsample_bytree': 0.7805339844107384, 'lambda_l1': 1.2735258814515866, 'lambda_l2': 0.7221845979569923, 'min_split_gain': 0.040075978620623585, 'n_estimators': 470}. Best is trial 18 with value: 1.2465072880482588.\n",
      "[I 2025-10-06 18:43:17,828] Trial 21 finished with value: 1.2482473645104395 and parameters: {'learning_rate': 0.05506629391343933, 'num_leaves': 57, 'max_depth': 7, 'min_child_samples': 49, 'subsample': 0.8108618897458607, 'subsample_freq': 4, 'colsample_bytree': 0.8747336366374832, 'lambda_l1': 0.5713427037766006, 'lambda_l2': 1.1833492927168998, 'min_split_gain': 0.07796406058817758, 'n_estimators': 562}. Best is trial 18 with value: 1.2465072880482588.\n",
      "[I 2025-10-06 18:43:22,719] Trial 22 finished with value: 1.2469761943684758 and parameters: {'learning_rate': 0.04820332721401743, 'num_leaves': 65, 'max_depth': 7, 'min_child_samples': 57, 'subsample': 0.8429530698878879, 'subsample_freq': 5, 'colsample_bytree': 0.9153646971409384, 'lambda_l1': 0.19088603770146653, 'lambda_l2': 0.27606076679621716, 'min_split_gain': 0.06496584380093473, 'n_estimators': 505}. Best is trial 18 with value: 1.2465072880482588.\n",
      "[I 2025-10-06 18:43:27,021] Trial 23 finished with value: 1.2471600395825262 and parameters: {'learning_rate': 0.06560764332297776, 'num_leaves': 75, 'max_depth': 7, 'min_child_samples': 52, 'subsample': 0.8139708882982659, 'subsample_freq': 6, 'colsample_bytree': 0.8372316568294633, 'lambda_l1': 0.3934540961941142, 'lambda_l2': 0.6145328970380228, 'min_split_gain': 0.11159078185167515, 'n_estimators': 419}. Best is trial 18 with value: 1.2465072880482588.\n",
      "[I 2025-10-06 18:43:32,545] Trial 24 finished with value: 1.246875459168534 and parameters: {'learning_rate': 0.04204370684968381, 'num_leaves': 88, 'max_depth': 8, 'min_child_samples': 54, 'subsample': 0.7628111730114155, 'subsample_freq': 7, 'colsample_bytree': 0.8736316875154931, 'lambda_l1': 0.04590820313997589, 'lambda_l2': 0.19619959991758115, 'min_split_gain': 0.0018674059296967804, 'n_estimators': 488}. Best is trial 18 with value: 1.2465072880482588.\n",
      "[I 2025-10-06 18:43:38,743] Trial 25 finished with value: 1.2475449951471091 and parameters: {'learning_rate': 0.03316218850103403, 'num_leaves': 68, 'max_depth': 7, 'min_child_samples': 44, 'subsample': 0.8629945393351004, 'subsample_freq': 5, 'colsample_bytree': 0.921199845670505, 'lambda_l1': 0.724457632309749, 'lambda_l2': 1.3378077953083807, 'min_split_gain': 0.14846811333884663, 'n_estimators': 552}. Best is trial 18 with value: 1.2465072880482588.\n",
      "[I 2025-10-06 18:43:43,651] Trial 26 finished with value: 1.2464631637502628 and parameters: {'learning_rate': 0.054319499053993636, 'num_leaves': 55, 'max_depth': 6, 'min_child_samples': 60, 'subsample': 0.8222907250502418, 'subsample_freq': 6, 'colsample_bytree': 0.8154079042838371, 'lambda_l1': 0.5114185707016987, 'lambda_l2': 0.005049399474043703, 'min_split_gain': 0.24179023986129478, 'n_estimators': 635}. Best is trial 26 with value: 1.2464631637502628.\n",
      "[I 2025-10-06 18:43:49,349] Trial 27 finished with value: 1.2475519652455822 and parameters: {'learning_rate': 0.05006662291987566, 'num_leaves': 54, 'max_depth': 6, 'min_child_samples': 50, 'subsample': 0.9009339226341644, 'subsample_freq': 6, 'colsample_bytree': 0.8152320039311811, 'lambda_l1': 1.106132031401022, 'lambda_l2': 0.28546069880655733, 'min_split_gain': 0.4721661438780607, 'n_estimators': 751}. Best is trial 26 with value: 1.2464631637502628.\n",
      "[I 2025-10-06 18:43:53,962] Trial 28 finished with value: 1.2501430129014985 and parameters: {'learning_rate': 0.08749104786729497, 'num_leaves': 49, 'max_depth': 6, 'min_child_samples': 41, 'subsample': 0.8501454737312493, 'subsample_freq': 7, 'colsample_bytree': 0.7972898190362865, 'lambda_l1': 0.5302203289890991, 'lambda_l2': 0.6681189333216115, 'min_split_gain': 0.24606007679183287, 'n_estimators': 613}. Best is trial 26 with value: 1.2464631637502628.\n",
      "[I 2025-10-06 18:43:59,021] Trial 29 finished with value: 1.2472522129685477 and parameters: {'learning_rate': 0.02916844527067779, 'num_leaves': 58, 'max_depth': 6, 'min_child_samples': 57, 'subsample': 0.8307397277711057, 'subsample_freq': 1, 'colsample_bytree': 0.7457636670875748, 'lambda_l1': 0.8030984400922828, 'lambda_l2': 0.43082351478819286, 'min_split_gain': 0.2876394855919134, 'n_estimators': 652}. Best is trial 26 with value: 1.2464631637502628.\n",
      "✓ Best Poisson deviance: 1.2465\n",
      "✓ Best params: {'learning_rate': 0.054319499053993636, 'num_leaves': 55, 'max_depth': 6, 'min_child_samples': 60, 'subsample': 0.8222907250502418, 'subsample_freq': 6, 'colsample_bytree': 0.8154079042838371, 'lambda_l1': 0.5114185707016987, 'lambda_l2': 0.005049399474043703, 'min_split_gain': 0.24179023986129478, 'n_estimators': 635}\n"
     ]
    }
   ],
   "source": [
    "dict_params_mean = forecast.tune(\n",
    "    df_input,\n",
    "    horizon,\n",
    "    input_columns,\n",
    "    numerical_columns,\n",
    "    categorical_columns,\n",
    ")"
   ]
  },
  {
   "cell_type": "code",
   "execution_count": 6,
   "metadata": {},
   "outputs": [
    {
     "name": "stdout",
     "output_type": "stream",
     "text": [
      "Tuning forecast model for quantile (α=0.9) with 30 trials...\n",
      "X shape pre-filtering: (547535, 28)\n",
      "X shape post-filtering: (547535, 28)\n"
     ]
    },
    {
     "name": "stderr",
     "output_type": "stream",
     "text": [
      "[I 2025-10-06 18:44:16,922] A new study created in memory with name: no-name-f9db4b34-b6f4-4153-b7a8-3226b5f2be64\n"
     ]
    },
    {
     "name": "stdout",
     "output_type": "stream",
     "text": [
      "Train dates [2009-12-29 00:00:00 to 2023-12-26 00:00:00], Test dates [2024-01-02 00:00:00 to 2025-07-29 00:00:00]\n",
      "X training shape: (487161, 28)\n",
      "X test shape: (60374, 28)\n"
     ]
    },
    {
     "data": {
      "application/vnd.jupyter.widget-view+json": {
       "model_id": "acb02b52bae14f0abd8ed1fd5965806f",
       "version_major": 2,
       "version_minor": 0
      },
      "text/plain": [
       "  0%|          | 0/30 [00:00<?, ?it/s]"
      ]
     },
     "metadata": {},
     "output_type": "display_data"
    },
    {
     "name": "stdout",
     "output_type": "stream",
     "text": [
      "[I 2025-10-06 18:44:21,730] Trial 0 finished with value: 0.24817531329339756 and parameters: {'learning_rate': 0.03912720785647401, 'num_leaves': 109, 'max_depth': 8, 'min_child_samples': 46, 'subsample': 0.7390046601106091, 'subsample_freq': 2, 'colsample_bytree': 0.7145209030420498, 'lambda_l1': 1.7323522915498704, 'lambda_l2': 1.8033450352296265, 'min_split_gain': 0.35403628889802274, 'n_estimators': 361}. Best is trial 0 with value: 0.24817531329339756.\n",
      "[I 2025-10-06 18:44:24,703] Trial 1 finished with value: 0.24893241127164126 and parameters: {'learning_rate': 0.11370159575730848, 'num_leaves': 102, 'max_depth': 6, 'min_child_samples': 30, 'subsample': 0.7458511274633584, 'subsample_freq': 3, 'colsample_bytree': 0.8311891079080594, 'lambda_l1': 0.8638900372842315, 'lambda_l2': 0.8736874205941257, 'min_split_gain': 0.30592644736118974, 'n_estimators': 426}. Best is trial 0 with value: 0.24817531329339756.\n",
      "[I 2025-10-06 18:44:29,842] Trial 2 finished with value: 0.24784672713515998 and parameters: {'learning_rate': 0.03375691259416854, 'num_leaves': 71, 'max_depth': 7, 'min_child_samples': 53, 'subsample': 0.7499184455395899, 'subsample_freq': 4, 'colsample_bytree': 0.8481036422155106, 'lambda_l1': 0.09290082543999545, 'lambda_l2': 1.822634555704315, 'min_split_gain': 0.08526206184364576, 'n_estimators': 385}. Best is trial 2 with value: 0.24784672713515998.\n",
      "[I 2025-10-06 18:44:41,242] Trial 3 finished with value: 0.25292630876852484 and parameters: {'learning_rate': 0.10949806962888411, 'num_leaves': 110, 'max_depth': 9, 'min_child_samples': 35, 'subsample': 0.724418028501596, 'subsample_freq': 5, 'colsample_bytree': 0.8100381234349003, 'lambda_l1': 0.24407646968955765, 'lambda_l2': 1.4855307303338106, 'min_split_gain': 0.017194260557609198, 'n_estimators': 851}. Best is trial 2 with value: 0.24784672713515998.\n",
      "[I 2025-10-06 18:44:46,507] Trial 4 finished with value: 0.24831727569665304 and parameters: {'learning_rate': 0.031798011488809175, 'num_leaves': 91, 'max_depth': 7, 'min_child_samples': 43, 'subsample': 0.8366775698358199, 'subsample_freq': 2, 'colsample_bytree': 0.9423961569411397, 'lambda_l1': 1.550265646722229, 'lambda_l2': 2.8184968246925672, 'min_split_gain': 0.4474136752138244, 'n_estimators': 679}. Best is trial 2 with value: 0.24784672713515998.\n",
      "[I 2025-10-06 18:44:51,560] Trial 5 finished with value: 0.24866775300293575 and parameters: {'learning_rate': 0.10432480565485087, 'num_leaves': 53, 'max_depth': 6, 'min_child_samples': 25, 'subsample': 0.7813325826908161, 'subsample_freq': 3, 'colsample_bytree': 0.7678372579434739, 'lambda_l1': 1.6574750183038587, 'lambda_l2': 1.0702599800807677, 'min_split_gain': 0.14046725484369038, 'n_estimators': 649}. Best is trial 2 with value: 0.24784672713515998.\n",
      "[I 2025-10-06 18:44:58,949] Trial 6 finished with value: 0.24809635358462637 and parameters: {'learning_rate': 0.02574484951056643, 'num_leaves': 100, 'max_depth': 6, 'min_child_samples': 60, 'subsample': 0.8930611923241643, 'subsample_freq': 2, 'colsample_bytree': 0.7013805292809006, 'lambda_l1': 1.6309228569096683, 'lambda_l2': 2.120572031542851, 'min_split_gain': 0.36450358402049365, 'n_estimators': 774}. Best is trial 2 with value: 0.24784672713515998.\n",
      "[I 2025-10-06 18:45:06,394] Trial 7 finished with value: 0.2480508171659135 and parameters: {'learning_rate': 0.022837467062413647, 'num_leaves': 71, 'max_depth': 6, 'min_child_samples': 55, 'subsample': 0.8558245317068894, 'subsample_freq': 3, 'colsample_bytree': 0.7158895875715059, 'lambda_l1': 0.6219646434313244, 'lambda_l2': 0.9755499660802411, 'min_split_gain': 0.36480308916903204, 'n_estimators': 701}. Best is trial 2 with value: 0.24784672713515998.\n",
      "[I 2025-10-06 18:45:09,750] Trial 8 finished with value: 0.24801878545200146 and parameters: {'learning_rate': 0.09804279884910554, 'num_leaves': 78, 'max_depth': 6, 'min_child_samples': 50, 'subsample': 0.8901962621542243, 'subsample_freq': 4, 'colsample_bytree': 0.8927417949886403, 'lambda_l1': 0.9875911927287815, 'lambda_l2': 1.568198488145982, 'min_split_gain': 0.21377050917927481, 'n_estimators': 364}. Best is trial 2 with value: 0.24784672713515998.\n",
      "[I 2025-10-06 18:45:14,739] Trial 9 finished with value: 0.2475400555944419 and parameters: {'learning_rate': 0.02426531002764982, 'num_leaves': 50, 'max_depth': 8, 'min_child_samples': 35, 'subsample': 0.8271426727911757, 'subsample_freq': 7, 'colsample_bytree': 0.7623230572872187, 'lambda_l1': 0.8207658460712595, 'lambda_l2': 2.266653415629146, 'min_split_gain': 0.11439908274581123, 'n_estimators': 392}. Best is trial 9 with value: 0.2475400555944419.\n",
      "[I 2025-10-06 18:45:18,588] Trial 10 finished with value: 0.24760182412732273 and parameters: {'learning_rate': 0.07007737676301365, 'num_leaves': 48, 'max_depth': 9, 'min_child_samples': 36, 'subsample': 0.9370606923191813, 'subsample_freq': 7, 'colsample_bytree': 0.7644817381503729, 'lambda_l1': 1.2759435104221217, 'lambda_l2': 0.2909063392448388, 'min_split_gain': 0.1923125408063079, 'n_estimators': 504}. Best is trial 9 with value: 0.2475400555944419.\n",
      "[I 2025-10-06 18:45:22,579] Trial 11 finished with value: 0.24773722120993408 and parameters: {'learning_rate': 0.060464848058854326, 'num_leaves': 49, 'max_depth': 9, 'min_child_samples': 36, 'subsample': 0.9362779944422879, 'subsample_freq': 7, 'colsample_bytree': 0.7700067427362451, 'lambda_l1': 1.2768004191010156, 'lambda_l2': 0.01994490664491083, 'min_split_gain': 0.19628839519693586, 'n_estimators': 523}. Best is trial 9 with value: 0.2475400555944419.\n",
      "[I 2025-10-06 18:45:28,862] Trial 12 finished with value: 0.24761848458100433 and parameters: {'learning_rate': 0.06486627091516298, 'num_leaves': 59, 'max_depth': 8, 'min_child_samples': 39, 'subsample': 0.945017422057609, 'subsample_freq': 7, 'colsample_bytree': 0.7686342559500285, 'lambda_l1': 0.6144604067173258, 'lambda_l2': 0.010454938692315452, 'min_split_gain': 0.12265476508724671, 'n_estimators': 512}. Best is trial 9 with value: 0.2475400555944419.\n",
      "[I 2025-10-06 18:45:35,713] Trial 13 finished with value: 0.24797323153228207 and parameters: {'learning_rate': 0.06817038716212012, 'num_leaves': 61, 'max_depth': 9, 'min_child_samples': 31, 'subsample': 0.7954876068663573, 'subsample_freq': 6, 'colsample_bytree': 0.7933145858064208, 'lambda_l1': 1.2621686870779303, 'lambda_l2': 2.7011671322686106, 'min_split_gain': 0.022472028045296327, 'n_estimators': 512}. Best is trial 9 with value: 0.2475400555944419.\n",
      "[I 2025-10-06 18:45:40,309] Trial 14 finished with value: 0.24743932508582 and parameters: {'learning_rate': 0.04850458849301837, 'num_leaves': 48, 'max_depth': 8, 'min_child_samples': 24, 'subsample': 0.8794499214700386, 'subsample_freq': 6, 'colsample_bytree': 0.7404216527098098, 'lambda_l1': 1.9588511835454891, 'lambda_l2': 2.3581857803657345, 'min_split_gain': 0.24592559519420237, 'n_estimators': 459}. Best is trial 14 with value: 0.24743932508582.\n",
      "[I 2025-10-06 18:45:44,672] Trial 15 finished with value: 0.24765978100772493 and parameters: {'learning_rate': 0.04735334928221544, 'num_leaves': 64, 'max_depth': 8, 'min_child_samples': 24, 'subsample': 0.8805721592326028, 'subsample_freq': 6, 'colsample_bytree': 0.7427241547642859, 'lambda_l1': 0.5162986698881071, 'lambda_l2': 2.3613533921159164, 'min_split_gain': 0.29020348653212513, 'n_estimators': 447}. Best is trial 14 with value: 0.24743932508582.\n",
      "[I 2025-10-06 18:45:51,980] Trial 16 finished with value: 0.24760025409657646 and parameters: {'learning_rate': 0.0481348465596053, 'num_leaves': 56, 'max_depth': 8, 'min_child_samples': 30, 'subsample': 0.7995186159828925, 'subsample_freq': 6, 'colsample_bytree': 0.7438373267365672, 'lambda_l1': 1.9304650357583895, 'lambda_l2': 2.418819858732186, 'min_split_gain': 0.07884913557067191, 'n_estimators': 594}. Best is trial 14 with value: 0.24743932508582.\n",
      "[I 2025-10-06 18:45:57,986] Trial 17 finished with value: 0.2483336172219392 and parameters: {'learning_rate': 0.021226534041171634, 'num_leaves': 85, 'max_depth': 7, 'min_child_samples': 26, 'subsample': 0.8338114563798967, 'subsample_freq': 5, 'colsample_bytree': 0.8683366761636087, 'lambda_l1': 1.982554392287199, 'lambda_l2': 2.927419458035966, 'min_split_gain': 0.47830429593717966, 'n_estimators': 579}. Best is trial 14 with value: 0.24743932508582.\n",
      "[I 2025-10-06 18:46:03,682] Trial 18 finished with value: 0.24791817976706315 and parameters: {'learning_rate': 0.029060537660340773, 'num_leaves': 68, 'max_depth': 8, 'min_child_samples': 42, 'subsample': 0.8556724468063535, 'subsample_freq': 5, 'colsample_bytree': 0.7981188878585216, 'lambda_l1': 0.8282153302761435, 'lambda_l2': 2.203173199767961, 'min_split_gain': 0.25264957957718853, 'n_estimators': 435}. Best is trial 14 with value: 0.24743932508582.\n",
      "[I 2025-10-06 18:46:09,871] Trial 19 finished with value: 0.24784867254064968 and parameters: {'learning_rate': 0.03962061744368163, 'num_leaves': 79, 'max_depth': 7, 'min_child_samples': 33, 'subsample': 0.9078638421007166, 'subsample_freq': 6, 'colsample_bytree': 0.7395954452571634, 'lambda_l1': 0.36709477451994665, 'lambda_l2': 2.622222933208657, 'min_split_gain': 0.15173731274941465, 'n_estimators': 460}. Best is trial 14 with value: 0.24743932508582.\n",
      "[I 2025-10-06 18:46:16,626] Trial 20 finished with value: 0.2490343824732524 and parameters: {'learning_rate': 0.08499529778425399, 'num_leaves': 54, 'max_depth': 8, 'min_child_samples': 28, 'subsample': 0.8163561248564055, 'subsample_freq': 1, 'colsample_bytree': 0.7310042473706245, 'lambda_l1': 1.139810951259481, 'lambda_l2': 1.9456421015252587, 'min_split_gain': 0.07717739229886689, 'n_estimators': 559}. Best is trial 14 with value: 0.24743932508582.\n",
      "[I 2025-10-06 18:46:23,937] Trial 21 finished with value: 0.24775910339201337 and parameters: {'learning_rate': 0.05211072303655887, 'num_leaves': 56, 'max_depth': 8, 'min_child_samples': 29, 'subsample': 0.7763300931048178, 'subsample_freq': 6, 'colsample_bytree': 0.7462417190537335, 'lambda_l1': 1.9355065018757465, 'lambda_l2': 2.445862056224853, 'min_split_gain': 0.06707160809799707, 'n_estimators': 610}. Best is trial 14 with value: 0.24743932508582.\n",
      "[I 2025-10-06 18:46:29,074] Trial 22 finished with value: 0.24744275515511083 and parameters: {'learning_rate': 0.0472418769278873, 'num_leaves': 48, 'max_depth': 8, 'min_child_samples': 32, 'subsample': 0.8085369425921481, 'subsample_freq': 7, 'colsample_bytree': 0.7878196550550784, 'lambda_l1': 1.4711230633391044, 'lambda_l2': 2.4875655571159516, 'min_split_gain': 0.11190967191012324, 'n_estimators': 409}. Best is trial 14 with value: 0.24743932508582.\n",
      "[I 2025-10-06 18:46:33,779] Trial 23 finished with value: 0.24768264552696534 and parameters: {'learning_rate': 0.040082910973664836, 'num_leaves': 48, 'max_depth': 8, 'min_child_samples': 38, 'subsample': 0.8606595240183936, 'subsample_freq': 7, 'colsample_bytree': 0.7873703945858875, 'lambda_l1': 1.5136608927559536, 'lambda_l2': 2.1108003281990158, 'min_split_gain': 0.2411112267669656, 'n_estimators': 402}. Best is trial 14 with value: 0.24743932508582.\n",
      "[I 2025-10-06 18:46:39,109] Trial 24 finished with value: 0.24803372615923294 and parameters: {'learning_rate': 0.05635114346082471, 'num_leaves': 65, 'max_depth': 7, 'min_child_samples': 32, 'subsample': 0.8136182545726048, 'subsample_freq': 7, 'colsample_bytree': 0.8123420776872027, 'lambda_l1': 1.4160297437893945, 'lambda_l2': 2.547785557973573, 'min_split_gain': 0.15499144333120474, 'n_estimators': 467}. Best is trial 14 with value: 0.24743932508582.\n",
      "[I 2025-10-06 18:46:44,136] Trial 25 finished with value: 0.24768062949637976 and parameters: {'learning_rate': 0.08687335044423235, 'num_leaves': 52, 'max_depth': 9, 'min_child_samples': 40, 'subsample': 0.7652083994424287, 'subsample_freq': 7, 'colsample_bytree': 0.8308586795429129, 'lambda_l1': 1.7968914440762862, 'lambda_l2': 2.9232792292988963, 'min_split_gain': 0.11749057644362906, 'n_estimators': 396}. Best is trial 14 with value: 0.24743932508582.\n",
      "[I 2025-10-06 18:46:49,118] Trial 26 finished with value: 0.24811883536274784 and parameters: {'learning_rate': 0.04387222036536558, 'num_leaves': 60, 'max_depth': 8, 'min_child_samples': 27, 'subsample': 0.9129195817956494, 'subsample_freq': 5, 'colsample_bytree': 0.7862036452249033, 'lambda_l1': 1.0468325903605848, 'lambda_l2': 1.5111574762118951, 'min_split_gain': 0.178923175442043, 'n_estimators': 351}. Best is trial 14 with value: 0.24743932508582.\n",
      "[I 2025-10-06 18:46:55,000] Trial 27 finished with value: 0.24778544912733808 and parameters: {'learning_rate': 0.026428690592545986, 'num_leaves': 74, 'max_depth': 7, 'min_child_samples': 33, 'subsample': 0.7063391496098567, 'subsample_freq': 6, 'colsample_bytree': 0.758788481512191, 'lambda_l1': 0.7917248187005553, 'lambda_l2': 2.2959240163185153, 'min_split_gain': 0.0015984010913603075, 'n_estimators': 476}. Best is trial 14 with value: 0.24743932508582.\n",
      "[I 2025-10-06 18:46:59,760] Trial 28 finished with value: 0.2477405790619961 and parameters: {'learning_rate': 0.035464802535755, 'num_leaves': 52, 'max_depth': 8, 'min_child_samples': 34, 'subsample': 0.8699781380541552, 'subsample_freq': 7, 'colsample_bytree': 0.7224352571849026, 'lambda_l1': 1.4268277433381618, 'lambda_l2': 1.9727815397992279, 'min_split_gain': 0.27418342315495653, 'n_estimators': 403}. Best is trial 14 with value: 0.24743932508582.\n",
      "[I 2025-10-06 18:47:03,101] Trial 29 finished with value: 0.24871639061033074 and parameters: {'learning_rate': 0.07908577405701443, 'num_leaves': 87, 'max_depth': 8, 'min_child_samples': 24, 'subsample': 0.835031159793194, 'subsample_freq': 4, 'colsample_bytree': 0.7005180662399266, 'lambda_l1': 1.7651649740516644, 'lambda_l2': 1.6814262321065523, 'min_split_gain': 0.32550159856389554, 'n_estimators': 538}. Best is trial 14 with value: 0.24743932508582.\n",
      "✓ Best Pinball loss: 0.2474\n",
      "✓ Best params: {'learning_rate': 0.04850458849301837, 'num_leaves': 48, 'max_depth': 8, 'min_child_samples': 24, 'subsample': 0.8794499214700386, 'subsample_freq': 6, 'colsample_bytree': 0.7404216527098098, 'lambda_l1': 1.9588511835454891, 'lambda_l2': 2.3581857803657345, 'min_split_gain': 0.24592559519420237, 'n_estimators': 459}\n"
     ]
    }
   ],
   "source": [
    "dict_params_90 = forecast.tune(\n",
    "    df_input,\n",
    "    horizon,\n",
    "    input_columns,\n",
    "    numerical_columns,\n",
    "    categorical_columns,\n",
    "    alpha = 0.9\n",
    ")"
   ]
  },
  {
   "cell_type": "code",
   "execution_count": 7,
   "metadata": {},
   "outputs": [
    {
     "name": "stdout",
     "output_type": "stream",
     "text": [
      "Tuning forecast model for quantile (α=0.5) with 30 trials...\n",
      "X shape pre-filtering: (547535, 28)\n",
      "X shape post-filtering: (547535, 28)\n"
     ]
    },
    {
     "name": "stderr",
     "output_type": "stream",
     "text": [
      "[I 2025-10-06 18:47:21,056] A new study created in memory with name: no-name-6fe5158a-1a96-4d14-b98d-d597d122778e\n"
     ]
    },
    {
     "name": "stdout",
     "output_type": "stream",
     "text": [
      "Train dates [2009-12-29 00:00:00 to 2023-12-26 00:00:00], Test dates [2024-01-02 00:00:00 to 2025-07-29 00:00:00]\n",
      "X training shape: (487161, 28)\n",
      "X test shape: (60374, 28)\n"
     ]
    },
    {
     "data": {
      "application/vnd.jupyter.widget-view+json": {
       "model_id": "4308350fcc964c71837b9731140b01f6",
       "version_major": 2,
       "version_minor": 0
      },
      "text/plain": [
       "  0%|          | 0/30 [00:00<?, ?it/s]"
      ]
     },
     "metadata": {},
     "output_type": "display_data"
    },
    {
     "name": "stdout",
     "output_type": "stream",
     "text": [
      "[I 2025-10-06 18:47:27,431] Trial 0 finished with value: 0.36734587060492907 and parameters: {'learning_rate': 0.03912720785647401, 'num_leaves': 109, 'max_depth': 8, 'min_child_samples': 46, 'subsample': 0.7390046601106091, 'subsample_freq': 2, 'colsample_bytree': 0.7145209030420498, 'lambda_l1': 1.7323522915498704, 'lambda_l2': 1.8033450352296265, 'min_split_gain': 0.35403628889802274, 'n_estimators': 361}. Best is trial 0 with value: 0.36734587060492907.\n",
      "[I 2025-10-06 18:47:32,747] Trial 1 finished with value: 0.3670315417631783 and parameters: {'learning_rate': 0.11370159575730848, 'num_leaves': 102, 'max_depth': 6, 'min_child_samples': 30, 'subsample': 0.7458511274633584, 'subsample_freq': 3, 'colsample_bytree': 0.8311891079080594, 'lambda_l1': 0.8638900372842315, 'lambda_l2': 0.8736874205941257, 'min_split_gain': 0.30592644736118974, 'n_estimators': 426}. Best is trial 1 with value: 0.3670315417631783.\n",
      "[I 2025-10-06 18:47:38,254] Trial 2 finished with value: 0.367467175951685 and parameters: {'learning_rate': 0.03375691259416854, 'num_leaves': 71, 'max_depth': 7, 'min_child_samples': 53, 'subsample': 0.7499184455395899, 'subsample_freq': 4, 'colsample_bytree': 0.8481036422155106, 'lambda_l1': 0.09290082543999545, 'lambda_l2': 1.822634555704315, 'min_split_gain': 0.08526206184364576, 'n_estimators': 385}. Best is trial 1 with value: 0.3670315417631783.\n",
      "[I 2025-10-06 18:47:51,581] Trial 3 finished with value: 0.3679942052308295 and parameters: {'learning_rate': 0.10949806962888411, 'num_leaves': 110, 'max_depth': 9, 'min_child_samples': 35, 'subsample': 0.724418028501596, 'subsample_freq': 5, 'colsample_bytree': 0.8100381234349003, 'lambda_l1': 0.24407646968955765, 'lambda_l2': 1.4855307303338106, 'min_split_gain': 0.017194260557609198, 'n_estimators': 851}. Best is trial 1 with value: 0.3670315417631783.\n",
      "[I 2025-10-06 18:48:01,633] Trial 4 finished with value: 0.3667757493087097 and parameters: {'learning_rate': 0.031798011488809175, 'num_leaves': 91, 'max_depth': 7, 'min_child_samples': 43, 'subsample': 0.8366775698358199, 'subsample_freq': 2, 'colsample_bytree': 0.9423961569411397, 'lambda_l1': 1.550265646722229, 'lambda_l2': 2.8184968246925672, 'min_split_gain': 0.4474136752138244, 'n_estimators': 679}. Best is trial 4 with value: 0.3667757493087097.\n",
      "[I 2025-10-06 18:48:09,102] Trial 5 finished with value: 0.36684763614807225 and parameters: {'learning_rate': 0.10432480565485087, 'num_leaves': 53, 'max_depth': 6, 'min_child_samples': 25, 'subsample': 0.7813325826908161, 'subsample_freq': 3, 'colsample_bytree': 0.7678372579434739, 'lambda_l1': 1.6574750183038587, 'lambda_l2': 1.0702599800807677, 'min_split_gain': 0.14046725484369038, 'n_estimators': 649}. Best is trial 4 with value: 0.3667757493087097.\n",
      "[I 2025-10-06 18:48:19,017] Trial 6 finished with value: 0.3677028516912582 and parameters: {'learning_rate': 0.02574484951056643, 'num_leaves': 100, 'max_depth': 6, 'min_child_samples': 60, 'subsample': 0.8930611923241643, 'subsample_freq': 2, 'colsample_bytree': 0.7013805292809006, 'lambda_l1': 1.6309228569096683, 'lambda_l2': 2.120572031542851, 'min_split_gain': 0.36450358402049365, 'n_estimators': 774}. Best is trial 4 with value: 0.3667757493087097.\n",
      "[I 2025-10-06 18:48:27,712] Trial 7 finished with value: 0.3681034582682509 and parameters: {'learning_rate': 0.022837467062413647, 'num_leaves': 71, 'max_depth': 6, 'min_child_samples': 55, 'subsample': 0.8558245317068894, 'subsample_freq': 3, 'colsample_bytree': 0.7158895875715059, 'lambda_l1': 0.6219646434313244, 'lambda_l2': 0.9755499660802411, 'min_split_gain': 0.36480308916903204, 'n_estimators': 701}. Best is trial 4 with value: 0.3667757493087097.\n",
      "[I 2025-10-06 18:48:32,487] Trial 8 finished with value: 0.3669957967561879 and parameters: {'learning_rate': 0.09804279884910554, 'num_leaves': 78, 'max_depth': 6, 'min_child_samples': 50, 'subsample': 0.8901962621542243, 'subsample_freq': 4, 'colsample_bytree': 0.8927417949886403, 'lambda_l1': 0.9875911927287815, 'lambda_l2': 1.568198488145982, 'min_split_gain': 0.21377050917927481, 'n_estimators': 364}. Best is trial 4 with value: 0.3667757493087097.\n",
      "[I 2025-10-06 18:48:37,735] Trial 9 finished with value: 0.36955228408790847 and parameters: {'learning_rate': 0.02426531002764982, 'num_leaves': 50, 'max_depth': 8, 'min_child_samples': 35, 'subsample': 0.8271426727911757, 'subsample_freq': 7, 'colsample_bytree': 0.7623230572872187, 'lambda_l1': 0.8207658460712595, 'lambda_l2': 2.266653415629146, 'min_split_gain': 0.11439908274581123, 'n_estimators': 392}. Best is trial 4 with value: 0.3667757493087097.\n",
      "[I 2025-10-06 18:48:45,048] Trial 10 finished with value: 0.3671141412808527 and parameters: {'learning_rate': 0.050203937383977375, 'num_leaves': 93, 'max_depth': 7, 'min_child_samples': 40, 'subsample': 0.9387925448765202, 'subsample_freq': 1, 'colsample_bytree': 0.9432694999314145, 'lambda_l1': 1.3531447594855595, 'lambda_l2': 2.910631437653913, 'min_split_gain': 0.4961813327301685, 'n_estimators': 504}. Best is trial 4 with value: 0.3667757493087097.\n",
      "[I 2025-10-06 18:48:52,278] Trial 11 finished with value: 0.36795282573900207 and parameters: {'learning_rate': 0.0697465499177316, 'num_leaves': 52, 'max_depth': 7, 'min_child_samples': 25, 'subsample': 0.7934173274156219, 'subsample_freq': 1, 'colsample_bytree': 0.7789294669469911, 'lambda_l1': 1.3167408775475147, 'lambda_l2': 0.05011356517534593, 'min_split_gain': 0.4850004380546054, 'n_estimators': 595}. Best is trial 4 with value: 0.3667757493087097.\n",
      "[I 2025-10-06 18:49:00,890] Trial 12 finished with value: 0.3672639695700464 and parameters: {'learning_rate': 0.062339547147688155, 'num_leaves': 87, 'max_depth': 7, 'min_child_samples': 41, 'subsample': 0.7934325977111863, 'subsample_freq': 6, 'colsample_bytree': 0.9454373804076137, 'lambda_l1': 1.9799339213968834, 'lambda_l2': 2.9980873159246535, 'min_split_gain': 0.19201879347252487, 'n_estimators': 630}. Best is trial 4 with value: 0.3667757493087097.\n",
      "[I 2025-10-06 18:49:10,383] Trial 13 finished with value: 0.3675089010895536 and parameters: {'learning_rate': 0.033445174827576425, 'num_leaves': 63, 'max_depth': 8, 'min_child_samples': 24, 'subsample': 0.7976867091351438, 'subsample_freq': 3, 'colsample_bytree': 0.8845245855315581, 'lambda_l1': 1.331686828752755, 'lambda_l2': 0.8681561469116986, 'min_split_gain': 0.15036913204046967, 'n_estimators': 679}. Best is trial 4 with value: 0.3667757493087097.\n",
      "[I 2025-10-06 18:49:17,464] Trial 14 finished with value: 0.3672140841816626 and parameters: {'learning_rate': 0.07546738091211297, 'num_leaves': 87, 'max_depth': 6, 'min_child_samples': 35, 'subsample': 0.8475054480194714, 'subsample_freq': 2, 'colsample_bytree': 0.7631582334842754, 'lambda_l1': 1.9588511835454891, 'lambda_l2': 0.1384776922103601, 'min_split_gain': 0.2912554411220167, 'n_estimators': 545}. Best is trial 4 with value: 0.3667757493087097.\n",
      "[I 2025-10-06 18:49:26,991] Trial 15 finished with value: 0.3671059280275314 and parameters: {'learning_rate': 0.04472056064468902, 'num_leaves': 59, 'max_depth': 7, 'min_child_samples': 46, 'subsample': 0.7772649591034324, 'subsample_freq': 5, 'colsample_bytree': 0.8817411879470112, 'lambda_l1': 1.5704557156749084, 'lambda_l2': 2.4397179191226384, 'min_split_gain': 0.425466280867667, 'n_estimators': 779}. Best is trial 4 with value: 0.3667757493087097.\n",
      "[I 2025-10-06 18:49:38,735] Trial 16 finished with value: 0.3677307603886767 and parameters: {'learning_rate': 0.08463780253655934, 'num_leaves': 80, 'max_depth': 9, 'min_child_samples': 30, 'subsample': 0.7090762033080296, 'subsample_freq': 2, 'colsample_bytree': 0.8065866665235234, 'lambda_l1': 1.191166155660279, 'lambda_l2': 0.5499160674422274, 'min_split_gain': 0.0024668250820562565, 'n_estimators': 733}. Best is trial 4 with value: 0.3667757493087097.\n",
      "[I 2025-10-06 18:49:49,281] Trial 17 finished with value: 0.36723992738822536 and parameters: {'learning_rate': 0.05771918776240819, 'num_leaves': 69, 'max_depth': 6, 'min_child_samples': 46, 'subsample': 0.8791402176960997, 'subsample_freq': 3, 'colsample_bytree': 0.7414630915268885, 'lambda_l1': 1.7541905190629605, 'lambda_l2': 1.2306612677679296, 'min_split_gain': 0.25327343502035116, 'n_estimators': 865}. Best is trial 4 with value: 0.3667757493087097.\n",
      "[I 2025-10-06 18:49:57,885] Trial 18 finished with value: 0.366609087437495 and parameters: {'learning_rate': 0.02982043768884869, 'num_leaves': 90, 'max_depth': 7, 'min_child_samples': 38, 'subsample': 0.8230485695022207, 'subsample_freq': 1, 'colsample_bytree': 0.857744171629833, 'lambda_l1': 1.4910099428208001, 'lambda_l2': 2.5982416776143755, 'min_split_gain': 0.09107500117496999, 'n_estimators': 635}. Best is trial 18 with value: 0.366609087437495.\n",
      "[I 2025-10-06 18:50:06,488] Trial 19 finished with value: 0.3669135114405922 and parameters: {'learning_rate': 0.020023315207798913, 'num_leaves': 92, 'max_depth': 8, 'min_child_samples': 39, 'subsample': 0.8270975368787751, 'subsample_freq': 1, 'colsample_bytree': 0.9088693290776682, 'lambda_l1': 1.1373776169418512, 'lambda_l2': 2.635881019749099, 'min_split_gain': 0.06667528078328772, 'n_estimators': 567}. Best is trial 18 with value: 0.366609087437495.\n",
      "[I 2025-10-06 18:50:13,320] Trial 20 finished with value: 0.36681877233656857 and parameters: {'learning_rate': 0.0303412369017227, 'num_leaves': 99, 'max_depth': 7, 'min_child_samples': 43, 'subsample': 0.9206272203474473, 'subsample_freq': 1, 'colsample_bytree': 0.9173927413165004, 'lambda_l1': 1.4554751073424212, 'lambda_l2': 2.6686692583983165, 'min_split_gain': 0.44023996159525314, 'n_estimators': 470}. Best is trial 18 with value: 0.366609087437495.\n",
      "[I 2025-10-06 18:50:20,175] Trial 21 finished with value: 0.36660276638221606 and parameters: {'learning_rate': 0.03001630788558275, 'num_leaves': 98, 'max_depth': 7, 'min_child_samples': 44, 'subsample': 0.9326394391787103, 'subsample_freq': 1, 'colsample_bytree': 0.9165273256215957, 'lambda_l1': 1.483999632150293, 'lambda_l2': 2.6629470290120234, 'min_split_gain': 0.43667544757509297, 'n_estimators': 461}. Best is trial 21 with value: 0.36660276638221606.\n",
      "[I 2025-10-06 18:50:27,223] Trial 22 finished with value: 0.3667339561627083 and parameters: {'learning_rate': 0.028422039025796573, 'num_leaves': 87, 'max_depth': 7, 'min_child_samples': 37, 'subsample': 0.9174125443519249, 'subsample_freq': 1, 'colsample_bytree': 0.86267571787822, 'lambda_l1': 1.480727359151588, 'lambda_l2': 2.5795963043416434, 'min_split_gain': 0.4228314533314272, 'n_estimators': 505}. Best is trial 21 with value: 0.36660276638221606.\n",
      "[I 2025-10-06 18:50:34,136] Trial 23 finished with value: 0.36708592165114917 and parameters: {'learning_rate': 0.03961713149817063, 'num_leaves': 85, 'max_depth': 7, 'min_child_samples': 37, 'subsample': 0.9437226345061608, 'subsample_freq': 1, 'colsample_bytree': 0.8594663002758478, 'lambda_l1': 1.8306224584957143, 'lambda_l2': 2.118943104685433, 'min_split_gain': 0.39958692693409303, 'n_estimators': 489}. Best is trial 21 with value: 0.36660276638221606.\n",
      "[I 2025-10-06 18:50:41,517] Trial 24 finished with value: 0.36700311282730586 and parameters: {'learning_rate': 0.027690506190726702, 'num_leaves': 104, 'max_depth': 8, 'min_child_samples': 29, 'subsample': 0.9143129804867864, 'subsample_freq': 1, 'colsample_bytree': 0.8602870176628544, 'lambda_l1': 1.1469146926362477, 'lambda_l2': 2.4835839635397767, 'min_split_gain': 0.3112271899455037, 'n_estimators': 448}. Best is trial 21 with value: 0.36660276638221606.\n",
      "[I 2025-10-06 18:50:49,940] Trial 25 finished with value: 0.366930424840272 and parameters: {'learning_rate': 0.02073079752832241, 'num_leaves': 95, 'max_depth': 7, 'min_child_samples': 32, 'subsample': 0.861732221919989, 'subsample_freq': 2, 'colsample_bytree': 0.9160447965247018, 'lambda_l1': 1.4494083035917107, 'lambda_l2': 2.3633477171400603, 'min_split_gain': 0.2518875298472579, 'n_estimators': 531}. Best is trial 21 with value: 0.36660276638221606.\n",
      "[I 2025-10-06 18:50:58,637] Trial 26 finished with value: 0.36727811101859154 and parameters: {'learning_rate': 0.03771815549249363, 'num_leaves': 77, 'max_depth': 8, 'min_child_samples': 37, 'subsample': 0.9163435237703637, 'subsample_freq': 1, 'colsample_bytree': 0.8314341670915533, 'lambda_l1': 0.539285703389997, 'lambda_l2': 2.002545569463125, 'min_split_gain': 0.4083010180241802, 'n_estimators': 584}. Best is trial 21 with value: 0.36660276638221606.\n",
      "[I 2025-10-06 18:51:06,666] Trial 27 finished with value: 0.3667063489357316 and parameters: {'learning_rate': 0.02757407339381897, 'num_leaves': 96, 'max_depth': 7, 'min_child_samples': 49, 'subsample': 0.8113001892572284, 'subsample_freq': 2, 'colsample_bytree': 0.8701039776098249, 'lambda_l1': 1.4721684242282533, 'lambda_l2': 2.6091951834206313, 'min_split_gain': 0.21501986215517196, 'n_estimators': 519}. Best is trial 21 with value: 0.36660276638221606.\n",
      "[I 2025-10-06 18:51:15,827] Trial 28 finished with value: 0.36704552359861753 and parameters: {'learning_rate': 0.04900476247278415, 'num_leaves': 96, 'max_depth': 7, 'min_child_samples': 50, 'subsample': 0.8072905496254464, 'subsample_freq': 2, 'colsample_bytree': 0.9005598487117359, 'lambda_l1': 1.8545228814726715, 'lambda_l2': 2.833891698553336, 'min_split_gain': 0.19128605902512089, 'n_estimators': 605}. Best is trial 21 with value: 0.36660276638221606.\n",
      "[I 2025-10-06 18:51:23,478] Trial 29 finished with value: 0.36705228298502507 and parameters: {'learning_rate': 0.037186073348007755, 'num_leaves': 106, 'max_depth': 8, 'min_child_samples': 46, 'subsample': 0.7651410086555684, 'subsample_freq': 2, 'colsample_bytree': 0.8793363118189581, 'lambda_l1': 1.0050676413461606, 'lambda_l2': 2.2820178992975895, 'min_split_gain': 0.03471076819154701, 'n_estimators': 435}. Best is trial 21 with value: 0.36660276638221606.\n",
      "✓ Best Pinball loss: 0.3666\n",
      "✓ Best params: {'learning_rate': 0.03001630788558275, 'num_leaves': 98, 'max_depth': 7, 'min_child_samples': 44, 'subsample': 0.9326394391787103, 'subsample_freq': 1, 'colsample_bytree': 0.9165273256215957, 'lambda_l1': 1.483999632150293, 'lambda_l2': 2.6629470290120234, 'min_split_gain': 0.43667544757509297, 'n_estimators': 461}\n"
     ]
    }
   ],
   "source": [
    "dict_params_50 = forecast.tune(\n",
    "    df_input,\n",
    "    horizon,\n",
    "    input_columns,\n",
    "    numerical_columns,\n",
    "    categorical_columns,\n",
    "    alpha = 0.5\n",
    ")"
   ]
  },
  {
   "cell_type": "code",
   "execution_count": 8,
   "metadata": {},
   "outputs": [
    {
     "name": "stdout",
     "output_type": "stream",
     "text": [
      "Tuning forecast model for quantile (α=0.1) with 30 trials...\n",
      "X shape pre-filtering: (547535, 28)\n",
      "X shape post-filtering: (547535, 28)\n"
     ]
    },
    {
     "name": "stderr",
     "output_type": "stream",
     "text": [
      "[I 2025-10-06 18:51:40,785] A new study created in memory with name: no-name-e8be7bf8-e0b5-4649-85a5-e9a4d7c4c29d\n"
     ]
    },
    {
     "name": "stdout",
     "output_type": "stream",
     "text": [
      "Train dates [2009-12-29 00:00:00 to 2023-12-26 00:00:00], Test dates [2024-01-02 00:00:00 to 2025-07-29 00:00:00]\n",
      "X training shape: (487161, 28)\n",
      "X test shape: (60374, 28)\n"
     ]
    },
    {
     "data": {
      "application/vnd.jupyter.widget-view+json": {
       "model_id": "3b8cad82f6aa4bb5b549b23a1e7f75bf",
       "version_major": 2,
       "version_minor": 0
      },
      "text/plain": [
       "  0%|          | 0/30 [00:00<?, ?it/s]"
      ]
     },
     "metadata": {},
     "output_type": "display_data"
    },
    {
     "name": "stdout",
     "output_type": "stream",
     "text": [
      "[I 2025-10-06 18:51:47,110] Trial 0 finished with value: 0.09830400185571136 and parameters: {'learning_rate': 0.03912720785647401, 'num_leaves': 109, 'max_depth': 8, 'min_child_samples': 46, 'subsample': 0.7390046601106091, 'subsample_freq': 2, 'colsample_bytree': 0.7145209030420498, 'lambda_l1': 1.7323522915498704, 'lambda_l2': 1.8033450352296265, 'min_split_gain': 0.35403628889802274, 'n_estimators': 361}. Best is trial 0 with value: 0.09830400185571136.\n",
      "[I 2025-10-06 18:51:52,168] Trial 1 finished with value: 0.09828296033940767 and parameters: {'learning_rate': 0.11370159575730848, 'num_leaves': 102, 'max_depth': 6, 'min_child_samples': 30, 'subsample': 0.7458511274633584, 'subsample_freq': 3, 'colsample_bytree': 0.8311891079080594, 'lambda_l1': 0.8638900372842315, 'lambda_l2': 0.8736874205941257, 'min_split_gain': 0.30592644736118974, 'n_estimators': 426}. Best is trial 1 with value: 0.09828296033940767.\n",
      "[I 2025-10-06 18:51:57,500] Trial 2 finished with value: 0.09863702711350193 and parameters: {'learning_rate': 0.03375691259416854, 'num_leaves': 71, 'max_depth': 7, 'min_child_samples': 53, 'subsample': 0.7499184455395899, 'subsample_freq': 4, 'colsample_bytree': 0.8481036422155106, 'lambda_l1': 0.09290082543999545, 'lambda_l2': 1.822634555704315, 'min_split_gain': 0.08526206184364576, 'n_estimators': 385}. Best is trial 1 with value: 0.09828296033940767.\n",
      "[I 2025-10-06 18:52:11,308] Trial 3 finished with value: 0.09850830184736228 and parameters: {'learning_rate': 0.10949806962888411, 'num_leaves': 110, 'max_depth': 9, 'min_child_samples': 35, 'subsample': 0.724418028501596, 'subsample_freq': 5, 'colsample_bytree': 0.8100381234349003, 'lambda_l1': 0.24407646968955765, 'lambda_l2': 1.4855307303338106, 'min_split_gain': 0.017194260557609198, 'n_estimators': 851}. Best is trial 1 with value: 0.09828296033940767.\n",
      "[I 2025-10-06 18:52:21,223] Trial 4 finished with value: 0.09818842087313252 and parameters: {'learning_rate': 0.031798011488809175, 'num_leaves': 91, 'max_depth': 7, 'min_child_samples': 43, 'subsample': 0.8366775698358199, 'subsample_freq': 2, 'colsample_bytree': 0.9423961569411397, 'lambda_l1': 1.550265646722229, 'lambda_l2': 2.8184968246925672, 'min_split_gain': 0.4474136752138244, 'n_estimators': 679}. Best is trial 4 with value: 0.09818842087313252.\n",
      "[I 2025-10-06 18:52:28,135] Trial 5 finished with value: 0.0983927410634725 and parameters: {'learning_rate': 0.10432480565485087, 'num_leaves': 53, 'max_depth': 6, 'min_child_samples': 25, 'subsample': 0.7813325826908161, 'subsample_freq': 3, 'colsample_bytree': 0.7678372579434739, 'lambda_l1': 1.6574750183038587, 'lambda_l2': 1.0702599800807677, 'min_split_gain': 0.14046725484369038, 'n_estimators': 649}. Best is trial 4 with value: 0.09818842087313252.\n",
      "[I 2025-10-06 18:52:37,726] Trial 6 finished with value: 0.0982080393845082 and parameters: {'learning_rate': 0.02574484951056643, 'num_leaves': 100, 'max_depth': 6, 'min_child_samples': 60, 'subsample': 0.8930611923241643, 'subsample_freq': 2, 'colsample_bytree': 0.7013805292809006, 'lambda_l1': 1.6309228569096683, 'lambda_l2': 2.120572031542851, 'min_split_gain': 0.36450358402049365, 'n_estimators': 774}. Best is trial 4 with value: 0.09818842087313252.\n",
      "[I 2025-10-06 18:52:45,873] Trial 7 finished with value: 0.0981505864099734 and parameters: {'learning_rate': 0.022837467062413647, 'num_leaves': 71, 'max_depth': 6, 'min_child_samples': 55, 'subsample': 0.8558245317068894, 'subsample_freq': 3, 'colsample_bytree': 0.7158895875715059, 'lambda_l1': 0.6219646434313244, 'lambda_l2': 0.9755499660802411, 'min_split_gain': 0.36480308916903204, 'n_estimators': 701}. Best is trial 7 with value: 0.0981505864099734.\n",
      "[I 2025-10-06 18:52:50,500] Trial 8 finished with value: 0.09831792421195852 and parameters: {'learning_rate': 0.09804279884910554, 'num_leaves': 78, 'max_depth': 6, 'min_child_samples': 50, 'subsample': 0.8901962621542243, 'subsample_freq': 4, 'colsample_bytree': 0.8927417949886403, 'lambda_l1': 0.9875911927287815, 'lambda_l2': 1.568198488145982, 'min_split_gain': 0.21377050917927481, 'n_estimators': 364}. Best is trial 7 with value: 0.0981505864099734.\n",
      "[I 2025-10-06 18:52:55,545] Trial 9 finished with value: 0.0987036650921637 and parameters: {'learning_rate': 0.02426531002764982, 'num_leaves': 50, 'max_depth': 8, 'min_child_samples': 35, 'subsample': 0.8271426727911757, 'subsample_freq': 7, 'colsample_bytree': 0.7623230572872187, 'lambda_l1': 0.8207658460712595, 'lambda_l2': 2.266653415629146, 'min_split_gain': 0.11439908274581123, 'n_estimators': 392}. Best is trial 7 with value: 0.0981505864099734.\n",
      "[I 2025-10-06 18:53:02,512] Trial 10 finished with value: 0.09858192210409719 and parameters: {'learning_rate': 0.050203937383977375, 'num_leaves': 65, 'max_depth': 7, 'min_child_samples': 59, 'subsample': 0.9415220212529034, 'subsample_freq': 6, 'colsample_bytree': 0.7638608646912997, 'lambda_l1': 0.5781185191674717, 'lambda_l2': 0.17428975945872593, 'min_split_gain': 0.4961813327301685, 'n_estimators': 513}. Best is trial 7 with value: 0.0981505864099734.\n",
      "[I 2025-10-06 18:53:11,579] Trial 11 finished with value: 0.09839851322211157 and parameters: {'learning_rate': 0.020417854365764616, 'num_leaves': 89, 'max_depth': 7, 'min_child_samples': 41, 'subsample': 0.8354541041007721, 'subsample_freq': 1, 'colsample_bytree': 0.9455679273727369, 'lambda_l1': 1.3167408775475147, 'lambda_l2': 2.847114449363562, 'min_split_gain': 0.4672522439201001, 'n_estimators': 684}. Best is trial 7 with value: 0.0981505864099734.\n",
      "[I 2025-10-06 18:53:19,196] Trial 12 finished with value: 0.09833537095057346 and parameters: {'learning_rate': 0.05644384997366898, 'num_leaves': 88, 'max_depth': 7, 'min_child_samples': 43, 'subsample': 0.8641487943822826, 'subsample_freq': 1, 'colsample_bytree': 0.9454373804076137, 'lambda_l1': 1.9799339213968834, 'lambda_l2': 2.9980873159246535, 'min_split_gain': 0.4251576628083351, 'n_estimators': 564}. Best is trial 7 with value: 0.0981505864099734.\n",
      "[I 2025-10-06 18:53:30,264] Trial 13 finished with value: 0.09836402707747155 and parameters: {'learning_rate': 0.03250757958526708, 'num_leaves': 87, 'max_depth': 8, 'min_child_samples': 53, 'subsample': 0.7956580609634012, 'subsample_freq': 3, 'colsample_bytree': 0.8874113140118114, 'lambda_l1': 1.2710318748616547, 'lambda_l2': 0.4395099842401906, 'min_split_gain': 0.39826684066769397, 'n_estimators': 729}. Best is trial 7 with value: 0.0981505864099734.\n",
      "[I 2025-10-06 18:53:39,893] Trial 14 finished with value: 0.0983290174957184 and parameters: {'learning_rate': 0.07072450009857782, 'num_leaves': 63, 'max_depth': 6, 'min_child_samples': 37, 'subsample': 0.8656292746208999, 'subsample_freq': 2, 'colsample_bytree': 0.8787180158836482, 'lambda_l1': 0.444337270451417, 'lambda_l2': 0.918732771899415, 'min_split_gain': 0.2637670395588536, 'n_estimators': 829}. Best is trial 7 with value: 0.0981505864099734.\n",
      "[I 2025-10-06 18:53:47,904] Trial 15 finished with value: 0.09831685931747743 and parameters: {'learning_rate': 0.028412181238511292, 'num_leaves': 78, 'max_depth': 7, 'min_child_samples': 48, 'subsample': 0.9367012316033909, 'subsample_freq': 5, 'colsample_bytree': 0.7971922986965965, 'lambda_l1': 1.240297815569115, 'lambda_l2': 2.3806613011225295, 'min_split_gain': 0.30447914019980227, 'n_estimators': 582}. Best is trial 7 with value: 0.0981505864099734.\n",
      "[I 2025-10-06 18:54:00,205] Trial 16 finished with value: 0.09845690914713104 and parameters: {'learning_rate': 0.0415317522214818, 'num_leaves': 96, 'max_depth': 9, 'min_child_samples': 55, 'subsample': 0.8077057463178529, 'subsample_freq': 2, 'colsample_bytree': 0.7305087586871071, 'lambda_l1': 0.6197952869158081, 'lambda_l2': 0.5499160674422274, 'min_split_gain': 0.42089307350958455, 'n_estimators': 746}. Best is trial 7 with value: 0.0981505864099734.\n",
      "[I 2025-10-06 18:54:07,904] Trial 17 finished with value: 0.09806816650932026 and parameters: {'learning_rate': 0.021722408718189604, 'num_leaves': 71, 'max_depth': 6, 'min_child_samples': 41, 'subsample': 0.8498840712788381, 'subsample_freq': 3, 'colsample_bytree': 0.9198751989720175, 'lambda_l1': 1.1447934552688257, 'lambda_l2': 1.2306612677679296, 'min_split_gain': 0.22316100422501808, 'n_estimators': 685}. Best is trial 17 with value: 0.09806816650932026.\n",
      "[I 2025-10-06 18:54:17,314] Trial 18 finished with value: 0.09816491229486084 and parameters: {'learning_rate': 0.020814985315795637, 'num_leaves': 59, 'max_depth': 6, 'min_child_samples': 38, 'subsample': 0.9089320213334647, 'subsample_freq': 5, 'colsample_bytree': 0.8657031666431841, 'lambda_l1': 1.0503640959079317, 'lambda_l2': 1.226078851066049, 'min_split_gain': 0.19483926611697677, 'n_estimators': 897}. Best is trial 17 with value: 0.09806816650932026.\n",
      "[I 2025-10-06 18:54:24,079] Trial 19 finished with value: 0.09813787123635442 and parameters: {'learning_rate': 0.023821360152100842, 'num_leaves': 71, 'max_depth': 6, 'min_child_samples': 32, 'subsample': 0.8536933647545093, 'subsample_freq': 4, 'colsample_bytree': 0.9116018725120875, 'lambda_l1': 0.38447746228136626, 'lambda_l2': 0.571009417585309, 'min_split_gain': 0.2586086137334289, 'n_estimators': 604}. Best is trial 17 with value: 0.09806816650932026.\n",
      "[I 2025-10-06 18:54:29,547] Trial 20 finished with value: 0.0983062495401101 and parameters: {'learning_rate': 0.06620860695923832, 'num_leaves': 70, 'max_depth': 6, 'min_child_samples': 30, 'subsample': 0.7724825092165146, 'subsample_freq': 4, 'colsample_bytree': 0.9156617942106456, 'lambda_l1': 0.2661005242689878, 'lambda_l2': 0.49303095757850723, 'min_split_gain': 0.2136483339325741, 'n_estimators': 482}. Best is trial 17 with value: 0.09806816650932026.\n",
      "[I 2025-10-06 18:54:36,495] Trial 21 finished with value: 0.09819087625356802 and parameters: {'learning_rate': 0.023778134459667213, 'num_leaves': 73, 'max_depth': 6, 'min_child_samples': 29, 'subsample': 0.8585032481434303, 'subsample_freq': 3, 'colsample_bytree': 0.9152469523104756, 'lambda_l1': 0.7040124128303246, 'lambda_l2': 0.8227747655151005, 'min_split_gain': 0.2744882366838801, 'n_estimators': 606}. Best is trial 17 with value: 0.09806816650932026.\n",
      "[I 2025-10-06 18:54:43,465] Trial 22 finished with value: 0.09820576719582945 and parameters: {'learning_rate': 0.027217049684831986, 'num_leaves': 58, 'max_depth': 6, 'min_child_samples': 40, 'subsample': 0.8559198146848513, 'subsample_freq': 4, 'colsample_bytree': 0.9217924691728566, 'lambda_l1': 0.43503153849519727, 'lambda_l2': 0.016736040447235867, 'min_split_gain': 0.34265136171416755, 'n_estimators': 640}. Best is trial 17 with value: 0.09806816650932026.\n",
      "[I 2025-10-06 18:54:49,917] Trial 23 finished with value: 0.09815486588512029 and parameters: {'learning_rate': 0.02003989102820755, 'num_leaves': 81, 'max_depth': 6, 'min_child_samples': 24, 'subsample': 0.8883795828467571, 'subsample_freq': 3, 'colsample_bytree': 0.8544185044309001, 'lambda_l1': 1.0807270900004495, 'lambda_l2': 1.2987871875073032, 'min_split_gain': 0.1640197126670363, 'n_estimators': 544}. Best is trial 17 with value: 0.09806816650932026.\n",
      "[I 2025-10-06 18:54:58,470] Trial 24 finished with value: 0.09869366698713346 and parameters: {'learning_rate': 0.0232270611034363, 'num_leaves': 66, 'max_depth': 7, 'min_child_samples': 33, 'subsample': 0.8106987280006503, 'subsample_freq': 5, 'colsample_bytree': 0.9075400526251968, 'lambda_l1': 0.032785833728923075, 'lambda_l2': 0.61390659877476, 'min_split_gain': 0.24149327961810385, 'n_estimators': 692}. Best is trial 17 with value: 0.09806816650932026.\n",
      "[I 2025-10-06 18:55:07,444] Trial 25 finished with value: 0.09817476542770077 and parameters: {'learning_rate': 0.029358127988992073, 'num_leaves': 81, 'max_depth': 6, 'min_child_samples': 48, 'subsample': 0.916715060699095, 'subsample_freq': 3, 'colsample_bytree': 0.7936876145652594, 'lambda_l1': 0.3669517320673212, 'lambda_l2': 0.2565592960414925, 'min_split_gain': 0.28310348316944717, 'n_estimators': 795}. Best is trial 17 with value: 0.09806816650932026.\n",
      "[I 2025-10-06 18:55:16,778] Trial 26 finished with value: 0.09850166228280179 and parameters: {'learning_rate': 0.04065837616763685, 'num_leaves': 73, 'max_depth': 7, 'min_child_samples': 45, 'subsample': 0.8505323387193671, 'subsample_freq': 4, 'colsample_bytree': 0.7392517652758283, 'lambda_l1': 0.8102074299307496, 'lambda_l2': 0.7076351454146693, 'min_split_gain': 0.3223594499565775, 'n_estimators': 719}. Best is trial 17 with value: 0.09806816650932026.\n",
      "[I 2025-10-06 18:55:23,390] Trial 27 finished with value: 0.09822519047164115 and parameters: {'learning_rate': 0.0355513880736188, 'num_leaves': 58, 'max_depth': 6, 'min_child_samples': 57, 'subsample': 0.8755104114121799, 'subsample_freq': 6, 'colsample_bytree': 0.8306221076701424, 'lambda_l1': 0.5878833932753789, 'lambda_l2': 1.1071560975062318, 'min_split_gain': 0.2384358080293546, 'n_estimators': 623}. Best is trial 17 with value: 0.09806816650932026.\n",
      "[I 2025-10-06 18:55:30,204] Trial 28 finished with value: 0.0985971534453375 and parameters: {'learning_rate': 0.02243343684458679, 'num_leaves': 68, 'max_depth': 8, 'min_child_samples': 32, 'subsample': 0.8448308423408638, 'subsample_freq': 6, 'colsample_bytree': 0.8985004497310508, 'lambda_l1': 1.4268277433381618, 'lambda_l2': 1.403521747331674, 'min_split_gain': 0.1654420922535843, 'n_estimators': 486}. Best is trial 17 with value: 0.09806816650932026.\n",
      "[I 2025-10-06 18:55:37,157] Trial 29 finished with value: 0.09819258548136973 and parameters: {'learning_rate': 0.03825484696530022, 'num_leaves': 62, 'max_depth': 6, 'min_child_samples': 27, 'subsample': 0.8133183841071386, 'subsample_freq': 1, 'colsample_bytree': 0.8652993274700311, 'lambda_l1': 0.16961382026596755, 'lambda_l2': 1.7733869376405935, 'min_split_gain': 0.3728889120119383, 'n_estimators': 665}. Best is trial 17 with value: 0.09806816650932026.\n",
      "✓ Best Pinball loss: 0.0981\n",
      "✓ Best params: {'learning_rate': 0.021722408718189604, 'num_leaves': 71, 'max_depth': 6, 'min_child_samples': 41, 'subsample': 0.8498840712788381, 'subsample_freq': 3, 'colsample_bytree': 0.9198751989720175, 'lambda_l1': 1.1447934552688257, 'lambda_l2': 1.2306612677679296, 'min_split_gain': 0.22316100422501808, 'n_estimators': 685}\n"
     ]
    }
   ],
   "source": [
    "dict_params_10 = forecast.tune(\n",
    "    df_input,\n",
    "    horizon,\n",
    "    input_columns,\n",
    "    numerical_columns,\n",
    "    categorical_columns,\n",
    "    alpha = 0.1\n",
    ")"
   ]
  },
  {
   "cell_type": "markdown",
   "metadata": {},
   "source": [
    "### Convert to a Single Dict"
   ]
  },
  {
   "cell_type": "code",
   "execution_count": 9,
   "metadata": {},
   "outputs": [],
   "source": [
    "dict_params = {}\n",
    "dict_params['mean'] = dict_params_mean['best_params']\n",
    "dict_params['90'] = dict_params_90['best_params']\n",
    "dict_params['50'] = dict_params_50['best_params']\n",
    "dict_params['10'] = dict_params_10['best_params']\n",
    "\n"
   ]
  },
  {
   "cell_type": "markdown",
   "metadata": {},
   "source": [
    "### Save to resources folder"
   ]
  },
  {
   "cell_type": "code",
   "execution_count": 10,
   "metadata": {},
   "outputs": [],
   "source": [
    "with open(\"../src/resources/model_optimal_params.json\", \"w\") as f:\n",
    "    json.dump(dict_params, f, indent=4)"
   ]
  },
  {
   "cell_type": "code",
   "execution_count": null,
   "metadata": {},
   "outputs": [],
   "source": []
  }
 ],
 "metadata": {
  "kernelspec": {
   "display_name": "conda_python3",
   "language": "python",
   "name": "conda_python3"
  },
  "language_info": {
   "codemirror_mode": {
    "name": "ipython",
    "version": 3
   },
   "file_extension": ".py",
   "mimetype": "text/x-python",
   "name": "python",
   "nbconvert_exporter": "python",
   "pygments_lexer": "ipython3",
   "version": "3.10.18"
  }
 },
 "nbformat": 4,
 "nbformat_minor": 4
}
