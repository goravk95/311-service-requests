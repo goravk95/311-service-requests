{
 "cells": [
  {
   "cell_type": "markdown",
   "id": "ef89e6b3",
   "metadata": {},
   "source": [
    "# Load Data\n",
    "\n"
   ]
  },
  {
   "cell_type": "markdown",
   "id": "a75a5e08",
   "metadata": {},
   "source": [
    "### Set env variables\n",
    "\n",
    "assumes that `SOCRATA_APP_TOKEN`, `SOCRATA_API_KEY_ID`, and `SOCRATA_API_KEY_SECRET` are set in `.env`"
   ]
  },
  {
   "cell_type": "code",
   "execution_count": 1,
   "id": "4da8cb9f",
   "metadata": {},
   "outputs": [
    {
     "data": {
      "text/plain": [
       "True"
      ]
     },
     "execution_count": 1,
     "metadata": {},
     "output_type": "execute_result"
    }
   ],
   "source": [
    "from dotenv import load_dotenv\n",
    "\n",
    "load_dotenv()\n"
   ]
  },
  {
   "cell_type": "markdown",
   "id": "4f3812f3",
   "metadata": {},
   "source": [
    "### Load Packages"
   ]
  },
  {
   "cell_type": "code",
   "execution_count": 2,
   "id": "f22fc662",
   "metadata": {},
   "outputs": [
    {
     "ename": "ImportError",
     "evalue": "cannot import name 'SCHEMA' from 'ingestion.config' (c:\\Users\\gorav\\GitHub\\nyc-311-service-requests\\src\\ingestion\\config.py)",
     "output_type": "error",
     "traceback": [
      "\u001b[31m---------------------------------------------------------------------------\u001b[39m",
      "\u001b[31mImportError\u001b[39m                               Traceback (most recent call last)",
      "\u001b[36mCell\u001b[39m\u001b[36m \u001b[39m\u001b[32mIn[2]\u001b[39m\u001b[32m, line 7\u001b[39m\n\u001b[32m      4\u001b[39m INGESTION_PATH = os.path.abspath(os.path.join(os.getcwd(), \u001b[33m'\u001b[39m\u001b[33m..\u001b[39m\u001b[33m'\u001b[39m, \u001b[33m'\u001b[39m\u001b[33msrc\u001b[39m\u001b[33m'\u001b[39m))\n\u001b[32m      5\u001b[39m sys.path.insert(\u001b[32m0\u001b[39m, INGESTION_PATH)\n\u001b[32m----> \u001b[39m\u001b[32m7\u001b[39m \u001b[38;5;28;01mfrom\u001b[39;00m\u001b[38;5;250m \u001b[39m\u001b[34;01mingestion\u001b[39;00m\u001b[38;5;250m \u001b[39m\u001b[38;5;28;01mimport\u001b[39;00m fetch\n",
      "\u001b[36mFile \u001b[39m\u001b[32mc:\\Users\\gorav\\GitHub\\nyc-311-service-requests\\src\\ingestion\\fetch.py:17\u001b[39m\n\u001b[32m     14\u001b[39m \u001b[38;5;28;01mimport\u001b[39;00m\u001b[38;5;250m \u001b[39m\u001b[34;01mpandas\u001b[39;00m\u001b[38;5;250m \u001b[39m\u001b[38;5;28;01mas\u001b[39;00m\u001b[38;5;250m \u001b[39m\u001b[34;01mpd\u001b[39;00m\n\u001b[32m     15\u001b[39m \u001b[38;5;28;01mfrom\u001b[39;00m\u001b[38;5;250m \u001b[39m\u001b[34;01msodapy\u001b[39;00m\u001b[38;5;250m \u001b[39m\u001b[38;5;28;01mimport\u001b[39;00m Socrata\n\u001b[32m---> \u001b[39m\u001b[32m17\u001b[39m \u001b[38;5;28;01mfrom\u001b[39;00m\u001b[38;5;250m \u001b[39m\u001b[34;01m.\u001b[39;00m\u001b[34;01mconfig\u001b[39;00m\u001b[38;5;250m \u001b[39m\u001b[38;5;28;01mimport\u001b[39;00m (\n\u001b[32m     18\u001b[39m     API_ENDPOINT,\n\u001b[32m     19\u001b[39m     APP_TOKEN,\n\u001b[32m     20\u001b[39m     API_KEY_ID,\n\u001b[32m     21\u001b[39m     API_KEY_SECRET,\n\u001b[32m     22\u001b[39m     DATASET_ID,\n\u001b[32m     23\u001b[39m     DATE_COLUMN,\n\u001b[32m     24\u001b[39m     OUTPUT_DIR,\n\u001b[32m     25\u001b[39m     DATA_START_YEAR,\n\u001b[32m     26\u001b[39m     DATA_END_YEAR,\n\u001b[32m     27\u001b[39m     MAX_CONCURRENT_REQUESTS,\n\u001b[32m     28\u001b[39m     SCHEMA,\n\u001b[32m     29\u001b[39m )\n\u001b[32m     32\u001b[39m \u001b[38;5;28;01mdef\u001b[39;00m\u001b[38;5;250m \u001b[39m\u001b[34m_create_socrata_client\u001b[39m(api_endpoint, app_token, username, password):\n\u001b[32m     33\u001b[39m \u001b[38;5;250m    \u001b[39m\u001b[33;03m\"\"\"Create and configure a Socrata API client.\u001b[39;00m\n\u001b[32m     34\u001b[39m \u001b[33;03m    \u001b[39;00m\n\u001b[32m     35\u001b[39m \u001b[33;03m    Args:\u001b[39;00m\n\u001b[32m   (...)\u001b[39m\u001b[32m     42\u001b[39m \u001b[33;03m        Socrata: Configured Socrata client instance.\u001b[39;00m\n\u001b[32m     43\u001b[39m \u001b[33;03m    \"\"\"\u001b[39;00m\n",
      "\u001b[31mImportError\u001b[39m: cannot import name 'SCHEMA' from 'ingestion.config' (c:\\Users\\gorav\\GitHub\\nyc-311-service-requests\\src\\ingestion\\config.py)"
     ]
    }
   ],
   "source": [
    "import os\n",
    "import sys\n",
    "\n",
    "INGESTION_PATH = os.path.abspath(os.path.join(os.getcwd(), '..', 'src'))\n",
    "sys.path.insert(0, INGESTION_PATH)\n",
    "\n",
    "from ingestion import fetch\n"
   ]
  },
  {
   "cell_type": "markdown",
   "id": "7f2d7ce7",
   "metadata": {},
   "source": [
    "### Full Pull of Data\n",
    "Takes about 48 minutes"
   ]
  },
  {
   "cell_type": "code",
   "execution_count": null,
   "id": "3844ff3a",
   "metadata": {},
   "outputs": [],
   "source": [
    "# await fetch.pull_latest_data()"
   ]
  },
  {
   "cell_type": "markdown",
   "id": "f93575a8",
   "metadata": {},
   "source": [
    "### Incremental Pull of Data"
   ]
  },
  {
   "cell_type": "code",
   "execution_count": null,
   "id": "28a346d2",
   "metadata": {},
   "outputs": [
    {
     "name": "stderr",
     "output_type": "stream",
     "text": [
      "WARNING:root:Requests made without an app_token will be subject to strict throttling limits.\n"
     ]
    },
    {
     "name": "stdout",
     "output_type": "stream",
     "text": [
      "Fetching current month: 2025-09\n",
      "Fetching 2025-09 ...\n"
     ]
    }
   ],
   "source": [
    "await fetch.fetch_current_month(save = True)"
   ]
  },
  {
   "cell_type": "markdown",
   "id": "8ede570a",
   "metadata": {},
   "source": [
    "### Function"
   ]
  },
  {
   "cell_type": "code",
   "execution_count": 5,
   "id": "4aee89d1",
   "metadata": {},
   "outputs": [],
   "source": [
    "# def _create_socrata_client(api_endpoint, app_token, username, password):\n",
    "#     \"\"\"\"\n",
    "    \n",
    "#     \"\"\"\n",
    "#     client = Socrata(api_endpoint, app_token=app_token, username=username, password=password, timeout = 600)\n",
    "#     return client\n"
   ]
  },
  {
   "cell_type": "code",
   "execution_count": 6,
   "id": "332cca80",
   "metadata": {},
   "outputs": [],
   "source": [
    "# def _fetch_and_save_month_sync(year: int, month: int):\n",
    "#     \"\"\"Runs in a worker thread. Creates its own Socrata client (no sharing).\"\"\"\n",
    "#     # per-thread client\n",
    "#     # client = Socrata(\"data.cityofnewyork.us\", APP_TOKEN)\n",
    "#     client = _create_socrata_client(api_endpoint=\"data.cityofnewyork.us\", app_token=APP_TOKEN, username=API_KEY_ID, password=API_KEY_SECRET)\n",
    "\n",
    "#     start = f\"{year}-{month:02d}-01T00:00:00\"\n",
    "#     if month == 12:\n",
    "#         end = f\"{year+1}-01-01T00:00:00\"\n",
    "#     else:\n",
    "#         end = f\"{year}-{month+1:02d}-01T00:00:00\"\n",
    "\n",
    "#     where_clause = f\"{date_column} >= '{start}' AND {date_column} < '{end}'\"\n",
    "#     print(f\"Fetching {year}-{month:02d} ...\")\n",
    "\n",
    "#     # client.get_all handles paging internally (blocking)\n",
    "#     results = list(client.get_all(dataset_id, where=where_clause))\n",
    "\n",
    "#     if results:\n",
    "#         df = pd.DataFrame.from_records(results)\n",
    "#         # write to year/month partition\n",
    "#         file_path = os.path.join(output_dir, f\"year={year}/month={month:02d}/part-0000.parquet\")\n",
    "#         os.makedirs(os.path.dirname(file_path), exist_ok=True)\n",
    "#         # choose your engine; fastparquet avoids some pyarrow quirks in notebooks\n",
    "#         df.to_parquet(file_path, index=False, engine=\"fastparquet\")\n",
    "#         print(f\"Saved {file_path} ({len(df):,} rows)\")\n",
    "\n",
    "#         # clean up memory\n",
    "#         del df\n",
    "#         del results\n",
    "#         gc.collect()\n",
    "#     else:\n",
    "#         print(f\"No data for {year}-{month:02d}\")\n",
    "\n",
    "# async def fetch_and_save(year: int, month: int, sem: asyncio.Semaphore):\n",
    "#     async with sem:\n",
    "#         # run the sync worker in a thread\n",
    "#         await asyncio.to_thread(_fetch_and_save_month_sync, year, month)\n",
    "\n",
    "# async def pull_latest_data():\n",
    "#     sem = asyncio.Semaphore(MAX_CONCURRENCY)\n",
    "#     tasks = [fetch_and_save(y, m, sem) for y in years for m in months]\n",
    "#     await asyncio.gather(*tasks)\n"
   ]
  },
  {
   "cell_type": "markdown",
   "id": "5fe330b5",
   "metadata": {},
   "source": [
    "### Apply Function"
   ]
  },
  {
   "cell_type": "code",
   "execution_count": 7,
   "id": "decc57f0",
   "metadata": {},
   "outputs": [],
   "source": [
    "# dataset_id = \"erm2-nwe9\"\n",
    "# date_column = \"created_date\"\n",
    "# output_dir = \"../data/311-service-requests\"\n",
    "# os.makedirs(output_dir, exist_ok=True)\n",
    "\n",
    "# years = range(2010, 2026)   # e.g., 2010–2011\n",
    "# months = range(1, 13)       # 1..12\n",
    "# MAX_CONCURRENCY = 20         # tune for your machine / API limits"
   ]
  },
  {
   "cell_type": "code",
   "execution_count": 8,
   "id": "6ccb07e7",
   "metadata": {},
   "outputs": [],
   "source": [
    "# await pull_latest_data()"
   ]
  },
  {
   "cell_type": "markdown",
   "id": "3f465db8",
   "metadata": {},
   "source": [
    "### Load Data"
   ]
  },
  {
   "cell_type": "code",
   "execution_count": 9,
   "id": "63f22a80",
   "metadata": {},
   "outputs": [],
   "source": [
    "import polars as pl\n",
    "import numpy as np\n",
    "from pathlib import Path\n"
   ]
  },
  {
   "cell_type": "markdown",
   "id": "1b3cae60",
   "metadata": {},
   "source": [
    "## Exploratory Data Analysis with Polars\n"
   ]
  },
  {
   "cell_type": "markdown",
   "id": "8c90af79",
   "metadata": {},
   "source": [
    "### Load all parquet files using Polars lazy API\n"
   ]
  },
  {
   "cell_type": "markdown",
   "id": "455aff8e",
   "metadata": {},
   "source": [
    "### Basic Information\n"
   ]
  },
  {
   "cell_type": "code",
   "execution_count": 24,
   "id": "8fe7cd67",
   "metadata": {},
   "outputs": [
    {
     "name": "stdout",
     "output_type": "stream",
     "text": [
      "Dataset Shape:\n",
      "Rows: 41,178,052\n",
      "Columns: 43\n",
      "\n",
      "Column Names and Types:\n",
      "  unique_key: String\n",
      "  created_date: Datetime(time_unit='ms', time_zone=None)\n",
      "  closed_date: Datetime(time_unit='ms', time_zone=None)\n",
      "  agency: String\n",
      "  agency_name: String\n",
      "  complaint_type: String\n",
      "  descriptor: String\n",
      "  location_type: String\n",
      "  incident_zip: String\n",
      "  incident_address: String\n",
      "  street_name: String\n",
      "  cross_street_1: String\n",
      "  cross_street_2: String\n",
      "  intersection_street_1: String\n",
      "  intersection_street_2: String\n",
      "  address_type: String\n",
      "  city: String\n",
      "  landmark: String\n",
      "  facility_type: String\n",
      "  status: String\n",
      "  due_date: Datetime(time_unit='ms', time_zone=None)\n",
      "  resolution_description: String\n",
      "  resolution_action_updated_date: Datetime(time_unit='ms', time_zone=None)\n",
      "  community_board: String\n",
      "  bbl: String\n",
      "  borough: String\n",
      "  x_coordinate_state_plane: Float64\n",
      "  y_coordinate_state_plane: Float64\n",
      "  open_data_channel_type: String\n",
      "  park_facility_name: String\n",
      "  park_borough: String\n",
      "  vehicle_type: String\n",
      "  taxi_company_borough: String\n",
      "  taxi_pick_up_location: String\n",
      "  bridge_highway_name: String\n",
      "  bridge_highway_direction: String\n",
      "  road_ramp: String\n",
      "  bridge_highway_segment: String\n",
      "  latitude: Float64\n",
      "  longitude: Float64\n",
      "  location: String\n",
      "  year: Int64\n",
      "  month: Int64\n"
     ]
    }
   ],
   "source": [
    "# Get shape and basic info\n",
    "print(\"Dataset Shape:\")\n",
    "print(f\"Rows: {lf.select(pl.len()).collect().item():,}\")\n",
    "print(f\"Columns: {len(lf.collect_schema())}\")\n",
    "print(f\"\\nColumn Names and Types:\")\n",
    "for col, dtype in lf.collect_schema().items():\n",
    "    print(f\"  {col}: {dtype}\")\n"
   ]
  },
  {
   "cell_type": "markdown",
   "id": "a63512ad",
   "metadata": {},
   "source": [
    "### Preview the Data\n"
   ]
  },
  {
   "cell_type": "code",
   "execution_count": 25,
   "id": "f85f13fa",
   "metadata": {},
   "outputs": [
    {
     "ename": "SchemaError",
     "evalue": "data type mismatch for column created_date: incoming: String != target: Datetime('ms')",
     "output_type": "error",
     "traceback": [
      "\u001b[31m---------------------------------------------------------------------------\u001b[39m",
      "\u001b[31mSchemaError\u001b[39m                               Traceback (most recent call last)",
      "\u001b[36mCell\u001b[39m\u001b[36m \u001b[39m\u001b[32mIn[25]\u001b[39m\u001b[32m, line 2\u001b[39m\n\u001b[32m      1\u001b[39m \u001b[38;5;66;03m# Collect a sample to view\u001b[39;00m\n\u001b[32m----> \u001b[39m\u001b[32m2\u001b[39m \u001b[43mlf\u001b[49m\u001b[43m.\u001b[49m\u001b[43mhead\u001b[49m\u001b[43m(\u001b[49m\u001b[32;43m10\u001b[39;49m\u001b[43m)\u001b[49m\u001b[43m.\u001b[49m\u001b[43mcollect\u001b[49m\u001b[43m(\u001b[49m\u001b[43m)\u001b[49m\n",
      "\u001b[36mFile \u001b[39m\u001b[32mc:\\Users\\gorav\\GitHub\\nyc-311-service-requests\\.venv\\Lib\\site-packages\\polars\\_utils\\deprecation.py:97\u001b[39m, in \u001b[36mdeprecate_streaming_parameter.<locals>.decorate.<locals>.wrapper\u001b[39m\u001b[34m(*args, **kwargs)\u001b[39m\n\u001b[32m     93\u001b[39m         kwargs[\u001b[33m\"\u001b[39m\u001b[33mengine\u001b[39m\u001b[33m\"\u001b[39m] = \u001b[33m\"\u001b[39m\u001b[33min-memory\u001b[39m\u001b[33m\"\u001b[39m\n\u001b[32m     95\u001b[39m     \u001b[38;5;28;01mdel\u001b[39;00m kwargs[\u001b[33m\"\u001b[39m\u001b[33mstreaming\u001b[39m\u001b[33m\"\u001b[39m]\n\u001b[32m---> \u001b[39m\u001b[32m97\u001b[39m \u001b[38;5;28;01mreturn\u001b[39;00m \u001b[43mfunction\u001b[49m\u001b[43m(\u001b[49m\u001b[43m*\u001b[49m\u001b[43margs\u001b[49m\u001b[43m,\u001b[49m\u001b[43m \u001b[49m\u001b[43m*\u001b[49m\u001b[43m*\u001b[49m\u001b[43mkwargs\u001b[49m\u001b[43m)\u001b[49m\n",
      "\u001b[36mFile \u001b[39m\u001b[32mc:\\Users\\gorav\\GitHub\\nyc-311-service-requests\\.venv\\Lib\\site-packages\\polars\\lazyframe\\opt_flags.py:330\u001b[39m, in \u001b[36mforward_old_opt_flags.<locals>.decorate.<locals>.wrapper\u001b[39m\u001b[34m(*args, **kwargs)\u001b[39m\n\u001b[32m    327\u001b[39m         optflags = cb(optflags, kwargs.pop(key))  \u001b[38;5;66;03m# type: ignore[no-untyped-call,unused-ignore]\u001b[39;00m\n\u001b[32m    329\u001b[39m kwargs[\u001b[33m\"\u001b[39m\u001b[33moptimizations\u001b[39m\u001b[33m\"\u001b[39m] = optflags\n\u001b[32m--> \u001b[39m\u001b[32m330\u001b[39m \u001b[38;5;28;01mreturn\u001b[39;00m \u001b[43mfunction\u001b[49m\u001b[43m(\u001b[49m\u001b[43m*\u001b[49m\u001b[43margs\u001b[49m\u001b[43m,\u001b[49m\u001b[43m \u001b[49m\u001b[43m*\u001b[49m\u001b[43m*\u001b[49m\u001b[43mkwargs\u001b[49m\u001b[43m)\u001b[49m\n",
      "\u001b[36mFile \u001b[39m\u001b[32mc:\\Users\\gorav\\GitHub\\nyc-311-service-requests\\.venv\\Lib\\site-packages\\polars\\lazyframe\\frame.py:2407\u001b[39m, in \u001b[36mLazyFrame.collect\u001b[39m\u001b[34m(self, type_coercion, predicate_pushdown, projection_pushdown, simplify_expression, slice_pushdown, comm_subplan_elim, comm_subexpr_elim, cluster_with_columns, collapse_joins, no_optimization, engine, background, optimizations, **_kwargs)\u001b[39m\n\u001b[32m   2405\u001b[39m \u001b[38;5;66;03m# Only for testing purposes\u001b[39;00m\n\u001b[32m   2406\u001b[39m callback = _kwargs.get(\u001b[33m\"\u001b[39m\u001b[33mpost_opt_callback\u001b[39m\u001b[33m\"\u001b[39m, callback)\n\u001b[32m-> \u001b[39m\u001b[32m2407\u001b[39m \u001b[38;5;28;01mreturn\u001b[39;00m wrap_df(\u001b[43mldf\u001b[49m\u001b[43m.\u001b[49m\u001b[43mcollect\u001b[49m\u001b[43m(\u001b[49m\u001b[43mengine\u001b[49m\u001b[43m,\u001b[49m\u001b[43m \u001b[49m\u001b[43mcallback\u001b[49m\u001b[43m)\u001b[49m)\n",
      "\u001b[31mSchemaError\u001b[39m: data type mismatch for column created_date: incoming: String != target: Datetime('ms')"
     ]
    }
   ],
   "source": [
    "# Collect a sample to view\n",
    "lf.head(10).collect()\n"
   ]
  },
  {
   "cell_type": "markdown",
   "id": "03983527",
   "metadata": {},
   "source": [
    "### Missing Values Analysis\n"
   ]
  },
  {
   "cell_type": "code",
   "execution_count": 11,
   "id": "74e76f90",
   "metadata": {},
   "outputs": [
    {
     "data": {
      "text/plain": [
       "Schema([('unique_key', String),\n",
       "        ('created_date', String),\n",
       "        ('closed_date', String),\n",
       "        ('agency', String),\n",
       "        ('agency_name', String),\n",
       "        ('complaint_type', String),\n",
       "        ('descriptor', String),\n",
       "        ('location_type', String),\n",
       "        ('incident_zip', String),\n",
       "        ('incident_address', String),\n",
       "        ('street_name', String),\n",
       "        ('cross_street_1', String),\n",
       "        ('cross_street_2', String),\n",
       "        ('address_type', String),\n",
       "        ('city', String),\n",
       "        ('facility_type', String),\n",
       "        ('status', String),\n",
       "        ('resolution_description', String),\n",
       "        ('resolution_action_updated_date', String),\n",
       "        ('community_board', String),\n",
       "        ('bbl', String),\n",
       "        ('borough', String),\n",
       "        ('x_coordinate_state_plane', String),\n",
       "        ('y_coordinate_state_plane', String),\n",
       "        ('open_data_channel_type', String),\n",
       "        ('park_facility_name', String),\n",
       "        ('park_borough', String),\n",
       "        ('latitude', String),\n",
       "        ('longitude', String),\n",
       "        ('location', Binary),\n",
       "        ('due_date', String),\n",
       "        ('intersection_street_1', String),\n",
       "        ('intersection_street_2', String),\n",
       "        ('taxi_pick_up_location', String),\n",
       "        ('bridge_highway_name', String),\n",
       "        ('bridge_highway_direction', String),\n",
       "        ('road_ramp', String),\n",
       "        ('bridge_highway_segment', String),\n",
       "        ('vehicle_type', String),\n",
       "        ('taxi_company_borough', String),\n",
       "        ('landmark', String)])"
      ]
     },
     "execution_count": 11,
     "metadata": {},
     "output_type": "execute_result"
    }
   ],
   "source": [
    "df.collect_schema()"
   ]
  },
  {
   "cell_type": "code",
   "execution_count": 28,
   "id": "04b88f00",
   "metadata": {},
   "outputs": [
    {
     "ename": "ColumnNotFoundError",
     "evalue": "did not find column vehicle_type, consider passing `missing_columns='insert'`",
     "output_type": "error",
     "traceback": [
      "\u001b[31m---------------------------------------------------------------------------\u001b[39m",
      "\u001b[31mColumnNotFoundError\u001b[39m                       Traceback (most recent call last)",
      "\u001b[36mCell\u001b[39m\u001b[36m \u001b[39m\u001b[32mIn[28]\u001b[39m\u001b[32m, line 1\u001b[39m\n\u001b[32m----> \u001b[39m\u001b[32m1\u001b[39m \u001b[43mdf\u001b[49m\u001b[43m.\u001b[49m\u001b[43mselect\u001b[49m\u001b[43m(\u001b[49m\u001b[43mpl\u001b[49m\u001b[43m.\u001b[49m\u001b[43mcol\u001b[49m\u001b[43m(\u001b[49m\u001b[33;43m'\u001b[39;49m\u001b[33;43mvehicle_type\u001b[39;49m\u001b[33;43m'\u001b[39;49m\u001b[43m)\u001b[49m\u001b[43m.\u001b[49m\u001b[43mnull_count\u001b[49m\u001b[43m(\u001b[49m\u001b[43m)\u001b[49m\u001b[43m)\u001b[49m\u001b[43m.\u001b[49m\u001b[43mcollect\u001b[49m\u001b[43m(\u001b[49m\u001b[43m)\u001b[49m\n",
      "\u001b[36mFile \u001b[39m\u001b[32mc:\\Users\\gorav\\GitHub\\nyc-311-service-requests\\.venv\\Lib\\site-packages\\polars\\_utils\\deprecation.py:97\u001b[39m, in \u001b[36mdeprecate_streaming_parameter.<locals>.decorate.<locals>.wrapper\u001b[39m\u001b[34m(*args, **kwargs)\u001b[39m\n\u001b[32m     93\u001b[39m         kwargs[\u001b[33m\"\u001b[39m\u001b[33mengine\u001b[39m\u001b[33m\"\u001b[39m] = \u001b[33m\"\u001b[39m\u001b[33min-memory\u001b[39m\u001b[33m\"\u001b[39m\n\u001b[32m     95\u001b[39m     \u001b[38;5;28;01mdel\u001b[39;00m kwargs[\u001b[33m\"\u001b[39m\u001b[33mstreaming\u001b[39m\u001b[33m\"\u001b[39m]\n\u001b[32m---> \u001b[39m\u001b[32m97\u001b[39m \u001b[38;5;28;01mreturn\u001b[39;00m \u001b[43mfunction\u001b[49m\u001b[43m(\u001b[49m\u001b[43m*\u001b[49m\u001b[43margs\u001b[49m\u001b[43m,\u001b[49m\u001b[43m \u001b[49m\u001b[43m*\u001b[49m\u001b[43m*\u001b[49m\u001b[43mkwargs\u001b[49m\u001b[43m)\u001b[49m\n",
      "\u001b[36mFile \u001b[39m\u001b[32mc:\\Users\\gorav\\GitHub\\nyc-311-service-requests\\.venv\\Lib\\site-packages\\polars\\lazyframe\\opt_flags.py:330\u001b[39m, in \u001b[36mforward_old_opt_flags.<locals>.decorate.<locals>.wrapper\u001b[39m\u001b[34m(*args, **kwargs)\u001b[39m\n\u001b[32m    327\u001b[39m         optflags = cb(optflags, kwargs.pop(key))  \u001b[38;5;66;03m# type: ignore[no-untyped-call,unused-ignore]\u001b[39;00m\n\u001b[32m    329\u001b[39m kwargs[\u001b[33m\"\u001b[39m\u001b[33moptimizations\u001b[39m\u001b[33m\"\u001b[39m] = optflags\n\u001b[32m--> \u001b[39m\u001b[32m330\u001b[39m \u001b[38;5;28;01mreturn\u001b[39;00m \u001b[43mfunction\u001b[49m\u001b[43m(\u001b[49m\u001b[43m*\u001b[49m\u001b[43margs\u001b[49m\u001b[43m,\u001b[49m\u001b[43m \u001b[49m\u001b[43m*\u001b[49m\u001b[43m*\u001b[49m\u001b[43mkwargs\u001b[49m\u001b[43m)\u001b[49m\n",
      "\u001b[36mFile \u001b[39m\u001b[32mc:\\Users\\gorav\\GitHub\\nyc-311-service-requests\\.venv\\Lib\\site-packages\\polars\\lazyframe\\frame.py:2407\u001b[39m, in \u001b[36mLazyFrame.collect\u001b[39m\u001b[34m(self, type_coercion, predicate_pushdown, projection_pushdown, simplify_expression, slice_pushdown, comm_subplan_elim, comm_subexpr_elim, cluster_with_columns, collapse_joins, no_optimization, engine, background, optimizations, **_kwargs)\u001b[39m\n\u001b[32m   2405\u001b[39m \u001b[38;5;66;03m# Only for testing purposes\u001b[39;00m\n\u001b[32m   2406\u001b[39m callback = _kwargs.get(\u001b[33m\"\u001b[39m\u001b[33mpost_opt_callback\u001b[39m\u001b[33m\"\u001b[39m, callback)\n\u001b[32m-> \u001b[39m\u001b[32m2407\u001b[39m \u001b[38;5;28;01mreturn\u001b[39;00m wrap_df(\u001b[43mldf\u001b[49m\u001b[43m.\u001b[49m\u001b[43mcollect\u001b[49m\u001b[43m(\u001b[49m\u001b[43mengine\u001b[49m\u001b[43m,\u001b[49m\u001b[43m \u001b[49m\u001b[43mcallback\u001b[49m\u001b[43m)\u001b[49m)\n",
      "\u001b[31mColumnNotFoundError\u001b[39m: did not find column vehicle_type, consider passing `missing_columns='insert'`"
     ]
    }
   ],
   "source": [
    "\n",
    "\n",
    "df.select(pl.col('vehicle_type').null_count()).collect()"
   ]
  },
  {
   "cell_type": "markdown",
   "id": "0d71fdca",
   "metadata": {},
   "source": []
  },
  {
   "cell_type": "code",
   "execution_count": null,
   "id": "95968149",
   "metadata": {},
   "outputs": [
    {
     "ename": "ColumnNotFoundError",
     "evalue": "did not find column vehicle_type, consider passing `missing_columns='insert'`",
     "output_type": "error",
     "traceback": [
      "\u001b[31m---------------------------------------------------------------------------\u001b[39m",
      "\u001b[31mColumnNotFoundError\u001b[39m                       Traceback (most recent call last)",
      "\u001b[36mCell\u001b[39m\u001b[36m \u001b[39m\u001b[32mIn[17]\u001b[39m\u001b[32m, line 2\u001b[39m\n\u001b[32m      1\u001b[39m \u001b[38;5;66;03m# Calculate the number of nulls in the 'vehicle_type' column\u001b[39;00m\n\u001b[32m----> \u001b[39m\u001b[32m2\u001b[39m \u001b[43mdf\u001b[49m\u001b[43m.\u001b[49m\u001b[43mselect\u001b[49m\u001b[43m(\u001b[49m\u001b[43mpl\u001b[49m\u001b[43m.\u001b[49m\u001b[43mcol\u001b[49m\u001b[43m(\u001b[49m\u001b[33;43m'\u001b[39;49m\u001b[33;43mvehicle_type\u001b[39;49m\u001b[33;43m'\u001b[39;49m\u001b[43m)\u001b[49m\u001b[43m.\u001b[49m\u001b[43mis_null\u001b[49m\u001b[43m(\u001b[49m\u001b[43m)\u001b[49m\u001b[43m.\u001b[49m\u001b[43msum\u001b[49m\u001b[43m(\u001b[49m\u001b[43m)\u001b[49m\u001b[43m.\u001b[49m\u001b[43malias\u001b[49m\u001b[43m(\u001b[49m\u001b[33;43m'\u001b[39;49m\u001b[33;43mvehicle_type_nulls\u001b[39;49m\u001b[33;43m'\u001b[39;49m\u001b[43m)\u001b[49m\u001b[43m)\u001b[49m\u001b[43m.\u001b[49m\u001b[43mcollect\u001b[49m\u001b[43m(\u001b[49m\u001b[43m)\u001b[49m\n",
      "\u001b[36mFile \u001b[39m\u001b[32mc:\\Users\\gorav\\GitHub\\nyc-311-service-requests\\.venv\\Lib\\site-packages\\polars\\_utils\\deprecation.py:97\u001b[39m, in \u001b[36mdeprecate_streaming_parameter.<locals>.decorate.<locals>.wrapper\u001b[39m\u001b[34m(*args, **kwargs)\u001b[39m\n\u001b[32m     93\u001b[39m         kwargs[\u001b[33m\"\u001b[39m\u001b[33mengine\u001b[39m\u001b[33m\"\u001b[39m] = \u001b[33m\"\u001b[39m\u001b[33min-memory\u001b[39m\u001b[33m\"\u001b[39m\n\u001b[32m     95\u001b[39m     \u001b[38;5;28;01mdel\u001b[39;00m kwargs[\u001b[33m\"\u001b[39m\u001b[33mstreaming\u001b[39m\u001b[33m\"\u001b[39m]\n\u001b[32m---> \u001b[39m\u001b[32m97\u001b[39m \u001b[38;5;28;01mreturn\u001b[39;00m \u001b[43mfunction\u001b[49m\u001b[43m(\u001b[49m\u001b[43m*\u001b[49m\u001b[43margs\u001b[49m\u001b[43m,\u001b[49m\u001b[43m \u001b[49m\u001b[43m*\u001b[49m\u001b[43m*\u001b[49m\u001b[43mkwargs\u001b[49m\u001b[43m)\u001b[49m\n",
      "\u001b[36mFile \u001b[39m\u001b[32mc:\\Users\\gorav\\GitHub\\nyc-311-service-requests\\.venv\\Lib\\site-packages\\polars\\lazyframe\\opt_flags.py:330\u001b[39m, in \u001b[36mforward_old_opt_flags.<locals>.decorate.<locals>.wrapper\u001b[39m\u001b[34m(*args, **kwargs)\u001b[39m\n\u001b[32m    327\u001b[39m         optflags = cb(optflags, kwargs.pop(key))  \u001b[38;5;66;03m# type: ignore[no-untyped-call,unused-ignore]\u001b[39;00m\n\u001b[32m    329\u001b[39m kwargs[\u001b[33m\"\u001b[39m\u001b[33moptimizations\u001b[39m\u001b[33m\"\u001b[39m] = optflags\n\u001b[32m--> \u001b[39m\u001b[32m330\u001b[39m \u001b[38;5;28;01mreturn\u001b[39;00m \u001b[43mfunction\u001b[49m\u001b[43m(\u001b[49m\u001b[43m*\u001b[49m\u001b[43margs\u001b[49m\u001b[43m,\u001b[49m\u001b[43m \u001b[49m\u001b[43m*\u001b[49m\u001b[43m*\u001b[49m\u001b[43mkwargs\u001b[49m\u001b[43m)\u001b[49m\n",
      "\u001b[36mFile \u001b[39m\u001b[32mc:\\Users\\gorav\\GitHub\\nyc-311-service-requests\\.venv\\Lib\\site-packages\\polars\\lazyframe\\frame.py:2407\u001b[39m, in \u001b[36mLazyFrame.collect\u001b[39m\u001b[34m(self, type_coercion, predicate_pushdown, projection_pushdown, simplify_expression, slice_pushdown, comm_subplan_elim, comm_subexpr_elim, cluster_with_columns, collapse_joins, no_optimization, engine, background, optimizations, **_kwargs)\u001b[39m\n\u001b[32m   2405\u001b[39m \u001b[38;5;66;03m# Only for testing purposes\u001b[39;00m\n\u001b[32m   2406\u001b[39m callback = _kwargs.get(\u001b[33m\"\u001b[39m\u001b[33mpost_opt_callback\u001b[39m\u001b[33m\"\u001b[39m, callback)\n\u001b[32m-> \u001b[39m\u001b[32m2407\u001b[39m \u001b[38;5;28;01mreturn\u001b[39;00m wrap_df(\u001b[43mldf\u001b[49m\u001b[43m.\u001b[49m\u001b[43mcollect\u001b[49m\u001b[43m(\u001b[49m\u001b[43mengine\u001b[49m\u001b[43m,\u001b[49m\u001b[43m \u001b[49m\u001b[43mcallback\u001b[49m\u001b[43m)\u001b[49m)\n",
      "\u001b[31mColumnNotFoundError\u001b[39m: did not find column vehicle_type, consider passing `missing_columns='insert'`"
     ]
    }
   ],
   "source": [
    "# Calculate the number of nulls in the 'vehicle_type' column\n",
    "df.select(pl.col('vehicle_type').is_null().sum().alias('vehicle_type_nulls')).collect()"
   ]
  },
  {
   "cell_type": "code",
   "execution_count": 10,
   "id": "648ffa7a",
   "metadata": {},
   "outputs": [
    {
     "ename": "ColumnNotFoundError",
     "evalue": "did not find column vehicle_type, consider passing `missing_columns='insert'`",
     "output_type": "error",
     "traceback": [
      "\u001b[31m---------------------------------------------------------------------------\u001b[39m",
      "\u001b[31mColumnNotFoundError\u001b[39m                       Traceback (most recent call last)",
      "\u001b[36mCell\u001b[39m\u001b[36m \u001b[39m\u001b[32mIn[10]\u001b[39m\u001b[32m, line 7\u001b[39m\n\u001b[32m      1\u001b[39m \u001b[38;5;66;03m# Calculate null counts and percentages\u001b[39;00m\n\u001b[32m      2\u001b[39m total_rows = df.select(pl.len()).collect().item()\n\u001b[32m      4\u001b[39m null_counts = \u001b[43mdf\u001b[49m\u001b[43m.\u001b[49m\u001b[43mselect\u001b[49m\u001b[43m(\u001b[49m\u001b[43m[\u001b[49m\n\u001b[32m      5\u001b[39m \u001b[43m    \u001b[49m\u001b[43mpl\u001b[49m\u001b[43m.\u001b[49m\u001b[43mcol\u001b[49m\u001b[43m(\u001b[49m\u001b[43mcol\u001b[49m\u001b[43m)\u001b[49m\u001b[43m.\u001b[49m\u001b[43mis_null\u001b[49m\u001b[43m(\u001b[49m\u001b[43m)\u001b[49m\u001b[43m.\u001b[49m\u001b[43msum\u001b[49m\u001b[43m(\u001b[49m\u001b[43m)\u001b[49m\u001b[43m.\u001b[49m\u001b[43malias\u001b[49m\u001b[43m(\u001b[49m\u001b[43mcol\u001b[49m\u001b[43m)\u001b[49m\u001b[43m \u001b[49m\n\u001b[32m      6\u001b[39m \u001b[43m    \u001b[49m\u001b[38;5;28;43;01mfor\u001b[39;49;00m\u001b[43m \u001b[49m\u001b[43mcol\u001b[49m\u001b[43m \u001b[49m\u001b[38;5;129;43;01min\u001b[39;49;00m\u001b[43m \u001b[49m\u001b[43mdf\u001b[49m\u001b[43m.\u001b[49m\u001b[43mcollect_schema\u001b[49m\u001b[43m(\u001b[49m\u001b[43m)\u001b[49m\u001b[43m.\u001b[49m\u001b[43mnames\u001b[49m\u001b[43m(\u001b[49m\u001b[43m)\u001b[49m\n\u001b[32m----> \u001b[39m\u001b[32m7\u001b[39m \u001b[43m]\u001b[49m\u001b[43m)\u001b[49m\u001b[43m.\u001b[49m\u001b[43mcollect\u001b[49m\u001b[43m(\u001b[49m\u001b[43m)\u001b[49m\n\u001b[32m      9\u001b[39m \u001b[38;5;66;03m# Convert to long format for better readability\u001b[39;00m\n\u001b[32m     10\u001b[39m null_summary = pl.DataFrame({\n\u001b[32m     11\u001b[39m     \u001b[33m\"\u001b[39m\u001b[33mColumn\u001b[39m\u001b[33m\"\u001b[39m: null_counts.columns,\n\u001b[32m     12\u001b[39m     \u001b[33m\"\u001b[39m\u001b[33mNull_Count\u001b[39m\u001b[33m\"\u001b[39m: null_counts.row(\u001b[32m0\u001b[39m),\n\u001b[32m     13\u001b[39m }).with_columns([\n\u001b[32m     14\u001b[39m     (pl.col(\u001b[33m\"\u001b[39m\u001b[33mNull_Count\u001b[39m\u001b[33m\"\u001b[39m) / total_rows * \u001b[32m100\u001b[39m).round(\u001b[32m2\u001b[39m).alias(\u001b[33m\"\u001b[39m\u001b[33mNull_Percentage\u001b[39m\u001b[33m\"\u001b[39m)\n\u001b[32m     15\u001b[39m ]).sort(\u001b[33m\"\u001b[39m\u001b[33mNull_Count\u001b[39m\u001b[33m\"\u001b[39m, descending=\u001b[38;5;28;01mTrue\u001b[39;00m)\n",
      "\u001b[36mFile \u001b[39m\u001b[32mc:\\Users\\gorav\\GitHub\\nyc-311-service-requests\\.venv\\Lib\\site-packages\\polars\\_utils\\deprecation.py:97\u001b[39m, in \u001b[36mdeprecate_streaming_parameter.<locals>.decorate.<locals>.wrapper\u001b[39m\u001b[34m(*args, **kwargs)\u001b[39m\n\u001b[32m     93\u001b[39m         kwargs[\u001b[33m\"\u001b[39m\u001b[33mengine\u001b[39m\u001b[33m\"\u001b[39m] = \u001b[33m\"\u001b[39m\u001b[33min-memory\u001b[39m\u001b[33m\"\u001b[39m\n\u001b[32m     95\u001b[39m     \u001b[38;5;28;01mdel\u001b[39;00m kwargs[\u001b[33m\"\u001b[39m\u001b[33mstreaming\u001b[39m\u001b[33m\"\u001b[39m]\n\u001b[32m---> \u001b[39m\u001b[32m97\u001b[39m \u001b[38;5;28;01mreturn\u001b[39;00m \u001b[43mfunction\u001b[49m\u001b[43m(\u001b[49m\u001b[43m*\u001b[49m\u001b[43margs\u001b[49m\u001b[43m,\u001b[49m\u001b[43m \u001b[49m\u001b[43m*\u001b[49m\u001b[43m*\u001b[49m\u001b[43mkwargs\u001b[49m\u001b[43m)\u001b[49m\n",
      "\u001b[36mFile \u001b[39m\u001b[32mc:\\Users\\gorav\\GitHub\\nyc-311-service-requests\\.venv\\Lib\\site-packages\\polars\\lazyframe\\opt_flags.py:330\u001b[39m, in \u001b[36mforward_old_opt_flags.<locals>.decorate.<locals>.wrapper\u001b[39m\u001b[34m(*args, **kwargs)\u001b[39m\n\u001b[32m    327\u001b[39m         optflags = cb(optflags, kwargs.pop(key))  \u001b[38;5;66;03m# type: ignore[no-untyped-call,unused-ignore]\u001b[39;00m\n\u001b[32m    329\u001b[39m kwargs[\u001b[33m\"\u001b[39m\u001b[33moptimizations\u001b[39m\u001b[33m\"\u001b[39m] = optflags\n\u001b[32m--> \u001b[39m\u001b[32m330\u001b[39m \u001b[38;5;28;01mreturn\u001b[39;00m \u001b[43mfunction\u001b[49m\u001b[43m(\u001b[49m\u001b[43m*\u001b[49m\u001b[43margs\u001b[49m\u001b[43m,\u001b[49m\u001b[43m \u001b[49m\u001b[43m*\u001b[49m\u001b[43m*\u001b[49m\u001b[43mkwargs\u001b[49m\u001b[43m)\u001b[49m\n",
      "\u001b[36mFile \u001b[39m\u001b[32mc:\\Users\\gorav\\GitHub\\nyc-311-service-requests\\.venv\\Lib\\site-packages\\polars\\lazyframe\\frame.py:2407\u001b[39m, in \u001b[36mLazyFrame.collect\u001b[39m\u001b[34m(self, type_coercion, predicate_pushdown, projection_pushdown, simplify_expression, slice_pushdown, comm_subplan_elim, comm_subexpr_elim, cluster_with_columns, collapse_joins, no_optimization, engine, background, optimizations, **_kwargs)\u001b[39m\n\u001b[32m   2405\u001b[39m \u001b[38;5;66;03m# Only for testing purposes\u001b[39;00m\n\u001b[32m   2406\u001b[39m callback = _kwargs.get(\u001b[33m\"\u001b[39m\u001b[33mpost_opt_callback\u001b[39m\u001b[33m\"\u001b[39m, callback)\n\u001b[32m-> \u001b[39m\u001b[32m2407\u001b[39m \u001b[38;5;28;01mreturn\u001b[39;00m wrap_df(\u001b[43mldf\u001b[49m\u001b[43m.\u001b[49m\u001b[43mcollect\u001b[49m\u001b[43m(\u001b[49m\u001b[43mengine\u001b[49m\u001b[43m,\u001b[49m\u001b[43m \u001b[49m\u001b[43mcallback\u001b[49m\u001b[43m)\u001b[49m)\n",
      "\u001b[31mColumnNotFoundError\u001b[39m: did not find column vehicle_type, consider passing `missing_columns='insert'`"
     ]
    }
   ],
   "source": [
    "# Calculate null counts and percentages\n",
    "total_rows = df.select(pl.len()).collect().item()\n",
    "\n",
    "null_counts = df.select([\n",
    "    pl.col(col).is_null().sum().alias(col) \n",
    "    for col in df.collect_schema().names()\n",
    "]).collect()\n",
    "\n",
    "# Convert to long format for better readability\n",
    "null_summary = pl.DataFrame({\n",
    "    \"Column\": null_counts.columns,\n",
    "    \"Null_Count\": null_counts.row(0),\n",
    "}).with_columns([\n",
    "    (pl.col(\"Null_Count\") / total_rows * 100).round(2).alias(\"Null_Percentage\")\n",
    "]).sort(\"Null_Count\", descending=True)\n",
    "\n",
    "print(f\"Missing Values Summary (Total Rows: {total_rows:,})\")\n",
    "null_summary.head(20)\n"
   ]
  },
  {
   "cell_type": "markdown",
   "id": "e4c17540",
   "metadata": {},
   "source": [
    "### Top Complaint Types\n"
   ]
  },
  {
   "cell_type": "code",
   "execution_count": null,
   "id": "b7f0875d",
   "metadata": {},
   "outputs": [],
   "source": [
    "# Top complaint types\n",
    "top_complaints = df.group_by(\"complaint_type\").agg([\n",
    "    pl.len().alias(\"count\")\n",
    "]).sort(\"count\", descending=True).limit(20).collect()\n",
    "\n",
    "print(\"Top 20 Complaint Types:\")\n",
    "top_complaints\n"
   ]
  },
  {
   "cell_type": "markdown",
   "id": "69b2a87c",
   "metadata": {},
   "source": [
    "### Temporal Analysis\n"
   ]
  },
  {
   "cell_type": "code",
   "execution_count": null,
   "id": "50c47108",
   "metadata": {},
   "outputs": [],
   "source": [
    "# Requests over time (by year-month)\n",
    "temporal = df.with_columns([\n",
    "    pl.col(\"created_date\").str.to_datetime().alias(\"created_dt\")\n",
    "]).with_columns([\n",
    "    pl.col(\"created_dt\").dt.year().alias(\"year\"),\n",
    "    pl.col(\"created_dt\").dt.month().alias(\"month\")\n",
    "]).group_by([\"year\", \"month\"]).agg([\n",
    "    pl.len().alias(\"num_requests\")\n",
    "]).sort([\"year\", \"month\"]).collect()\n",
    "\n",
    "print(\"Service Requests Over Time:\")\n",
    "temporal\n"
   ]
  },
  {
   "cell_type": "markdown",
   "id": "9bc2125d",
   "metadata": {},
   "source": [
    "### Geographic Distribution\n"
   ]
  },
  {
   "cell_type": "code",
   "execution_count": null,
   "id": "189f2814",
   "metadata": {},
   "outputs": [],
   "source": [
    "# Requests by borough\n",
    "by_borough = df.group_by(\"borough\").agg([\n",
    "    pl.len().alias(\"count\")\n",
    "]).sort(\"count\", descending=True).collect()\n",
    "\n",
    "print(\"Service Requests by Borough:\")\n",
    "by_borough\n"
   ]
  },
  {
   "cell_type": "markdown",
   "id": "e734aa38",
   "metadata": {},
   "source": [
    "### Agency Analysis\n"
   ]
  },
  {
   "cell_type": "code",
   "execution_count": null,
   "id": "c7b64636",
   "metadata": {},
   "outputs": [],
   "source": [
    "# Top agencies handling requests\n",
    "top_agencies = df.group_by(\"agency\").agg([\n",
    "    pl.len().alias(\"count\")\n",
    "]).sort(\"count\", descending=True).limit(15).collect()\n",
    "\n",
    "print(\"Top 15 Agencies:\")\n",
    "top_agencies\n"
   ]
  },
  {
   "cell_type": "markdown",
   "id": "8dfa20be",
   "metadata": {},
   "source": [
    "### Status Distribution\n"
   ]
  },
  {
   "cell_type": "code",
   "execution_count": null,
   "id": "93af2aa0",
   "metadata": {},
   "outputs": [],
   "source": [
    "# Request status distribution\n",
    "status_dist = df.group_by(\"status\").agg([\n",
    "    pl.len().alias(\"count\")\n",
    "]).sort(\"count\", descending=True).collect()\n",
    "\n",
    "print(\"Status Distribution:\")\n",
    "status_dist\n"
   ]
  },
  {
   "cell_type": "markdown",
   "id": "2aa9aa0c",
   "metadata": {},
   "source": [
    "### Response Time Analysis\n"
   ]
  },
  {
   "cell_type": "code",
   "execution_count": null,
   "id": "a35e7d28",
   "metadata": {},
   "outputs": [],
   "source": [
    "# Calculate response times where both created_date and closed_date exist\n",
    "response_times = df.filter(\n",
    "    pl.col(\"closed_date\").is_not_null() & pl.col(\"created_date\").is_not_null()\n",
    ").with_columns([\n",
    "    pl.col(\"created_date\").str.to_datetime().alias(\"created_dt\"),\n",
    "    pl.col(\"closed_date\").str.to_datetime().alias(\"closed_dt\")\n",
    "]).with_columns([\n",
    "    (pl.col(\"closed_dt\") - pl.col(\"created_dt\")).dt.total_hours().alias(\"response_hours\")\n",
    "]).filter(\n",
    "    pl.col(\"response_hours\") >= 0  # Only positive response times\n",
    ").select([\n",
    "    pl.col(\"response_hours\").mean().alias(\"mean_hours\"),\n",
    "    pl.col(\"response_hours\").median().alias(\"median_hours\"),\n",
    "    pl.col(\"response_hours\").std().alias(\"std_hours\"),\n",
    "    pl.col(\"response_hours\").min().alias(\"min_hours\"),\n",
    "    pl.col(\"response_hours\").max().alias(\"max_hours\"),\n",
    "    pl.col(\"response_hours\").quantile(0.25).alias(\"q25_hours\"),\n",
    "    pl.col(\"response_hours\").quantile(0.75).alias(\"q75_hours\"),\n",
    "    pl.col(\"response_hours\").quantile(0.90).alias(\"q90_hours\"),\n",
    "    pl.len().alias(\"count_with_close_date\")\n",
    "]).collect()\n",
    "\n",
    "print(\"Response Time Statistics (in hours):\")\n",
    "response_times\n"
   ]
  },
  {
   "cell_type": "markdown",
   "id": "32aff531",
   "metadata": {},
   "source": [
    "### Year-over-Year Growth\n"
   ]
  },
  {
   "cell_type": "code",
   "execution_count": null,
   "id": "0a86bc48",
   "metadata": {},
   "outputs": [],
   "source": [
    "# Yearly trends\n",
    "yearly = df.with_columns([\n",
    "    pl.col(\"created_date\").str.to_datetime().dt.year().alias(\"year\")\n",
    "]).group_by(\"year\").agg([\n",
    "    pl.len().alias(\"num_requests\")\n",
    "]).sort(\"year\").collect()\n",
    "\n",
    "print(\"Year-over-Year Requests:\")\n",
    "yearly\n"
   ]
  },
  {
   "cell_type": "markdown",
   "id": "2651e82d",
   "metadata": {},
   "source": [
    "### Top Complaint Types by Borough\n"
   ]
  },
  {
   "cell_type": "code",
   "execution_count": null,
   "id": "19eb84ab",
   "metadata": {},
   "outputs": [],
   "source": [
    "# Top complaints by borough\n",
    "complaints_by_borough = df.group_by([\"borough\", \"complaint_type\"]).agg([\n",
    "    pl.len().alias(\"count\")\n",
    "]).sort([\"borough\", \"count\"], descending=[False, True]).collect()\n",
    "\n",
    "# Get top 5 complaints per borough\n",
    "top_per_borough = complaints_by_borough.group_by(\"borough\").head(5)\n",
    "\n",
    "print(\"Top 5 Complaint Types per Borough:\")\n",
    "top_per_borough\n"
   ]
  },
  {
   "cell_type": "code",
   "execution_count": null,
   "id": "4255ef70",
   "metadata": {},
   "outputs": [],
   "source": []
  }
 ],
 "metadata": {
  "kernelspec": {
   "display_name": ".venv",
   "language": "python",
   "name": "python3"
  },
  "language_info": {
   "codemirror_mode": {
    "name": "ipython",
    "version": 3
   },
   "file_extension": ".py",
   "mimetype": "text/x-python",
   "name": "python",
   "nbconvert_exporter": "python",
   "pygments_lexer": "ipython3",
   "version": "3.13.0"
  }
 },
 "nbformat": 4,
 "nbformat_minor": 5
}
