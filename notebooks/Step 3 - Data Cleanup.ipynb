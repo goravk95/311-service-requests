{
 "cells": [
  {
   "cell_type": "markdown",
   "id": "ef89e6b3",
   "metadata": {},
   "source": [
    "# Load Data\n",
    "\n"
   ]
  },
  {
   "cell_type": "markdown",
   "id": "a75a5e08",
   "metadata": {},
   "source": [
    "## Set env variables\n",
    "\n",
    "assumes that `SOCRATA_APP_TOKEN`, `SOCRATA_API_KEY_ID`, and `SOCRATA_API_KEY_SECRET` are set in `.env`"
   ]
  },
  {
   "cell_type": "code",
   "execution_count": 1,
   "id": "4da8cb9f",
   "metadata": {},
   "outputs": [
    {
     "data": {
      "text/plain": [
       "True"
      ]
     },
     "execution_count": 1,
     "metadata": {},
     "output_type": "execute_result"
    }
   ],
   "source": [
    "from dotenv import load_dotenv\n",
    "\n",
    "load_dotenv()\n"
   ]
  },
  {
   "cell_type": "markdown",
   "id": "4f3812f3",
   "metadata": {},
   "source": [
    "## Load Packages"
   ]
  },
  {
   "cell_type": "code",
   "execution_count": 2,
   "id": "f22fc662",
   "metadata": {},
   "outputs": [],
   "source": [
    "import os\n",
    "import sys\n",
    "\n",
    "INGESTION_PATH = os.path.abspath(os.path.join(os.getcwd(), '..', 'src'))\n",
    "sys.path.insert(0, INGESTION_PATH)\n",
    "\n",
    "from ingestion import fetch\n",
    "from ingestion import config\n",
    "\n"
   ]
  },
  {
   "cell_type": "code",
   "execution_count": 3,
   "id": "587314b6",
   "metadata": {},
   "outputs": [],
   "source": [
    "import polars as pl\n",
    "import pandas as pd\n",
    "import numpy as np\n",
    "from pathlib import Path\n",
    "\n",
    "import matplotlib.pyplot as plt\n",
    "import seaborn as sns\n",
    "import plotly.express as px\n",
    "import plotly.graph_objects as go\n",
    "from datetime import datetime, date"
   ]
  },
  {
   "cell_type": "markdown",
   "id": "3f465db8",
   "metadata": {},
   "source": [
    "## Load Data"
   ]
  },
  {
   "cell_type": "code",
   "execution_count": 4,
   "id": "e5e7dd46",
   "metadata": {},
   "outputs": [],
   "source": [
    "data_path = Path(\"../data/landing/311-service-requests\")\n",
    "\n",
    "lf = pl.scan_parquet(\n",
    "    str(data_path / \"**/*.parquet\"),\n",
    "    hive_partitioning=True,\n",
    ")"
   ]
  },
  {
   "cell_type": "markdown",
   "id": "71a0961c",
   "metadata": {},
   "source": [
    "## Subset Data to DOHMH"
   ]
  },
  {
   "cell_type": "code",
   "execution_count": 5,
   "id": "7ec05774",
   "metadata": {},
   "outputs": [],
   "source": [
    "# Filter for DOHMH agency and add derived columns\n",
    "dohmh_data_only = lf.filter(pl.col(\"agency\") == \"DOHMH\").select([\n",
    "    \"due_date\",\n",
    "    \"landmark\",\n",
    "    \"intersection_street_1\",\n",
    "    \"intersection_street_2\",\n",
    "    \"facility_type\",\n",
    "    \"cross_street_2\",\n",
    "    \"cross_street_1\",\n",
    "    \"bbl\",\n",
    "    \"location_type\",\n",
    "    \"street_name\",\n",
    "    \"incident_address\",\n",
    "    \"address_type\",\n",
    "    \"longitude\",\n",
    "    \"latitude\",\n",
    "    \"x_coordinate_state_plane\",\n",
    "    \"y_coordinate_state_plane\",\n",
    "    \"city\",\n",
    "    \"incident_zip\",\n",
    "    \"resolution_description\",\n",
    "    \"closed_date\",\n",
    "    \"resolution_action_updated_date\",\n",
    "    \"descriptor\",\n",
    "    \"community_board\",\n",
    "    \"park_borough\",\n",
    "    \"borough\",\n",
    "    \"unique_key\",\n",
    "    \"created_date\",\n",
    "    \"agency_name\",\n",
    "    \"agency\",\n",
    "    \"complaint_type\",\n",
    "    \"status\",\n",
    "    \"open_data_channel_type\",\n",
    "    \"park_facility_name\",\n",
    "    \"year\",\n",
    "    \"month\"\n",
    "]).collect()\n",
    "\n",
    "df_orig = dohmh_data_only.to_pandas()"
   ]
  },
  {
   "cell_type": "markdown",
   "id": "44470785",
   "metadata": {},
   "source": [
    "## Data Cleanup"
   ]
  },
  {
   "cell_type": "markdown",
   "id": "6a4d5cd1",
   "metadata": {},
   "source": [
    "### Fill Rates"
   ]
  },
  {
   "cell_type": "code",
   "execution_count": 6,
   "id": "faa3349d",
   "metadata": {},
   "outputs": [
    {
     "data": {
      "application/vnd.plotly.v1+json": {
       "config": {
        "plotlyServerURL": "https://plot.ly"
       },
       "data": [
        {
         "showlegend": false,
         "text": [
          "54.0%",
          "48.0%",
          "47.6%",
          "47.6%",
          "44.9%",
          "13.3%",
          "11.5%",
          "7.1%",
          "7.1%",
          "4.7%",
          "4.4%",
          "3.0%",
          "3.0%",
          "1.4%",
          "0.8%",
          "0.8%",
          "0.8%",
          "0.8%",
          "0.8%",
          "0.3%",
          "0.0%",
          "0.0%",
          "0.0%",
          "0.0%",
          "0.0%"
         ],
         "textangle": 0,
         "textposition": "outside",
         "type": "bar",
         "x": [
          0,
          1,
          2,
          3,
          4,
          5,
          6,
          7,
          8,
          9,
          10,
          11,
          12,
          13,
          14,
          15,
          16,
          17,
          18,
          19,
          20,
          21,
          22,
          23,
          24
         ],
         "y": {
          "bdata": "v3sIANGMBwB2ewcAWHoHAJ0OBwACGQIAF80BANYdAQDqHAEApLsAAC+vAADkeQAAOXkAABA4AADKHgAAQB4AAEAeAAA9HgAAMh4AALkMAAAWAAAAEgAAABIAAAASAAAAAQAAAA==",
          "dtype": "i4"
         }
        }
       ],
       "layout": {
        "height": 600,
        "margin": {
         "b": 120
        },
        "template": {
         "data": {
          "bar": [
           {
            "error_x": {
             "color": "#2a3f5f"
            },
            "error_y": {
             "color": "#2a3f5f"
            },
            "marker": {
             "line": {
              "color": "#E5ECF6",
              "width": 0.5
             },
             "pattern": {
              "fillmode": "overlay",
              "size": 10,
              "solidity": 0.2
             }
            },
            "type": "bar"
           }
          ],
          "barpolar": [
           {
            "marker": {
             "line": {
              "color": "#E5ECF6",
              "width": 0.5
             },
             "pattern": {
              "fillmode": "overlay",
              "size": 10,
              "solidity": 0.2
             }
            },
            "type": "barpolar"
           }
          ],
          "carpet": [
           {
            "aaxis": {
             "endlinecolor": "#2a3f5f",
             "gridcolor": "white",
             "linecolor": "white",
             "minorgridcolor": "white",
             "startlinecolor": "#2a3f5f"
            },
            "baxis": {
             "endlinecolor": "#2a3f5f",
             "gridcolor": "white",
             "linecolor": "white",
             "minorgridcolor": "white",
             "startlinecolor": "#2a3f5f"
            },
            "type": "carpet"
           }
          ],
          "choropleth": [
           {
            "colorbar": {
             "outlinewidth": 0,
             "ticks": ""
            },
            "type": "choropleth"
           }
          ],
          "contour": [
           {
            "colorbar": {
             "outlinewidth": 0,
             "ticks": ""
            },
            "colorscale": [
             [
              0,
              "#0d0887"
             ],
             [
              0.1111111111111111,
              "#46039f"
             ],
             [
              0.2222222222222222,
              "#7201a8"
             ],
             [
              0.3333333333333333,
              "#9c179e"
             ],
             [
              0.4444444444444444,
              "#bd3786"
             ],
             [
              0.5555555555555556,
              "#d8576b"
             ],
             [
              0.6666666666666666,
              "#ed7953"
             ],
             [
              0.7777777777777778,
              "#fb9f3a"
             ],
             [
              0.8888888888888888,
              "#fdca26"
             ],
             [
              1,
              "#f0f921"
             ]
            ],
            "type": "contour"
           }
          ],
          "contourcarpet": [
           {
            "colorbar": {
             "outlinewidth": 0,
             "ticks": ""
            },
            "type": "contourcarpet"
           }
          ],
          "heatmap": [
           {
            "colorbar": {
             "outlinewidth": 0,
             "ticks": ""
            },
            "colorscale": [
             [
              0,
              "#0d0887"
             ],
             [
              0.1111111111111111,
              "#46039f"
             ],
             [
              0.2222222222222222,
              "#7201a8"
             ],
             [
              0.3333333333333333,
              "#9c179e"
             ],
             [
              0.4444444444444444,
              "#bd3786"
             ],
             [
              0.5555555555555556,
              "#d8576b"
             ],
             [
              0.6666666666666666,
              "#ed7953"
             ],
             [
              0.7777777777777778,
              "#fb9f3a"
             ],
             [
              0.8888888888888888,
              "#fdca26"
             ],
             [
              1,
              "#f0f921"
             ]
            ],
            "type": "heatmap"
           }
          ],
          "histogram": [
           {
            "marker": {
             "pattern": {
              "fillmode": "overlay",
              "size": 10,
              "solidity": 0.2
             }
            },
            "type": "histogram"
           }
          ],
          "histogram2d": [
           {
            "colorbar": {
             "outlinewidth": 0,
             "ticks": ""
            },
            "colorscale": [
             [
              0,
              "#0d0887"
             ],
             [
              0.1111111111111111,
              "#46039f"
             ],
             [
              0.2222222222222222,
              "#7201a8"
             ],
             [
              0.3333333333333333,
              "#9c179e"
             ],
             [
              0.4444444444444444,
              "#bd3786"
             ],
             [
              0.5555555555555556,
              "#d8576b"
             ],
             [
              0.6666666666666666,
              "#ed7953"
             ],
             [
              0.7777777777777778,
              "#fb9f3a"
             ],
             [
              0.8888888888888888,
              "#fdca26"
             ],
             [
              1,
              "#f0f921"
             ]
            ],
            "type": "histogram2d"
           }
          ],
          "histogram2dcontour": [
           {
            "colorbar": {
             "outlinewidth": 0,
             "ticks": ""
            },
            "colorscale": [
             [
              0,
              "#0d0887"
             ],
             [
              0.1111111111111111,
              "#46039f"
             ],
             [
              0.2222222222222222,
              "#7201a8"
             ],
             [
              0.3333333333333333,
              "#9c179e"
             ],
             [
              0.4444444444444444,
              "#bd3786"
             ],
             [
              0.5555555555555556,
              "#d8576b"
             ],
             [
              0.6666666666666666,
              "#ed7953"
             ],
             [
              0.7777777777777778,
              "#fb9f3a"
             ],
             [
              0.8888888888888888,
              "#fdca26"
             ],
             [
              1,
              "#f0f921"
             ]
            ],
            "type": "histogram2dcontour"
           }
          ],
          "mesh3d": [
           {
            "colorbar": {
             "outlinewidth": 0,
             "ticks": ""
            },
            "type": "mesh3d"
           }
          ],
          "parcoords": [
           {
            "line": {
             "colorbar": {
              "outlinewidth": 0,
              "ticks": ""
             }
            },
            "type": "parcoords"
           }
          ],
          "pie": [
           {
            "automargin": true,
            "type": "pie"
           }
          ],
          "scatter": [
           {
            "fillpattern": {
             "fillmode": "overlay",
             "size": 10,
             "solidity": 0.2
            },
            "type": "scatter"
           }
          ],
          "scatter3d": [
           {
            "line": {
             "colorbar": {
              "outlinewidth": 0,
              "ticks": ""
             }
            },
            "marker": {
             "colorbar": {
              "outlinewidth": 0,
              "ticks": ""
             }
            },
            "type": "scatter3d"
           }
          ],
          "scattercarpet": [
           {
            "marker": {
             "colorbar": {
              "outlinewidth": 0,
              "ticks": ""
             }
            },
            "type": "scattercarpet"
           }
          ],
          "scattergeo": [
           {
            "marker": {
             "colorbar": {
              "outlinewidth": 0,
              "ticks": ""
             }
            },
            "type": "scattergeo"
           }
          ],
          "scattergl": [
           {
            "marker": {
             "colorbar": {
              "outlinewidth": 0,
              "ticks": ""
             }
            },
            "type": "scattergl"
           }
          ],
          "scattermap": [
           {
            "marker": {
             "colorbar": {
              "outlinewidth": 0,
              "ticks": ""
             }
            },
            "type": "scattermap"
           }
          ],
          "scattermapbox": [
           {
            "marker": {
             "colorbar": {
              "outlinewidth": 0,
              "ticks": ""
             }
            },
            "type": "scattermapbox"
           }
          ],
          "scatterpolar": [
           {
            "marker": {
             "colorbar": {
              "outlinewidth": 0,
              "ticks": ""
             }
            },
            "type": "scatterpolar"
           }
          ],
          "scatterpolargl": [
           {
            "marker": {
             "colorbar": {
              "outlinewidth": 0,
              "ticks": ""
             }
            },
            "type": "scatterpolargl"
           }
          ],
          "scatterternary": [
           {
            "marker": {
             "colorbar": {
              "outlinewidth": 0,
              "ticks": ""
             }
            },
            "type": "scatterternary"
           }
          ],
          "surface": [
           {
            "colorbar": {
             "outlinewidth": 0,
             "ticks": ""
            },
            "colorscale": [
             [
              0,
              "#0d0887"
             ],
             [
              0.1111111111111111,
              "#46039f"
             ],
             [
              0.2222222222222222,
              "#7201a8"
             ],
             [
              0.3333333333333333,
              "#9c179e"
             ],
             [
              0.4444444444444444,
              "#bd3786"
             ],
             [
              0.5555555555555556,
              "#d8576b"
             ],
             [
              0.6666666666666666,
              "#ed7953"
             ],
             [
              0.7777777777777778,
              "#fb9f3a"
             ],
             [
              0.8888888888888888,
              "#fdca26"
             ],
             [
              1,
              "#f0f921"
             ]
            ],
            "type": "surface"
           }
          ],
          "table": [
           {
            "cells": {
             "fill": {
              "color": "#EBF0F8"
             },
             "line": {
              "color": "white"
             }
            },
            "header": {
             "fill": {
              "color": "#C8D4E3"
             },
             "line": {
              "color": "white"
             }
            },
            "type": "table"
           }
          ]
         },
         "layout": {
          "annotationdefaults": {
           "arrowcolor": "#2a3f5f",
           "arrowhead": 0,
           "arrowwidth": 1
          },
          "autotypenumbers": "strict",
          "coloraxis": {
           "colorbar": {
            "outlinewidth": 0,
            "ticks": ""
           }
          },
          "colorscale": {
           "diverging": [
            [
             0,
             "#8e0152"
            ],
            [
             0.1,
             "#c51b7d"
            ],
            [
             0.2,
             "#de77ae"
            ],
            [
             0.3,
             "#f1b6da"
            ],
            [
             0.4,
             "#fde0ef"
            ],
            [
             0.5,
             "#f7f7f7"
            ],
            [
             0.6,
             "#e6f5d0"
            ],
            [
             0.7,
             "#b8e186"
            ],
            [
             0.8,
             "#7fbc41"
            ],
            [
             0.9,
             "#4d9221"
            ],
            [
             1,
             "#276419"
            ]
           ],
           "sequential": [
            [
             0,
             "#0d0887"
            ],
            [
             0.1111111111111111,
             "#46039f"
            ],
            [
             0.2222222222222222,
             "#7201a8"
            ],
            [
             0.3333333333333333,
             "#9c179e"
            ],
            [
             0.4444444444444444,
             "#bd3786"
            ],
            [
             0.5555555555555556,
             "#d8576b"
            ],
            [
             0.6666666666666666,
             "#ed7953"
            ],
            [
             0.7777777777777778,
             "#fb9f3a"
            ],
            [
             0.8888888888888888,
             "#fdca26"
            ],
            [
             1,
             "#f0f921"
            ]
           ],
           "sequentialminus": [
            [
             0,
             "#0d0887"
            ],
            [
             0.1111111111111111,
             "#46039f"
            ],
            [
             0.2222222222222222,
             "#7201a8"
            ],
            [
             0.3333333333333333,
             "#9c179e"
            ],
            [
             0.4444444444444444,
             "#bd3786"
            ],
            [
             0.5555555555555556,
             "#d8576b"
            ],
            [
             0.6666666666666666,
             "#ed7953"
            ],
            [
             0.7777777777777778,
             "#fb9f3a"
            ],
            [
             0.8888888888888888,
             "#fdca26"
            ],
            [
             1,
             "#f0f921"
            ]
           ]
          },
          "colorway": [
           "#636efa",
           "#EF553B",
           "#00cc96",
           "#ab63fa",
           "#FFA15A",
           "#19d3f3",
           "#FF6692",
           "#B6E880",
           "#FF97FF",
           "#FECB52"
          ],
          "font": {
           "color": "#2a3f5f"
          },
          "geo": {
           "bgcolor": "white",
           "lakecolor": "white",
           "landcolor": "#E5ECF6",
           "showlakes": true,
           "showland": true,
           "subunitcolor": "white"
          },
          "hoverlabel": {
           "align": "left"
          },
          "hovermode": "closest",
          "mapbox": {
           "style": "light"
          },
          "paper_bgcolor": "white",
          "plot_bgcolor": "#E5ECF6",
          "polar": {
           "angularaxis": {
            "gridcolor": "white",
            "linecolor": "white",
            "ticks": ""
           },
           "bgcolor": "#E5ECF6",
           "radialaxis": {
            "gridcolor": "white",
            "linecolor": "white",
            "ticks": ""
           }
          },
          "scene": {
           "xaxis": {
            "backgroundcolor": "#E5ECF6",
            "gridcolor": "white",
            "gridwidth": 2,
            "linecolor": "white",
            "showbackground": true,
            "ticks": "",
            "zerolinecolor": "white"
           },
           "yaxis": {
            "backgroundcolor": "#E5ECF6",
            "gridcolor": "white",
            "gridwidth": 2,
            "linecolor": "white",
            "showbackground": true,
            "ticks": "",
            "zerolinecolor": "white"
           },
           "zaxis": {
            "backgroundcolor": "#E5ECF6",
            "gridcolor": "white",
            "gridwidth": 2,
            "linecolor": "white",
            "showbackground": true,
            "ticks": "",
            "zerolinecolor": "white"
           }
          },
          "shapedefaults": {
           "line": {
            "color": "#2a3f5f"
           }
          },
          "ternary": {
           "aaxis": {
            "gridcolor": "white",
            "linecolor": "white",
            "ticks": ""
           },
           "baxis": {
            "gridcolor": "white",
            "linecolor": "white",
            "ticks": ""
           },
           "bgcolor": "#E5ECF6",
           "caxis": {
            "gridcolor": "white",
            "linecolor": "white",
            "ticks": ""
           }
          },
          "title": {
           "x": 0.05
          },
          "xaxis": {
           "automargin": true,
           "gridcolor": "white",
           "linecolor": "white",
           "ticks": "",
           "title": {
            "standoff": 15
           },
           "zerolinecolor": "white",
           "zerolinewidth": 2
          },
          "yaxis": {
           "automargin": true,
           "gridcolor": "white",
           "linecolor": "white",
           "ticks": "",
           "title": {
            "standoff": 15
           },
           "zerolinecolor": "white",
           "zerolinewidth": 2
          }
         }
        },
        "title": {
         "text": "Missing Values by Column"
        },
        "xaxis": {
         "tickangle": -45,
         "tickmode": "array",
         "ticktext": [
          "landmark",
          "due_date",
          "intersection_street_1",
          "intersection_street_2",
          "facility_type",
          "closed_date",
          "bbl",
          "cross_street_1",
          "cross_street_2",
          "resolution_description",
          "resolution_action_updated_date",
          "street_name",
          "incident_address",
          "city",
          "address_type",
          "latitude",
          "longitude",
          "x_coordinate_state_plane",
          "y_coordinate_state_plane",
          "incident_zip",
          "location_type",
          "community_board",
          "park_borough",
          "borough",
          "descriptor"
         ],
         "tickvals": [
          0,
          1,
          2,
          3,
          4,
          5,
          6,
          7,
          8,
          9,
          10,
          11,
          12,
          13,
          14,
          15,
          16,
          17,
          18,
          19,
          20,
          21,
          22,
          23,
          24
         ],
         "title": {
          "text": "Column"
         }
        },
        "yaxis": {
         "title": {
          "text": "Number of Missing Values"
         }
        }
       }
      }
     },
     "metadata": {},
     "output_type": "display_data"
    }
   ],
   "source": [
    "# Plot missing values by column (similar to the reference image)\n",
    "missing_counts = df_orig.isnull().sum().sort_values(ascending=False)\n",
    "missing_counts = missing_counts[missing_counts > 0]  # Only show columns with missing values\n",
    "\n",
    "# Calculate percentages for display\n",
    "missing_percentages = (missing_counts / len(df_orig) * 100).round(1)\n",
    "\n",
    "fig = go.Figure()\n",
    "\n",
    "# Create bar chart\n",
    "fig.add_trace(go.Bar(\n",
    "    x=list(range(len(missing_counts))),\n",
    "    y=missing_counts.values,\n",
    "    text=[f'{pct}%' for pct in missing_percentages.values],\n",
    "    textposition='outside',\n",
    "    textangle=0,\n",
    "    showlegend=False\n",
    "))\n",
    "\n",
    "# Update layout to match the reference style\n",
    "fig.update_layout(\n",
    "    title='Missing Values by Column',\n",
    "    xaxis_title='Column',\n",
    "    yaxis_title='Number of Missing Values',\n",
    "    xaxis=dict(\n",
    "        tickmode='array',\n",
    "        tickvals=list(range(len(missing_counts))),\n",
    "        ticktext=missing_counts.index,\n",
    "        tickangle=-45\n",
    "    ),\n",
    "    height=600,\n",
    "    margin=dict(b=120)  # Extra bottom margin for rotated labels\n",
    ")\n",
    "\n",
    "fig.show()\n"
   ]
  },
  {
   "cell_type": "code",
   "execution_count": 7,
   "id": "524cd0f5",
   "metadata": {},
   "outputs": [
    {
     "name": "stderr",
     "output_type": "stream",
     "text": [
      "C:\\Users\\gorav\\AppData\\Local\\Temp\\ipykernel_4476\\1177816533.py:7: FutureWarning:\n",
      "\n",
      "DataFrameGroupBy.apply operated on the grouping columns. This behavior is deprecated, and in a future version of pandas the grouping columns will be excluded from the operation. Either pass `include_groups=False` to exclude the groupings or explicitly select the grouping columns after groupby to silence this warning.\n",
      "\n",
      "C:\\Users\\gorav\\AppData\\Local\\Temp\\ipykernel_4476\\1177816533.py:11: FutureWarning:\n",
      "\n",
      "DataFrameGroupBy.apply operated on the grouping columns. This behavior is deprecated, and in a future version of pandas the grouping columns will be excluded from the operation. Either pass `include_groups=False` to exclude the groupings or explicitly select the grouping columns after groupby to silence this warning.\n",
      "\n"
     ]
    },
    {
     "data": {
      "application/vnd.plotly.v1+json": {
       "config": {
        "plotlyServerURL": "https://plot.ly"
       },
       "data": [
        {
         "hovertemplate": "%{text}<br>Overall: %{x}<br>BRONX: %{y}<extra></extra>",
         "mode": "markers",
         "name": "BRONX",
         "text": [
          "due_date",
          "landmark",
          "intersection_street_1",
          "intersection_street_2",
          "facility_type",
          "cross_street_2",
          "cross_street_1",
          "bbl",
          "location_type",
          "street_name",
          "incident_address",
          "address_type",
          "longitude",
          "latitude",
          "x_coordinate_state_plane",
          "y_coordinate_state_plane",
          "city",
          "incident_zip",
          "resolution_description",
          "closed_date",
          "resolution_action_updated_date",
          "descriptor",
          "community_board",
          "park_borough",
          "borough",
          "unique_key",
          "created_date",
          "agency_name",
          "agency",
          "complaint_type",
          "status",
          "open_data_channel_type",
          "park_facility_name",
          "year",
          "month"
         ],
         "type": "scatter",
         "x": {
          "bdata": "pHA9Ctej4D9xPQrXo3DdP/hT46WbxOA/+FPjpZvE4D9vEoPAyqHhP+58PzVeuu0/7nw/NV667T9SuB6F61HsPwAAAAAAAPA/CtejcD0K7z8K16NwPQrvP1g5tMh2vu8/WDm0yHa+7z9YObTIdr7vP1g5tMh2vu8/WDm0yHa+7z9aZDvfT43vP4GVQ4ts5+8/5dAi2/l+7j9YObTIdr7rP2Q730+Nl+4/AAAAAAAA8D8AAAAAAADwPwAAAAAAAPA/AAAAAAAA8D8AAAAAAADwPwAAAAAAAPA/AAAAAAAA8D8AAAAAAADwPwAAAAAAAPA/AAAAAAAA8D8AAAAAAADwPwAAAAAAAPA/AAAAAAAA8D8AAAAAAADwPw==",
          "dtype": "f8"
         },
         "y": {
          "bdata": "7nw/NV664T/Xo3A9CtfbPwwCK4cW2d4/DAIrhxbZ3j/jpZvEILDiP5qZmZmZme0/mpmZmZmZ7T+kcD0K16PsPwAAAAAAAPA/XI/C9Shc7z9cj8L1KFzvP9ejcD0K1+8/rBxaZDvf7z+sHFpkO9/vP6wcWmQ73+8/rBxaZDvf7z8tsp3vp8bvPyuHFtnO9+8/Di2yne+n7j9/arx0kxjsPzeJQWDl0O4/AAAAAAAA8D8AAAAAAADwPwAAAAAAAPA/AAAAAAAA8D8AAAAAAADwPwAAAAAAAPA/AAAAAAAA8D8AAAAAAADwPwAAAAAAAPA/AAAAAAAA8D8AAAAAAADwPwAAAAAAAPA/AAAAAAAA8D8AAAAAAADwPw==",
          "dtype": "f8"
         }
        },
        {
         "hovertemplate": "%{text}<br>Overall: %{x}<br>BROOKLYN: %{y}<extra></extra>",
         "mode": "markers",
         "name": "BROOKLYN",
         "text": [
          "due_date",
          "landmark",
          "intersection_street_1",
          "intersection_street_2",
          "facility_type",
          "cross_street_2",
          "cross_street_1",
          "bbl",
          "location_type",
          "street_name",
          "incident_address",
          "address_type",
          "longitude",
          "latitude",
          "x_coordinate_state_plane",
          "y_coordinate_state_plane",
          "city",
          "incident_zip",
          "resolution_description",
          "closed_date",
          "resolution_action_updated_date",
          "descriptor",
          "community_board",
          "park_borough",
          "borough",
          "unique_key",
          "created_date",
          "agency_name",
          "agency",
          "complaint_type",
          "status",
          "open_data_channel_type",
          "park_facility_name",
          "year",
          "month"
         ],
         "type": "scatter",
         "x": {
          "bdata": "pHA9Ctej4D9xPQrXo3DdP/hT46WbxOA/+FPjpZvE4D9vEoPAyqHhP+58PzVeuu0/7nw/NV667T9SuB6F61HsPwAAAAAAAPA/CtejcD0K7z8K16NwPQrvP1g5tMh2vu8/WDm0yHa+7z9YObTIdr7vP1g5tMh2vu8/WDm0yHa+7z9aZDvfT43vP4GVQ4ts5+8/5dAi2/l+7j9YObTIdr7rP2Q730+Nl+4/AAAAAAAA8D8AAAAAAADwPwAAAAAAAPA/AAAAAAAA8D8AAAAAAADwPwAAAAAAAPA/AAAAAAAA8D8AAAAAAADwPwAAAAAAAPA/AAAAAAAA8D8AAAAAAADwPwAAAAAAAPA/AAAAAAAA8D8AAAAAAADwPw==",
          "dtype": "f8"
         },
         "y": {
          "bdata": "VOOlm8Qg4D9mZmZmZmbeP3Noke18P+E/c2iR7Xw/4T/y0k1iEFjhP0Jg5dAi2+0/QmDl0CLb7T9QjZduEoPsPwAAAAAAAPA/MzMzMzMz7z8zMzMzMzPvP9ejcD0K1+8/AiuHFtnO7z8CK4cW2c7vPwIrhxbZzu8/AiuHFtnO7z8v3SQGgZXvPyuHFtnO9+8/vHSTGARW7j+sHFpkO9/rP+XQItv5fu4/AAAAAAAA8D8AAAAAAADwPwAAAAAAAPA/AAAAAAAA8D8AAAAAAADwPwAAAAAAAPA/AAAAAAAA8D8AAAAAAADwPwAAAAAAAPA/AAAAAAAA8D8AAAAAAADwPwAAAAAAAPA/AAAAAAAA8D8AAAAAAADwPw==",
          "dtype": "f8"
         }
        },
        {
         "hovertemplate": "%{text}<br>Overall: %{x}<br>MANHATTAN: %{y}<extra></extra>",
         "mode": "markers",
         "name": "MANHATTAN",
         "text": [
          "due_date",
          "landmark",
          "intersection_street_1",
          "intersection_street_2",
          "facility_type",
          "cross_street_2",
          "cross_street_1",
          "bbl",
          "location_type",
          "street_name",
          "incident_address",
          "address_type",
          "longitude",
          "latitude",
          "x_coordinate_state_plane",
          "y_coordinate_state_plane",
          "city",
          "incident_zip",
          "resolution_description",
          "closed_date",
          "resolution_action_updated_date",
          "descriptor",
          "community_board",
          "park_borough",
          "borough",
          "unique_key",
          "created_date",
          "agency_name",
          "agency",
          "complaint_type",
          "status",
          "open_data_channel_type",
          "park_facility_name",
          "year",
          "month"
         ],
         "type": "scatter",
         "x": {
          "bdata": "pHA9Ctej4D9xPQrXo3DdP/hT46WbxOA/+FPjpZvE4D9vEoPAyqHhP+58PzVeuu0/7nw/NV667T9SuB6F61HsPwAAAAAAAPA/CtejcD0K7z8K16NwPQrvP1g5tMh2vu8/WDm0yHa+7z9YObTIdr7vP1g5tMh2vu8/WDm0yHa+7z9aZDvfT43vP4GVQ4ts5+8/5dAi2/l+7j9YObTIdr7rP2Q730+Nl+4/AAAAAAAA8D8AAAAAAADwPwAAAAAAAPA/AAAAAAAA8D8AAAAAAADwPwAAAAAAAPA/AAAAAAAA8D8AAAAAAADwPwAAAAAAAPA/AAAAAAAA8D8AAAAAAADwPwAAAAAAAPA/AAAAAAAA8D8AAAAAAADwPw==",
          "dtype": "f8"
         },
         "y": {
          "bdata": "UrgehetR4D9qvHSTGATeP3Noke18P+E/c2iR7Xw/4T9I4XoUrkfhP/Cnxks3ie0/8KfGSzeJ7T8pXI/C9SjsPwAAAAAAAPA/tvP91Hjp7j+28/3UeOnuP9ejcD0K1+8/LbKd76fG7z8tsp3vp8bvPy2yne+nxu8/LbKd76fG7z8v3SQGgZXvPyuHFtnO9+8/46WbxCCw7j/ZzvdT46XrPzeJQWDl0O4/AAAAAAAA8D8AAAAAAADwPwAAAAAAAPA/AAAAAAAA8D8AAAAAAADwPwAAAAAAAPA/AAAAAAAA8D8AAAAAAADwPwAAAAAAAPA/AAAAAAAA8D8AAAAAAADwPwAAAAAAAPA/AAAAAAAA8D8AAAAAAADwPw==",
          "dtype": "f8"
         }
        },
        {
         "hovertemplate": "%{text}<br>Overall: %{x}<br>QUEENS: %{y}<extra></extra>",
         "mode": "markers",
         "name": "QUEENS",
         "text": [
          "due_date",
          "landmark",
          "intersection_street_1",
          "intersection_street_2",
          "facility_type",
          "cross_street_2",
          "cross_street_1",
          "bbl",
          "location_type",
          "street_name",
          "incident_address",
          "address_type",
          "longitude",
          "latitude",
          "x_coordinate_state_plane",
          "y_coordinate_state_plane",
          "city",
          "incident_zip",
          "resolution_description",
          "closed_date",
          "resolution_action_updated_date",
          "descriptor",
          "community_board",
          "park_borough",
          "borough",
          "unique_key",
          "created_date",
          "agency_name",
          "agency",
          "complaint_type",
          "status",
          "open_data_channel_type",
          "park_facility_name",
          "year",
          "month"
         ],
         "type": "scatter",
         "x": {
          "bdata": "pHA9Ctej4D9xPQrXo3DdP/hT46WbxOA/+FPjpZvE4D9vEoPAyqHhP+58PzVeuu0/7nw/NV667T9SuB6F61HsPwAAAAAAAPA/CtejcD0K7z8K16NwPQrvP1g5tMh2vu8/WDm0yHa+7z9YObTIdr7vP1g5tMh2vu8/WDm0yHa+7z9aZDvfT43vP4GVQ4ts5+8/5dAi2/l+7j9YObTIdr7rP2Q730+Nl+4/AAAAAAAA8D8AAAAAAADwPwAAAAAAAPA/AAAAAAAA8D8AAAAAAADwPwAAAAAAAPA/AAAAAAAA8D8AAAAAAADwPwAAAAAAAPA/AAAAAAAA8D8AAAAAAADwPwAAAAAAAPA/AAAAAAAA8D8AAAAAAADwPw==",
          "dtype": "f8"
         },
         "y": {
          "bdata": "ppvEILBy4D9t5/up8dLdP0oMAiuHFuE/SgwCK4cW4T/y0k1iEFjhP+kmMQisHO4/FK5H4XoU7j8nMQisHFrsPwAAAAAAAPA/CtejcD0K7z8K16NwPQrvP4PAyqFFtu8/AiuHFtnO7z8CK4cW2c7vPwIrhxbZzu8/AiuHFtnO7z8v3SQGgZXvP1YOLbKd7+8/O99PjZdu7j8xCKwcWmTrPzvfT42Xbu4/AAAAAAAA8D8AAAAAAADwPwAAAAAAAPA/AAAAAAAA8D8AAAAAAADwPwAAAAAAAPA/AAAAAAAA8D8AAAAAAADwPwAAAAAAAPA/AAAAAAAA8D8AAAAAAADwPwAAAAAAAPA/AAAAAAAA8D8AAAAAAADwPw==",
          "dtype": "f8"
         }
        },
        {
         "hovertemplate": "%{text}<br>Overall: %{x}<br>STATEN ISLAND: %{y}<extra></extra>",
         "mode": "markers",
         "name": "STATEN ISLAND",
         "text": [
          "due_date",
          "landmark",
          "intersection_street_1",
          "intersection_street_2",
          "facility_type",
          "cross_street_2",
          "cross_street_1",
          "bbl",
          "location_type",
          "street_name",
          "incident_address",
          "address_type",
          "longitude",
          "latitude",
          "x_coordinate_state_plane",
          "y_coordinate_state_plane",
          "city",
          "incident_zip",
          "resolution_description",
          "closed_date",
          "resolution_action_updated_date",
          "descriptor",
          "community_board",
          "park_borough",
          "borough",
          "unique_key",
          "created_date",
          "agency_name",
          "agency",
          "complaint_type",
          "status",
          "open_data_channel_type",
          "park_facility_name",
          "year",
          "month"
         ],
         "type": "scatter",
         "x": {
          "bdata": "pHA9Ctej4D9xPQrXo3DdP/hT46WbxOA/+FPjpZvE4D9vEoPAyqHhP+58PzVeuu0/7nw/NV667T9SuB6F61HsPwAAAAAAAPA/CtejcD0K7z8K16NwPQrvP1g5tMh2vu8/WDm0yHa+7z9YObTIdr7vP1g5tMh2vu8/WDm0yHa+7z9aZDvfT43vP4GVQ4ts5+8/5dAi2/l+7j9YObTIdr7rP2Q730+Nl+4/AAAAAAAA8D8AAAAAAADwPwAAAAAAAPA/AAAAAAAA8D8AAAAAAADwPwAAAAAAAPA/AAAAAAAA8D8AAAAAAADwPwAAAAAAAPA/AAAAAAAA8D8AAAAAAADwPwAAAAAAAPA/AAAAAAAA8D8AAAAAAADwPw==",
          "dtype": "f8"
         },
         "y": {
          "bdata": "tMh2vp8a4z/0/dR46SbZPx1aZDvfT90/HVpkO99P3T+DwMqhRbbjP2q8dJMYBO4/arx0kxgE7j8nMQisHFrsPwAAAAAAAPA/N4lBYOXQ7j83iUFg5dDuP65H4XoUru8/rBxaZDvf7z+sHFpkO9/vP6wcWmQ73+8/rBxaZDvf7z8tsp3vp8bvP1YOLbKd7+8/O99PjZdu7j8xCKwcWmTrPz0K16NwPe4/AAAAAAAA8D8AAAAAAADwPwAAAAAAAPA/AAAAAAAA8D8AAAAAAADwPwAAAAAAAPA/AAAAAAAA8D8AAAAAAADwPwAAAAAAAPA/AAAAAAAA8D8AAAAAAADwPwAAAAAAAPA/AAAAAAAA8D8AAAAAAADwPw==",
          "dtype": "f8"
         }
        },
        {
         "hovertemplate": "%{text}<br>Overall: %{x}<br>Unspecified: %{y}<extra></extra>",
         "mode": "markers",
         "name": "Unspecified",
         "text": [
          "due_date",
          "landmark",
          "intersection_street_1",
          "intersection_street_2",
          "facility_type",
          "cross_street_2",
          "cross_street_1",
          "bbl",
          "location_type",
          "street_name",
          "incident_address",
          "address_type",
          "longitude",
          "latitude",
          "x_coordinate_state_plane",
          "y_coordinate_state_plane",
          "city",
          "incident_zip",
          "resolution_description",
          "closed_date",
          "resolution_action_updated_date",
          "descriptor",
          "community_board",
          "park_borough",
          "borough",
          "unique_key",
          "created_date",
          "agency_name",
          "agency",
          "complaint_type",
          "status",
          "open_data_channel_type",
          "park_facility_name",
          "year",
          "month"
         ],
         "type": "scatter",
         "x": {
          "bdata": "pHA9Ctej4D9xPQrXo3DdP/hT46WbxOA/+FPjpZvE4D9vEoPAyqHhP+58PzVeuu0/7nw/NV667T9SuB6F61HsPwAAAAAAAPA/CtejcD0K7z8K16NwPQrvP1g5tMh2vu8/WDm0yHa+7z9YObTIdr7vP1g5tMh2vu8/WDm0yHa+7z9aZDvfT43vP4GVQ4ts5+8/5dAi2/l+7j9YObTIdr7rP2Q730+Nl+4/AAAAAAAA8D8AAAAAAADwPwAAAAAAAPA/AAAAAAAA8D8AAAAAAADwPwAAAAAAAPA/AAAAAAAA8D8AAAAAAADwPwAAAAAAAPA/AAAAAAAA8D8AAAAAAADwPwAAAAAAAPA/AAAAAAAA8D8AAAAAAADwPw==",
          "dtype": "f8"
         },
         "y": {
          "bdata": "ukkMAiuHtj/6fmq8dJNoP1pkO99Pjac/O99PjZduoj8K16NwPQqnPxsv3SQGgZU/TDeJQWDloD/8qfHSTWJgP1g5tMh2vu8/nMQgsHJosT+cxCCwcmixP/yp8dJNYsA/mpmZmZmZmT+amZmZmZmZPzm0yHa+n5o/eekmMQisnD8730+Nl26iP7pJDAIrh6Y/2/l+arx07z/jpZvEILDuP166SQwCK+8/AAAAAAAA8D8AAAAAAADwPwAAAAAAAPA/AAAAAAAA8D8AAAAAAADwPwAAAAAAAPA/AAAAAAAA8D8AAAAAAADwPwAAAAAAAPA/AAAAAAAA8D8AAAAAAADwPwAAAAAAAPA/AAAAAAAA8D8AAAAAAADwPw==",
          "dtype": "f8"
         }
        },
        {
         "line": {
          "color": "gray",
          "dash": "dash"
         },
         "mode": "lines",
         "name": "Perfect Match",
         "type": "scatter",
         "x": [
          0,
          1
         ],
         "y": [
          0,
          1
         ]
        }
       ],
       "layout": {
        "showlegend": true,
        "template": {
         "data": {
          "bar": [
           {
            "error_x": {
             "color": "#2a3f5f"
            },
            "error_y": {
             "color": "#2a3f5f"
            },
            "marker": {
             "line": {
              "color": "#E5ECF6",
              "width": 0.5
             },
             "pattern": {
              "fillmode": "overlay",
              "size": 10,
              "solidity": 0.2
             }
            },
            "type": "bar"
           }
          ],
          "barpolar": [
           {
            "marker": {
             "line": {
              "color": "#E5ECF6",
              "width": 0.5
             },
             "pattern": {
              "fillmode": "overlay",
              "size": 10,
              "solidity": 0.2
             }
            },
            "type": "barpolar"
           }
          ],
          "carpet": [
           {
            "aaxis": {
             "endlinecolor": "#2a3f5f",
             "gridcolor": "white",
             "linecolor": "white",
             "minorgridcolor": "white",
             "startlinecolor": "#2a3f5f"
            },
            "baxis": {
             "endlinecolor": "#2a3f5f",
             "gridcolor": "white",
             "linecolor": "white",
             "minorgridcolor": "white",
             "startlinecolor": "#2a3f5f"
            },
            "type": "carpet"
           }
          ],
          "choropleth": [
           {
            "colorbar": {
             "outlinewidth": 0,
             "ticks": ""
            },
            "type": "choropleth"
           }
          ],
          "contour": [
           {
            "colorbar": {
             "outlinewidth": 0,
             "ticks": ""
            },
            "colorscale": [
             [
              0,
              "#0d0887"
             ],
             [
              0.1111111111111111,
              "#46039f"
             ],
             [
              0.2222222222222222,
              "#7201a8"
             ],
             [
              0.3333333333333333,
              "#9c179e"
             ],
             [
              0.4444444444444444,
              "#bd3786"
             ],
             [
              0.5555555555555556,
              "#d8576b"
             ],
             [
              0.6666666666666666,
              "#ed7953"
             ],
             [
              0.7777777777777778,
              "#fb9f3a"
             ],
             [
              0.8888888888888888,
              "#fdca26"
             ],
             [
              1,
              "#f0f921"
             ]
            ],
            "type": "contour"
           }
          ],
          "contourcarpet": [
           {
            "colorbar": {
             "outlinewidth": 0,
             "ticks": ""
            },
            "type": "contourcarpet"
           }
          ],
          "heatmap": [
           {
            "colorbar": {
             "outlinewidth": 0,
             "ticks": ""
            },
            "colorscale": [
             [
              0,
              "#0d0887"
             ],
             [
              0.1111111111111111,
              "#46039f"
             ],
             [
              0.2222222222222222,
              "#7201a8"
             ],
             [
              0.3333333333333333,
              "#9c179e"
             ],
             [
              0.4444444444444444,
              "#bd3786"
             ],
             [
              0.5555555555555556,
              "#d8576b"
             ],
             [
              0.6666666666666666,
              "#ed7953"
             ],
             [
              0.7777777777777778,
              "#fb9f3a"
             ],
             [
              0.8888888888888888,
              "#fdca26"
             ],
             [
              1,
              "#f0f921"
             ]
            ],
            "type": "heatmap"
           }
          ],
          "histogram": [
           {
            "marker": {
             "pattern": {
              "fillmode": "overlay",
              "size": 10,
              "solidity": 0.2
             }
            },
            "type": "histogram"
           }
          ],
          "histogram2d": [
           {
            "colorbar": {
             "outlinewidth": 0,
             "ticks": ""
            },
            "colorscale": [
             [
              0,
              "#0d0887"
             ],
             [
              0.1111111111111111,
              "#46039f"
             ],
             [
              0.2222222222222222,
              "#7201a8"
             ],
             [
              0.3333333333333333,
              "#9c179e"
             ],
             [
              0.4444444444444444,
              "#bd3786"
             ],
             [
              0.5555555555555556,
              "#d8576b"
             ],
             [
              0.6666666666666666,
              "#ed7953"
             ],
             [
              0.7777777777777778,
              "#fb9f3a"
             ],
             [
              0.8888888888888888,
              "#fdca26"
             ],
             [
              1,
              "#f0f921"
             ]
            ],
            "type": "histogram2d"
           }
          ],
          "histogram2dcontour": [
           {
            "colorbar": {
             "outlinewidth": 0,
             "ticks": ""
            },
            "colorscale": [
             [
              0,
              "#0d0887"
             ],
             [
              0.1111111111111111,
              "#46039f"
             ],
             [
              0.2222222222222222,
              "#7201a8"
             ],
             [
              0.3333333333333333,
              "#9c179e"
             ],
             [
              0.4444444444444444,
              "#bd3786"
             ],
             [
              0.5555555555555556,
              "#d8576b"
             ],
             [
              0.6666666666666666,
              "#ed7953"
             ],
             [
              0.7777777777777778,
              "#fb9f3a"
             ],
             [
              0.8888888888888888,
              "#fdca26"
             ],
             [
              1,
              "#f0f921"
             ]
            ],
            "type": "histogram2dcontour"
           }
          ],
          "mesh3d": [
           {
            "colorbar": {
             "outlinewidth": 0,
             "ticks": ""
            },
            "type": "mesh3d"
           }
          ],
          "parcoords": [
           {
            "line": {
             "colorbar": {
              "outlinewidth": 0,
              "ticks": ""
             }
            },
            "type": "parcoords"
           }
          ],
          "pie": [
           {
            "automargin": true,
            "type": "pie"
           }
          ],
          "scatter": [
           {
            "fillpattern": {
             "fillmode": "overlay",
             "size": 10,
             "solidity": 0.2
            },
            "type": "scatter"
           }
          ],
          "scatter3d": [
           {
            "line": {
             "colorbar": {
              "outlinewidth": 0,
              "ticks": ""
             }
            },
            "marker": {
             "colorbar": {
              "outlinewidth": 0,
              "ticks": ""
             }
            },
            "type": "scatter3d"
           }
          ],
          "scattercarpet": [
           {
            "marker": {
             "colorbar": {
              "outlinewidth": 0,
              "ticks": ""
             }
            },
            "type": "scattercarpet"
           }
          ],
          "scattergeo": [
           {
            "marker": {
             "colorbar": {
              "outlinewidth": 0,
              "ticks": ""
             }
            },
            "type": "scattergeo"
           }
          ],
          "scattergl": [
           {
            "marker": {
             "colorbar": {
              "outlinewidth": 0,
              "ticks": ""
             }
            },
            "type": "scattergl"
           }
          ],
          "scattermap": [
           {
            "marker": {
             "colorbar": {
              "outlinewidth": 0,
              "ticks": ""
             }
            },
            "type": "scattermap"
           }
          ],
          "scattermapbox": [
           {
            "marker": {
             "colorbar": {
              "outlinewidth": 0,
              "ticks": ""
             }
            },
            "type": "scattermapbox"
           }
          ],
          "scatterpolar": [
           {
            "marker": {
             "colorbar": {
              "outlinewidth": 0,
              "ticks": ""
             }
            },
            "type": "scatterpolar"
           }
          ],
          "scatterpolargl": [
           {
            "marker": {
             "colorbar": {
              "outlinewidth": 0,
              "ticks": ""
             }
            },
            "type": "scatterpolargl"
           }
          ],
          "scatterternary": [
           {
            "marker": {
             "colorbar": {
              "outlinewidth": 0,
              "ticks": ""
             }
            },
            "type": "scatterternary"
           }
          ],
          "surface": [
           {
            "colorbar": {
             "outlinewidth": 0,
             "ticks": ""
            },
            "colorscale": [
             [
              0,
              "#0d0887"
             ],
             [
              0.1111111111111111,
              "#46039f"
             ],
             [
              0.2222222222222222,
              "#7201a8"
             ],
             [
              0.3333333333333333,
              "#9c179e"
             ],
             [
              0.4444444444444444,
              "#bd3786"
             ],
             [
              0.5555555555555556,
              "#d8576b"
             ],
             [
              0.6666666666666666,
              "#ed7953"
             ],
             [
              0.7777777777777778,
              "#fb9f3a"
             ],
             [
              0.8888888888888888,
              "#fdca26"
             ],
             [
              1,
              "#f0f921"
             ]
            ],
            "type": "surface"
           }
          ],
          "table": [
           {
            "cells": {
             "fill": {
              "color": "#EBF0F8"
             },
             "line": {
              "color": "white"
             }
            },
            "header": {
             "fill": {
              "color": "#C8D4E3"
             },
             "line": {
              "color": "white"
             }
            },
            "type": "table"
           }
          ]
         },
         "layout": {
          "annotationdefaults": {
           "arrowcolor": "#2a3f5f",
           "arrowhead": 0,
           "arrowwidth": 1
          },
          "autotypenumbers": "strict",
          "coloraxis": {
           "colorbar": {
            "outlinewidth": 0,
            "ticks": ""
           }
          },
          "colorscale": {
           "diverging": [
            [
             0,
             "#8e0152"
            ],
            [
             0.1,
             "#c51b7d"
            ],
            [
             0.2,
             "#de77ae"
            ],
            [
             0.3,
             "#f1b6da"
            ],
            [
             0.4,
             "#fde0ef"
            ],
            [
             0.5,
             "#f7f7f7"
            ],
            [
             0.6,
             "#e6f5d0"
            ],
            [
             0.7,
             "#b8e186"
            ],
            [
             0.8,
             "#7fbc41"
            ],
            [
             0.9,
             "#4d9221"
            ],
            [
             1,
             "#276419"
            ]
           ],
           "sequential": [
            [
             0,
             "#0d0887"
            ],
            [
             0.1111111111111111,
             "#46039f"
            ],
            [
             0.2222222222222222,
             "#7201a8"
            ],
            [
             0.3333333333333333,
             "#9c179e"
            ],
            [
             0.4444444444444444,
             "#bd3786"
            ],
            [
             0.5555555555555556,
             "#d8576b"
            ],
            [
             0.6666666666666666,
             "#ed7953"
            ],
            [
             0.7777777777777778,
             "#fb9f3a"
            ],
            [
             0.8888888888888888,
             "#fdca26"
            ],
            [
             1,
             "#f0f921"
            ]
           ],
           "sequentialminus": [
            [
             0,
             "#0d0887"
            ],
            [
             0.1111111111111111,
             "#46039f"
            ],
            [
             0.2222222222222222,
             "#7201a8"
            ],
            [
             0.3333333333333333,
             "#9c179e"
            ],
            [
             0.4444444444444444,
             "#bd3786"
            ],
            [
             0.5555555555555556,
             "#d8576b"
            ],
            [
             0.6666666666666666,
             "#ed7953"
            ],
            [
             0.7777777777777778,
             "#fb9f3a"
            ],
            [
             0.8888888888888888,
             "#fdca26"
            ],
            [
             1,
             "#f0f921"
            ]
           ]
          },
          "colorway": [
           "#636efa",
           "#EF553B",
           "#00cc96",
           "#ab63fa",
           "#FFA15A",
           "#19d3f3",
           "#FF6692",
           "#B6E880",
           "#FF97FF",
           "#FECB52"
          ],
          "font": {
           "color": "#2a3f5f"
          },
          "geo": {
           "bgcolor": "white",
           "lakecolor": "white",
           "landcolor": "#E5ECF6",
           "showlakes": true,
           "showland": true,
           "subunitcolor": "white"
          },
          "hoverlabel": {
           "align": "left"
          },
          "hovermode": "closest",
          "mapbox": {
           "style": "light"
          },
          "paper_bgcolor": "white",
          "plot_bgcolor": "#E5ECF6",
          "polar": {
           "angularaxis": {
            "gridcolor": "white",
            "linecolor": "white",
            "ticks": ""
           },
           "bgcolor": "#E5ECF6",
           "radialaxis": {
            "gridcolor": "white",
            "linecolor": "white",
            "ticks": ""
           }
          },
          "scene": {
           "xaxis": {
            "backgroundcolor": "#E5ECF6",
            "gridcolor": "white",
            "gridwidth": 2,
            "linecolor": "white",
            "showbackground": true,
            "ticks": "",
            "zerolinecolor": "white"
           },
           "yaxis": {
            "backgroundcolor": "#E5ECF6",
            "gridcolor": "white",
            "gridwidth": 2,
            "linecolor": "white",
            "showbackground": true,
            "ticks": "",
            "zerolinecolor": "white"
           },
           "zaxis": {
            "backgroundcolor": "#E5ECF6",
            "gridcolor": "white",
            "gridwidth": 2,
            "linecolor": "white",
            "showbackground": true,
            "ticks": "",
            "zerolinecolor": "white"
           }
          },
          "shapedefaults": {
           "line": {
            "color": "#2a3f5f"
           }
          },
          "ternary": {
           "aaxis": {
            "gridcolor": "white",
            "linecolor": "white",
            "ticks": ""
           },
           "baxis": {
            "gridcolor": "white",
            "linecolor": "white",
            "ticks": ""
           },
           "bgcolor": "#E5ECF6",
           "caxis": {
            "gridcolor": "white",
            "linecolor": "white",
            "ticks": ""
           }
          },
          "title": {
           "x": 0.05
          },
          "xaxis": {
           "automargin": true,
           "gridcolor": "white",
           "linecolor": "white",
           "ticks": "",
           "title": {
            "standoff": 15
           },
           "zerolinecolor": "white",
           "zerolinewidth": 2
          },
          "yaxis": {
           "automargin": true,
           "gridcolor": "white",
           "linecolor": "white",
           "ticks": "",
           "title": {
            "standoff": 15
           },
           "zerolinecolor": "white",
           "zerolinewidth": 2
          }
         }
        },
        "title": {
         "text": "Borough Fill Rates vs Overall Fill Rates"
        },
        "xaxis": {
         "title": {
          "text": "Overall Fill Rate"
         }
        },
        "yaxis": {
         "title": {
          "text": "Borough Fill Rate"
         }
        }
       }
      }
     },
     "metadata": {},
     "output_type": "display_data"
    },
    {
     "data": {
      "application/vnd.plotly.v1+json": {
       "config": {
        "plotlyServerURL": "https://plot.ly"
       },
       "data": [
        {
         "hovertemplate": "%{text}<br>Overall: %{x}<br>Rodent: %{y}<extra></extra>",
         "mode": "markers",
         "name": "Rodent",
         "text": [
          "due_date",
          "landmark",
          "intersection_street_1",
          "intersection_street_2",
          "facility_type",
          "cross_street_2",
          "cross_street_1",
          "bbl",
          "location_type",
          "street_name",
          "incident_address",
          "address_type",
          "longitude",
          "latitude",
          "x_coordinate_state_plane",
          "y_coordinate_state_plane",
          "city",
          "incident_zip",
          "resolution_description",
          "closed_date",
          "resolution_action_updated_date",
          "descriptor",
          "community_board",
          "park_borough",
          "borough",
          "unique_key",
          "created_date",
          "agency_name",
          "agency",
          "complaint_type",
          "status",
          "open_data_channel_type",
          "park_facility_name",
          "year",
          "month"
         ],
         "type": "scatter",
         "x": {
          "bdata": "pHA9Ctej4D9xPQrXo3DdP/hT46WbxOA/+FPjpZvE4D9vEoPAyqHhP+58PzVeuu0/7nw/NV667T9SuB6F61HsPwAAAAAAAPA/CtejcD0K7z8K16NwPQrvP1g5tMh2vu8/WDm0yHa+7z9YObTIdr7vP1g5tMh2vu8/WDm0yHa+7z9aZDvfT43vP4GVQ4ts5+8/5dAi2/l+7j9YObTIdr7rP2Q730+Nl+4/AAAAAAAA8D8AAAAAAADwPwAAAAAAAPA/AAAAAAAA8D8AAAAAAADwPwAAAAAAAPA/AAAAAAAA8D8AAAAAAADwPwAAAAAAAPA/AAAAAAAA8D8AAAAAAADwPwAAAAAAAPA/AAAAAAAA8D8AAAAAAADwPw==",
          "dtype": "f8"
         },
         "y": {
          "bdata": "TDeJQWDl4D/NzMzMzMzcP1CNl24Sg+A/UI2XbhKD4D+F61G4HoXjP6RwPQrXo+w/pHA9Ctej7D8IrBxaZDvrPwAAAAAAAPA/YOXQItv57j9g5dAi2/nuP1YOLbKd7+8/LbKd76fG7z8tsp3vp8bvPy2yne+nxu8/LbKd76fG7z+uR+F6FK7vPyuHFtnO9+8/5/up8dJN7j+WQ4ts5/vtP7TIdr6fGu8/AAAAAAAA8D8AAAAAAADwPwAAAAAAAPA/AAAAAAAA8D8AAAAAAADwPwAAAAAAAPA/AAAAAAAA8D8AAAAAAADwPwAAAAAAAPA/AAAAAAAA8D8AAAAAAADwPwAAAAAAAPA/AAAAAAAA8D8AAAAAAADwPw==",
          "dtype": "f8"
         }
        },
        {
         "hovertemplate": "%{text}<br>Overall: %{x}<br>Food Establishment: %{y}<extra></extra>",
         "mode": "markers",
         "name": "Food Establishment",
         "text": [
          "due_date",
          "landmark",
          "intersection_street_1",
          "intersection_street_2",
          "facility_type",
          "cross_street_2",
          "cross_street_1",
          "bbl",
          "location_type",
          "street_name",
          "incident_address",
          "address_type",
          "longitude",
          "latitude",
          "x_coordinate_state_plane",
          "y_coordinate_state_plane",
          "city",
          "incident_zip",
          "resolution_description",
          "closed_date",
          "resolution_action_updated_date",
          "descriptor",
          "community_board",
          "park_borough",
          "borough",
          "unique_key",
          "created_date",
          "agency_name",
          "agency",
          "complaint_type",
          "status",
          "open_data_channel_type",
          "park_facility_name",
          "year",
          "month"
         ],
         "type": "scatter",
         "x": {
          "bdata": "pHA9Ctej4D9xPQrXo3DdP/hT46WbxOA/+FPjpZvE4D9vEoPAyqHhP+58PzVeuu0/7nw/NV667T9SuB6F61HsPwAAAAAAAPA/CtejcD0K7z8K16NwPQrvP1g5tMh2vu8/WDm0yHa+7z9YObTIdr7vP1g5tMh2vu8/WDm0yHa+7z9aZDvfT43vP4GVQ4ts5+8/5dAi2/l+7j9YObTIdr7rP2Q730+Nl+4/AAAAAAAA8D8AAAAAAADwPwAAAAAAAPA/AAAAAAAA8D8AAAAAAADwPwAAAAAAAPA/AAAAAAAA8D8AAAAAAADwPwAAAAAAAPA/AAAAAAAA8D8AAAAAAADwPwAAAAAAAPA/AAAAAAAA8D8AAAAAAADwPw==",
          "dtype": "f8"
         },
         "y": {
          "bdata": "Gy/dJAaB4T+BlUOLbOfbP2Dl0CLb+d4/CtejcD0K3z8lBoGVQ4vgP/LSTWIQWO0/HVpkO99P7T/RItv5fmrsPwAAAAAAAPA/YOXQItv57j81XrpJDALvP7ByaJHtfO8/WmQ730+N7z9aZDvfT43vP1pkO99Pje8/WmQ730+N7z/b+X5qvHTvPy/dJAaBle8/K4cW2c737z9aZDvfT43rP4GVQ4ts5+8/AAAAAAAA8D8AAAAAAADwPwAAAAAAAPA/AAAAAAAA8D8AAAAAAADwPwAAAAAAAPA/AAAAAAAA8D8AAAAAAADwPwAAAAAAAPA/AAAAAAAA8D8AAAAAAADwPwAAAAAAAPA/AAAAAAAA8D8AAAAAAADwPw==",
          "dtype": "f8"
         }
        },
        {
         "hovertemplate": "%{text}<br>Overall: %{x}<br>Indoor Air Quality: %{y}<extra></extra>",
         "mode": "markers",
         "name": "Indoor Air Quality",
         "text": [
          "due_date",
          "landmark",
          "intersection_street_1",
          "intersection_street_2",
          "facility_type",
          "cross_street_2",
          "cross_street_1",
          "bbl",
          "location_type",
          "street_name",
          "incident_address",
          "address_type",
          "longitude",
          "latitude",
          "x_coordinate_state_plane",
          "y_coordinate_state_plane",
          "city",
          "incident_zip",
          "resolution_description",
          "closed_date",
          "resolution_action_updated_date",
          "descriptor",
          "community_board",
          "park_borough",
          "borough",
          "unique_key",
          "created_date",
          "agency_name",
          "agency",
          "complaint_type",
          "status",
          "open_data_channel_type",
          "park_facility_name",
          "year",
          "month"
         ],
         "type": "scatter",
         "x": {
          "bdata": "pHA9Ctej4D9xPQrXo3DdP/hT46WbxOA/+FPjpZvE4D9vEoPAyqHhP+58PzVeuu0/7nw/NV667T9SuB6F61HsPwAAAAAAAPA/CtejcD0K7z8K16NwPQrvP1g5tMh2vu8/WDm0yHa+7z9YObTIdr7vP1g5tMh2vu8/WDm0yHa+7z9aZDvfT43vP4GVQ4ts5+8/5dAi2/l+7j9YObTIdr7rP2Q730+Nl+4/AAAAAAAA8D8AAAAAAADwPwAAAAAAAPA/AAAAAAAA8D8AAAAAAADwPwAAAAAAAPA/AAAAAAAA8D8AAAAAAADwPwAAAAAAAPA/AAAAAAAA8D8AAAAAAADwPwAAAAAAAPA/AAAAAAAA8D8AAAAAAADwPw==",
          "dtype": "f8"
         },
         "y": {
          "bdata": "TDeJQWDl4D8UrkfhehTeP2IQWDm0yN4/YhBYObTI3j9OYhBYObTgP6wcWmQ73+8/16NwPQrX7z9aZDvfT43vPwAAAAAAAPA/gZVDi2zn7z+BlUOLbOfvPwAAAAAAAPA/K4cW2c737z8rhxbZzvfvPyuHFtnO9+8/K4cW2c737z8rhxbZzvfvPwAAAAAAAPA/2/l+arx07z9CYOXQItvtP2IQWDm0yO4/AAAAAAAA8D8AAAAAAADwPwAAAAAAAPA/AAAAAAAA8D8AAAAAAADwPwAAAAAAAPA/AAAAAAAA8D8AAAAAAADwPwAAAAAAAPA/AAAAAAAA8D8AAAAAAADwPwAAAAAAAPA/AAAAAAAA8D8AAAAAAADwPw==",
          "dtype": "f8"
         }
        },
        {
         "hovertemplate": "%{text}<br>Overall: %{x}<br>Food Poisoning: %{y}<extra></extra>",
         "mode": "markers",
         "name": "Food Poisoning",
         "text": [
          "due_date",
          "landmark",
          "intersection_street_1",
          "intersection_street_2",
          "facility_type",
          "cross_street_2",
          "cross_street_1",
          "bbl",
          "location_type",
          "street_name",
          "incident_address",
          "address_type",
          "longitude",
          "latitude",
          "x_coordinate_state_plane",
          "y_coordinate_state_plane",
          "city",
          "incident_zip",
          "resolution_description",
          "closed_date",
          "resolution_action_updated_date",
          "descriptor",
          "community_board",
          "park_borough",
          "borough",
          "unique_key",
          "created_date",
          "agency_name",
          "agency",
          "complaint_type",
          "status",
          "open_data_channel_type",
          "park_facility_name",
          "year",
          "month"
         ],
         "type": "scatter",
         "x": {
          "bdata": "pHA9Ctej4D9xPQrXo3DdP/hT46WbxOA/+FPjpZvE4D9vEoPAyqHhP+58PzVeuu0/7nw/NV667T9SuB6F61HsPwAAAAAAAPA/CtejcD0K7z8K16NwPQrvP1g5tMh2vu8/WDm0yHa+7z9YObTIdr7vP1g5tMh2vu8/WDm0yHa+7z9aZDvfT43vP4GVQ4ts5+8/5dAi2/l+7j9YObTIdr7rP2Q730+Nl+4/AAAAAAAA8D8AAAAAAADwPwAAAAAAAPA/AAAAAAAA8D8AAAAAAADwPwAAAAAAAPA/AAAAAAAA8D8AAAAAAADwPwAAAAAAAPA/AAAAAAAA8D8AAAAAAADwPwAAAAAAAPA/AAAAAAAA8D8AAAAAAADwPw==",
          "dtype": "f8"
         },
         "y": {
          "bdata": "/Knx0k1i5D8Sg8DKoUXWP28Sg8DKod0/bxKDwMqh3T8pXI/C9SjkP0SLbOf7qe0/bxKDwMqh7T9g5dAi2/nqPwAAAAAAAPA/eekmMQis7D956SYxCKzsP4GVQ4ts5+8/rkfhehSu7z+uR+F6FK7vP65H4XoUru8/rkfhehSu7z8EVg4tsp3vPy2yne+nxu8/PQrXo3A97j+wcmiR7XznPxKDwMqhRe4/AAAAAAAA8D8AAAAAAADwPwAAAAAAAPA/AAAAAAAA8D8AAAAAAADwPwAAAAAAAPA/AAAAAAAA8D8AAAAAAADwPwAAAAAAAPA/AAAAAAAA8D8AAAAAAADwPwAAAAAAAPA/AAAAAAAA8D8AAAAAAADwPw==",
          "dtype": "f8"
         }
        },
        {
         "hovertemplate": "%{text}<br>Overall: %{x}<br>Smoking: %{y}<extra></extra>",
         "mode": "markers",
         "name": "Smoking",
         "text": [
          "due_date",
          "landmark",
          "intersection_street_1",
          "intersection_street_2",
          "facility_type",
          "cross_street_2",
          "cross_street_1",
          "bbl",
          "location_type",
          "street_name",
          "incident_address",
          "address_type",
          "longitude",
          "latitude",
          "x_coordinate_state_plane",
          "y_coordinate_state_plane",
          "city",
          "incident_zip",
          "resolution_description",
          "closed_date",
          "resolution_action_updated_date",
          "descriptor",
          "community_board",
          "park_borough",
          "borough",
          "unique_key",
          "created_date",
          "agency_name",
          "agency",
          "complaint_type",
          "status",
          "open_data_channel_type",
          "park_facility_name",
          "year",
          "month"
         ],
         "type": "scatter",
         "x": {
          "bdata": "pHA9Ctej4D9xPQrXo3DdP/hT46WbxOA/+FPjpZvE4D9vEoPAyqHhP+58PzVeuu0/7nw/NV667T9SuB6F61HsPwAAAAAAAPA/CtejcD0K7z8K16NwPQrvP1g5tMh2vu8/WDm0yHa+7z9YObTIdr7vP1g5tMh2vu8/WDm0yHa+7z9aZDvfT43vP4GVQ4ts5+8/5dAi2/l+7j9YObTIdr7rP2Q730+Nl+4/AAAAAAAA8D8AAAAAAADwPwAAAAAAAPA/AAAAAAAA8D8AAAAAAADwPwAAAAAAAPA/AAAAAAAA8D8AAAAAAADwPwAAAAAAAPA/AAAAAAAA8D8AAAAAAADwPwAAAAAAAPA/AAAAAAAA8D8AAAAAAADwPw==",
          "dtype": "f8"
         },
         "y": {
          "bdata": "TmIQWDm04D+6SQwCK4feP+58PzVeuuE/7nw/NV664T8j2/l+arzcPwIrhxbZzu8/LbKd76fG7z+HFtnO91PvPwAAAAAAAPA/AiuHFtnO7z8CK4cW2c7vP1YOLbKd7+8/Vg4tsp3v7z9WDi2yne/vP1YOLbKd7+8/Vg4tsp3v7z8rhxbZzvfvPwAAAAAAAPA/K4cW2c737z/P91PjpZvkPyuHFtnO9+8/AAAAAAAA8D8AAAAAAADwPwAAAAAAAPA/AAAAAAAA8D8AAAAAAADwPwAAAAAAAPA/AAAAAAAA8D8AAAAAAADwPwAAAAAAAPA/AAAAAAAA8D8AAAAAAADwPwAAAAAAAPA/AAAAAAAA8D8AAAAAAADwPw==",
          "dtype": "f8"
         }
        },
        {
         "hovertemplate": "%{text}<br>Overall: %{x}<br>Unsanitary Animal Pvt Property: %{y}<extra></extra>",
         "mode": "markers",
         "name": "Unsanitary Animal Pvt Property",
         "text": [
          "due_date",
          "landmark",
          "intersection_street_1",
          "intersection_street_2",
          "facility_type",
          "cross_street_2",
          "cross_street_1",
          "bbl",
          "location_type",
          "street_name",
          "incident_address",
          "address_type",
          "longitude",
          "latitude",
          "x_coordinate_state_plane",
          "y_coordinate_state_plane",
          "city",
          "incident_zip",
          "resolution_description",
          "closed_date",
          "resolution_action_updated_date",
          "descriptor",
          "community_board",
          "park_borough",
          "borough",
          "unique_key",
          "created_date",
          "agency_name",
          "agency",
          "complaint_type",
          "status",
          "open_data_channel_type",
          "park_facility_name",
          "year",
          "month"
         ],
         "type": "scatter",
         "x": {
          "bdata": "pHA9Ctej4D9xPQrXo3DdP/hT46WbxOA/+FPjpZvE4D9vEoPAyqHhP+58PzVeuu0/7nw/NV667T9SuB6F61HsPwAAAAAAAPA/CtejcD0K7z8K16NwPQrvP1g5tMh2vu8/WDm0yHa+7z9YObTIdr7vP1g5tMh2vu8/WDm0yHa+7z9aZDvfT43vP4GVQ4ts5+8/5dAi2/l+7j9YObTIdr7rP2Q730+Nl+4/AAAAAAAA8D8AAAAAAADwPwAAAAAAAPA/AAAAAAAA8D8AAAAAAADwPwAAAAAAAPA/AAAAAAAA8D8AAAAAAADwPwAAAAAAAPA/AAAAAAAA8D8AAAAAAADwPwAAAAAAAPA/AAAAAAAA8D8AAAAAAADwPw==",
          "dtype": "f8"
         },
         "y": {
          "bdata": "BFYOLbKd4z9OYhBYObTYP5ZDi2zn+9k/lkOLbOf72T8Sg8DKoUXmP6wcWmQ73+8/rBxaZDvf7z/b+X5qvHTvPwAAAAAAAPA/gZVDi2zn7z+BlUOLbOfvPyuHFtnO9+8/K4cW2c737z8rhxbZzvfvPyuHFtnO9+8/K4cW2c737z8rhxbZzvfvPwAAAAAAAPA/YhBYObTI7j+wcmiR7XzrP7Kd76fGS+8/AAAAAAAA8D8AAAAAAADwPwAAAAAAAPA/AAAAAAAA8D8AAAAAAADwPwAAAAAAAPA/AAAAAAAA8D8AAAAAAADwPwAAAAAAAPA/AAAAAAAA8D8AAAAAAADwPwAAAAAAAPA/AAAAAAAA8D8AAAAAAADwPw==",
          "dtype": "f8"
         }
        },
        {
         "hovertemplate": "%{text}<br>Overall: %{x}<br>Standing Water: %{y}<extra></extra>",
         "mode": "markers",
         "name": "Standing Water",
         "text": [
          "due_date",
          "landmark",
          "intersection_street_1",
          "intersection_street_2",
          "facility_type",
          "cross_street_2",
          "cross_street_1",
          "bbl",
          "location_type",
          "street_name",
          "incident_address",
          "address_type",
          "longitude",
          "latitude",
          "x_coordinate_state_plane",
          "y_coordinate_state_plane",
          "city",
          "incident_zip",
          "resolution_description",
          "closed_date",
          "resolution_action_updated_date",
          "descriptor",
          "community_board",
          "park_borough",
          "borough",
          "unique_key",
          "created_date",
          "agency_name",
          "agency",
          "complaint_type",
          "status",
          "open_data_channel_type",
          "park_facility_name",
          "year",
          "month"
         ],
         "type": "scatter",
         "x": {
          "bdata": "pHA9Ctej4D9xPQrXo3DdP/hT46WbxOA/+FPjpZvE4D9vEoPAyqHhP+58PzVeuu0/7nw/NV667T9SuB6F61HsPwAAAAAAAPA/CtejcD0K7z8K16NwPQrvP1g5tMh2vu8/WDm0yHa+7z9YObTIdr7vP1g5tMh2vu8/WDm0yHa+7z9aZDvfT43vP4GVQ4ts5+8/5dAi2/l+7j9YObTIdr7rP2Q730+Nl+4/AAAAAAAA8D8AAAAAAADwPwAAAAAAAPA/AAAAAAAA8D8AAAAAAADwPwAAAAAAAPA/AAAAAAAA8D8AAAAAAADwPwAAAAAAAPA/AAAAAAAA8D8AAAAAAADwPwAAAAAAAPA/AAAAAAAA8D8AAAAAAADwPw==",
          "dtype": "f8"
         },
         "y": {
          "bdata": "i2zn+6nx5j+gGi/dJAbRP1TjpZvEINg/VOOlm8Qg2D/4U+Olm8ToP57vp8ZLN+0/c2iR7Xw/7T+JQWDl0CLrPwAAAAAAAPA/H4XrUbge7T8fhetRuB7tPwIrhxbZzu8/WDm0yHa+7z9YObTIdr7vP1g5tMh2vu8/WDm0yHa+7z8v3SQGgZXvP6wcWmQ73+8/7nw/NV667T81XrpJDALrPyuHFtnO9+s/AAAAAAAA8D8AAAAAAADwPwAAAAAAAPA/AAAAAAAA8D8AAAAAAADwPwAAAAAAAPA/AAAAAAAA8D8AAAAAAADwPwAAAAAAAPA/AAAAAAAA8D8AAAAAAADwPwAAAAAAAPA/AAAAAAAA8D8AAAAAAADwPw==",
          "dtype": "f8"
         }
        },
        {
         "hovertemplate": "%{text}<br>Overall: %{x}<br>Mobile Food Vendor: %{y}<extra></extra>",
         "mode": "markers",
         "name": "Mobile Food Vendor",
         "text": [
          "due_date",
          "landmark",
          "intersection_street_1",
          "intersection_street_2",
          "facility_type",
          "cross_street_2",
          "cross_street_1",
          "bbl",
          "location_type",
          "street_name",
          "incident_address",
          "address_type",
          "longitude",
          "latitude",
          "x_coordinate_state_plane",
          "y_coordinate_state_plane",
          "city",
          "incident_zip",
          "resolution_description",
          "closed_date",
          "resolution_action_updated_date",
          "descriptor",
          "community_board",
          "park_borough",
          "borough",
          "unique_key",
          "created_date",
          "agency_name",
          "agency",
          "complaint_type",
          "status",
          "open_data_channel_type",
          "park_facility_name",
          "year",
          "month"
         ],
         "type": "scatter",
         "x": {
          "bdata": "pHA9Ctej4D9xPQrXo3DdP/hT46WbxOA/+FPjpZvE4D9vEoPAyqHhP+58PzVeuu0/7nw/NV667T9SuB6F61HsPwAAAAAAAPA/CtejcD0K7z8K16NwPQrvP1g5tMh2vu8/WDm0yHa+7z9YObTIdr7vP1g5tMh2vu8/WDm0yHa+7z9aZDvfT43vP4GVQ4ts5+8/5dAi2/l+7j9YObTIdr7rP2Q730+Nl+4/AAAAAAAA8D8AAAAAAADwPwAAAAAAAPA/AAAAAAAA8D8AAAAAAADwPwAAAAAAAPA/AAAAAAAA8D8AAAAAAADwPwAAAAAAAPA/AAAAAAAA8D8AAAAAAADwPwAAAAAAAPA/AAAAAAAA8D8AAAAAAADwPw==",
          "dtype": "f8"
         },
         "y": {
          "bdata": "w/UoXI/CtT8rhxbZzvfnP99PjZduEu8/CtejcD0K7z8AAAAAAAAAAArXo3A9Cu8/30+Nl24S7z+LbOf7qfHmPwAAAAAAAPA/3SQGgZVD7z/dJAaBlUPvPwAAAAAAAPA/iUFg5dAi7z+JQWDl0CLvP4lBYOXQIu8/iUFg5dAi7z85tMh2vp/qPyuHFtnO9+8/2/l+arx07z+JQWDl0CLrP9v5fmq8dO8/AAAAAAAA8D8AAAAAAADwPwAAAAAAAPA/AAAAAAAA8D8AAAAAAADwPwAAAAAAAPA/AAAAAAAA8D8AAAAAAADwPwAAAAAAAPA/AAAAAAAA8D8AAAAAAADwPwAAAAAAAPA/AAAAAAAA8D8AAAAAAADwPw==",
          "dtype": "f8"
         }
        },
        {
         "hovertemplate": "%{text}<br>Overall: %{x}<br>Non-Residential Heat: %{y}<extra></extra>",
         "mode": "markers",
         "name": "Non-Residential Heat",
         "text": [
          "due_date",
          "landmark",
          "intersection_street_1",
          "intersection_street_2",
          "facility_type",
          "cross_street_2",
          "cross_street_1",
          "bbl",
          "location_type",
          "street_name",
          "incident_address",
          "address_type",
          "longitude",
          "latitude",
          "x_coordinate_state_plane",
          "y_coordinate_state_plane",
          "city",
          "incident_zip",
          "resolution_description",
          "closed_date",
          "resolution_action_updated_date",
          "descriptor",
          "community_board",
          "park_borough",
          "borough",
          "unique_key",
          "created_date",
          "agency_name",
          "agency",
          "complaint_type",
          "status",
          "open_data_channel_type",
          "park_facility_name",
          "year",
          "month"
         ],
         "type": "scatter",
         "x": {
          "bdata": "pHA9Ctej4D9xPQrXo3DdP/hT46WbxOA/+FPjpZvE4D9vEoPAyqHhP+58PzVeuu0/7nw/NV667T9SuB6F61HsPwAAAAAAAPA/CtejcD0K7z8K16NwPQrvP1g5tMh2vu8/WDm0yHa+7z9YObTIdr7vP1g5tMh2vu8/WDm0yHa+7z9aZDvfT43vP4GVQ4ts5+8/5dAi2/l+7j9YObTIdr7rP2Q730+Nl+4/AAAAAAAA8D8AAAAAAADwPwAAAAAAAPA/AAAAAAAA8D8AAAAAAADwPwAAAAAAAPA/AAAAAAAA8D8AAAAAAADwPwAAAAAAAPA/AAAAAAAA8D8AAAAAAADwPwAAAAAAAPA/AAAAAAAA8D8AAAAAAADwPw==",
          "dtype": "f8"
         },
         "y": {
          "bdata": "mG4Sg8DK5T8nMQisHFrUP6abxCCwctg//Knx0k1i2D8CK4cW2c7jPwIrhxbZzu8/16NwPQrX7z9g5dAi2/nuPwAAAAAAAPA/Vg4tsp3v7z9WDi2yne/vP4PAyqFFtu8/gZVDi2zn7z+BlUOLbOfvP4GVQ4ts5+8/gZVDi2zn7z8AAAAAAADwPwAAAAAAAPA/AAAAAAAA8D8CK4cW2c7fPwAAAAAAAPA/AAAAAAAA8D8AAAAAAADwPwAAAAAAAPA/AAAAAAAA8D8AAAAAAADwPwAAAAAAAPA/AAAAAAAA8D8AAAAAAADwPwAAAAAAAPA/AAAAAAAA8D8AAAAAAADwPwAAAAAAAPA/AAAAAAAA8D8AAAAAAADwPw==",
          "dtype": "f8"
         }
        },
        {
         "hovertemplate": "%{text}<br>Overall: %{x}<br>Unleashed Dog: %{y}<extra></extra>",
         "mode": "markers",
         "name": "Unleashed Dog",
         "text": [
          "due_date",
          "landmark",
          "intersection_street_1",
          "intersection_street_2",
          "facility_type",
          "cross_street_2",
          "cross_street_1",
          "bbl",
          "location_type",
          "street_name",
          "incident_address",
          "address_type",
          "longitude",
          "latitude",
          "x_coordinate_state_plane",
          "y_coordinate_state_plane",
          "city",
          "incident_zip",
          "resolution_description",
          "closed_date",
          "resolution_action_updated_date",
          "descriptor",
          "community_board",
          "park_borough",
          "borough",
          "unique_key",
          "created_date",
          "agency_name",
          "agency",
          "complaint_type",
          "status",
          "open_data_channel_type",
          "park_facility_name",
          "year",
          "month"
         ],
         "type": "scatter",
         "x": {
          "bdata": "pHA9Ctej4D9xPQrXo3DdP/hT46WbxOA/+FPjpZvE4D9vEoPAyqHhP+58PzVeuu0/7nw/NV667T9SuB6F61HsPwAAAAAAAPA/CtejcD0K7z8K16NwPQrvP1g5tMh2vu8/WDm0yHa+7z9YObTIdr7vP1g5tMh2vu8/WDm0yHa+7z9aZDvfT43vP4GVQ4ts5+8/5dAi2/l+7j9YObTIdr7rP2Q730+Nl+4/AAAAAAAA8D8AAAAAAADwPwAAAAAAAPA/AAAAAAAA8D8AAAAAAADwPwAAAAAAAPA/AAAAAAAA8D8AAAAAAADwPwAAAAAAAPA/AAAAAAAA8D8AAAAAAADwPwAAAAAAAPA/AAAAAAAA8D8AAAAAAADwPw==",
          "dtype": "f8"
         },
         "y": {
          "bdata": "cT0K16Nw3T+oxks3iUHgP166SQwCK+M/MzMzMzMz4z/jpZvEILDaPzEIrBxaZO8/XI/C9Shc7z/y0k1iEFjtPwAAAAAAAPA/XI/C9Shc7z9cj8L1KFzvPyuHFtnO9+8/LbKd76fG7z8tsp3vp8bvPy2yne+nxu8/LbKd76fG7z/fT42XbhLvPyuHFtnO9+8/bef7qfHS7T9iEFg5tMjeP1TjpZvEIOw/AAAAAAAA8D8AAAAAAADwPwAAAAAAAPA/AAAAAAAA8D8AAAAAAADwPwAAAAAAAPA/AAAAAAAA8D8AAAAAAADwPwAAAAAAAPA/AAAAAAAA8D8AAAAAAADwPwAAAAAAAPA/AAAAAAAA8D8AAAAAAADwPw==",
          "dtype": "f8"
         }
        },
        {
         "hovertemplate": "%{text}<br>Overall: %{x}<br>Indoor Sewage: %{y}<extra></extra>",
         "mode": "markers",
         "name": "Indoor Sewage",
         "text": [
          "due_date",
          "landmark",
          "intersection_street_1",
          "intersection_street_2",
          "facility_type",
          "cross_street_2",
          "cross_street_1",
          "bbl",
          "location_type",
          "street_name",
          "incident_address",
          "address_type",
          "longitude",
          "latitude",
          "x_coordinate_state_plane",
          "y_coordinate_state_plane",
          "city",
          "incident_zip",
          "resolution_description",
          "closed_date",
          "resolution_action_updated_date",
          "descriptor",
          "community_board",
          "park_borough",
          "borough",
          "unique_key",
          "created_date",
          "agency_name",
          "agency",
          "complaint_type",
          "status",
          "open_data_channel_type",
          "park_facility_name",
          "year",
          "month"
         ],
         "type": "scatter",
         "x": {
          "bdata": "pHA9Ctej4D9xPQrXo3DdP/hT46WbxOA/+FPjpZvE4D9vEoPAyqHhP+58PzVeuu0/7nw/NV667T9SuB6F61HsPwAAAAAAAPA/CtejcD0K7z8K16NwPQrvP1g5tMh2vu8/WDm0yHa+7z9YObTIdr7vP1g5tMh2vu8/WDm0yHa+7z9aZDvfT43vP4GVQ4ts5+8/5dAi2/l+7j9YObTIdr7rP2Q730+Nl+4/AAAAAAAA8D8AAAAAAADwPwAAAAAAAPA/AAAAAAAA8D8AAAAAAADwPwAAAAAAAPA/AAAAAAAA8D8AAAAAAADwPwAAAAAAAPA/AAAAAAAA8D8AAAAAAADwPwAAAAAAAPA/AAAAAAAA8D8AAAAAAADwPw==",
          "dtype": "f8"
         },
         "y": {
          "bdata": "arx0kxgE5j8rhxbZzvfTP8/3U+Olm9Q/z/dT46Wb1D8ZBFYOLbLlP4GVQ4ts5+8/Vg4tsp3v7z8v3SQGgZXvPwAAAAAAAPA/K4cW2c737z8rhxbZzvfvPyuHFtnO9+8/K4cW2c737z8rhxbZzvfvPyuHFtnO9+8/K4cW2c737z8AAAAAAADwPwAAAAAAAPA/46WbxCCw7j8dWmQ730/tP/LSTWIQWO0/AAAAAAAA8D8AAAAAAADwPwAAAAAAAPA/AAAAAAAA8D8AAAAAAADwPwAAAAAAAPA/AAAAAAAA8D8AAAAAAADwPwAAAAAAAPA/AAAAAAAA8D8AAAAAAADwPwAAAAAAAPA/AAAAAAAA8D8AAAAAAADwPw==",
          "dtype": "f8"
         }
        },
        {
         "hovertemplate": "%{text}<br>Overall: %{x}<br>Unsanitary Pigeon Condition: %{y}<extra></extra>",
         "mode": "markers",
         "name": "Unsanitary Pigeon Condition",
         "text": [
          "due_date",
          "landmark",
          "intersection_street_1",
          "intersection_street_2",
          "facility_type",
          "cross_street_2",
          "cross_street_1",
          "bbl",
          "location_type",
          "street_name",
          "incident_address",
          "address_type",
          "longitude",
          "latitude",
          "x_coordinate_state_plane",
          "y_coordinate_state_plane",
          "city",
          "incident_zip",
          "resolution_description",
          "closed_date",
          "resolution_action_updated_date",
          "descriptor",
          "community_board",
          "park_borough",
          "borough",
          "unique_key",
          "created_date",
          "agency_name",
          "agency",
          "complaint_type",
          "status",
          "open_data_channel_type",
          "park_facility_name",
          "year",
          "month"
         ],
         "type": "scatter",
         "x": {
          "bdata": "pHA9Ctej4D9xPQrXo3DdP/hT46WbxOA/+FPjpZvE4D9vEoPAyqHhP+58PzVeuu0/7nw/NV667T9SuB6F61HsPwAAAAAAAPA/CtejcD0K7z8K16NwPQrvP1g5tMh2vu8/WDm0yHa+7z9YObTIdr7vP1g5tMh2vu8/WDm0yHa+7z9aZDvfT43vP4GVQ4ts5+8/5dAi2/l+7j9YObTIdr7rP2Q730+Nl+4/AAAAAAAA8D8AAAAAAADwPwAAAAAAAPA/AAAAAAAA8D8AAAAAAADwPwAAAAAAAPA/AAAAAAAA8D8AAAAAAADwPwAAAAAAAPA/AAAAAAAA8D8AAAAAAADwPwAAAAAAAPA/AAAAAAAA8D8AAAAAAADwPw==",
          "dtype": "f8"
         },
         "y": {
          "bdata": "F9nO91Pj3T/4U+Olm8TgP0SLbOf7qeE/RIts5/up4T/RItv5fmrkPy2yne+nxu8/LbKd76fG7z9g5dAi2/nuPwAAAAAAAPA/LbKd76fG7z8tsp3vp8bvPyuHFtnO9+8/rBxaZDvf7z+sHFpkO9/vP6wcWmQ73+8/rBxaZDvf7z/Xo3A9CtfvPyuHFtnO9+8/aJHtfD817j8AAAAAAADsPwrXo3A9Cu8/AAAAAAAA8D8AAAAAAADwPwAAAAAAAPA/AAAAAAAA8D8AAAAAAADwPwAAAAAAAPA/AAAAAAAA8D8AAAAAAADwPwAAAAAAAPA/AAAAAAAA8D8AAAAAAADwPwAAAAAAAPA/AAAAAAAA8D8AAAAAAADwPw==",
          "dtype": "f8"
         }
        },
        {
         "hovertemplate": "%{text}<br>Overall: %{x}<br>Day Care: %{y}<extra></extra>",
         "mode": "markers",
         "name": "Day Care",
         "text": [
          "due_date",
          "landmark",
          "intersection_street_1",
          "intersection_street_2",
          "facility_type",
          "cross_street_2",
          "cross_street_1",
          "bbl",
          "location_type",
          "street_name",
          "incident_address",
          "address_type",
          "longitude",
          "latitude",
          "x_coordinate_state_plane",
          "y_coordinate_state_plane",
          "city",
          "incident_zip",
          "resolution_description",
          "closed_date",
          "resolution_action_updated_date",
          "descriptor",
          "community_board",
          "park_borough",
          "borough",
          "unique_key",
          "created_date",
          "agency_name",
          "agency",
          "complaint_type",
          "status",
          "open_data_channel_type",
          "park_facility_name",
          "year",
          "month"
         ],
         "type": "scatter",
         "x": {
          "bdata": "pHA9Ctej4D9xPQrXo3DdP/hT46WbxOA/+FPjpZvE4D9vEoPAyqHhP+58PzVeuu0/7nw/NV667T9SuB6F61HsPwAAAAAAAPA/CtejcD0K7z8K16NwPQrvP1g5tMh2vu8/WDm0yHa+7z9YObTIdr7vP1g5tMh2vu8/WDm0yHa+7z9aZDvfT43vP4GVQ4ts5+8/5dAi2/l+7j9YObTIdr7rP2Q730+Nl+4/AAAAAAAA8D8AAAAAAADwPwAAAAAAAPA/AAAAAAAA8D8AAAAAAADwPwAAAAAAAPA/AAAAAAAA8D8AAAAAAADwPwAAAAAAAPA/AAAAAAAA8D8AAAAAAADwPwAAAAAAAPA/AAAAAAAA8D8AAAAAAADwPw==",
          "dtype": "f8"
         },
         "y": {
          "bdata": "rkfhehSuxz+amZmZmZnpP4PAyqFFtus/g8DKoUW26z+oxks3iUHAPy/dJAaBle8/L90kBoGV7z9kO99PjZfuPwAAAAAAAPA/L90kBoGV7z8v3SQGgZXvP+kmMQisHO4/2c73U+Ol7z/ZzvdT46XvP9nO91Pjpe8/2c73U+Ol7z+F61G4HoXvP65H4XoUru8/K4cW2c737z+BlUOLbOfrP4GVQ4ts5+s/AAAAAAAA8D8AAAAAAADwPwAAAAAAAPA/AAAAAAAA8D8AAAAAAADwPwAAAAAAAPA/AAAAAAAA8D8AAAAAAADwPwAAAAAAAPA/AAAAAAAA8D8AAAAAAADwPwAAAAAAAPA/AAAAAAAA8D8AAAAAAADwPw==",
          "dtype": "f8"
         }
        },
        {
         "hovertemplate": "%{text}<br>Overall: %{x}<br>Asbestos: %{y}<extra></extra>",
         "mode": "markers",
         "name": "Asbestos",
         "text": [
          "due_date",
          "landmark",
          "intersection_street_1",
          "intersection_street_2",
          "facility_type",
          "cross_street_2",
          "cross_street_1",
          "bbl",
          "location_type",
          "street_name",
          "incident_address",
          "address_type",
          "longitude",
          "latitude",
          "x_coordinate_state_plane",
          "y_coordinate_state_plane",
          "city",
          "incident_zip",
          "resolution_description",
          "closed_date",
          "resolution_action_updated_date",
          "descriptor",
          "community_board",
          "park_borough",
          "borough",
          "unique_key",
          "created_date",
          "agency_name",
          "agency",
          "complaint_type",
          "status",
          "open_data_channel_type",
          "park_facility_name",
          "year",
          "month"
         ],
         "type": "scatter",
         "x": {
          "bdata": "pHA9Ctej4D9xPQrXo3DdP/hT46WbxOA/+FPjpZvE4D9vEoPAyqHhP+58PzVeuu0/7nw/NV667T9SuB6F61HsPwAAAAAAAPA/CtejcD0K7z8K16NwPQrvP1g5tMh2vu8/WDm0yHa+7z9YObTIdr7vP1g5tMh2vu8/WDm0yHa+7z9aZDvfT43vP4GVQ4ts5+8/5dAi2/l+7j9YObTIdr7rP2Q730+Nl+4/AAAAAAAA8D8AAAAAAADwPwAAAAAAAPA/AAAAAAAA8D8AAAAAAADwPwAAAAAAAPA/AAAAAAAA8D8AAAAAAADwPwAAAAAAAPA/AAAAAAAA8D8AAAAAAADwPwAAAAAAAPA/AAAAAAAA8D8AAAAAAADwPw==",
          "dtype": "f8"
         },
         "y": {
          "bdata": "CtejcD0K4z9Ei2zn+6nZP42XbhKDwNo/N4lBYOXQ2j+Nl24Sg8DiP4PAyqFFtu8/WDm0yHa+7z8zMzMzMzPvPwAAAAAAAPA/g8DKoUW27z+DwMqhRbbvPwAAAAAAAPA/K4cW2c737z8rhxbZzvfvPyuHFtnO9+8/K4cW2c737z+BlUOLbOfvPwAAAAAAAPA/arx0kxgE7j85tMh2vp/uPwrXo3A9Cu8/AAAAAAAA8D8AAAAAAADwPwAAAAAAAPA/AAAAAAAA8D8AAAAAAADwPwAAAAAAAPA/AAAAAAAA8D8AAAAAAADwPwAAAAAAAPA/AAAAAAAA8D8AAAAAAADwPwAAAAAAAPA/AAAAAAAA8D8AAAAAAADwPw==",
          "dtype": "f8"
         }
        },
        {
         "hovertemplate": "%{text}<br>Overall: %{x}<br>Smoking or Vaping: %{y}<extra></extra>",
         "mode": "markers",
         "name": "Smoking or Vaping",
         "text": [
          "due_date",
          "landmark",
          "intersection_street_1",
          "intersection_street_2",
          "facility_type",
          "cross_street_2",
          "cross_street_1",
          "bbl",
          "location_type",
          "street_name",
          "incident_address",
          "address_type",
          "longitude",
          "latitude",
          "x_coordinate_state_plane",
          "y_coordinate_state_plane",
          "city",
          "incident_zip",
          "resolution_description",
          "closed_date",
          "resolution_action_updated_date",
          "descriptor",
          "community_board",
          "park_borough",
          "borough",
          "unique_key",
          "created_date",
          "agency_name",
          "agency",
          "complaint_type",
          "status",
          "open_data_channel_type",
          "park_facility_name",
          "year",
          "month"
         ],
         "type": "scatter",
         "x": {
          "bdata": "pHA9Ctej4D9xPQrXo3DdP/hT46WbxOA/+FPjpZvE4D9vEoPAyqHhP+58PzVeuu0/7nw/NV667T9SuB6F61HsPwAAAAAAAPA/CtejcD0K7z8K16NwPQrvP1g5tMh2vu8/WDm0yHa+7z9YObTIdr7vP1g5tMh2vu8/WDm0yHa+7z9aZDvfT43vP4GVQ4ts5+8/5dAi2/l+7j9YObTIdr7rP2Q730+Nl+4/AAAAAAAA8D8AAAAAAADwPwAAAAAAAPA/AAAAAAAA8D8AAAAAAADwPwAAAAAAAPA/AAAAAAAA8D8AAAAAAADwPwAAAAAAAPA/AAAAAAAA8D8AAAAAAADwPwAAAAAAAPA/AAAAAAAA8D8AAAAAAADwPw==",
          "dtype": "f8"
         },
         "y": {
          "bdata": "AAAAAAAAAABWDi2yne/vP1YOLbKd7+8/K4cW2c737z8AAAAAAAAAACuHFtnO9+8/Vg4tsp3v7z+uR+F6FK7vPwAAAAAAAPA/AAAAAAAA8D8AAAAAAADwPwAAAAAAAPA/AAAAAAAA8D8AAAAAAADwPwAAAAAAAPA/AAAAAAAA8D9WDi2yne/vPwAAAAAAAPA/hxbZzvdT7z/Jdr6fGi/tP4cW2c73U+8/AAAAAAAA8D8AAAAAAADwPwAAAAAAAPA/AAAAAAAA8D8AAAAAAADwPwAAAAAAAPA/AAAAAAAA8D8AAAAAAADwPwAAAAAAAPA/AAAAAAAA8D8AAAAAAADwPwAAAAAAAPA/AAAAAAAA8D8AAAAAAADwPw==",
          "dtype": "f8"
         }
        },
        {
         "hovertemplate": "%{text}<br>Overall: %{x}<br>Vaccine Mandate Non-Compliance: %{y}<extra></extra>",
         "mode": "markers",
         "name": "Vaccine Mandate Non-Compliance",
         "text": [
          "due_date",
          "landmark",
          "intersection_street_1",
          "intersection_street_2",
          "facility_type",
          "cross_street_2",
          "cross_street_1",
          "bbl",
          "location_type",
          "street_name",
          "incident_address",
          "address_type",
          "longitude",
          "latitude",
          "x_coordinate_state_plane",
          "y_coordinate_state_plane",
          "city",
          "incident_zip",
          "resolution_description",
          "closed_date",
          "resolution_action_updated_date",
          "descriptor",
          "community_board",
          "park_borough",
          "borough",
          "unique_key",
          "created_date",
          "agency_name",
          "agency",
          "complaint_type",
          "status",
          "open_data_channel_type",
          "park_facility_name",
          "year",
          "month"
         ],
         "type": "scatter",
         "x": {
          "bdata": "pHA9Ctej4D9xPQrXo3DdP/hT46WbxOA/+FPjpZvE4D9vEoPAyqHhP+58PzVeuu0/7nw/NV667T9SuB6F61HsPwAAAAAAAPA/CtejcD0K7z8K16NwPQrvP1g5tMh2vu8/WDm0yHa+7z9YObTIdr7vP1g5tMh2vu8/WDm0yHa+7z9aZDvfT43vP4GVQ4ts5+8/5dAi2/l+7j9YObTIdr7rP2Q730+Nl+4/AAAAAAAA8D8AAAAAAADwPwAAAAAAAPA/AAAAAAAA8D8AAAAAAADwPwAAAAAAAPA/AAAAAAAA8D8AAAAAAADwPwAAAAAAAPA/AAAAAAAA8D8AAAAAAADwPwAAAAAAAPA/AAAAAAAA8D8AAAAAAADwPw==",
          "dtype": "f8"
         },
         "y": {
          "bdata": "AAAAAAAAAAAAAAAAAADwP4GVQ4ts5+8/AAAAAAAA8D8AAAAAAAAAAAAAAAAAAPA/gZVDi2zn7z9cj8L1KFzvPwAAAAAAAPA/AAAAAAAA8D8AAAAAAADwPzEIrBxaZOs/AAAAAAAA8D8AAAAAAADwPwAAAAAAAPA/AAAAAAAA8D8AAAAAAADwPwAAAAAAAPA/AAAAAAAA8D8AAAAAAADwPwAAAAAAAPA/AAAAAAAA8D8AAAAAAADwPwAAAAAAAPA/AAAAAAAA8D8AAAAAAADwPwAAAAAAAPA/AAAAAAAA8D8AAAAAAADwPwAAAAAAAPA/AAAAAAAA8D8AAAAAAADwPwAAAAAAAPA/AAAAAAAA8D8AAAAAAADwPw==",
          "dtype": "f8"
         }
        },
        {
         "hovertemplate": "%{text}<br>Overall: %{x}<br>Construction Lead Dust: %{y}<extra></extra>",
         "mode": "markers",
         "name": "Construction Lead Dust",
         "text": [
          "due_date",
          "landmark",
          "intersection_street_1",
          "intersection_street_2",
          "facility_type",
          "cross_street_2",
          "cross_street_1",
          "bbl",
          "location_type",
          "street_name",
          "incident_address",
          "address_type",
          "longitude",
          "latitude",
          "x_coordinate_state_plane",
          "y_coordinate_state_plane",
          "city",
          "incident_zip",
          "resolution_description",
          "closed_date",
          "resolution_action_updated_date",
          "descriptor",
          "community_board",
          "park_borough",
          "borough",
          "unique_key",
          "created_date",
          "agency_name",
          "agency",
          "complaint_type",
          "status",
          "open_data_channel_type",
          "park_facility_name",
          "year",
          "month"
         ],
         "type": "scatter",
         "x": {
          "bdata": "pHA9Ctej4D9xPQrXo3DdP/hT46WbxOA/+FPjpZvE4D9vEoPAyqHhP+58PzVeuu0/7nw/NV667T9SuB6F61HsPwAAAAAAAPA/CtejcD0K7z8K16NwPQrvP1g5tMh2vu8/WDm0yHa+7z9YObTIdr7vP1g5tMh2vu8/WDm0yHa+7z9aZDvfT43vP4GVQ4ts5+8/5dAi2/l+7j9YObTIdr7rP2Q730+Nl+4/AAAAAAAA8D8AAAAAAADwPwAAAAAAAPA/AAAAAAAA8D8AAAAAAADwPwAAAAAAAPA/AAAAAAAA8D8AAAAAAADwPwAAAAAAAPA/AAAAAAAA8D8AAAAAAADwPwAAAAAAAPA/AAAAAAAA8D8AAAAAAADwPw==",
          "dtype": "f8"
         },
         "y": {
          "bdata": "AAAAAAAAAAArhxbZzvfvP6wcWmQ73+8/Vg4tsp3v7z8AAAAAAAAAAFYOLbKd7+8/rBxaZDvf7z+DwMqhRbbvPwAAAAAAAPA/AAAAAAAA8D8AAAAAAADwPyuHFtnO9+8/AAAAAAAA8D8AAAAAAADwPwAAAAAAAPA/AAAAAAAA8D8rhxbZzvfvPwAAAAAAAPA/+n5qvHSTaD/8qfHSTWJgP/p+arx0k2g/AAAAAAAA8D8AAAAAAADwPwAAAAAAAPA/AAAAAAAA8D8AAAAAAADwPwAAAAAAAPA/AAAAAAAA8D8AAAAAAADwPwAAAAAAAPA/AAAAAAAA8D8AAAAAAADwPwAAAAAAAPA/AAAAAAAA8D8AAAAAAADwPw==",
          "dtype": "f8"
         }
        },
        {
         "hovertemplate": "%{text}<br>Overall: %{x}<br>Illegal Animal Kept as Pet: %{y}<extra></extra>",
         "mode": "markers",
         "name": "Illegal Animal Kept as Pet",
         "text": [
          "due_date",
          "landmark",
          "intersection_street_1",
          "intersection_street_2",
          "facility_type",
          "cross_street_2",
          "cross_street_1",
          "bbl",
          "location_type",
          "street_name",
          "incident_address",
          "address_type",
          "longitude",
          "latitude",
          "x_coordinate_state_plane",
          "y_coordinate_state_plane",
          "city",
          "incident_zip",
          "resolution_description",
          "closed_date",
          "resolution_action_updated_date",
          "descriptor",
          "community_board",
          "park_borough",
          "borough",
          "unique_key",
          "created_date",
          "agency_name",
          "agency",
          "complaint_type",
          "status",
          "open_data_channel_type",
          "park_facility_name",
          "year",
          "month"
         ],
         "type": "scatter",
         "x": {
          "bdata": "pHA9Ctej4D9xPQrXo3DdP/hT46WbxOA/+FPjpZvE4D9vEoPAyqHhP+58PzVeuu0/7nw/NV667T9SuB6F61HsPwAAAAAAAPA/CtejcD0K7z8K16NwPQrvP1g5tMh2vu8/WDm0yHa+7z9YObTIdr7vP1g5tMh2vu8/WDm0yHa+7z9aZDvfT43vP4GVQ4ts5+8/5dAi2/l+7j9YObTIdr7rP2Q730+Nl+4/AAAAAAAA8D8AAAAAAADwPwAAAAAAAPA/AAAAAAAA8D8AAAAAAADwPwAAAAAAAPA/AAAAAAAA8D8AAAAAAADwPwAAAAAAAPA/AAAAAAAA8D8AAAAAAADwPwAAAAAAAPA/AAAAAAAA8D8AAAAAAADwPw==",
          "dtype": "f8"
         },
         "y": {
          "bdata": "hxbZzvdT2z9CYOXQItvhP39qvHSTGOQ/qvHSTWIQ5D9QjZduEoPYP4XrUbgehe8/WmQ730+N7z/n+6nx0k3uPwAAAAAAAPA/BFYOLbKd7z8EVg4tsp3vPwAAAAAAAPA/gZVDi2zn7z+BlUOLbOfvP4GVQ4ts5+8/gZVDi2zn7z+F61G4HoXvPyuHFtnO9+8/L90kBoGV5z/dJAaBlUPbP/Cnxks3ieU/AAAAAAAA8D8AAAAAAADwPwAAAAAAAPA/AAAAAAAA8D8AAAAAAADwPwAAAAAAAPA/AAAAAAAA8D8AAAAAAADwPwAAAAAAAPA/AAAAAAAA8D8AAAAAAADwPwAAAAAAAPA/AAAAAAAA8D8AAAAAAADwPw==",
          "dtype": "f8"
         }
        },
        {
         "hovertemplate": "%{text}<br>Overall: %{x}<br>Mosquitoes: %{y}<extra></extra>",
         "mode": "markers",
         "name": "Mosquitoes",
         "text": [
          "due_date",
          "landmark",
          "intersection_street_1",
          "intersection_street_2",
          "facility_type",
          "cross_street_2",
          "cross_street_1",
          "bbl",
          "location_type",
          "street_name",
          "incident_address",
          "address_type",
          "longitude",
          "latitude",
          "x_coordinate_state_plane",
          "y_coordinate_state_plane",
          "city",
          "incident_zip",
          "resolution_description",
          "closed_date",
          "resolution_action_updated_date",
          "descriptor",
          "community_board",
          "park_borough",
          "borough",
          "unique_key",
          "created_date",
          "agency_name",
          "agency",
          "complaint_type",
          "status",
          "open_data_channel_type",
          "park_facility_name",
          "year",
          "month"
         ],
         "type": "scatter",
         "x": {
          "bdata": "pHA9Ctej4D9xPQrXo3DdP/hT46WbxOA/+FPjpZvE4D9vEoPAyqHhP+58PzVeuu0/7nw/NV667T9SuB6F61HsPwAAAAAAAPA/CtejcD0K7z8K16NwPQrvP1g5tMh2vu8/WDm0yHa+7z9YObTIdr7vP1g5tMh2vu8/WDm0yHa+7z9aZDvfT43vP4GVQ4ts5+8/5dAi2/l+7j9YObTIdr7rP2Q730+Nl+4/AAAAAAAA8D8AAAAAAADwPwAAAAAAAPA/AAAAAAAA8D8AAAAAAADwPwAAAAAAAPA/AAAAAAAA8D8AAAAAAADwPwAAAAAAAPA/AAAAAAAA8D8AAAAAAADwPwAAAAAAAPA/AAAAAAAA8D8AAAAAAADwPw==",
          "dtype": "f8"
         },
         "y": {
          "bdata": "tMh2vp8a3z9xPQrXo3DdP99PjZduEuc/CtejcD0K5z/HSzeJQWDVP+kmMQisHO4/vp8aL90k7j9t5/up8dLpPwAAAAAAAPA/8tJNYhBY7T/y0k1iEFjtP0w3iUFg5eg/Di2yne+n7j8OLbKd76fuPw4tsp3vp+4/Di2yne+n7j+WQ4ts5/vtPwIrhxbZzu8/AAAAAAAA8D/y0k1iEFjlP/LSTWIQWOU/AAAAAAAA8D8AAAAAAADwPwAAAAAAAPA/AAAAAAAA8D8AAAAAAADwPwAAAAAAAPA/AAAAAAAA8D8AAAAAAADwPwAAAAAAAPA/AAAAAAAA8D8AAAAAAADwPwAAAAAAAPA/AAAAAAAA8D8AAAAAAADwPw==",
          "dtype": "f8"
         }
        },
        {
         "hovertemplate": "%{text}<br>Overall: %{x}<br>Mold: %{y}<extra></extra>",
         "mode": "markers",
         "name": "Mold",
         "text": [
          "due_date",
          "landmark",
          "intersection_street_1",
          "intersection_street_2",
          "facility_type",
          "cross_street_2",
          "cross_street_1",
          "bbl",
          "location_type",
          "street_name",
          "incident_address",
          "address_type",
          "longitude",
          "latitude",
          "x_coordinate_state_plane",
          "y_coordinate_state_plane",
          "city",
          "incident_zip",
          "resolution_description",
          "closed_date",
          "resolution_action_updated_date",
          "descriptor",
          "community_board",
          "park_borough",
          "borough",
          "unique_key",
          "created_date",
          "agency_name",
          "agency",
          "complaint_type",
          "status",
          "open_data_channel_type",
          "park_facility_name",
          "year",
          "month"
         ],
         "type": "scatter",
         "x": {
          "bdata": "pHA9Ctej4D9xPQrXo3DdP/hT46WbxOA/+FPjpZvE4D9vEoPAyqHhP+58PzVeuu0/7nw/NV667T9SuB6F61HsPwAAAAAAAPA/CtejcD0K7z8K16NwPQrvP1g5tMh2vu8/WDm0yHa+7z9YObTIdr7vP1g5tMh2vu8/WDm0yHa+7z9aZDvfT43vP4GVQ4ts5+8/5dAi2/l+7j9YObTIdr7rP2Q730+Nl+4/AAAAAAAA8D8AAAAAAADwPwAAAAAAAPA/AAAAAAAA8D8AAAAAAADwPwAAAAAAAPA/AAAAAAAA8D8AAAAAAADwPwAAAAAAAPA/AAAAAAAA8D8AAAAAAADwPwAAAAAAAPA/AAAAAAAA8D8AAAAAAADwPw==",
          "dtype": "f8"
         },
         "y": {
          "bdata": "L90kBoGV4z/4U+Olm8TYPzeJQWDl0No/jZduEoPA2j9cj8L1KFzjPwaBlUOLbO8/BoGVQ4ts7z+8dJMYBFbuPwAAAAAAAPA/XI/C9Shc7z9cj8L1KFzvPyuHFtnO9+8/gZVDi2zn7z+BlUOLbOfvP4GVQ4ts5+8/gZVDi2zn7z8rhxbZzvfvPyuHFtnO9+8/i2zn+6nx7j/FILByaJHtPxKDwMqhRe4/AAAAAAAA8D8AAAAAAADwPwAAAAAAAPA/AAAAAAAA8D8AAAAAAADwPwAAAAAAAPA/AAAAAAAA8D8AAAAAAADwPwAAAAAAAPA/AAAAAAAA8D8AAAAAAADwPwAAAAAAAPA/AAAAAAAA8D8AAAAAAADwPw==",
          "dtype": "f8"
         }
        },
        {
         "line": {
          "color": "gray",
          "dash": "dash"
         },
         "mode": "lines",
         "name": "Perfect Match",
         "type": "scatter",
         "x": [
          0,
          1
         ],
         "y": [
          0,
          1
         ]
        }
       ],
       "layout": {
        "showlegend": true,
        "template": {
         "data": {
          "bar": [
           {
            "error_x": {
             "color": "#2a3f5f"
            },
            "error_y": {
             "color": "#2a3f5f"
            },
            "marker": {
             "line": {
              "color": "#E5ECF6",
              "width": 0.5
             },
             "pattern": {
              "fillmode": "overlay",
              "size": 10,
              "solidity": 0.2
             }
            },
            "type": "bar"
           }
          ],
          "barpolar": [
           {
            "marker": {
             "line": {
              "color": "#E5ECF6",
              "width": 0.5
             },
             "pattern": {
              "fillmode": "overlay",
              "size": 10,
              "solidity": 0.2
             }
            },
            "type": "barpolar"
           }
          ],
          "carpet": [
           {
            "aaxis": {
             "endlinecolor": "#2a3f5f",
             "gridcolor": "white",
             "linecolor": "white",
             "minorgridcolor": "white",
             "startlinecolor": "#2a3f5f"
            },
            "baxis": {
             "endlinecolor": "#2a3f5f",
             "gridcolor": "white",
             "linecolor": "white",
             "minorgridcolor": "white",
             "startlinecolor": "#2a3f5f"
            },
            "type": "carpet"
           }
          ],
          "choropleth": [
           {
            "colorbar": {
             "outlinewidth": 0,
             "ticks": ""
            },
            "type": "choropleth"
           }
          ],
          "contour": [
           {
            "colorbar": {
             "outlinewidth": 0,
             "ticks": ""
            },
            "colorscale": [
             [
              0,
              "#0d0887"
             ],
             [
              0.1111111111111111,
              "#46039f"
             ],
             [
              0.2222222222222222,
              "#7201a8"
             ],
             [
              0.3333333333333333,
              "#9c179e"
             ],
             [
              0.4444444444444444,
              "#bd3786"
             ],
             [
              0.5555555555555556,
              "#d8576b"
             ],
             [
              0.6666666666666666,
              "#ed7953"
             ],
             [
              0.7777777777777778,
              "#fb9f3a"
             ],
             [
              0.8888888888888888,
              "#fdca26"
             ],
             [
              1,
              "#f0f921"
             ]
            ],
            "type": "contour"
           }
          ],
          "contourcarpet": [
           {
            "colorbar": {
             "outlinewidth": 0,
             "ticks": ""
            },
            "type": "contourcarpet"
           }
          ],
          "heatmap": [
           {
            "colorbar": {
             "outlinewidth": 0,
             "ticks": ""
            },
            "colorscale": [
             [
              0,
              "#0d0887"
             ],
             [
              0.1111111111111111,
              "#46039f"
             ],
             [
              0.2222222222222222,
              "#7201a8"
             ],
             [
              0.3333333333333333,
              "#9c179e"
             ],
             [
              0.4444444444444444,
              "#bd3786"
             ],
             [
              0.5555555555555556,
              "#d8576b"
             ],
             [
              0.6666666666666666,
              "#ed7953"
             ],
             [
              0.7777777777777778,
              "#fb9f3a"
             ],
             [
              0.8888888888888888,
              "#fdca26"
             ],
             [
              1,
              "#f0f921"
             ]
            ],
            "type": "heatmap"
           }
          ],
          "histogram": [
           {
            "marker": {
             "pattern": {
              "fillmode": "overlay",
              "size": 10,
              "solidity": 0.2
             }
            },
            "type": "histogram"
           }
          ],
          "histogram2d": [
           {
            "colorbar": {
             "outlinewidth": 0,
             "ticks": ""
            },
            "colorscale": [
             [
              0,
              "#0d0887"
             ],
             [
              0.1111111111111111,
              "#46039f"
             ],
             [
              0.2222222222222222,
              "#7201a8"
             ],
             [
              0.3333333333333333,
              "#9c179e"
             ],
             [
              0.4444444444444444,
              "#bd3786"
             ],
             [
              0.5555555555555556,
              "#d8576b"
             ],
             [
              0.6666666666666666,
              "#ed7953"
             ],
             [
              0.7777777777777778,
              "#fb9f3a"
             ],
             [
              0.8888888888888888,
              "#fdca26"
             ],
             [
              1,
              "#f0f921"
             ]
            ],
            "type": "histogram2d"
           }
          ],
          "histogram2dcontour": [
           {
            "colorbar": {
             "outlinewidth": 0,
             "ticks": ""
            },
            "colorscale": [
             [
              0,
              "#0d0887"
             ],
             [
              0.1111111111111111,
              "#46039f"
             ],
             [
              0.2222222222222222,
              "#7201a8"
             ],
             [
              0.3333333333333333,
              "#9c179e"
             ],
             [
              0.4444444444444444,
              "#bd3786"
             ],
             [
              0.5555555555555556,
              "#d8576b"
             ],
             [
              0.6666666666666666,
              "#ed7953"
             ],
             [
              0.7777777777777778,
              "#fb9f3a"
             ],
             [
              0.8888888888888888,
              "#fdca26"
             ],
             [
              1,
              "#f0f921"
             ]
            ],
            "type": "histogram2dcontour"
           }
          ],
          "mesh3d": [
           {
            "colorbar": {
             "outlinewidth": 0,
             "ticks": ""
            },
            "type": "mesh3d"
           }
          ],
          "parcoords": [
           {
            "line": {
             "colorbar": {
              "outlinewidth": 0,
              "ticks": ""
             }
            },
            "type": "parcoords"
           }
          ],
          "pie": [
           {
            "automargin": true,
            "type": "pie"
           }
          ],
          "scatter": [
           {
            "fillpattern": {
             "fillmode": "overlay",
             "size": 10,
             "solidity": 0.2
            },
            "type": "scatter"
           }
          ],
          "scatter3d": [
           {
            "line": {
             "colorbar": {
              "outlinewidth": 0,
              "ticks": ""
             }
            },
            "marker": {
             "colorbar": {
              "outlinewidth": 0,
              "ticks": ""
             }
            },
            "type": "scatter3d"
           }
          ],
          "scattercarpet": [
           {
            "marker": {
             "colorbar": {
              "outlinewidth": 0,
              "ticks": ""
             }
            },
            "type": "scattercarpet"
           }
          ],
          "scattergeo": [
           {
            "marker": {
             "colorbar": {
              "outlinewidth": 0,
              "ticks": ""
             }
            },
            "type": "scattergeo"
           }
          ],
          "scattergl": [
           {
            "marker": {
             "colorbar": {
              "outlinewidth": 0,
              "ticks": ""
             }
            },
            "type": "scattergl"
           }
          ],
          "scattermap": [
           {
            "marker": {
             "colorbar": {
              "outlinewidth": 0,
              "ticks": ""
             }
            },
            "type": "scattermap"
           }
          ],
          "scattermapbox": [
           {
            "marker": {
             "colorbar": {
              "outlinewidth": 0,
              "ticks": ""
             }
            },
            "type": "scattermapbox"
           }
          ],
          "scatterpolar": [
           {
            "marker": {
             "colorbar": {
              "outlinewidth": 0,
              "ticks": ""
             }
            },
            "type": "scatterpolar"
           }
          ],
          "scatterpolargl": [
           {
            "marker": {
             "colorbar": {
              "outlinewidth": 0,
              "ticks": ""
             }
            },
            "type": "scatterpolargl"
           }
          ],
          "scatterternary": [
           {
            "marker": {
             "colorbar": {
              "outlinewidth": 0,
              "ticks": ""
             }
            },
            "type": "scatterternary"
           }
          ],
          "surface": [
           {
            "colorbar": {
             "outlinewidth": 0,
             "ticks": ""
            },
            "colorscale": [
             [
              0,
              "#0d0887"
             ],
             [
              0.1111111111111111,
              "#46039f"
             ],
             [
              0.2222222222222222,
              "#7201a8"
             ],
             [
              0.3333333333333333,
              "#9c179e"
             ],
             [
              0.4444444444444444,
              "#bd3786"
             ],
             [
              0.5555555555555556,
              "#d8576b"
             ],
             [
              0.6666666666666666,
              "#ed7953"
             ],
             [
              0.7777777777777778,
              "#fb9f3a"
             ],
             [
              0.8888888888888888,
              "#fdca26"
             ],
             [
              1,
              "#f0f921"
             ]
            ],
            "type": "surface"
           }
          ],
          "table": [
           {
            "cells": {
             "fill": {
              "color": "#EBF0F8"
             },
             "line": {
              "color": "white"
             }
            },
            "header": {
             "fill": {
              "color": "#C8D4E3"
             },
             "line": {
              "color": "white"
             }
            },
            "type": "table"
           }
          ]
         },
         "layout": {
          "annotationdefaults": {
           "arrowcolor": "#2a3f5f",
           "arrowhead": 0,
           "arrowwidth": 1
          },
          "autotypenumbers": "strict",
          "coloraxis": {
           "colorbar": {
            "outlinewidth": 0,
            "ticks": ""
           }
          },
          "colorscale": {
           "diverging": [
            [
             0,
             "#8e0152"
            ],
            [
             0.1,
             "#c51b7d"
            ],
            [
             0.2,
             "#de77ae"
            ],
            [
             0.3,
             "#f1b6da"
            ],
            [
             0.4,
             "#fde0ef"
            ],
            [
             0.5,
             "#f7f7f7"
            ],
            [
             0.6,
             "#e6f5d0"
            ],
            [
             0.7,
             "#b8e186"
            ],
            [
             0.8,
             "#7fbc41"
            ],
            [
             0.9,
             "#4d9221"
            ],
            [
             1,
             "#276419"
            ]
           ],
           "sequential": [
            [
             0,
             "#0d0887"
            ],
            [
             0.1111111111111111,
             "#46039f"
            ],
            [
             0.2222222222222222,
             "#7201a8"
            ],
            [
             0.3333333333333333,
             "#9c179e"
            ],
            [
             0.4444444444444444,
             "#bd3786"
            ],
            [
             0.5555555555555556,
             "#d8576b"
            ],
            [
             0.6666666666666666,
             "#ed7953"
            ],
            [
             0.7777777777777778,
             "#fb9f3a"
            ],
            [
             0.8888888888888888,
             "#fdca26"
            ],
            [
             1,
             "#f0f921"
            ]
           ],
           "sequentialminus": [
            [
             0,
             "#0d0887"
            ],
            [
             0.1111111111111111,
             "#46039f"
            ],
            [
             0.2222222222222222,
             "#7201a8"
            ],
            [
             0.3333333333333333,
             "#9c179e"
            ],
            [
             0.4444444444444444,
             "#bd3786"
            ],
            [
             0.5555555555555556,
             "#d8576b"
            ],
            [
             0.6666666666666666,
             "#ed7953"
            ],
            [
             0.7777777777777778,
             "#fb9f3a"
            ],
            [
             0.8888888888888888,
             "#fdca26"
            ],
            [
             1,
             "#f0f921"
            ]
           ]
          },
          "colorway": [
           "#636efa",
           "#EF553B",
           "#00cc96",
           "#ab63fa",
           "#FFA15A",
           "#19d3f3",
           "#FF6692",
           "#B6E880",
           "#FF97FF",
           "#FECB52"
          ],
          "font": {
           "color": "#2a3f5f"
          },
          "geo": {
           "bgcolor": "white",
           "lakecolor": "white",
           "landcolor": "#E5ECF6",
           "showlakes": true,
           "showland": true,
           "subunitcolor": "white"
          },
          "hoverlabel": {
           "align": "left"
          },
          "hovermode": "closest",
          "mapbox": {
           "style": "light"
          },
          "paper_bgcolor": "white",
          "plot_bgcolor": "#E5ECF6",
          "polar": {
           "angularaxis": {
            "gridcolor": "white",
            "linecolor": "white",
            "ticks": ""
           },
           "bgcolor": "#E5ECF6",
           "radialaxis": {
            "gridcolor": "white",
            "linecolor": "white",
            "ticks": ""
           }
          },
          "scene": {
           "xaxis": {
            "backgroundcolor": "#E5ECF6",
            "gridcolor": "white",
            "gridwidth": 2,
            "linecolor": "white",
            "showbackground": true,
            "ticks": "",
            "zerolinecolor": "white"
           },
           "yaxis": {
            "backgroundcolor": "#E5ECF6",
            "gridcolor": "white",
            "gridwidth": 2,
            "linecolor": "white",
            "showbackground": true,
            "ticks": "",
            "zerolinecolor": "white"
           },
           "zaxis": {
            "backgroundcolor": "#E5ECF6",
            "gridcolor": "white",
            "gridwidth": 2,
            "linecolor": "white",
            "showbackground": true,
            "ticks": "",
            "zerolinecolor": "white"
           }
          },
          "shapedefaults": {
           "line": {
            "color": "#2a3f5f"
           }
          },
          "ternary": {
           "aaxis": {
            "gridcolor": "white",
            "linecolor": "white",
            "ticks": ""
           },
           "baxis": {
            "gridcolor": "white",
            "linecolor": "white",
            "ticks": ""
           },
           "bgcolor": "#E5ECF6",
           "caxis": {
            "gridcolor": "white",
            "linecolor": "white",
            "ticks": ""
           }
          },
          "title": {
           "x": 0.05
          },
          "xaxis": {
           "automargin": true,
           "gridcolor": "white",
           "linecolor": "white",
           "ticks": "",
           "title": {
            "standoff": 15
           },
           "zerolinecolor": "white",
           "zerolinewidth": 2
          },
          "yaxis": {
           "automargin": true,
           "gridcolor": "white",
           "linecolor": "white",
           "ticks": "",
           "title": {
            "standoff": 15
           },
           "zerolinecolor": "white",
           "zerolinewidth": 2
          }
         }
        },
        "title": {
         "text": "Top 20 Complaint Types Fill Rates vs Overall Fill Rates"
        },
        "xaxis": {
         "title": {
          "text": "Overall Fill Rate"
         }
        },
        "yaxis": {
         "title": {
          "text": "Complaint Type Fill Rate"
         }
        }
       }
      }
     },
     "metadata": {},
     "output_type": "display_data"
    }
   ],
   "source": [
    "# Calculate overall fill rates\n",
    "df_fill_rates = pd.DataFrame({\n",
    "    'overall': df_orig.notna().sum() / len(df_orig)\n",
    "}).round(3)\n",
    "\n",
    "# Fill rates by borough\n",
    "df_fill_rates_borough = df_orig.groupby('borough').apply(lambda x: x.notna().sum() / len(x)).round(3)\n",
    "df_fill_rates_borough.insert(0, 'total_count', df_orig.groupby('borough').size())\n",
    "\n",
    "# Fill rates by complaint_type\n",
    "df_fill_rates_complaint = df_orig.groupby('complaint_type').apply(lambda x: x.notna().sum() / len(x)).round(3)\n",
    "df_fill_rates_complaint.insert(0, 'total_count', df_orig.groupby('complaint_type').size())\n",
    "\n",
    "# Plot 1: Borough fill rates vs overall\n",
    "fig1 = go.Figure()\n",
    "for borough in df_fill_rates_borough.index:\n",
    "    borough_data = df_fill_rates_borough.loc[borough]\n",
    "    overall_data = df_fill_rates['overall']\n",
    "    \n",
    "    # Get matching columns (excluding total_count)\n",
    "    common_cols = [col for col in borough_data.index if col in overall_data.index and col != 'total_count']\n",
    "    \n",
    "    fig1.add_trace(go.Scatter(\n",
    "        x=overall_data[common_cols],\n",
    "        y=borough_data[common_cols],\n",
    "        mode='markers',\n",
    "        name=borough,\n",
    "        text=common_cols,\n",
    "        hovertemplate='%{text}<br>Overall: %{x}<br>' + f'{borough}: %{{y}}<extra></extra>'\n",
    "    ))\n",
    "\n",
    "fig1.add_trace(go.Scatter(\n",
    "    x=[0, 1],\n",
    "    y=[0, 1],\n",
    "    mode='lines',\n",
    "    name='Perfect Match',\n",
    "    line=dict(dash='dash', color='gray')\n",
    "))\n",
    "\n",
    "fig1.update_layout(\n",
    "    title='Borough Fill Rates vs Overall Fill Rates',\n",
    "    xaxis_title='Overall Fill Rate',\n",
    "    yaxis_title='Borough Fill Rate',\n",
    "    showlegend=True\n",
    ")\n",
    "fig1.show()\n",
    "\n",
    "# Plot 2: Complaint type fill rates vs overall (top 20 by count)\n",
    "top_complaints = df_fill_rates_complaint.nlargest(20, 'total_count')\n",
    "\n",
    "fig2 = go.Figure()\n",
    "for complaint in top_complaints.index:\n",
    "    complaint_data = top_complaints.loc[complaint]\n",
    "    overall_data = df_fill_rates['overall']\n",
    "    \n",
    "    # Get matching columns (excluding total_count)\n",
    "    common_cols = [col for col in complaint_data.index if col in overall_data.index and col != 'total_count']\n",
    "    \n",
    "    fig2.add_trace(go.Scatter(\n",
    "        x=overall_data[common_cols],\n",
    "        y=complaint_data[common_cols],\n",
    "        mode='markers',\n",
    "        name=complaint,\n",
    "        text=common_cols,\n",
    "        hovertemplate='%{text}<br>Overall: %{x}<br>' + f'{complaint}: %{{y}}<extra></extra>'\n",
    "    ))\n",
    "\n",
    "fig2.add_trace(go.Scatter(\n",
    "    x=[0, 1],\n",
    "    y=[0, 1],\n",
    "    mode='lines',\n",
    "    name='Perfect Match',\n",
    "    line=dict(dash='dash', color='gray')\n",
    "))\n",
    "\n",
    "fig2.update_layout(\n",
    "    title='Top 20 Complaint Types Fill Rates vs Overall Fill Rates',\n",
    "    xaxis_title='Overall Fill Rate',\n",
    "    yaxis_title='Complaint Type Fill Rate',\n",
    "    showlegend=True\n",
    ")\n",
    "fig2.show()\n"
   ]
  },
  {
   "cell_type": "markdown",
   "id": "444eae6b",
   "metadata": {},
   "source": [
    "### Duplicates"
   ]
  },
  {
   "cell_type": "code",
   "execution_count": 8,
   "id": "ad29379e",
   "metadata": {},
   "outputs": [
    {
     "name": "stdout",
     "output_type": "stream",
     "text": [
      "Row Count: 1030037\n",
      "Row Count: 952212\n"
     ]
    },
    {
     "name": "stderr",
     "output_type": "stream",
     "text": [
      "C:\\Users\\gorav\\AppData\\Local\\Temp\\ipykernel_4476\\3799280734.py:6: FutureWarning:\n",
      "\n",
      "'H' is deprecated and will be removed in a future version, please use 'h' instead.\n",
      "\n"
     ]
    }
   ],
   "source": [
    "print('Row Count:', len(df_orig))\n",
    "\n",
    "df_orig = df_orig.drop_duplicates(keep = 'first')\n",
    "print('Row Count:', len(df_orig))\n",
    "\n",
    "df_orig['created_date_hour'] = df_orig['created_date'].dt.floor('H')\n"
   ]
  },
  {
   "cell_type": "code",
   "execution_count": 9,
   "id": "9b94ab52",
   "metadata": {},
   "outputs": [
    {
     "name": "stdout",
     "output_type": "stream",
     "text": [
      "None\n",
      "------------------------------------------------------------------\n",
      "\n",
      "118-10 150 AVENUE\n",
      "2010-07-01 00:00:00\n",
      "Rodent\n",
      "Condition Attracting Rodents\n",
      "Please contact the Department of Health and Mental Hygiene's Pest Control Services for updated status of your complaint by calling (718) 520-4974.\n",
      "--------------------------------\n",
      "2010-07-01 00:00:00\n",
      "Rodent\n",
      "Condition Attracting Rodents\n",
      "Please contact the Department of Health and Mental Hygiene's Pest Control Services for updated status of your complaint by calling (718) 520-4974.\n",
      "--------------------------------\n",
      "------------------------------------------------------------------\n",
      "\n",
      "382 WADSWORTH AVENUE\n",
      "2010-07-01 00:00:00\n",
      "Rodent\n",
      "Rat Sighting\n",
      "Please contact the Department of Health and Mental Hygiene's Pest Control Services for updated status of your complaint by calling (212) 360-5928.\n",
      "--------------------------------\n",
      "2010-07-01 00:00:00\n",
      "Rodent\n",
      "Condition Attracting Rodents\n",
      "Please contact the Department of Health and Mental Hygiene's Pest Control Services for updated status of your complaint by calling (212) 360-5928.\n",
      "--------------------------------\n",
      "------------------------------------------------------------------\n",
      "\n",
      "13 GAIN COURT\n",
      "2010-07-01 00:00:00\n",
      "Rodent\n",
      "Condition Attracting Rodents\n",
      "Please contact the Department of Health and Mental Hygiene's Pest Control Services for updated status of your complaint.  Brooklyn North Office (718) 625-5846 covers zip codes: 11201, 11205, 11206, 11211, 11213, 11215, 11216, 11217, 11221, 11222, 11225, 11231, 11232, 11233, 11237, 11238, 11239.  Brooklyn South Office (718) 629-5800 covers zip codes: 11204, 11207, 11208, 11209, 11210, 11212, 11214, 11218, 11219, 11220, 11203, 11223, 11224, 11225, 11226, 11228, 11229, 11230, 11234, 11235, 11236.\n",
      "--------------------------------\n",
      "2010-07-01 00:00:00\n",
      "Rodent\n",
      "Rat Sighting\n",
      "Please contact the Department of Health and Mental Hygiene's Pest Control Services for updated status of your complaint.  Brooklyn North Office (718) 625-5846 covers zip codes: 11201, 11205, 11206, 11211, 11213, 11215, 11216, 11217, 11221, 11222, 11225, 11231, 11232, 11233, 11237, 11238, 11239.  Brooklyn South Office (718) 629-5800 covers zip codes: 11204, 11207, 11208, 11209, 11210, 11212, 11214, 11218, 11219, 11220, 11203, 11223, 11224, 11225, 11226, 11228, 11229, 11230, 11234, 11235, 11236.\n",
      "--------------------------------\n",
      "------------------------------------------------------------------\n",
      "\n",
      "2285 SEDGWICK AVENUE\n",
      "2010-07-01 00:00:00\n",
      "Rodent\n",
      "Condition Attracting Rodents\n",
      "Please contact the Department of Health and Mental Hygiene's Pest Control Services for updated status of your complaint by calling (718) 583-6133.\n",
      "--------------------------------\n",
      "2010-07-01 00:00:00\n",
      "Rodent\n",
      "Rat Sighting\n",
      "Please contact the Department of Health and Mental Hygiene's Pest Control Services for updated status of your complaint by calling (718) 583-6133.\n",
      "--------------------------------\n",
      "------------------------------------------------------------------\n",
      "\n"
     ]
    }
   ],
   "source": [
    "df_temp = df_orig[df_orig.duplicated(subset=[\"created_date\", \"complaint_type\", \"incident_address\", \"borough\"], keep = False)]\n",
    "for i in df_temp['incident_address'].unique()[:5]:\n",
    "    df_address = df_temp[df_temp['incident_address'] == i]\n",
    "    print(i)\n",
    "    for j in range(len(df_address['resolution_description'])):\n",
    "        print(df_address['created_date'].iloc[j])\n",
    "        print(df_address['complaint_type'].iloc[j])\n",
    "        print(df_address['descriptor'].iloc[j])\n",
    "        print(df_address['resolution_description'].iloc[j])\n",
    "        print('--------------------------------')\n",
    "    print('------------------------------------------------------------------')\n",
    "    print()"
   ]
  },
  {
   "cell_type": "markdown",
   "id": "35d3acff",
   "metadata": {},
   "source": []
  },
  {
   "cell_type": "code",
   "execution_count": 10,
   "id": "4448ae5d",
   "metadata": {},
   "outputs": [
    {
     "name": "stdout",
     "output_type": "stream",
     "text": [
      "1159 CARROLL STREET\n",
      "2010-01-03 11:14:34\n",
      "Smoking\n",
      "Smoking Violation\n",
      "The Department of Health and Mental Hygiene cannot send official written documentation because the mailing information provided was incorrect or incomplete.  Please verify the mailing information provided and log another complaint.\n",
      "--------------------------------\n",
      "2010-01-03 11:57:11\n",
      "Smoking\n",
      "Smoking Violation\n",
      "The Department of Health and Mental Hygiene has received and processed your complaint.  The facility will receive an inspection from the Bureau of Food Safety and Community Sanitation.  Inspection results are not published.\n",
      "--------------------------------\n",
      "----------------------------------------------------------------\n",
      "\n",
      "1769 VYSE AVENUE\n",
      "2010-01-03 13:09:50\n",
      "Rodent\n",
      "Mouse Sighting\n",
      "Please contact the Department of Health and Mental Hygiene's Pest Control Services for updated status of your complaint by calling (718) 583-6133.\n",
      "--------------------------------\n",
      "2010-01-03 13:39:15\n",
      "Rodent\n",
      "Condition Attracting Rodents\n",
      "Please contact the Department of Health and Mental Hygiene's Pest Control Services for updated status of your complaint by calling (718) 583-6133.\n",
      "--------------------------------\n",
      "----------------------------------------------------------------\n",
      "\n",
      "225 EAST 23 STREET\n",
      "2010-01-04 09:20:16\n",
      "Non-Residential Heat\n",
      "Inadequate or No Heat\n",
      "The Department of Health and Mental Hygiene has sent official written notification to the Owner/Landlord warning them of potential violations and instructing them to correct the situation.  If the situation persists 21 days after your initial complaint, please make a new complaint.\n",
      "--------------------------------\n",
      "2010-01-04 09:58:03\n",
      "Non-Residential Heat\n",
      "Inadequate or No Heat\n",
      "The Department of Health and Mental Hygiene has received and processed your complaint.  The facility will receive an inspection from the Bureau of Food Safety and Community Sanitation.  Inspection results are not published.\n",
      "--------------------------------\n",
      "----------------------------------------------------------------\n",
      "\n",
      "222 WEST 37 STREET\n",
      "2010-01-04 10:48:47\n",
      "Non-Residential Heat\n",
      "Inadequate or No Heat\n",
      "The Department of Health and Mental Hygiene has sent official written notification to the Owner/Landlord warning them of potential violations and instructing them to correct the situation.  If the situation persists 21 days after your initial complaint, please make a new complaint.\n",
      "--------------------------------\n",
      "2010-01-04 10:54:42\n",
      "Non-Residential Heat\n",
      "Inadequate or No Heat\n",
      "The Department of Health and Mental Hygiene has received and processed your complaint.  The facility will receive an inspection from the Bureau of Food Safety and Community Sanitation.  Inspection results are not published.\n",
      "--------------------------------\n",
      "----------------------------------------------------------------\n",
      "\n",
      "45 BROADWAY\n",
      "2010-01-04 11:05:19\n",
      "Non-Residential Heat\n",
      "Inadequate or No Heat\n",
      "The Department of Health and Mental Hygiene has sent official written notification to the Owner/Landlord warning them of potential violations and instructing them to correct the situation.  If the situation persists 21 days after your initial complaint, please make a new complaint.\n",
      "--------------------------------\n",
      "2010-01-04 11:07:30\n",
      "Non-Residential Heat\n",
      "Inadequate or No Heat\n",
      "The Department of Health and Mental Hygiene has sent official written notification to the Owner/Landlord warning them of potential violations and instructing them to correct the situation.  If the situation persists 21 days after your initial complaint, please make a new complaint.\n",
      "--------------------------------\n",
      "2010-01-04 11:53:47\n",
      "Non-Residential Heat\n",
      "Inadequate or No Heat\n",
      "The Department of Health and Mental Hygiene has received and processed your complaint.  The facility will receive an inspection from the Bureau of Food Safety and Community Sanitation.  Inspection results are not published.\n",
      "--------------------------------\n",
      "2013-03-26 14:06:45\n",
      "Indoor Air Quality\n",
      "Ventilation\n",
      "The Department of Health and Mental Hygiene has investigated the complaint and no violations were cited.\n",
      "--------------------------------\n",
      "2013-03-26 14:14:48\n",
      "Indoor Air Quality\n",
      "Ventilation\n",
      "The Department of Health and Mental Hygiene is in the process of investigating this complaint.  If the situation persists 21 days after the initial complaint, please submit a new Service Request.\n",
      "--------------------------------\n",
      "----------------------------------------------------------------\n",
      "\n"
     ]
    }
   ],
   "source": [
    "df_temp = df_orig[df_orig.duplicated(subset=[\"created_date_hour\", \"complaint_type\", \"incident_address\", \"borough\"], keep = False)]\n",
    "for i in df_temp['incident_address'].unique()[:5]:\n",
    "    df_address = df_temp[df_temp['incident_address'] == i]\n",
    "    print(i)\n",
    "    for j in range(len(df_address['resolution_description'])):\n",
    "        print(df_address['created_date'].iloc[j])\n",
    "        print(df_address['complaint_type'].iloc[j])\n",
    "        print(df_address['descriptor'].iloc[j])\n",
    "        print(df_address['resolution_description'].iloc[j])\n",
    "        print('--------------------------------')\n",
    "    print('--------------------------------' * 2)\n",
    "    print()"
   ]
  },
  {
   "cell_type": "code",
   "execution_count": 11,
   "id": "1a821a5e",
   "metadata": {},
   "outputs": [
    {
     "name": "stdout",
     "output_type": "stream",
     "text": [
      "Row Count: 928356\n"
     ]
    }
   ],
   "source": [
    "df_orig = df_orig.drop_duplicates(subset=[\"created_date_hour\", \"complaint_type\", \"incident_address\", \"borough\", \"descriptor\", \"resolution_description\"])\n",
    "print('Row Count:', len(df_orig))"
   ]
  },
  {
   "cell_type": "markdown",
   "id": "48f7baf6",
   "metadata": {},
   "source": [
    "### Freetext Columns"
   ]
  },
  {
   "cell_type": "code",
   "execution_count": 12,
   "id": "4c76eb69",
   "metadata": {},
   "outputs": [],
   "source": [
    "def map_freetext_columns(df):\n",
    "        dict_mappings = pd.read_excel(os.path.abspath(os.path.join(os.getcwd(), '..', 'src', 'resources', \"mappings\", \"freetext_column_mappings.xlsx\")), sheet_name = None)\n",
    "        df_complaint_type = dict_mappings['complaint_type']\n",
    "        df_descriptor = dict_mappings['descriptor']\n",
    "        df_resolution_description = dict_mappings['resolution_description']\n",
    "\n",
    "        df = df.merge(df_complaint_type, on = 'complaint_type', how = 'left')\n",
    "        df = df.merge(df_descriptor, on = 'descriptor', how = 'left')\n",
    "        df = df.merge(df_resolution_description, on = 'resolution_description', how = 'left')\n",
    "        broken_string = 'this case was an isolated incident'\n",
    "\n",
    "        df['resolution_outcome'] = np.where(df['resolution_description'].str.contains(broken_string), \"inspection\", df['resolution_outcome'])\n",
    "\n",
    "        return df"
   ]
  },
  {
   "cell_type": "code",
   "execution_count": 13,
   "id": "fafdb13a",
   "metadata": {},
   "outputs": [],
   "source": [
    "df_orig = map_freetext_columns(df_orig)"
   ]
  },
  {
   "cell_type": "code",
   "execution_count": 14,
   "id": "f48337b0",
   "metadata": {},
   "outputs": [
    {
     "name": "stdout",
     "output_type": "stream",
     "text": [
      "Row Count: 850766\n"
     ]
    }
   ],
   "source": [
    "df_orig = df_orig[df_orig['resolution_outcome'] != 'duplicate_of_previous']\n",
    "print('Row Count:', len(df_orig))\n"
   ]
  },
  {
   "cell_type": "code",
   "execution_count": 17,
   "id": "3a8ae6fa",
   "metadata": {},
   "outputs": [
    {
     "data": {
      "text/plain": [
       "resolution_outcome\n",
       "unknown    43246\n",
       "Name: count, dtype: int64"
      ]
     },
     "execution_count": 17,
     "metadata": {},
     "output_type": "execute_result"
    }
   ],
   "source": [
    "df_orig[df_orig['resolution_description'].isna()]['resolution_outcome'].value_counts()"
   ]
  },
  {
   "cell_type": "markdown",
   "id": "72873d41",
   "metadata": {},
   "source": [
    "### CLosing Date Checks"
   ]
  },
  {
   "cell_type": "code",
   "execution_count": 19,
   "id": "3cdd98a3",
   "metadata": {},
   "outputs": [
    {
     "data": {
      "text/html": [
       "<div>\n",
       "<style scoped>\n",
       "    .dataframe tbody tr th:only-of-type {\n",
       "        vertical-align: middle;\n",
       "    }\n",
       "\n",
       "    .dataframe tbody tr th {\n",
       "        vertical-align: top;\n",
       "    }\n",
       "\n",
       "    .dataframe thead th {\n",
       "        text-align: right;\n",
       "    }\n",
       "</style>\n",
       "<table border=\"1\" class=\"dataframe\">\n",
       "  <thead>\n",
       "    <tr style=\"text-align: right;\">\n",
       "      <th></th>\n",
       "      <th>created_date</th>\n",
       "      <th>due_date</th>\n",
       "      <th>closed_date</th>\n",
       "      <th>resolution_action_updated_date</th>\n",
       "    </tr>\n",
       "  </thead>\n",
       "  <tbody>\n",
       "    <tr>\n",
       "      <th>0</th>\n",
       "      <td>2010-01-01 08:20:22</td>\n",
       "      <td>2010-02-07 08:20:22</td>\n",
       "      <td>NaT</td>\n",
       "      <td>2010-01-04 11:38:30</td>\n",
       "    </tr>\n",
       "    <tr>\n",
       "      <th>1</th>\n",
       "      <td>2010-01-01 08:29:58</td>\n",
       "      <td>2010-01-31 08:29:58</td>\n",
       "      <td>NaT</td>\n",
       "      <td>2010-01-01 08:37:34</td>\n",
       "    </tr>\n",
       "    <tr>\n",
       "      <th>2</th>\n",
       "      <td>2010-01-01 09:59:50</td>\n",
       "      <td>2010-02-07 09:59:50</td>\n",
       "      <td>1900-01-01 00:00:00</td>\n",
       "      <td>2010-01-04 16:37:31</td>\n",
       "    </tr>\n",
       "    <tr>\n",
       "      <th>3</th>\n",
       "      <td>2010-01-01 10:35:38</td>\n",
       "      <td>2010-01-15 10:35:38</td>\n",
       "      <td>NaT</td>\n",
       "      <td>2010-01-15 07:37:07</td>\n",
       "    </tr>\n",
       "    <tr>\n",
       "      <th>4</th>\n",
       "      <td>2010-01-01 10:43:52</td>\n",
       "      <td>2010-01-31 10:43:52</td>\n",
       "      <td>2010-01-14 10:51:48</td>\n",
       "      <td>2010-01-14 10:51:48</td>\n",
       "    </tr>\n",
       "  </tbody>\n",
       "</table>\n",
       "</div>"
      ],
      "text/plain": [
       "         created_date            due_date         closed_date  \\\n",
       "0 2010-01-01 08:20:22 2010-02-07 08:20:22                 NaT   \n",
       "1 2010-01-01 08:29:58 2010-01-31 08:29:58                 NaT   \n",
       "2 2010-01-01 09:59:50 2010-02-07 09:59:50 1900-01-01 00:00:00   \n",
       "3 2010-01-01 10:35:38 2010-01-15 10:35:38                 NaT   \n",
       "4 2010-01-01 10:43:52 2010-01-31 10:43:52 2010-01-14 10:51:48   \n",
       "\n",
       "  resolution_action_updated_date  \n",
       "0            2010-01-04 11:38:30  \n",
       "1            2010-01-01 08:37:34  \n",
       "2            2010-01-04 16:37:31  \n",
       "3            2010-01-15 07:37:07  \n",
       "4            2010-01-14 10:51:48  "
      ]
     },
     "execution_count": 19,
     "metadata": {},
     "output_type": "execute_result"
    }
   ],
   "source": [
    "df_orig[['created_date', 'due_date', 'closed_date', 'resolution_action_updated_date']].head()"
   ]
  },
  {
   "cell_type": "code",
   "execution_count": 20,
   "id": "aacdfe6b",
   "metadata": {},
   "outputs": [
    {
     "data": {
      "text/plain": [
       "created_date                      1.000000\n",
       "due_date                          0.584226\n",
       "closed_date                       0.848815\n",
       "resolution_action_updated_date    0.952022\n",
       "dtype: float64"
      ]
     },
     "execution_count": 20,
     "metadata": {},
     "output_type": "execute_result"
    }
   ],
   "source": [
    "df_orig[['created_date', 'due_date', 'closed_date', 'resolution_action_updated_date']].notna().sum() / len(df_orig)"
   ]
  },
  {
   "cell_type": "code",
   "execution_count": null,
   "id": "d074b924",
   "metadata": {},
   "outputs": [],
   "source": [
    "df_orig['created_date'] = df_orig['created_date'].dt.date\n",
    "df_orig['date'] = df_orig['created_date'].dt.date\n",
    "\n",
    "\n",
    "df_orig['time_to_resolution'] = df_orig['closed_date'] - df_orig['created_date']\n",
    "df_orig['time_closed_to_resolution_update'] = df_orig['resolution_action_updated_date'] - df_orig['closed_date']\n",
    "df_orig['closed_before_created'] = df_orig['time_to_resolution'] < pd.Timedelta(0)\n",
    "df_orig['identical_created_closed_dates'] = df_orig['time_to_resolution'] == pd.Timedelta(0)\n",
    "df_orig['created_at_midnight'] = df_orig['created_date'].dt.time == pd.Timestamp('00:00:00').time()\n",
    "df_orig['closed_at_midnight'] = df_orig['closed_date'].dt.time == pd.Timestamp('00:00:00').time()\n"
   ]
  },
  {
   "cell_type": "code",
   "execution_count": 33,
   "id": "c93dc79e",
   "metadata": {},
   "outputs": [
    {
     "name": "stdout",
     "output_type": "stream",
     "text": [
      "Data Quality Summary:\n",
      "Total rows: 844,310\n",
      "Percent closed before created date: 0.00%\n",
      "Percent with identical created and closed dates: 21.31%\n",
      "Percent created at midnight: 31.10%\n",
      "Percent closed at midnight: 24.49%\n"
     ]
    }
   ],
   "source": [
    "\n",
    "\n",
    "# Calculate percentages for reporting\n",
    "total_rows = len(df_orig)\n",
    "pct_closed_before_created = (df_orig['closed_before_created'].sum() / total_rows) * 100\n",
    "pct_identical_dates = (df_orig['identical_created_closed_dates'].sum() / total_rows) * 100\n",
    "pct_created_midnight = (df_orig['created_at_midnight'].sum() / total_rows) * 100\n",
    "pct_closed_midnight = (df_orig['closed_at_midnight'].sum() / total_rows) * 100\n",
    "\n",
    "print(\"Data Quality Summary:\")\n",
    "print(f\"Total rows: {total_rows:,}\")\n",
    "print(f\"Percent closed before created date: {pct_closed_before_created:.2f}%\")\n",
    "print(f\"Percent with identical created and closed dates: {pct_identical_dates:.2f}%\")\n",
    "print(f\"Percent created at midnight: {pct_created_midnight:.2f}%\")\n",
    "print(f\"Percent closed at midnight: {pct_closed_midnight:.2f}%\")"
   ]
  },
  {
   "cell_type": "code",
   "execution_count": null,
   "id": "dfd19d3d",
   "metadata": {},
   "outputs": [
    {
     "data": {
      "image/png": "[encoded data removed]",
      "text/plain": [
       "<Figure size 1000x600 with 1 Axes>"
      ]
     },
     "metadata": {},
     "output_type": "display_data"
    }
   ],
   "source": [
    "# Create histogram of time to resolution using seaborn\n",
    "plt.figure(figsize=(10, 6))\n",
    "sns.histplot(data=df_orig, x=df_orig['time_to_resolution'].dt.days, bins=50)\n",
    "plt.title('Distribution of Time to Resolution (Days)')\n",
    "plt.xlabel('Days to Resolution')\n",
    "plt.ylabel('Count')\n",
    "plt.show()"
   ]
  },
  {
   "cell_type": "code",
   "execution_count": 32,
   "id": "a360636b",
   "metadata": {},
   "outputs": [
    {
     "name": "stdout",
     "output_type": "stream",
     "text": [
      "Row Count: 844310\n"
     ]
    }
   ],
   "source": [
    "df_orig = df_orig[df_orig['closed_before_created'] == 0]\n",
    "print('Row Count:', len(df_orig))\n"
   ]
  },
  {
   "cell_type": "code",
   "execution_count": 34,
   "id": "cb674c19",
   "metadata": {},
   "outputs": [
    {
     "data": {
      "image/png": "[encoded data removed]",
      "text/plain": [
       "<Figure size 1000x600 with 2 Axes>"
      ]
     },
     "metadata": {},
     "output_type": "display_data"
    }
   ],
   "source": [
    "fig, ax1 = plt.subplots(figsize=(10, 6))\n",
    "\n",
    "# Create histogram on primary y-axis\n",
    "sns.histplot(data=df_orig, x=df_orig['time_to_resolution'].dt.days, bins=50, ax=ax1)\n",
    "ax1.set_xlabel('Days to Resolution')\n",
    "ax1.set_ylabel('Count', color='tab:blue')\n",
    "ax1.tick_params(axis='y', labelcolor='tab:blue')\n",
    "\n",
    "# Create secondary y-axis for cumulative percentage\n",
    "ax2 = ax1.twinx()\n",
    "days_to_resolution = df_orig['time_to_resolution'].dt.days.sort_values()\n",
    "cumulative_percent = [(i / len(days_to_resolution)) * 100 for i in range(1, len(days_to_resolution) + 1)]\n",
    "ax2.plot(days_to_resolution, cumulative_percent, color='tab:red', linewidth=2, label='Cumulative Percent')\n",
    "ax2.set_ylabel('Cumulative Percent (%)', color='tab:red')\n",
    "ax2.tick_params(axis='y', labelcolor='tab:red')\n",
    "\n",
    "plt.title('Distribution of Time to Resolution (Days) - Excluding Cases Closed Before Created')\n",
    "plt.show()\n"
   ]
  },
  {
   "cell_type": "code",
   "execution_count": 35,
   "id": "5b3886b5",
   "metadata": {},
   "outputs": [
    {
     "name": "stdout",
     "output_type": "stream",
     "text": [
      "Row Count: 664378\n"
     ]
    }
   ],
   "source": [
    "df_orig = df_orig[df_orig['identical_created_closed_dates'] == 0]\n",
    "print('Row Count:', len(df_orig))\n"
   ]
  },
  {
   "cell_type": "code",
   "execution_count": 36,
   "id": "ba7669ef",
   "metadata": {},
   "outputs": [
    {
     "data": {
      "image/png": "[encoded data removed]",
      "text/plain": [
       "<Figure size 1000x600 with 1 Axes>"
      ]
     },
     "metadata": {},
     "output_type": "display_data"
    },
    {
     "name": "stdout",
     "output_type": "stream",
     "text": [
      "Created at Midnight - Count: 220301\n",
      "Closed at Midnight - Count: 164483\n",
      "Neither at Midnight - Count: 442919\n"
     ]
    }
   ],
   "source": [
    "# Create subsets based on midnight conditions\n",
    "created_midnight = df_orig[df_orig['created_at_midnight'] == True]\n",
    "closed_midnight = df_orig[df_orig['closed_at_midnight'] == True]\n",
    "neither_midnight = df_orig[(df_orig['created_at_midnight'] == False) & (df_orig['closed_at_midnight'] == False)]\n",
    "\n",
    "# Create single histogram with all three distributions\n",
    "fig, ax = plt.subplots(1, 1, figsize=(10, 6))\n",
    "\n",
    "# Convert time_to_resolution to days for better visualization\n",
    "created_midnight_days = created_midnight['time_to_resolution'].dt.total_seconds() / (24 * 3600)\n",
    "closed_midnight_days = closed_midnight['time_to_resolution'].dt.total_seconds() / (24 * 3600)\n",
    "neither_midnight_days = neither_midnight['time_to_resolution'].dt.total_seconds() / (24 * 3600)\n",
    "\n",
    "created_midnight_days = created_midnight_days.clip(upper = 365)\n",
    "closed_midnight_days = closed_midnight_days.clip(upper = 365)\n",
    "neither_midnight_days = neither_midnight_days.clip(upper = 365)\n",
    "\n",
    "# Plot all histograms on the same axes\n",
    "ax.hist(created_midnight_days, bins=50, alpha=0.5, color='blue', label='Created at Midnight', density= True)\n",
    "ax.hist(closed_midnight_days, bins=50, alpha=0.5, color='red', label='Closed at Midnight', density= True)\n",
    "ax.hist(neither_midnight_days, bins=50, alpha=0.5, color='green', label='Neither at Midnight', density= True)\n",
    "\n",
    "ax.set_title('Time to Resolution by Midnight Conditions')\n",
    "ax.set_xlabel('Days')\n",
    "ax.set_ylabel('Frequency')\n",
    "ax.legend()\n",
    "\n",
    "plt.tight_layout()\n",
    "plt.show()\n",
    "\n",
    "# Print summary statistics\n",
    "print(\"Created at Midnight - Count:\", len(created_midnight))\n",
    "print(\"Closed at Midnight - Count:\", len(closed_midnight))\n",
    "print(\"Neither at Midnight - Count:\", len(neither_midnight))\n"
   ]
  },
  {
   "cell_type": "code",
   "execution_count": 39,
   "id": "7c220beb",
   "metadata": {},
   "outputs": [
    {
     "name": "stderr",
     "output_type": "stream",
     "text": [
      "C:\\Users\\gorav\\AppData\\Local\\Temp\\ipykernel_4476\\1462576005.py:3: SettingWithCopyWarning:\n",
      "\n",
      "\n",
      "A value is trying to be set on a copy of a slice from a DataFrame.\n",
      "Try using .loc[row_indexer,col_indexer] = value instead\n",
      "\n",
      "See the caveats in the documentation: https://pandas.pydata.org/pandas-docs/stable/user_guide/indexing.html#returning-a-view-versus-a-copy\n",
      "\n"
     ]
    },
    {
     "data": {
      "text/plain": [
       "time_to_resolution_days_rounded\n",
       "61.0    41156\n",
       "1.0     28276\n",
       "60.0    25769\n",
       "0.0     22220\n",
       "2.0     10028\n",
       "3.0      7315\n",
       "4.0      4820\n",
       "6.0      3882\n",
       "7.0      3840\n",
       "5.0      3810\n",
       "Name: count, dtype: int64"
      ]
     },
     "execution_count": 39,
     "metadata": {},
     "output_type": "execute_result"
    }
   ],
   "source": [
    "neither_midnight = df_orig[(df_orig['created_at_midnight'] == False) & (df_orig['closed_at_midnight'] == False)]\n",
    "\n",
    "neither_midnight['time_to_resolution_days_rounded'] = (neither_midnight['time_to_resolution'].dt.total_seconds() / (24 * 3600)).round(0)\n",
    "\n",
    "neither_midnight['time_to_resolution_days_rounded'].value_counts().iloc[:10]"
   ]
  },
  {
   "cell_type": "code",
   "execution_count": 38,
   "id": "bd9b3bb9",
   "metadata": {},
   "outputs": [
    {
     "data": {
      "text/plain": [
       "complaint_type\n",
       "Food Establishment                60220\n",
       "Mobile Food Vendor                 2773\n",
       "Smoking or Vaping                  2468\n",
       "Non-Residential Heat                751\n",
       "Indoor Air Quality                  145\n",
       "Tattooing                           118\n",
       "Rodent                              116\n",
       "Poison Ivy                           78\n",
       "Standing Water                       48\n",
       "Indoor Sewage                        47\n",
       "Drinking Water                       21\n",
       "Asbestos                             20\n",
       "Mold                                 18\n",
       "Unleashed Dog                        16\n",
       "Unsanitary Animal Pvt Property       16\n",
       "Smoking                              13\n",
       "Mosquitoes                           12\n",
       "Beach/Pool/Sauna Complaint           10\n",
       "Day Care                              8\n",
       "Calorie Labeling                      5\n",
       "Food Poisoning                        5\n",
       "Unsanitary Pigeon Condition           4\n",
       "Lifeguard                             3\n",
       "Illegal Animal Kept as Pet            3\n",
       "Animal Facility - No Permit           2\n",
       "Bottled Water                         2\n",
       "Unsanitary Animal Facility            1\n",
       "Harboring Bees/Wasps                  1\n",
       "Building Drinking Water Tank          1\n",
       "Name: count, dtype: int64"
      ]
     },
     "execution_count": 38,
     "metadata": {},
     "output_type": "execute_result"
    }
   ],
   "source": [
    "neither_midnight = neither_midnight[neither_midnight['time_to_resolution_days_rounded'].isin([60, 61])]\n",
    "\n",
    "neither_midnight['complaint_type'].value_counts()"
   ]
  },
  {
   "cell_type": "code",
   "execution_count": null,
   "id": "04028ce7",
   "metadata": {},
   "outputs": [
    {
     "data": {
      "image/png": "[encoded data removed]",
      "text/plain": [
       "<Figure size 1800x500 with 3 Axes>"
      ]
     },
     "metadata": {},
     "output_type": "display_data"
    }
   ],
   "source": [
    "# Plot count of records by minute across 24 hours for created, closed, and due dates\n",
    "fig, axes = plt.subplots(1, 3, figsize=(18, 5))\n",
    "\n",
    "# Define the data and parameters for each subplot\n",
    "date_columns = ['created_date', 'closed_date', 'due_date']\n",
    "colors = ['blue', 'red', 'green']\n",
    "titles = ['Created Date', 'Closed Date', 'Due Date']\n",
    "\n",
    "for i, (date_col, color, title) in enumerate(zip(date_columns, colors, titles)):\n",
    "    # Handle missing data for closed and due dates\n",
    "    if date_col == 'created_date':\n",
    "        df_subset = df_orig\n",
    "    else:\n",
    "        df_subset = df_orig.dropna(subset=[date_col])\n",
    "    \n",
    "    # Calculate minute of day\n",
    "    hours = df_subset[date_col].dt.hour\n",
    "    minutes = df_subset[date_col].dt.minute\n",
    "    minute_of_day = hours * 60 + minutes\n",
    "    minute_counts = minute_of_day.value_counts().sort_index()\n",
    "    \n",
    "    # Plot\n",
    "    axes[i].plot(minute_counts.index, minute_counts.values, marker='o', linewidth=2, markersize=2, color=color)\n",
    "    axes[i].set_title(f'Count of Records by Minute Across 24 Hours - {title}')\n",
    "    axes[i].set_xlabel('Minute of Day')\n",
    "    axes[i].set_ylabel('Count')\n",
    "    axes[i].set_xticks(range(0, 1440, 120))\n",
    "    axes[i].set_xticklabels([f'{h:02d}:00' for h in range(0, 24, 2)])\n",
    "    axes[i].grid(True, alpha=0.3)\n",
    "\n",
    "plt.tight_layout()\n",
    "plt.show()\n"
   ]
  },
  {
   "cell_type": "code",
   "execution_count": null,
   "id": "c32dfe8f",
   "metadata": {},
   "outputs": [],
   "source": [
    "df_orig['created_time_of_day'] = df_orig['created_date'].dt.time\n",
    "\n",
    "df_orig['year_month'] = df_orig['closed_date'].dt.to_period('M')"
   ]
  },
  {
   "cell_type": "code",
   "execution_count": 98,
   "id": "3b237268",
   "metadata": {},
   "outputs": [
    {
     "data": {
      "text/plain": [
       "<Figure size 1500x600 with 0 Axes>"
      ]
     },
     "metadata": {},
     "output_type": "display_data"
    },
    {
     "data": {
      "image/png": "[encoded data removed]",
      "text/plain": [
       "<Figure size 640x480 with 1 Axes>"
      ]
     },
     "metadata": {},
     "output_type": "display_data"
    }
   ],
   "source": [
    "df_orig['time_to_resolution_hours'] = df_orig['time_to_resolution'].dt.total_seconds() / 3600\n",
    "\n",
    "# Calculate median and mean resolution time by year-month\n",
    "year_month_stats = df_orig.groupby('year_month')['time_to_resolution_hours'].agg(['mean', 'median']).sort_index()\n",
    "\n",
    "# Plot resolution time by year-month\n",
    "plt.figure(figsize=(15, 6))\n",
    "year_month_stats.plot(kind='line',linewidth=2, markersize=4)\n",
    "plt.title('Average Resolution Time by Year-Month')\n",
    "plt.xlabel('Closed Date')\n",
    "plt.ylabel('Resolution Time (Hours)')\n",
    "plt.xticks(rotation=45)\n",
    "plt.grid(True, alpha=0.3)\n",
    "plt.tight_layout()\n",
    "plt.show()\n"
   ]
  },
  {
   "cell_type": "code",
   "execution_count": 102,
   "id": "c9f0b798",
   "metadata": {},
   "outputs": [
    {
     "data": {
      "text/html": [
       "<div>\n",
       "<style scoped>\n",
       "    .dataframe tbody tr th:only-of-type {\n",
       "        vertical-align: middle;\n",
       "    }\n",
       "\n",
       "    .dataframe tbody tr th {\n",
       "        vertical-align: top;\n",
       "    }\n",
       "\n",
       "    .dataframe thead th {\n",
       "        text-align: right;\n",
       "    }\n",
       "</style>\n",
       "<table border=\"1\" class=\"dataframe\">\n",
       "  <thead>\n",
       "    <tr style=\"text-align: right;\">\n",
       "      <th></th>\n",
       "      <th>created_date</th>\n",
       "      <th>closed_date</th>\n",
       "      <th>time_to_resolution</th>\n",
       "    </tr>\n",
       "  </thead>\n",
       "  <tbody>\n",
       "    <tr>\n",
       "      <th>438480</th>\n",
       "      <td>2018-06-14 12:17:10</td>\n",
       "      <td>2025-01-11 12:16:49</td>\n",
       "      <td>2402 days 23:59:39</td>\n",
       "    </tr>\n",
       "    <tr>\n",
       "      <th>438454</th>\n",
       "      <td>2018-06-14 07:54:54</td>\n",
       "      <td>2025-01-11 03:32:58</td>\n",
       "      <td>2402 days 19:38:04</td>\n",
       "    </tr>\n",
       "    <tr>\n",
       "      <th>438484</th>\n",
       "      <td>2018-06-14 14:38:44</td>\n",
       "      <td>2025-01-11 03:45:29</td>\n",
       "      <td>2402 days 13:06:45</td>\n",
       "    </tr>\n",
       "    <tr>\n",
       "      <th>438494</th>\n",
       "      <td>2018-06-14 19:39:57</td>\n",
       "      <td>2025-01-11 08:40:11</td>\n",
       "      <td>2402 days 13:00:14</td>\n",
       "    </tr>\n",
       "    <tr>\n",
       "      <th>438501</th>\n",
       "      <td>2018-06-14 20:51:38</td>\n",
       "      <td>2025-01-11 08:38:19</td>\n",
       "      <td>2402 days 11:46:41</td>\n",
       "    </tr>\n",
       "    <tr>\n",
       "      <th>438476</th>\n",
       "      <td>2018-06-14 13:29:48</td>\n",
       "      <td>2025-01-10 23:40:39</td>\n",
       "      <td>2402 days 10:10:51</td>\n",
       "    </tr>\n",
       "    <tr>\n",
       "      <th>438490</th>\n",
       "      <td>2018-06-14 17:15:56</td>\n",
       "      <td>2025-01-11 03:21:18</td>\n",
       "      <td>2402 days 10:05:22</td>\n",
       "    </tr>\n",
       "    <tr>\n",
       "      <th>438626</th>\n",
       "      <td>2018-06-15 08:03:54</td>\n",
       "      <td>2025-01-11 17:48:59</td>\n",
       "      <td>2402 days 09:45:05</td>\n",
       "    </tr>\n",
       "    <tr>\n",
       "      <th>438488</th>\n",
       "      <td>2018-06-14 14:06:39</td>\n",
       "      <td>2025-01-10 23:46:06</td>\n",
       "      <td>2402 days 09:39:27</td>\n",
       "    </tr>\n",
       "    <tr>\n",
       "      <th>438567</th>\n",
       "      <td>2018-06-15 07:33:37</td>\n",
       "      <td>2025-01-11 08:49:13</td>\n",
       "      <td>2402 days 01:15:36</td>\n",
       "    </tr>\n",
       "    <tr>\n",
       "      <th>438673</th>\n",
       "      <td>2018-06-15 19:06:59</td>\n",
       "      <td>2025-01-11 18:00:57</td>\n",
       "      <td>2401 days 22:53:58</td>\n",
       "    </tr>\n",
       "    <tr>\n",
       "      <th>438653</th>\n",
       "      <td>2018-06-15 15:15:03</td>\n",
       "      <td>2025-01-11 12:36:21</td>\n",
       "      <td>2401 days 21:21:18</td>\n",
       "    </tr>\n",
       "    <tr>\n",
       "      <th>438675</th>\n",
       "      <td>2018-06-15 23:08:01</td>\n",
       "      <td>2025-01-11 11:39:43</td>\n",
       "      <td>2401 days 12:31:42</td>\n",
       "    </tr>\n",
       "    <tr>\n",
       "      <th>438655</th>\n",
       "      <td>2018-06-15 15:39:39</td>\n",
       "      <td>2025-01-11 03:45:35</td>\n",
       "      <td>2401 days 12:05:56</td>\n",
       "    </tr>\n",
       "    <tr>\n",
       "      <th>438665</th>\n",
       "      <td>2018-06-15 16:34:10</td>\n",
       "      <td>2025-01-11 03:21:14</td>\n",
       "      <td>2401 days 10:47:04</td>\n",
       "    </tr>\n",
       "    <tr>\n",
       "      <th>438668</th>\n",
       "      <td>2018-06-15 21:41:00</td>\n",
       "      <td>2025-01-10 23:40:35</td>\n",
       "      <td>2401 days 01:59:35</td>\n",
       "    </tr>\n",
       "    <tr>\n",
       "      <th>438886</th>\n",
       "      <td>2018-06-17 18:00:12</td>\n",
       "      <td>2025-01-11 12:36:27</td>\n",
       "      <td>2399 days 18:36:15</td>\n",
       "    </tr>\n",
       "    <tr>\n",
       "      <th>438865</th>\n",
       "      <td>2018-06-17 03:36:10</td>\n",
       "      <td>2025-01-10 21:53:08</td>\n",
       "      <td>2399 days 18:16:58</td>\n",
       "    </tr>\n",
       "    <tr>\n",
       "      <th>438883</th>\n",
       "      <td>2018-06-17 17:20:32</td>\n",
       "      <td>2025-01-11 03:21:26</td>\n",
       "      <td>2399 days 10:00:54</td>\n",
       "    </tr>\n",
       "    <tr>\n",
       "      <th>439071</th>\n",
       "      <td>2018-06-18 00:14:02</td>\n",
       "      <td>2025-01-11 08:38:20</td>\n",
       "      <td>2399 days 08:24:18</td>\n",
       "    </tr>\n",
       "    <tr>\n",
       "      <th>438894</th>\n",
       "      <td>2018-06-17 23:21:12</td>\n",
       "      <td>2025-01-11 03:15:02</td>\n",
       "      <td>2399 days 03:53:50</td>\n",
       "    </tr>\n",
       "    <tr>\n",
       "      <th>439096</th>\n",
       "      <td>2018-06-18 12:38:59</td>\n",
       "      <td>2025-01-11 11:39:38</td>\n",
       "      <td>2398 days 23:00:39</td>\n",
       "    </tr>\n",
       "    <tr>\n",
       "      <th>439083</th>\n",
       "      <td>2018-06-18 10:42:13</td>\n",
       "      <td>2025-01-11 08:16:58</td>\n",
       "      <td>2398 days 21:34:45</td>\n",
       "    </tr>\n",
       "    <tr>\n",
       "      <th>439110</th>\n",
       "      <td>2018-06-18 15:25:23</td>\n",
       "      <td>2025-01-11 11:39:50</td>\n",
       "      <td>2398 days 20:14:27</td>\n",
       "    </tr>\n",
       "    <tr>\n",
       "      <th>439127</th>\n",
       "      <td>2018-06-18 16:21:00</td>\n",
       "      <td>2025-01-11 11:39:55</td>\n",
       "      <td>2398 days 19:18:55</td>\n",
       "    </tr>\n",
       "    <tr>\n",
       "      <th>439086</th>\n",
       "      <td>2018-06-18 09:53:01</td>\n",
       "      <td>2025-01-11 03:33:01</td>\n",
       "      <td>2398 days 17:40:00</td>\n",
       "    </tr>\n",
       "    <tr>\n",
       "      <th>439082</th>\n",
       "      <td>2018-06-18 10:38:47</td>\n",
       "      <td>2025-01-11 03:45:45</td>\n",
       "      <td>2398 days 17:06:58</td>\n",
       "    </tr>\n",
       "    <tr>\n",
       "      <th>439098</th>\n",
       "      <td>2018-06-18 12:47:11</td>\n",
       "      <td>2025-01-11 03:21:22</td>\n",
       "      <td>2398 days 14:34:11</td>\n",
       "    </tr>\n",
       "    <tr>\n",
       "      <th>439348</th>\n",
       "      <td>2018-06-19 14:58:48</td>\n",
       "      <td>2025-01-11 20:18:30</td>\n",
       "      <td>2398 days 05:19:42</td>\n",
       "    </tr>\n",
       "    <tr>\n",
       "      <th>439341</th>\n",
       "      <td>2018-06-19 14:34:05</td>\n",
       "      <td>2025-01-11 17:59:32</td>\n",
       "      <td>2398 days 03:25:27</td>\n",
       "    </tr>\n",
       "  </tbody>\n",
       "</table>\n",
       "</div>"
      ],
      "text/plain": [
       "              created_date         closed_date time_to_resolution\n",
       "438480 2018-06-14 12:17:10 2025-01-11 12:16:49 2402 days 23:59:39\n",
       "438454 2018-06-14 07:54:54 2025-01-11 03:32:58 2402 days 19:38:04\n",
       "438484 2018-06-14 14:38:44 2025-01-11 03:45:29 2402 days 13:06:45\n",
       "438494 2018-06-14 19:39:57 2025-01-11 08:40:11 2402 days 13:00:14\n",
       "438501 2018-06-14 20:51:38 2025-01-11 08:38:19 2402 days 11:46:41\n",
       "438476 2018-06-14 13:29:48 2025-01-10 23:40:39 2402 days 10:10:51\n",
       "438490 2018-06-14 17:15:56 2025-01-11 03:21:18 2402 days 10:05:22\n",
       "438626 2018-06-15 08:03:54 2025-01-11 17:48:59 2402 days 09:45:05\n",
       "438488 2018-06-14 14:06:39 2025-01-10 23:46:06 2402 days 09:39:27\n",
       "438567 2018-06-15 07:33:37 2025-01-11 08:49:13 2402 days 01:15:36\n",
       "438673 2018-06-15 19:06:59 2025-01-11 18:00:57 2401 days 22:53:58\n",
       "438653 2018-06-15 15:15:03 2025-01-11 12:36:21 2401 days 21:21:18\n",
       "438675 2018-06-15 23:08:01 2025-01-11 11:39:43 2401 days 12:31:42\n",
       "438655 2018-06-15 15:39:39 2025-01-11 03:45:35 2401 days 12:05:56\n",
       "438665 2018-06-15 16:34:10 2025-01-11 03:21:14 2401 days 10:47:04\n",
       "438668 2018-06-15 21:41:00 2025-01-10 23:40:35 2401 days 01:59:35\n",
       "438886 2018-06-17 18:00:12 2025-01-11 12:36:27 2399 days 18:36:15\n",
       "438865 2018-06-17 03:36:10 2025-01-10 21:53:08 2399 days 18:16:58\n",
       "438883 2018-06-17 17:20:32 2025-01-11 03:21:26 2399 days 10:00:54\n",
       "439071 2018-06-18 00:14:02 2025-01-11 08:38:20 2399 days 08:24:18\n",
       "438894 2018-06-17 23:21:12 2025-01-11 03:15:02 2399 days 03:53:50\n",
       "439096 2018-06-18 12:38:59 2025-01-11 11:39:38 2398 days 23:00:39\n",
       "439083 2018-06-18 10:42:13 2025-01-11 08:16:58 2398 days 21:34:45\n",
       "439110 2018-06-18 15:25:23 2025-01-11 11:39:50 2398 days 20:14:27\n",
       "439127 2018-06-18 16:21:00 2025-01-11 11:39:55 2398 days 19:18:55\n",
       "439086 2018-06-18 09:53:01 2025-01-11 03:33:01 2398 days 17:40:00\n",
       "439082 2018-06-18 10:38:47 2025-01-11 03:45:45 2398 days 17:06:58\n",
       "439098 2018-06-18 12:47:11 2025-01-11 03:21:22 2398 days 14:34:11\n",
       "439348 2018-06-19 14:58:48 2025-01-11 20:18:30 2398 days 05:19:42\n",
       "439341 2018-06-19 14:34:05 2025-01-11 17:59:32 2398 days 03:25:27"
      ]
     },
     "execution_count": 102,
     "metadata": {},
     "output_type": "execute_result"
    }
   ],
   "source": [
    "df_orig.sort_values(by = 'time_to_resolution', ascending = False)[['created_date', 'closed_date', 'time_to_resolution']].iloc[:30]"
   ]
  },
  {
   "cell_type": "code",
   "execution_count": null,
   "id": "3d255a88",
   "metadata": {},
   "outputs": [
    {
     "data": {
      "text/plain": [
       "closed_date\n",
       "2024-06-03    0.526994\n",
       "2024-06-04    0.214259\n",
       "2025-01-11    0.144517\n",
       "2025-01-10    0.068923\n",
       "2025-01-09    0.020261\n",
       "                ...   \n",
       "2021-01-08    0.000014\n",
       "2023-04-11    0.000014\n",
       "2023-07-06    0.000014\n",
       "2024-03-19    0.000014\n",
       "2025-01-13    0.000014\n",
       "Name: proportion, Length: 150, dtype: float64"
      ]
     },
     "metadata": {},
     "output_type": "display_data"
    },
    {
     "data": {
      "text/plain": [
       "resolution_description\n",
       "This SR was administratively closed. The issue you reported was addressed.    53451\n",
       "Name: count, dtype: int64"
      ]
     },
     "execution_count": 23,
     "metadata": {},
     "output_type": "execute_result"
    }
   ],
   "source": [
    "df_long_resolution = df_valid_resolution[df_valid_resolution['time_to_resolution'].dt.days > 365]\n",
    "display(df_long_resolution['closed_date'].dt.date.value_counts(normalize=True))\n",
    "df_long_resolution = df_long_resolution[(df_long_resolution['closed_date'].dt.date).isin([date(2024, 6, 3), date(2024, 6, 4)])]\n",
    "df_long_resolution['resolution_description'].value_counts()\n"
   ]
  },
  {
   "cell_type": "code",
   "execution_count": 24,
   "id": "4cbdf4cb",
   "metadata": {},
   "outputs": [
    {
     "data": {
      "text/plain": [
       "resolution_description\n",
       "This SR was administratively closed. The issue you reported was addressed.                                                                                                                                                                                    53463\n",
       "The NYC Health Department has responded to your service request. For inspection results, please call (212) 676-1600 or email infobfscs@health.nyc.gov to request an inspection report. This service request has been closed.                                  12132\n",
       "The NYC Health Department has investigated your complaint. You can get the status by calling 311 or (646) 632-6101 on weekdays between 9 AM and 5 PM. This service request has been closed.                                                                    4511\n",
       "Thank you for your report. The Department of Health and Mental Hygiene will use the information that you provided to help track and control mosquito populations throughout the City. No further information will be available from 311 on your report.         570\n",
       "The Department of Health and Mental Hygiene has investigated your complaint. You can get the status by calling 311 or (646) 632-6101 on weekdays between 9 AM and 5 PM.                                                                                         292\n",
       "                                                                                                                                                                                                                                                              ...  \n",
       "The Department of Health and Mental Hygiene has referred this issue to the Department of Buildings.                                                                                                                                                               1\n",
       "The Department of Health and Mental Hygiene (DOHMH) tried to investigate the complaint but could not access the site. Please call DOHMH at (347) 396-6001 from 9 AM to 5 PM to provide information about accessing the location.                                  1\n",
       "The Department of Health and Mental Hygiene determined that this issue is not within its jurisdiction. The Service Request has been referred to the Department of Parks and Recreation.                                                                           1\n",
       "The Department of Health and Mental Hygiene needs more information to respond to this complaint. You can provide contact information by filing another complaint by, calling 311 or going online to www.nyc.gov/311. This service request has been closed.        1\n",
       "This service request has been referred to the Department of Health and Mental Hygiene's Office of Environmental Investigations.                                                                                                                                   1\n",
       "Name: count, Length: 62, dtype: int64"
      ]
     },
     "execution_count": 24,
     "metadata": {},
     "output_type": "execute_result"
    }
   ],
   "source": [
    "df_long_resolution = df_valid_resolution[df_valid_resolution['time_to_resolution'].dt.days > 365]\n",
    "df_long_resolution['resolution_description'].value_counts()\n"
   ]
  },
  {
   "cell_type": "code",
   "execution_count": 25,
   "id": "a2cfbb67",
   "metadata": {},
   "outputs": [
    {
     "data": {
      "image/png": "[encoded data removed]",
      "text/plain": [
       "<Figure size 1000x600 with 1 Axes>"
      ]
     },
     "metadata": {},
     "output_type": "display_data"
    },
    {
     "data": {
      "image/png": "[encoded data removed]",
      "text/plain": [
       "<Figure size 1000x600 with 2 Axes>"
      ]
     },
     "metadata": {},
     "output_type": "display_data"
    }
   ],
   "source": [
    "# Calculate time between closed_date and resolution_action_updated_date\n",
    "# Remove rows where either date is NaT\n",
    "df_with_update_times = df_temp.dropna(subset=['closed_date', 'resolution_action_updated_date'])\n",
    "\n",
    "# Create histogram of time difference using seaborn\n",
    "plt.figure(figsize=(10, 6))\n",
    "sns.histplot(data=df_with_update_times, x=df_with_update_times['time_closed_to_resolution_update'].dt.days, bins=50)\n",
    "plt.title('Distribution of Time Between Closed Date and Resolution Action Updated Date')\n",
    "plt.xlabel('Days Difference')\n",
    "plt.ylabel('Count')\n",
    "plt.show()\n",
    "\n",
    "# Create plot with cumulative percent for negative time differences only\n",
    "df_negative_times = df_with_update_times[df_with_update_times['time_closed_to_resolution_update'].dt.days < 0]\n",
    "fig, ax1 = plt.subplots(figsize=(10, 6))\n",
    "\n",
    "# Create histogram on primary y-axis\n",
    "sns.histplot(data=df_negative_times, x=df_negative_times['time_closed_to_resolution_update'].dt.days, bins=30, ax=ax1)\n",
    "ax1.set_xlabel('Days Difference (Negative Values Only)')\n",
    "ax1.set_ylabel('Count', color='tab:blue')\n",
    "ax1.tick_params(axis='y', labelcolor='tab:blue')\n",
    "\n",
    "# Create secondary y-axis for cumulative percent\n",
    "ax2 = ax1.twinx()\n",
    "days_negative = df_negative_times['time_closed_to_resolution_update'].dt.days.sort_values()\n",
    "cumulative_percent = [(i / len(days_negative)) * 100 for i in range(1, len(days_negative) + 1)]\n",
    "ax2.plot(days_negative, cumulative_percent, color='tab:red', linewidth=2, label='Cumulative Percent')\n",
    "ax2.set_ylabel('Cumulative Percent (%)', color='tab:red')\n",
    "ax2.tick_params(axis='y', labelcolor='tab:red')\n",
    "\n",
    "plt.title('Distribution of Negative Time Differences Between Closed Date and Resolution Action Updated Date')\n",
    "plt.show()\n"
   ]
  },
  {
   "cell_type": "code",
   "execution_count": 26,
   "id": "542718c8",
   "metadata": {},
   "outputs": [
    {
     "name": "stdout",
     "output_type": "stream",
     "text": [
      "Identical created/closed dates by borough:\n",
      "                count    sum   mean\n",
      "borough                            \n",
      "BRONX          135972  35975  0.265\n",
      "BROOKLYN       261923  58012  0.221\n",
      "MANHATTAN      228558  43521  0.190\n",
      "QUEENS         176031  33646  0.191\n",
      "STATEN ISLAND   46434   8771  0.189\n",
      "Unspecified      1832      4  0.002\n",
      "\n",
      "Identical created/closed dates by complaint type:\n",
      "                                 count     sum   mean\n",
      "complaint_type                                       \n",
      "Pet Shop                          1094     930  0.850\n",
      "Rodent                          372247  154910  0.416\n",
      "Unsanitary Pigeon Condition      10091    4016  0.398\n",
      "Pet Sale                           111      39  0.351\n",
      "Illegal Animal Sold                931     277  0.298\n",
      "Illegal Animal Kept as Pet        4985    1487  0.298\n",
      "Unsanitary Animal Pvt Property   28211    8345  0.296\n",
      "Unleashed Dog                    14139    3987  0.282\n",
      "Animal Facility - No Permit       1098     219  0.199\n",
      "Standing Water                   27115    5160  0.190\n"
     ]
    }
   ],
   "source": [
    "# Analyze patterns by borough and complaint type\n",
    "print(\"Identical created/closed dates by borough:\")\n",
    "print(df_temp.groupby('borough')['identical_created_closed_dates'].agg(['count', 'sum', 'mean']).round(3))\n",
    "\n",
    "print(\"\\nIdentical created/closed dates by complaint type:\")\n",
    "print(df_temp.groupby('complaint_type')['identical_created_closed_dates'].agg(['count', 'sum', 'mean']).round(3).sort_values('mean', ascending=False).head(10))"
   ]
  },
  {
   "cell_type": "code",
   "execution_count": 27,
   "id": "515a86fd",
   "metadata": {},
   "outputs": [
    {
     "data": {
      "text/plain": [
       "np.float64(0.0)"
      ]
     },
     "execution_count": 27,
     "metadata": {},
     "output_type": "execute_result"
    }
   ],
   "source": [
    "df_identical_dates = df_temp[df_temp['identical_created_closed_dates'] == 1]\n",
    "df_identical_dates['resolution_action_updated_date'].isna().mean()"
   ]
  },
  {
   "cell_type": "code",
   "execution_count": null,
   "id": "a4e6b20f",
   "metadata": {},
   "outputs": [
    {
     "name": "stderr",
     "output_type": "stream",
     "text": [
      "C:\\Users\\gorav\\AppData\\Local\\Temp\\ipykernel_13396\\4034230520.py:40: DeprecationWarning:\n",
      "\n",
      "The 'unary_union' attribute is deprecated, use the 'union_all()' method instead.\n",
      "\n",
      "c:\\Users\\gorav\\GitHub\\nyc-311-service-requests\\.venv\\Lib\\site-packages\\contextily\\tile.py:645: UserWarning:\n",
      "\n",
      "The inferred zoom level of 27 is not valid for the current tile provider (valid zooms: 0 - 20).\n",
      "\n"
     ]
    },
    {
     "data": {
      "image/png": "[encoded data removed]",
      "text/plain": [
       "<Figure size 1200x1200 with 2 Axes>"
      ]
     },
     "metadata": {},
     "output_type": "display_data"
    }
   ],
   "source": [
    "# Example usage with the existing data\n",
    "fig, ax = plott_function.create_hexbin_density_map(\n",
    "    df_identical_dates, \n",
    "    lat_col='latitude', \n",
    "    lon_col='longitude',\n",
    "    title=\"Geographic Density of Complaints with Identical Created/Closed Dates\\nNYC Borough Context\"\n",
    ")\n",
    "plt.show()\n"
   ]
  },
  {
   "cell_type": "code",
   "execution_count": 116,
   "id": "3b610e6d",
   "metadata": {},
   "outputs": [
    {
     "data": {
      "text/html": [
       "<div>\n",
       "<style scoped>\n",
       "    .dataframe tbody tr th:only-of-type {\n",
       "        vertical-align: middle;\n",
       "    }\n",
       "\n",
       "    .dataframe tbody tr th {\n",
       "        vertical-align: top;\n",
       "    }\n",
       "\n",
       "    .dataframe thead th {\n",
       "        text-align: right;\n",
       "    }\n",
       "</style>\n",
       "<table border=\"1\" class=\"dataframe\">\n",
       "  <thead>\n",
       "    <tr style=\"text-align: right;\">\n",
       "      <th></th>\n",
       "      <th>count</th>\n",
       "      <th>mean</th>\n",
       "      <th>std</th>\n",
       "      <th>min</th>\n",
       "      <th>25%</th>\n",
       "      <th>50%</th>\n",
       "      <th>75%</th>\n",
       "      <th>max</th>\n",
       "    </tr>\n",
       "    <tr>\n",
       "      <th>closed_at_midnight</th>\n",
       "      <th></th>\n",
       "      <th></th>\n",
       "      <th></th>\n",
       "      <th></th>\n",
       "      <th></th>\n",
       "      <th></th>\n",
       "      <th></th>\n",
       "      <th></th>\n",
       "    </tr>\n",
       "  </thead>\n",
       "  <tbody>\n",
       "    <tr>\n",
       "      <th>False</th>\n",
       "      <td>54738</td>\n",
       "      <td>11 days 12:58:42.290000</td>\n",
       "      <td>44 days 13:52:26.767000</td>\n",
       "      <td>-6208 days +02:03:19</td>\n",
       "      <td>1 days 16:11:07.250000</td>\n",
       "      <td>6 days 14:27:05</td>\n",
       "      <td>13 days 12:03:10.750000</td>\n",
       "      <td>1559 days 07:41:55</td>\n",
       "    </tr>\n",
       "    <tr>\n",
       "      <th>True</th>\n",
       "      <td>178037</td>\n",
       "      <td>13 days 00:44:04.843000</td>\n",
       "      <td>280 days 12:45:45.125000</td>\n",
       "      <td>-42872 days +00:00:00</td>\n",
       "      <td>5 days 00:00:00</td>\n",
       "      <td>9 days 00:00:00</td>\n",
       "      <td>17 days 00:00:00</td>\n",
       "      <td>1513 days 00:00:00</td>\n",
       "    </tr>\n",
       "  </tbody>\n",
       "</table>\n",
       "</div>"
      ],
      "text/plain": [
       "                     count                     mean                       std  \\\n",
       "closed_at_midnight                                                              \n",
       "False                54738  11 days 12:58:42.290000   44 days 13:52:26.767000   \n",
       "True                178037  13 days 00:44:04.843000  280 days 12:45:45.125000   \n",
       "\n",
       "                                      min                     25%  \\\n",
       "closed_at_midnight                                                  \n",
       "False                -6208 days +02:03:19  1 days 16:11:07.250000   \n",
       "True                -42872 days +00:00:00         5 days 00:00:00   \n",
       "\n",
       "                                50%                      75%  \\\n",
       "closed_at_midnight                                             \n",
       "False               6 days 14:27:05  13 days 12:03:10.750000   \n",
       "True                9 days 00:00:00         17 days 00:00:00   \n",
       "\n",
       "                                   max  \n",
       "closed_at_midnight                      \n",
       "False               1559 days 07:41:55  \n",
       "True                1513 days 00:00:00  "
      ]
     },
     "execution_count": 116,
     "metadata": {},
     "output_type": "execute_result"
    }
   ],
   "source": [
    "df_started_at_midnight = df_temp[df_temp['identical_created_closed_dates'] != 1]\n",
    "df_started_at_midnight = df_started_at_midnight[df_started_at_midnight['created_at_midnight'] == 1]\n",
    "df_started_at_midnight.groupby('closed_at_midnight')['time_to_resolution'].describe()"
   ]
  },
  {
   "cell_type": "code",
   "execution_count": 129,
   "id": "ab12c15b",
   "metadata": {},
   "outputs": [
    {
     "data": {
      "text/plain": [
       "complaint_type\n",
       "Rodent                            0.906120\n",
       "Unsanitary Animal Pvt Property    0.071734\n",
       "Unsanitary Pigeon Condition       0.022131\n",
       "DPR Internal                      0.000007\n",
       "DOF Literature Request            0.000007\n",
       "Name: proportion, dtype: float64"
      ]
     },
     "execution_count": 129,
     "metadata": {},
     "output_type": "execute_result"
    }
   ],
   "source": [
    "most_common_resolution_description = df_started_at_midnight[df_started_at_midnight['closed_at_midnight'] == 1]['resolution_description'].value_counts().index[0]\n",
    "df_started_at_midnight[(df_started_at_midnight['closed_at_midnight'] == 1) & (df_started_at_midnight['resolution_description'] == most_common_resolution_description)]['complaint_type'].value_counts(normalize=True)"
   ]
  },
  {
   "cell_type": "code",
   "execution_count": 125,
   "id": "62a69918",
   "metadata": {},
   "outputs": [
    {
     "data": {
      "text/plain": [
       "resolution_description\n",
       "The Department of Health and Mental Hygiene will review your complaint to determine appropriate action.  Complaints of this type usually result in an inspection.  Please call 311 in 30 days from the date of your complaint for status                                                                                                                                                                                                                                                                                                                                                                                                                                                                                                                                                                                                                                                                                                                              0.784902\n",
       "The Department of Health and Mental Hygiene will review this Service Request. These types of complaints usually result in agency contact or an inspection. Status will be available at www.nyc.gov/311 within 30 days of the date you submitted the request. Note the Service Request number for future reference.                                                                                                                                                                                                                                                                                                                                                                                                                                                                                                                                                                                                                                                    0.088591\n",
       "Please contact the Department of Health and Mental Hygiene's Pest Control Services for updated status of your complaint.  Brooklyn North Office (718) 625-5846 covers zip codes: 11201, 11205, 11206, 11211, 11213, 11215, 11216, 11217, 11221, 11222, 11225, 11231, 11232, 11233, 11237, 11238, 11239.  Brooklyn South Office (718) 629-5800 covers zip codes: 11204, 11207, 11208, 11209, 11210, 11212, 11214, 11218, 11219, 11220, 11203, 11223, 11224, 11225, 11226, 11228, 11229, 11230, 11234, 11235, 11236.                                                                                                                                                                                                                                                                                                                                                                                                                                                    0.035989\n",
       "Please contact the Department of Health and Mental Hygiene's Pest Control Services for updated status of your complaint by calling (212) 360-5928.                                                                                                                                                                                                                                                                                                                                                                                                                                                                                                                                                                                                                                                                                                                                                                                                                    0.023500\n",
       "Please contact the Department of Health and Mental Hygiene's Pest Control Services for updated status of your complaint by calling (718) 520-4974.                                                                                                                                                                                                                                                                                                                                                                                                                                                                                                                                                                                                                                                                                                                                                                                                                    0.022989\n",
       "Please contact the Department of Health and Mental Hygiene's Pest Control Services for updated status of your complaint by calling (718) 583-6133.                                                                                                                                                                                                                                                                                                                                                                                                                                                                                                                                                                                                                                                                                                                                                                                                                    0.021180\n",
       "For updated status of your complaint go online at nyc.gov/311 and use the Check Status field or call 311.                                                                                                                                                                                                                                                                                                                                                                                                                                                                                                                                                                                                                                                                                                                                                                                                                                                             0.013708\n",
       "Please contact the Department of Health and Mental Hygiene's Pest Control Services for updated status of your Service Request by calling (718) 629-5800.                                                                                                                                                                                                                                                                                                                                                                                                                                                                                                                                                                                                                                                                                                                                                                                                              0.006809\n",
       "The Department of Health and Mental Hygiene will review the Service Request. Complaints of this type usually result in Agency contact or an inspection. Status will be available from 311 within 30 days of the Service Request submission date  Please note the Service Request number for future reference.                                                                                                                                                                                                                                                                                                                                                                                                                                                                                                                                                                                                                                                         0.000916\n",
       "The Department of Health and Mental Hygiene has sent official written documentation to the Owner or Landlord warning them of potential violations and instructing them to correct the situation.  If the situation persists 21 days after the initial complaint, please submit a new Service Request.                                                                                                                                                                                                                                                                                                                                                                                                                                                                                                                                                                                                                                                                 0.000758\n",
       "The Department of Health and Mental Hygiene has sent official written documentation to the Owner/Landlord warning them of potential violations and instructing them to correct the situation.  If the situation persists 21 days after your initial complaint, please log another complaint.                                                                                                                                                                                                                                                                                                                                                                                                                                                                                                                                                                                                                                                                          0.000236\n",
       "The Department of Health and Mental Hygiene inspected the property you reported and did not find any violations at the time of the inspection. The property passed inspection.                                                                                                                                                                                                                                                                                                                                                                                                                                                                                                                                                                                                                                                                                                                                                                                        0.000163\n",
       "The Department of Health and Mental Hygiene will review your complaint to determine appropriate action.  Complaints of this type usually result in an inspection.  Please call 311 in 30 days from the date of your complaint for status.  Please note your Service Request number for future reference.                                                                                                                                                                                                                                                                                                                                                                                                                                                                                                                                                                                                                                                              0.000112\n",
       "The Department of Health and Mental Hygiene is in the process of investigating this complaint.  If the situation persists 21 days after the initial complaint, please submit a new Service Request.                                                                                                                                                                                                                                                                                                                                                                                                                                                                                                                                                                                                                                                                                                                                                                   0.000022\n",
       "The Department of Health and Mental Hygiene could not locate the address provided. Please go online to nyc.gov/311 or call 311 and file another request and provide the complete street address of the builiding. If your complaint was about a vacant lot, abandoned building ,street, or in a sewer, provide the nearest street address or intersection.                                                                                                                                                                                                                                                                                                                                                                                                                                                                                                                                                                                                            0.000017\n",
       "The Police Department responded to the complaint and with the information available observed no evidence of the violation at that time.                                                                                                                                                                                                                                                                                                                                                                                                                                                                                                                                                                                                                                                                                                                                                                                                                               0.000017\n",
       "The Department of Health and Mental Hygiene issued a Notice of Violation to the property owner.                                                                                                                                                                                                                                                                                                                                                                                                                                                                                                                                                                                                                                                                                                                                                                                                                                                                       0.000017\n",
       "The Department of Health and Mental Hygiene investigated the complaint and found no evidence of standing water on the property at the time of the inspection.                                                                                                                                                                                                                                                                                                                                                                                                                                                                                                                                                                                                                                                                                                                                                                                                         0.000011\n",
       "The Department of Health and Mental Hygiene will review your complaint to determine appropriate action.  Complaints of this type usually result in an inspection.  Please call 311 in 30 days from the date of your complaint for status.                                                                                                                                                                                                                                                                                                                                                                                                                                                                                                                                                                                                                                                                                                                             0.000011\n",
       "The Department of Health and Mental Hygiene found violations on the property you reported. Follow-up inspections will be scheduled.                                                                                                                                                                                                                                                                                                                                                                                                                                                                                                                                                                                                                                                                                                                                                                                                                                   0.000011\n",
       "The Department of Health and Mental Hygiene inspector did not observe any standing water with conditions necessary for mosquito breeding.                                                                                                                                                                                                                                                                                                                                                                                                                                                                                                                                                                                                                                                                                                                                                                                                                             0.000011\n",
       "The Office of Veterinary Public Health Services has contacted complainant and provided status of the Service Request.  No further investigation is needed.                                                                                                                                                                                                                                                                                                                                                                                                                                                                                                                                                                                                                                                                                                                                                                                                            0.000006\n",
       "The literature you requested has been mailed to you. Please allow additional time for delivery.                                                                                                                                                                                                                                                                                                                                                                                                                                                                                                                                                                                                                                                                                                                                                                                                                                                                       0.000006\n",
       "The Department of Health and Mental Hygiene tried to inspect the property you reported but could not access the site. If you have information that will help the inspector access the site, please go online to nyc.gov/311 or call 311 and refile your complaint with contact information.                                                                                                                                                                                                                                                                                                                                                                                                                                                                                                                                                                                                                                                                           0.000006\n",
       "The New York City Economic Development Corporation determined that this issue is not within its jurisdiction because the helicopter did not belong to a tour company departing from a NYC heliport.Â  Instead, it was most likely a law enforcement or news gathering helicopter not subject to the routing protocols established for tour helicopters. It may also have been a helicopter that departed as a charter or tour from another City but flew over NYC airspace. Helicopter tours originating from outside NYC are not subject to the same City regulations as tours departing from heliports managed by NYCEDC. Any City regulation of these flights is pre-empted by federal law and subject only to the jurisdiction of the Federal Aviation Administration. To file a complaint with the FAA, you can contact the New York Flight Standards District Office at the following web address:Â https://www.faa.gov/about/office_org/field_offices/fsdo/    0.000006\n",
       "The Police Department responded to the complaint and determined that police action was not necessary.                                                                                                                                                                                                                                                                                                                                                                                                                                                                                                                                                                                                                                                                                                                                                                                                                                                                 0.000006\n",
       "Name: proportion, dtype: float64"
      ]
     },
     "execution_count": 125,
     "metadata": {},
     "output_type": "execute_result"
    }
   ],
   "source": [
    "df_started_at_midnight[df_started_at_midnight['closed_at_midnight'] == 1]['resolution_description'].value_counts(normalize=True)"
   ]
  },
  {
   "cell_type": "code",
   "execution_count": 122,
   "id": "845fec3f",
   "metadata": {},
   "outputs": [
    {
     "data": {
      "text/plain": [
       "descriptor\n",
       "Rat Sighting                    0.432331\n",
       "Condition Attracting Rodents    0.665805\n",
       "Mouse Sighting                  0.776406\n",
       "Signs of Rodents                0.835360\n",
       "Other - Explain Below           0.861501\n",
       "Dog                             0.885035\n",
       "Swimming Pool - Unmaintained    0.903969\n",
       "Pigeon Waste                    0.920348\n",
       "Puddle in Ground                0.934261\n",
       "Animal Waste                    0.946197\n",
       "Cat                             0.957335\n",
       "Animal Odor                     0.964249\n",
       "Container - Over 5 Gallons      0.970085\n",
       "Other Animal                    0.974359\n",
       "Puddle on Roof                  0.977954\n",
       "Swimming Pool Cover             0.981313\n",
       "Puddle on Sidewalk              0.984537\n",
       "Sewer or Drain                  0.987598\n",
       "Building Foundation             0.989671\n",
       "Tires                           0.991580\n",
       "Puddle on Driveway              0.993097\n",
       "Pigeon Odor                     0.994501\n",
       "Container - Under 5 Gallons     0.995782\n",
       "Roof Gutters                    0.996973\n",
       "Basement                        0.997899\n",
       "Fountain - Over 5 Gallons       0.998663\n",
       "Flower Planters                 0.999360\n",
       "Bird Bath                       0.999758\n",
       "Fountain - Under 5 Gallons      0.999961\n",
       "Assault on Parks Employee       0.999966\n",
       "Other                           0.999972\n",
       "A Tenant's Guide to DRIE        0.999978\n",
       "License Violation               0.999983\n",
       "Unleashed Dog in Public         0.999989\n",
       "Rooster                         0.999994\n",
       "N/A                             1.000000\n",
       "Name: proportion, dtype: float64"
      ]
     },
     "execution_count": 122,
     "metadata": {},
     "output_type": "execute_result"
    }
   ],
   "source": [
    "df_started_at_midnight[df_started_at_midnight['closed_at_midnight'] == 1]['descriptor'].value_counts(normalize=True).cumsum()"
   ]
  },
  {
   "cell_type": "code",
   "execution_count": 95,
   "id": "b7cd368c",
   "metadata": {},
   "outputs": [
    {
     "name": "stdout",
     "output_type": "stream",
     "text": [
      "\n",
      "Created at midnight by borough:\n",
      "                count    sum   mean\n",
      "borough                            \n",
      "BRONX          162633  55883  0.344\n",
      "BROOKLYN       322348  93057  0.289\n",
      "MANHATTAN      282206  67310  0.239\n",
      "QUEENS         207314  55223  0.266\n",
      "STATEN ISLAND   53459  18520  0.346\n",
      "Unspecified      2059    110  0.053\n",
      "\n",
      "Created at midnight by complaint type:\n",
      "                                 count     sum   mean\n",
      "complaint_type                                       \n",
      "DOF Literature Request               1       1  1.000\n",
      "DPR Internal                         1       1  1.000\n",
      "Traffic Signal Condition             1       1  1.000\n",
      "Standing Water                   30015   16944  0.565\n",
      "MOLD                                 2       1  0.500\n",
      "Rodent                          488764  233120  0.477\n",
      "Food Poisoning                   45307   20734  0.458\n",
      "Unsanitary Animal Pvt Property   34422   15097  0.439\n",
      "Unsanitary Pigeon Condition      12867    4202  0.327\n",
      "Unlicensed Dog                      81       1  0.012\n"
     ]
    }
   ],
   "source": [
    "\n",
    "\n",
    "print(\"\\nCreated at midnight by borough:\")\n",
    "print(df_temp.groupby('borough')['created_at_midnight'].agg(['count', 'sum', 'mean']).round(3))\n",
    "\n",
    "print(\"\\nCreated at midnight by complaint type:\")\n",
    "print(df_temp.groupby('complaint_type')['created_at_midnight'].agg(['count', 'sum', 'mean']).round(3).sort_values('mean', ascending=False).head(10))\n"
   ]
  },
  {
   "cell_type": "code",
   "execution_count": 96,
   "id": "845b8de8",
   "metadata": {},
   "outputs": [
    {
     "name": "stdout",
     "output_type": "stream",
     "text": [
      "\n",
      "Closed at midnight by borough:\n",
      "                count    sum   mean\n",
      "borough                            \n",
      "BRONX          162633  44575  0.274\n",
      "BROOKLYN       322348  73450  0.228\n",
      "MANHATTAN      282206  53740  0.190\n",
      "QUEENS         207314  45122  0.218\n",
      "STATEN ISLAND   53459  15830  0.296\n",
      "Unspecified      2059      2  0.001\n",
      "\n",
      "Closed at midnight by complaint type:\n",
      "                                 count     sum   mean\n",
      "complaint_type                                       \n",
      "DOF Literature Request               1       1  1.000\n",
      "DPR Internal                         1       1  1.000\n",
      "Standing Water                   30015   16060  0.535\n",
      "Rodent                          488764  196272  0.402\n",
      "Unsanitary Animal Pvt Property   34422   11779  0.342\n",
      "Unsanitary Pigeon Condition      12867    3440  0.267\n",
      "Non-Residential Heat             16864    1925  0.114\n",
      "Smoking                          35456    3007  0.085\n",
      "Calorie Labeling                   203       7  0.034\n",
      "Unlicensed Dog                      81       1  0.012\n"
     ]
    }
   ],
   "source": [
    "\n",
    "print(\"\\nClosed at midnight by borough:\")\n",
    "print(df_temp.groupby('borough')['closed_at_midnight'].agg(['count', 'sum', 'mean']).round(3))\n",
    "\n",
    "print(\"\\nClosed at midnight by complaint type:\")\n",
    "print(df_temp.groupby('complaint_type')['closed_at_midnight'].agg(['count', 'sum', 'mean']).round(3).sort_values('mean', ascending=False).head(10))"
   ]
  },
  {
   "cell_type": "markdown",
   "id": "8c181e6b",
   "metadata": {},
   "source": []
  },
  {
   "cell_type": "code",
   "execution_count": null,
   "id": "5e4b7502",
   "metadata": {},
   "outputs": [],
   "source": [
    "df_dohmh[df_dohmh['status'] == 'Closed'].iloc[2]['resolution_description']"
   ]
  },
  {
   "cell_type": "code",
   "execution_count": null,
   "id": "712266ea",
   "metadata": {},
   "outputs": [],
   "source": [
    "def map_complaints(df):\n",
    "        complaint_to_family = {\n",
    "        \"Food Establishment\": \"food_safety\",\n",
    "        \"Rodent\": \"vector_control\",\n",
    "        \"Non-Residential Heat\": \"housing_health\",\n",
    "        \"Food Poisoning\": \"food_safety\",\n",
    "        \"Unsanitary Animal Pvt Property\": \"animal_control\",\n",
    "        \"Smoking\": \"air_smoke_mold\",\n",
    "        \"Indoor Air Quality\": \"air_smoke_mold\",\n",
    "        \"Window Guard\": \"housing_health\",\n",
    "        \"Unsanitary Pigeon Condition\": \"vector_control\",\n",
    "        \"Harboring Bees/Wasps\": \"vector_control\",\n",
    "        \"Asbestos\": \"hazmat_lead_asbestos\",\n",
    "        \"Unleashed Dog\": \"animal_control\",\n",
    "        \"Unsanitary Animal Facility\": \"animal_control\",\n",
    "        \"Tattooing\": \"childcare_recreation\",\n",
    "        \"Beach/Pool/Sauna Complaint\": \"childcare_recreation\",\n",
    "        \"Animal Facility - No Permit\": \"animal_control\",\n",
    "        \"Mold\": \"air_smoke_mold\",\n",
    "        \"Portable Toilet\": \"misc_other\",\n",
    "        \"Illegal Animal Kept as Pet\": \"animal_control\",\n",
    "        \"Calorie Labeling\": \"food_safety\",\n",
    "        \"Drinking Water\": \"water_quality\",\n",
    "        \"Poison Ivy\": \"misc_other\",\n",
    "        \"Illegal Animal Sold\": \"animal_control\",\n",
    "        \"Bottled Water\": \"water_quality\",\n",
    "        \"Radioactive Material\": \"hazmat_lead_asbestos\",\n",
    "        \"Lifeguard\": \"childcare_recreation\",\n",
    "        \"Trans Fat\": \"food_safety\",\n",
    "        \"Summer Camp\": \"childcare_recreation\",\n",
    "        \"X-Ray Machine/Equipment\": \"hazmat_lead_asbestos\",\n",
    "        \"Trapping Pigeon\": \"vector_control\",\n",
    "        \"Indoor Sewage\": \"air_smoke_mold\",\n",
    "        \"Damaged Tree\": \"misc_other\",\n",
    "        \"Unlicensed Dog\": \"animal_control\",\n",
    "        \"Standing Water\": \"vector_control\",\n",
    "        \"DPR Internal\": \"misc_other\",\n",
    "        \"DOF Literature Request\": \"misc_other\",\n",
    "        \"Animal in a Park\": \"animal_control\",\n",
    "        \"Tanning\": \"childcare_recreation\",\n",
    "        \"Day Care\": \"childcare_recreation\",\n",
    "        \"Asbestos/Garbage Nuisance\": \"hazmat_lead_asbestos\",\n",
    "        \"Mosquitoes\": \"vector_control\",\n",
    "        \"LEAD\": \"hazmat_lead_asbestos\",\n",
    "        \"Forms\": \"misc_other\",\n",
    "        \"MOLD\": \"air_smoke_mold\",\n",
    "        \"Cooling Tower\": \"cooling_tower\",\n",
    "        \"Pet Shop\": \"animal_control\",\n",
    "        \"Traffic Signal Condition\": \"misc_other\",\n",
    "        \"Injured Wildlife\": \"animal_control\",\n",
    "        \"Illegal Animal - Sold/Kept\": \"animal_control\",\n",
    "        \"Mobile Food Vendor\": \"food_safety\",\n",
    "        \"Construction Lead Dust\": \"hazmat_lead_asbestos\",\n",
    "        \"Peeling Paint\": \"hazmat_lead_asbestos\",\n",
    "        \"Vaccine Mandate Non-Compliance\": \"tobacco_enforcement\",\n",
    "        \"Face Covering Violation\": \"tobacco_enforcement\",\n",
    "        \"Private School Vaccine Mandate Non-Compliance\": \"tobacco_enforcement\",\n",
    "        \"Building Drinking Water Tank\": \"water_quality\",\n",
    "        \"Smoking or Vaping\": \"air_smoke_mold\",\n",
    "        \"Tobacco or Non-Tobacco Sale\": \"tobacco_enforcement\",\n",
    "        \"ASBESTOS\": \"hazmat_lead_asbestos\",\n",
    "        \"Pet Sale\": \"animal_control\",\n",
    "        \"Lost Property\": \"misc_other\",\n",
    "        }\n",
    "\n",
    "        # Optional family -> skill tag used in staffing\n",
    "        family_to_skill = {\n",
    "        \"food_safety\": \"food\",\n",
    "        \"vector_control\": \"vector\",\n",
    "        \"air_smoke_mold\": \"ieq\",\n",
    "        \"hazmat_lead_asbestos\": \"hazmat\",\n",
    "        \"water_quality\": \"water\",\n",
    "        \"cooling_tower\": \"legionella\",\n",
    "        \"animal_control\": \"animal\",\n",
    "        \"childcare_recreation\": \"community_env\",\n",
    "        \"tobacco_enforcement\": \"enforcement\",\n",
    "        \"housing_health\": \"community_env\",\n",
    "        \"misc_other\": \"generalist\",\n",
    "        }\n",
    "\n",
    "        # Apply to your dataframe `df`\n",
    "        df = df.copy()\n",
    "        df[\"family\"] = df[\"complaint_type\"].map(complaint_to_family)\n",
    "        df[\"skill_tag\"] = df[\"family\"].map(family_to_skill)\n",
    "\n",
    "        return df"
   ]
  },
  {
   "cell_type": "code",
   "execution_count": 137,
   "id": "bcc91bfc",
   "metadata": {},
   "outputs": [
    {
     "data": {
      "text/plain": [
       "['Bare Hands in Contact w/ Food',\n",
       " 'Rat Sighting',\n",
       " 'Inadequate or No Heat',\n",
       " '1 or 2',\n",
       " 'Animal Waste',\n",
       " 'Condition Attracting Rodents',\n",
       " 'Mouse Sighting',\n",
       " 'Kitchen/Food Prep Area',\n",
       " 'Smoking Violation',\n",
       " 'Chemical Vapors/Gases/Odors',\n",
       " 'Food Spoiled',\n",
       " 'Other (Explain Below)',\n",
       " 'Inside Apartment',\n",
       " 'Food Worker Hygiene',\n",
       " 'Food Worker Activity',\n",
       " 'Pigeon Waste',\n",
       " 'Pigeon Odor',\n",
       " 'Bees/Wasps - Private Property',\n",
       " 'Animal Odor',\n",
       " 'N/A',\n",
       " '3 or More',\n",
       " 'Ventilation',\n",
       " 'Rodents/Insects/Garbage',\n",
       " 'Sewage',\n",
       " 'Food Contaminated',\n",
       " 'Permit/License/Certificate',\n",
       " 'Food Temperature',\n",
       " 'Unleashed Dog in Public',\n",
       " 'Public Area',\n",
       " 'Signs of Rodents',\n",
       " 'Dishwashing/Utensils',\n",
       " 'Toxic Chemical/Material',\n",
       " 'Food Contains Foreign Object',\n",
       " 'Tattoo Artist Unlicensed',\n",
       " 'Food Protection',\n",
       " 'Pet/Animal',\n",
       " 'Odor',\n",
       " 'Toilet Facility',\n",
       " 'Water',\n",
       " 'Food Preparation Location',\n",
       " 'Facility Maintenance',\n",
       " 'Plumbing',\n",
       " 'Workplace - 10 or Less Staff',\n",
       " 'Unsanitary Condition',\n",
       " 'Public Complaint - Comm Location',\n",
       " 'Rooster',\n",
       " 'Other',\n",
       " 'Milk Expired',\n",
       " 'Tenant Refusal',\n",
       " 'Food Worker Illness',\n",
       " 'Failure to Post Calorie Information',\n",
       " 'Handwashing',\n",
       " 'Dry Cleaning Vapors (PERC)',\n",
       " 'Pesticide',\n",
       " 'Dirty/Inadequate Equip./Facility',\n",
       " 'Snake',\n",
       " 'Illness Caused by Drinking Water',\n",
       " 'Facility Construction',\n",
       " 'User Unlicensed',\n",
       " 'Taste',\n",
       " 'Minor Received Tattoo',\n",
       " 'Beach/Pool/Sauna Unpermitted',\n",
       " 'No Permit or License',\n",
       " 'Abandoned',\n",
       " 'Farm Animal',\n",
       " 'Beach/Pool Water',\n",
       " 'Cigarette Vending Machine',\n",
       " 'Inattentive',\n",
       " 'Ferret',\n",
       " 'Sediment',\n",
       " 'Turtle Under 4 inches Long',\n",
       " 'Safety Equipment/Signs',\n",
       " 'Dust from Construction',\n",
       " 'No Consent Form',\n",
       " 'Iguana',\n",
       " 'Absent',\n",
       " 'Sign',\n",
       " 'Color',\n",
       " 'Staff/Supervision/Permits',\n",
       " 'Facility Unregistered',\n",
       " 'Contamination Risk',\n",
       " 'Ill Staff',\n",
       " 'Food/Food Worker',\n",
       " 'Child Safety/Supervision',\n",
       " 'Milk Not Pasteurized',\n",
       " 'Facility Maint./Cleanliness',\n",
       " 'Monkey',\n",
       " 'Swimming Pool/Waterfront',\n",
       " 'Beekeeping - Honeybees',\n",
       " 'Too Few on Duty',\n",
       " 'Bees/Wasps - Not a beekeper',\n",
       " 'Illness/Injury',\n",
       " 'Not Certified',\n",
       " 'Overexposure During Treatment',\n",
       " 'Technician Unlicensed',\n",
       " 'Lighting',\n",
       " 'Material Stored Improperly',\n",
       " 'Equipment Malfunction',\n",
       " 'Exposure Unnecessary',\n",
       " 'Exposure from Nearby Facility',\n",
       " 'Sewage Leak',\n",
       " 'Letter Grading',\n",
       " 'Sewage Odor',\n",
       " 'Animals/Other',\n",
       " 'Allergy Information',\n",
       " 'Tree Leaning/Uprooted',\n",
       " 'Rodent Bite - PCS Only',\n",
       " 'License Violation',\n",
       " 'Swimming Pool - Unmaintained',\n",
       " 'Puddle in Ground',\n",
       " 'Swimming Pool Cover',\n",
       " 'Other - Explain Below',\n",
       " 'Container - Over 5 Gallons',\n",
       " 'Puddle on Sidewalk',\n",
       " 'Sewer or Drain',\n",
       " 'Fountain - Under 5 Gallons',\n",
       " 'Flower Planters',\n",
       " 'Puddle on Driveway',\n",
       " 'Fountain - Over 5 Gallons',\n",
       " 'Puddle on Roof',\n",
       " 'Bird Bath',\n",
       " 'Container - Under 5 Gallons',\n",
       " 'Basement',\n",
       " 'Assault on Parks Employee',\n",
       " \"A Tenant's Guide to DRIE\",\n",
       " 'Dog Off Leash',\n",
       " 'Tires',\n",
       " 'Building Foundation',\n",
       " 'Roof Gutters',\n",
       " 'Other Animal',\n",
       " 'Cat',\n",
       " 'Dog',\n",
       " 'Shisha',\n",
       " 'Facility General',\n",
       " 'Flavored Tobacco',\n",
       " 'Injury or Illness from Tanning',\n",
       " 'Child or Minor Tanning',\n",
       " 'Equipment Maintenance',\n",
       " None,\n",
       " 'Unlicensed Day Care',\n",
       " 'Large Number of Mosquitoes',\n",
       " 'Equipment Not Safe',\n",
       " 'Other Health Matters',\n",
       " 'Sodium Warning',\n",
       " 'Broken/Defective',\n",
       " 'Dogs or Cats Sold',\n",
       " 'Dogs or Cats Not Sold',\n",
       " 'Birth/Death Certificates',\n",
       " 'Mental Health',\n",
       " 'Junction Box',\n",
       " 'Injured Wildlife',\n",
       " 'Food Source/Protection',\n",
       " 'Smoke/Odor',\n",
       " 'Placement',\n",
       " 'Equipment',\n",
       " 'Insects / Pests',\n",
       " 'Milk/Dairy Products',\n",
       " 'Garbage',\n",
       " 'Dirty/Inadequate Eqp/Facility',\n",
       " 'Common Areas and Apartment',\n",
       " 'In Common Areas',\n",
       " 'Coming into Apartment',\n",
       " 'Peeling Paint Inside Home',\n",
       " 'Summer Camp',\n",
       " 'Day Care Facility',\n",
       " 'Indoor Pool Over Capacity',\n",
       " 'Human Feces',\n",
       " 'Loft Building',\n",
       " 'Vaccine Rules Not Posted',\n",
       " 'Customer Proof of Vaccination Not Checked',\n",
       " 'Employee Proof of Vaccination Not Checked',\n",
       " 'Mandate Not Enforced',\n",
       " 'Staff Not Vaccinated',\n",
       " 'Broken or Defective',\n",
       " 'Allowed in Smoke Free Area',\n",
       " 'Unsafe Mold Cleanup',\n",
       " 'Banned Tobacco Flavors Sold',\n",
       " 'Sign Inadequate',\n",
       " 'Original Labels or Packaging Not Kept',\n",
       " 'Ashtray in Smoke-Free Area',\n",
       " 'Shisha Sold to Minor',\n",
       " 'Workplace Policy Not Provided or Inadequate',\n",
       " 'Animals Sold From Residence',\n",
       " 'Dog Sold',\n",
       " 'Inadequate Care',\n",
       " 'Unsanitary Conditions',\n",
       " 'Cat Sold',\n",
       " 'Illegal Animal Sold',\n",
       " 'Bag/Wallet',\n",
       " 'No Permit',\n",
       " 'No Animal Handling Certificate']"
      ]
     },
     "execution_count": 137,
     "metadata": {},
     "output_type": "execute_result"
    }
   ],
   "source": [
    "df_orig['descriptor'].unique().tolist()"
   ]
  },
  {
   "cell_type": "markdown",
   "id": "ebde3084",
   "metadata": {},
   "source": [
    "# TODO:\n",
    "1. Create a mapping for the output from resolution_description\n",
    "2. Create a mapping for the output from descriptor\n",
    "3. Drop excesivly long ticket when it comes to duration\n",
    "4. drop where closed > created\n",
    "4. Drop data were created and closed date is the same because we can't tell when the service request was opened, we can't tell the duration or anything else\n",
    "5."
   ]
  },
  {
   "cell_type": "markdown",
   "id": "74637b72",
   "metadata": {},
   "source": []
  }
 ],
 "metadata": {
  "kernelspec": {
   "display_name": ".venv",
   "language": "python",
   "name": "python3"
  },
  "language_info": {
   "codemirror_mode": {
    "name": "ipython",
    "version": 3
   },
   "file_extension": ".py",
   "mimetype": "text/x-python",
   "name": "python",
   "nbconvert_exporter": "python",
   "pygments_lexer": "ipython3",
   "version": "3.13.0"
  }
 },
 "nbformat": 4,
 "nbformat_minor": 5
}
